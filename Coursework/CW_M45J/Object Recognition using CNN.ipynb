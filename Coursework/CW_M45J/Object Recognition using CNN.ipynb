{
 "cells": [
  {
   "cell_type": "markdown",
   "id": "ordered-recorder",
   "metadata": {},
   "source": [
    "# CW1 - Object Recognition using CNN\n",
    "To apply machine learning alorithms to clasify the testing images into object categories. Then use a model to perform classification and report quantitative results.\n",
    "\n",
    "Due: Monday 19th April"
   ]
  },
  {
   "cell_type": "markdown",
   "id": "norwegian-karma",
   "metadata": {},
   "source": [
    "# Introduction"
   ]
  },
  {
   "cell_type": "markdown",
   "id": "leading-turning",
   "metadata": {},
   "source": [
    "The aim is to evaluate the use of CNN's in image recognition and the affect of adding multiple layers."
   ]
  },
  {
   "cell_type": "markdown",
   "id": "alpha-negotiation",
   "metadata": {},
   "source": [
    "# Imports "
   ]
  },
  {
   "cell_type": "code",
   "execution_count": 14,
   "id": "modified-demographic",
   "metadata": {},
   "outputs": [],
   "source": [
    "import numpy as np\n",
    "import matplotlib.pyplot as plt\n",
    "import skimage.feature\n",
    "import tensorflow as tf"
   ]
  },
  {
   "cell_type": "markdown",
   "id": "moving-democracy",
   "metadata": {},
   "source": [
    "# Load Data\n",
    "There are 100 different categories of objects\n",
    "each has 500 images for training and 100 images for testing.\n",
    "Split the data into train and test sections"
   ]
  },
  {
   "cell_type": "code",
   "execution_count": 22,
   "id": "recovered-longer",
   "metadata": {},
   "outputs": [
    {
     "name": "stdout",
     "output_type": "stream",
     "text": [
      "Images Shape: (32, 32, 3, 50000)\n",
      "Train Labels Fine Shape: (50000,)\n",
      "Train Labels Coarse Shape: (50000,)\n"
     ]
    }
   ],
   "source": [
    "images = np.load('trnImage.npy')\n",
    "label_fine = np.load('trnLabel_fine.npy')\n",
    "label_coarse = np.load('trnLabel_coarse.npy')\n",
    "\n",
    "image_index = 1 # pick a specific image\n",
    "image = images[:, :, :, image_index]\n",
    "\n",
    "test_images = np.load('tstImage.npy')\n",
    "test_label_fine = np.load('tstLabel_fine.npy')\n",
    "test_label_coarse = np.load('tstLabel_coarse.npy')\n",
    "\n",
    "print(f'Images Shape: {images.shape}')\n",
    "print(f'Train Labels Fine Shape: {label_fine.shape}')\n",
    "print(f'Train Labels Coarse Shape: {label_coarse.shape}')"
   ]
  },
  {
   "cell_type": "markdown",
   "id": "naughty-bronze",
   "metadata": {},
   "source": [
    "# Visualise data"
   ]
  },
  {
   "cell_type": "code",
   "execution_count": 23,
   "id": "rational-syracuse",
   "metadata": {},
   "outputs": [],
   "source": [
    "# plt.scatter(images[:,0], images[:,1], color=\"r\", marker=\"o\")\n",
    "# #plt.scatter(test_images[:,0], test_images[:,1], color=\"b\", marker='v')\n",
    "\n",
    "# # Add title and axis names\n",
    "# plt.title('CIFAR-100 data using coarse')\n",
    "# plt.xlabel('height')\n",
    "# plt.ylabel('width')\n",
    "# plt.show()"
   ]
  },
  {
   "cell_type": "markdown",
   "id": "looking-chain",
   "metadata": {},
   "source": [
    "# CNN"
   ]
  },
  {
   "cell_type": "markdown",
   "id": "urban-threat",
   "metadata": {},
   "source": [
    "## Expland the data to include a channel dimension for CNN. As images are greyscale add one additional axis in the last dimension of our data"
   ]
  },
  {
   "cell_type": "code",
   "execution_count": 24,
   "id": "hybrid-greece",
   "metadata": {},
   "outputs": [
    {
     "name": "stdout",
     "output_type": "stream",
     "text": [
      "(32, 32, 3, 50000)\n",
      "(50000, 32, 32, 3)\n"
     ]
    }
   ],
   "source": [
    "print(images.shape)\n",
    "images_reshaped = np.transpose(images, (3, 0, 1, 2))\n",
    "\n",
    "print(images_reshaped.shape)\n",
    "#images = np.expand_dims(images, axis=(4))\n",
    "#print(images.shape)"
   ]
  },
  {
   "cell_type": "code",
   "execution_count": 25,
   "id": "marked-northwest",
   "metadata": {},
   "outputs": [
    {
     "name": "stdout",
     "output_type": "stream",
     "text": [
      "(32, 32, 3, 10000)\n"
     ]
    }
   ],
   "source": [
    "print(test_images.shape)\n",
    "test_images_reshaped = np.transpose(test_images, (3, 0, 1, 2))"
   ]
  },
  {
   "cell_type": "markdown",
   "id": "original-heritage",
   "metadata": {},
   "source": [
    "### Normalise the data"
   ]
  },
  {
   "cell_type": "code",
   "execution_count": 35,
   "id": "painted-hebrew",
   "metadata": {},
   "outputs": [],
   "source": [
    "images_normalised= np.divide(images_reshaped, 255)\n",
    "test_images_normalised = np.divide(test_images_reshaped, 255)\n",
    "\n",
    "label_fine_normalised = np.divide(label_fine, 255)\n",
    "test_label_fine_normalised = np.divide(test_label_fine, 255)"
   ]
  },
  {
   "cell_type": "code",
   "execution_count": 33,
   "id": "novel-router",
   "metadata": {},
   "outputs": [
    {
     "name": "stdout",
     "output_type": "stream",
     "text": [
      "[0.0745098  0.11372549 0.         ... 0.01176471 0.02745098 0.28627451]\n",
      "[[[[3.9215689e-03 3.9215689e-03 3.9215689e-03]\n",
      "   [3.9215689e-03 3.9215689e-03 3.9215689e-03]\n",
      "   [3.9215689e-03 3.9215689e-03 3.9215689e-03]\n",
      "   ...\n",
      "   [2.9988466e-03 3.1526336e-03 2.9680892e-03]\n",
      "   [3.2602844e-03 3.4448290e-03 3.1372549e-03]\n",
      "   [2.7989235e-03 2.9834679e-03 2.5682431e-03]]\n",
      "\n",
      "  [[3.9215689e-03 3.9215689e-03 3.9215689e-03]\n",
      "   [3.9061899e-03 3.9061899e-03 3.9061899e-03]\n",
      "   [3.9061899e-03 3.9061899e-03 3.9061899e-03]\n",
      "   ...\n",
      "   [2.6143792e-03 2.7066513e-03 2.3068052e-03]\n",
      "   [2.4759709e-03 2.5836218e-03 1.9992313e-03]\n",
      "   [2.2452904e-03 2.3683200e-03 1.7377932e-03]]\n",
      "\n",
      "  [[3.9215689e-03 3.9215689e-03 3.9215689e-03]\n",
      "   [3.9061899e-03 3.9061899e-03 3.9061899e-03]\n",
      "   [3.9215689e-03 3.9215689e-03 3.9215689e-03]\n",
      "   ...\n",
      "   [2.9065744e-03 3.0603614e-03 2.5990005e-03]\n",
      "   [2.5528644e-03 2.7374087e-03 1.9992313e-03]\n",
      "   [1.8608228e-03 2.0453674e-03 1.3379470e-03]]\n",
      "\n",
      "  ...\n",
      "\n",
      "  [[2.2760478e-03 2.8450596e-03 1.2149174e-03]\n",
      "   [2.1837757e-03 2.7989235e-03 8.7658595e-04]\n",
      "   [2.1530183e-03 2.7527874e-03 9.2272204e-04]\n",
      "   ...\n",
      "   [4.6136102e-04 2.6143793e-04 1.5378702e-05]\n",
      "   [9.9961564e-04 9.5347944e-04 2.3068051e-04]\n",
      "   [1.1687813e-03 1.1841600e-03 3.0757402e-04]]\n",
      "\n",
      "  [[1.8762015e-03 2.4144561e-03 1.0149943e-03]\n",
      "   [1.8454441e-03 2.3836987e-03 8.9196465e-04]\n",
      "   [1.9377163e-03 2.4605922e-03 1.0918878e-03]\n",
      "   ...\n",
      "   [3.3833142e-04 2.4605924e-04 4.6136101e-05]\n",
      "   [1.4917339e-03 1.7224145e-03 8.6120726e-04]\n",
      "   [2.1683970e-03 2.4759709e-03 1.3379470e-03]]\n",
      "\n",
      "  [[1.3379470e-03 1.8762015e-03 6.3052675e-04]\n",
      "   [1.3533257e-03 1.8762015e-03 5.9976935e-04]\n",
      "   [1.5532487e-03 2.0607461e-03 8.6120726e-04]\n",
      "   ...\n",
      "   [5.2287587e-04 5.5363326e-04 1.5378701e-04]\n",
      "   [1.6147635e-03 2.0453674e-03 9.0734335e-04]\n",
      "   [2.1222609e-03 2.6605153e-03 1.2149174e-03]]]\n",
      "\n",
      "\n",
      " [[[3.9215689e-03 3.9215689e-03 3.9215689e-03]\n",
      "   [3.8908112e-03 3.8908112e-03 3.8908112e-03]\n",
      "   [3.8908112e-03 3.8908112e-03 3.8908112e-03]\n",
      "   ...\n",
      "   [3.8908112e-03 3.8908112e-03 3.8908112e-03]\n",
      "   [3.8908112e-03 3.8908112e-03 3.8908112e-03]\n",
      "   [3.9215689e-03 3.9215689e-03 3.9215689e-03]]\n",
      "\n",
      "  [[3.9215689e-03 3.9215689e-03 3.9215689e-03]\n",
      "   [3.9215689e-03 3.9215689e-03 3.9215689e-03]\n",
      "   [3.9215689e-03 3.9215689e-03 3.9215689e-03]\n",
      "   ...\n",
      "   [3.9215689e-03 3.9215689e-03 3.9215689e-03]\n",
      "   [3.9215689e-03 3.9215689e-03 3.9215689e-03]\n",
      "   [3.9215689e-03 3.9215689e-03 3.9215689e-03]]\n",
      "\n",
      "  [[3.9215689e-03 3.9215689e-03 3.9215689e-03]\n",
      "   [3.9215689e-03 3.9215689e-03 3.9215689e-03]\n",
      "   [3.9215689e-03 3.9215689e-03 3.9215689e-03]\n",
      "   ...\n",
      "   [3.9215689e-03 3.9215689e-03 3.9215689e-03]\n",
      "   [3.9215689e-03 3.9215689e-03 3.9215689e-03]\n",
      "   [3.9215689e-03 3.9215689e-03 3.9215689e-03]]\n",
      "\n",
      "  ...\n",
      "\n",
      "  [[3.9215689e-03 3.9215689e-03 3.9215689e-03]\n",
      "   [3.9215689e-03 3.9215689e-03 3.9215689e-03]\n",
      "   [3.9215689e-03 3.9215689e-03 3.9215689e-03]\n",
      "   ...\n",
      "   [3.9215689e-03 3.9215689e-03 3.9215689e-03]\n",
      "   [3.9215689e-03 3.9215689e-03 3.9215689e-03]\n",
      "   [3.9215689e-03 3.9215689e-03 3.9215689e-03]]\n",
      "\n",
      "  [[3.9215689e-03 3.9215689e-03 3.9215689e-03]\n",
      "   [3.9215689e-03 3.9215689e-03 3.9215689e-03]\n",
      "   [3.9215689e-03 3.9215689e-03 3.9215689e-03]\n",
      "   ...\n",
      "   [3.9215689e-03 3.9215689e-03 3.9215689e-03]\n",
      "   [3.9215689e-03 3.9215689e-03 3.9215689e-03]\n",
      "   [3.9215689e-03 3.9215689e-03 3.9215689e-03]]\n",
      "\n",
      "  [[3.9215689e-03 3.9215689e-03 3.9215689e-03]\n",
      "   [3.8908112e-03 3.8908112e-03 3.8908112e-03]\n",
      "   [3.8908112e-03 3.8908112e-03 3.8908112e-03]\n",
      "   ...\n",
      "   [3.8908112e-03 3.8908112e-03 3.8908112e-03]\n",
      "   [3.8908112e-03 3.8908112e-03 3.8908112e-03]\n",
      "   [3.9215689e-03 3.9215689e-03 3.9215689e-03]]]\n",
      "\n",
      "\n",
      " [[[3.8446751e-03 3.8446751e-03 3.8139177e-03]\n",
      "   [3.8139177e-03 3.8292964e-03 3.7370243e-03]\n",
      "   [3.7985391e-03 3.8139177e-03 3.6755095e-03]\n",
      "   ...\n",
      "   [3.8446751e-03 3.8446751e-03 3.7831604e-03]\n",
      "   [3.8446751e-03 3.8446751e-03 3.7831604e-03]\n",
      "   [3.8292964e-03 3.8446751e-03 3.7831604e-03]]\n",
      "\n",
      "  [[3.8446751e-03 3.8600538e-03 3.7677817e-03]\n",
      "   [3.8139177e-03 3.8292964e-03 3.6601308e-03]\n",
      "   [3.7985391e-03 3.7985391e-03 3.5986160e-03]\n",
      "   ...\n",
      "   [3.8600538e-03 3.8600538e-03 3.7216456e-03]\n",
      "   [3.8600538e-03 3.8754325e-03 3.7370243e-03]\n",
      "   [3.8446751e-03 3.8600538e-03 3.7370243e-03]]\n",
      "\n",
      "  [[3.8600538e-03 3.8600538e-03 3.7524030e-03]\n",
      "   [3.8446751e-03 3.8139177e-03 3.6447521e-03]\n",
      "   [3.8446751e-03 3.7677817e-03 3.5832373e-03]\n",
      "   ...\n",
      "   [3.8446751e-03 3.8292964e-03 3.6601308e-03]\n",
      "   [3.8446751e-03 3.8292964e-03 3.6908882e-03]\n",
      "   [3.8446751e-03 3.8292964e-03 3.7216456e-03]]\n",
      "\n",
      "  ...\n",
      "\n",
      "  [[3.3986929e-03 3.2756634e-03 2.9373318e-03]\n",
      "   [3.3986929e-03 3.1680122e-03 2.7066513e-03]\n",
      "   [3.4602077e-03 3.1833909e-03 2.7835448e-03]\n",
      "   ...\n",
      "   [3.0603614e-03 2.7066513e-03 2.0607461e-03]\n",
      "   [3.1833909e-03 2.9680892e-03 2.5374857e-03]\n",
      "   [3.5832373e-03 3.5217225e-03 3.4755864e-03]]\n",
      "\n",
      "  [[3.4602077e-03 3.4294503e-03 3.1372549e-03]\n",
      "   [3.4909651e-03 3.3679355e-03 3.0142253e-03]\n",
      "   [3.5217225e-03 3.3217994e-03 3.0757401e-03]\n",
      "   ...\n",
      "   [3.1372549e-03 2.8450596e-03 2.3221839e-03]\n",
      "   [3.2602844e-03 3.0911188e-03 2.7681661e-03]\n",
      "   [3.5986160e-03 3.5678586e-03 3.5063438e-03]]\n",
      "\n",
      "  [[3.5832373e-03 3.5832373e-03 3.4755864e-03]\n",
      "   [3.5986160e-03 3.5678586e-03 3.4448290e-03]\n",
      "   [3.6139947e-03 3.5371012e-03 3.4602077e-03]\n",
      "   ...\n",
      "   [3.3679355e-03 3.2141483e-03 2.9834679e-03]\n",
      "   [3.4294503e-03 3.3217994e-03 3.1833909e-03]\n",
      "   [3.5678586e-03 3.5371012e-03 3.5063438e-03]]]\n",
      "\n",
      "\n",
      " ...\n",
      "\n",
      "\n",
      " [[[3.8139177e-03 3.7524030e-03 3.7216456e-03]\n",
      "   [3.6908882e-03 3.5678586e-03 3.4294503e-03]\n",
      "   [3.6293734e-03 3.5678586e-03 3.4294503e-03]\n",
      "   ...\n",
      "   [3.5832373e-03 3.5217225e-03 3.4140716e-03]\n",
      "   [3.5371012e-03 3.5063438e-03 3.4140716e-03]\n",
      "   [3.6601308e-03 3.6447521e-03 3.5832373e-03]]\n",
      "\n",
      "  [[3.4602077e-03 3.2756634e-03 3.1372549e-03]\n",
      "   [2.8604383e-03 2.5682431e-03 2.2914265e-03]\n",
      "   [2.6912726e-03 2.4452135e-03 2.1530183e-03]\n",
      "   ...\n",
      "   [2.5067283e-03 2.2760478e-03 2.0607461e-03]\n",
      "   [2.3990774e-03 2.2145330e-03 2.0453674e-03]\n",
      "   [2.9527105e-03 2.8296809e-03 2.7066513e-03]]\n",
      "\n",
      "  [[3.2141483e-03 2.9834679e-03 2.7527874e-03]\n",
      "   [2.2145330e-03 1.8454441e-03 1.4609765e-03]\n",
      "   [2.1376396e-03 1.7685506e-03 1.3379470e-03]\n",
      "   ...\n",
      "   [1.6762784e-03 1.3225683e-03 1.0303730e-03]\n",
      "   [1.6762784e-03 1.3840831e-03 1.1687813e-03]\n",
      "   [2.4144561e-03 2.2299117e-03 2.0761248e-03]]\n",
      "\n",
      "  ...\n",
      "\n",
      "  [[2.4759709e-03 2.4452135e-03 2.3529413e-03]\n",
      "   [5.9976935e-04 5.2287587e-04 4.3060363e-04]\n",
      "   [4.3060363e-04 3.0757402e-04 2.1530181e-04]\n",
      "   ...\n",
      "   [1.4302192e-03 1.1072665e-03 8.1507111e-04]\n",
      "   [1.3071896e-03 1.0303730e-03 7.6893502e-04]\n",
      "   [2.0915035e-03 1.9377163e-03 1.7685506e-03]]\n",
      "\n",
      "  [[2.7835448e-03 2.7527874e-03 2.6451366e-03]\n",
      "   [1.3225683e-03 1.2764322e-03 1.1841600e-03]\n",
      "   [1.0918878e-03 1.0457517e-03 9.5347944e-04]\n",
      "   ...\n",
      "   [1.8762015e-03 1.5840061e-03 1.3687044e-03]\n",
      "   [1.6147635e-03 1.4148405e-03 1.2610535e-03]\n",
      "   [2.3221839e-03 2.2299117e-03 2.1683970e-03]]\n",
      "\n",
      "  [[3.4448290e-03 3.4294503e-03 3.3525568e-03]\n",
      "   [2.7681661e-03 2.7681661e-03 2.6912726e-03]\n",
      "   [2.6605153e-03 2.6451366e-03 2.5682431e-03]\n",
      "   ...\n",
      "   [3.0142253e-03 2.8758170e-03 2.7681661e-03]\n",
      "   [2.8143022e-03 2.7374087e-03 2.6758939e-03]\n",
      "   [3.1372549e-03 3.1526336e-03 3.1526336e-03]]]\n",
      "\n",
      "\n",
      " [[[2.3990774e-03 2.3683200e-03 2.1068822e-03]\n",
      "   [2.3221839e-03 2.2452904e-03 1.8915802e-03]\n",
      "   [2.3221839e-03 2.2145330e-03 1.9223376e-03]\n",
      "   ...\n",
      "   [2.3836987e-03 2.3068052e-03 1.9838526e-03]\n",
      "   [2.3375626e-03 2.2760478e-03 1.9223376e-03]\n",
      "   [2.8604383e-03 2.8296809e-03 2.5067283e-03]]\n",
      "\n",
      "  [[1.6916571e-03 1.6301422e-03 1.1841600e-03]\n",
      "   [1.7839293e-03 1.6608997e-03 9.5347944e-04]\n",
      "   [1.7531719e-03 1.5532487e-03 8.7658595e-04]\n",
      "   ...\n",
      "   [1.7839293e-03 1.6301422e-03 9.3810074e-04]\n",
      "   [1.7070358e-03 1.5840061e-03 8.6120726e-04]\n",
      "   [2.0607461e-03 1.9838526e-03 1.4148405e-03]]\n",
      "\n",
      "  [[1.7839293e-03 1.7224145e-03 1.2610535e-03]\n",
      "   [1.9069589e-03 1.8146867e-03 1.0149943e-03]\n",
      "   [1.9684739e-03 1.8146867e-03 1.0303730e-03]\n",
      "   ...\n",
      "   [1.5224913e-03 1.2918109e-03 6.6128414e-04]\n",
      "   [1.5532487e-03 1.3379470e-03 6.6128414e-04]\n",
      "   [1.9838526e-03 1.8146867e-03 1.3225683e-03]]\n",
      "\n",
      "  ...\n",
      "\n",
      "  [[1.6762784e-03 1.5532487e-03 1.1380239e-03]\n",
      "   [1.7224145e-03 1.5378700e-03 8.3044986e-04]\n",
      "   [1.8146867e-03 1.6147635e-03 9.5347944e-04]\n",
      "   ...\n",
      "   [1.9377163e-03 1.7377932e-03 9.9961564e-04]\n",
      "   [1.9377163e-03 1.7070358e-03 9.3810074e-04]\n",
      "   [2.1222609e-03 1.9069589e-03 1.3687044e-03]]\n",
      "\n",
      "  [[1.5071126e-03 1.4148405e-03 9.6885813e-04]\n",
      "   [1.4302192e-03 1.2610535e-03 5.3825456e-04]\n",
      "   [1.4763552e-03 1.2764322e-03 5.8439065e-04]\n",
      "   ...\n",
      "   [1.7224145e-03 1.4763552e-03 7.2279893e-04]\n",
      "   [1.6762784e-03 1.4148405e-03 6.9204153e-04]\n",
      "   [1.9530950e-03 1.7377932e-03 1.2302961e-03]]\n",
      "\n",
      "  [[2.6143792e-03 2.5682431e-03 2.2299117e-03]\n",
      "   [2.4605922e-03 2.3529413e-03 1.8146867e-03]\n",
      "   [2.5067283e-03 2.3375626e-03 1.8300654e-03]\n",
      "   ...\n",
      "   [2.4759709e-03 2.3221839e-03 1.7531719e-03]\n",
      "   [2.3990774e-03 2.2145330e-03 1.6455210e-03]\n",
      "   [2.5067283e-03 2.3683200e-03 1.9377163e-03]]]\n",
      "\n",
      "\n",
      " [[[4.7673972e-04 1.0303730e-03 1.8762015e-03]\n",
      "   [4.6136102e-04 1.0457517e-03 1.9069589e-03]\n",
      "   [4.7673972e-04 1.0611304e-03 1.9377163e-03]\n",
      "   ...\n",
      "   [4.9211847e-04 1.0765091e-03 1.9838526e-03]\n",
      "   [4.9211847e-04 1.0765091e-03 1.9223376e-03]\n",
      "   [4.9211847e-04 1.0611304e-03 1.8762015e-03]]\n",
      "\n",
      "  [[4.4598232e-04 1.0457517e-03 1.9377163e-03]\n",
      "   [4.3060363e-04 1.0611304e-03 1.9684739e-03]\n",
      "   [4.6136102e-04 1.0611304e-03 1.9992313e-03]\n",
      "   ...\n",
      "   [4.9211847e-04 1.0765091e-03 2.0146100e-03]\n",
      "   [4.9211847e-04 1.0611304e-03 1.9530950e-03]\n",
      "   [4.7673972e-04 1.0611304e-03 1.9069589e-03]]\n",
      "\n",
      "  [[4.6136102e-04 1.0303730e-03 1.9377163e-03]\n",
      "   [4.4598232e-04 1.0457517e-03 1.9684739e-03]\n",
      "   [4.6136102e-04 1.0611304e-03 1.9992313e-03]\n",
      "   ...\n",
      "   [4.9211847e-04 1.1072665e-03 2.0299887e-03]\n",
      "   [4.7673972e-04 1.0765091e-03 1.9992313e-03]\n",
      "   [4.6136102e-04 1.0611304e-03 1.9530950e-03]]\n",
      "\n",
      "  ...\n",
      "\n",
      "  [[5.9976935e-04 6.3052675e-04 1.1687813e-03]\n",
      "   [5.8439065e-04 6.4590544e-04 1.1687813e-03]\n",
      "   [5.8439065e-04 6.7666284e-04 1.1995387e-03]\n",
      "   ...\n",
      "   [5.9976935e-04 6.7666284e-04 1.2149174e-03]\n",
      "   [5.8439065e-04 6.4590544e-04 1.1841600e-03]\n",
      "   [5.9976935e-04 6.3052675e-04 1.1687813e-03]]\n",
      "\n",
      "  [[6.1514805e-04 5.9976935e-04 1.1226452e-03]\n",
      "   [5.9976935e-04 6.1514805e-04 1.1380239e-03]\n",
      "   [5.9976935e-04 6.3052675e-04 1.1687813e-03]\n",
      "   ...\n",
      "   [5.9976935e-04 6.3052675e-04 1.1687813e-03]\n",
      "   [6.1514805e-04 6.3052675e-04 1.1380239e-03]\n",
      "   [6.1514805e-04 5.9976935e-04 1.1226452e-03]]\n",
      "\n",
      "  [[6.1514805e-04 5.9976935e-04 1.0765091e-03]\n",
      "   [6.1514805e-04 5.9976935e-04 1.0918878e-03]\n",
      "   [6.1514805e-04 5.9976935e-04 1.1072665e-03]\n",
      "   ...\n",
      "   [6.3052675e-04 5.8439065e-04 1.1072665e-03]\n",
      "   [5.9976935e-04 5.8439065e-04 1.0611304e-03]\n",
      "   [6.1514805e-04 5.6901196e-04 1.0303730e-03]]]]\n"
     ]
    }
   ],
   "source": [
    "print(label_fine_normalised)\n",
    "print(images_normalised)"
   ]
  },
  {
   "cell_type": "markdown",
   "id": "unauthorized-opportunity",
   "metadata": {},
   "source": [
    "### Create and train a Tensorflow Convolutional Neural Network on the training set using Conv2D and pooling Layers"
   ]
  },
  {
   "cell_type": "code",
   "execution_count": 36,
   "id": "interior-penetration",
   "metadata": {},
   "outputs": [
    {
     "name": "stdout",
     "output_type": "stream",
     "text": [
      "Model: \"sequential_4\"\n",
      "_________________________________________________________________\n",
      "Layer (type)                 Output Shape              Param #   \n",
      "=================================================================\n",
      "conv2d_4 (Conv2D)            (None, 30, 30, 32)        896       \n",
      "_________________________________________________________________\n",
      "max_pooling2d_4 (MaxPooling2 (None, 15, 15, 32)        0         \n",
      "=================================================================\n",
      "Total params: 896\n",
      "Trainable params: 896\n",
      "Non-trainable params: 0\n",
      "_________________________________________________________________\n"
     ]
    }
   ],
   "source": [
    "model = tf.keras.Sequential()\n",
    "model.add(tf.keras.layers.Conv2D(32, (3, 3), activation='relu', input_shape=(32, 32, 3)))\n",
    "model.add(tf.keras.layers.MaxPooling2D((2, 2)))\n",
    "\n",
    "model.summary()"
   ]
  },
  {
   "cell_type": "code",
   "execution_count": 37,
   "id": "waiting-ivory",
   "metadata": {},
   "outputs": [
    {
     "name": "stdout",
     "output_type": "stream",
     "text": [
      "Epoch 1/10\n",
      "1563/1563 [==============================] - 13s 8ms/step - loss: 0.0418 - accuracy: 0.0108 - val_loss: 0.0000e+00 - val_accuracy: 0.0100\n",
      "Epoch 2/10\n",
      "1563/1563 [==============================] - 12s 8ms/step - loss: 0.0000e+00 - accuracy: 0.0100 - val_loss: 0.0000e+00 - val_accuracy: 0.0100\n",
      "Epoch 3/10\n",
      "1563/1563 [==============================] - 12s 8ms/step - loss: 0.0000e+00 - accuracy: 0.0099 - val_loss: 0.0000e+00 - val_accuracy: 0.0100\n",
      "Epoch 4/10\n",
      "1563/1563 [==============================] - 12s 8ms/step - loss: 0.0000e+00 - accuracy: 0.0100 - val_loss: 0.0000e+00 - val_accuracy: 0.0100\n",
      "Epoch 5/10\n",
      "1563/1563 [==============================] - 12s 8ms/step - loss: 0.0000e+00 - accuracy: 0.0102 - val_loss: 0.0000e+00 - val_accuracy: 0.0100\n",
      "Epoch 6/10\n",
      "1563/1563 [==============================] - 12s 8ms/step - loss: 0.0000e+00 - accuracy: 0.0088 - val_loss: 0.0000e+00 - val_accuracy: 0.0100\n",
      "Epoch 7/10\n",
      "1563/1563 [==============================] - 12s 8ms/step - loss: 0.0000e+00 - accuracy: 0.0096 - val_loss: 0.0000e+00 - val_accuracy: 0.0100\n",
      "Epoch 8/10\n",
      "1563/1563 [==============================] - 12s 8ms/step - loss: 0.0000e+00 - accuracy: 0.0095 - val_loss: 0.0000e+00 - val_accuracy: 0.0100\n",
      "Epoch 9/10\n",
      "1563/1563 [==============================] - 12s 8ms/step - loss: 0.0000e+00 - accuracy: 0.0100 - val_loss: 0.0000e+00 - val_accuracy: 0.0100\n",
      "Epoch 10/10\n",
      "1563/1563 [==============================] - 12s 8ms/step - loss: 0.0000e+00 - accuracy: 0.0100 - val_loss: 0.0000e+00 - val_accuracy: 0.0100\n"
     ]
    }
   ],
   "source": [
    "model.add(tf.keras.layers.Flatten())\n",
    "model.add(tf.keras.layers.Dense(64, activation='relu'))\n",
    "model.add(tf.keras.layers.Dense(10))\n",
    "\n",
    "model.compile(loss=tf.keras.losses.SparseCategoricalCrossentropy(from_logits=True),\n",
    "              metrics=['accuracy'])\n",
    "\n",
    "history = model.fit(images_normalised, label_fine_normalised, epochs=10, \n",
    "                    validation_data=(test_images_normalised, test_label_fine_normalised))"
   ]
  },
  {
   "cell_type": "markdown",
   "id": "aggressive-postage",
   "metadata": {},
   "source": [
    "### Plot models traing curves "
   ]
  },
  {
   "cell_type": "code",
   "execution_count": 39,
   "id": "conditional-senegal",
   "metadata": {},
   "outputs": [
    {
     "name": "stdout",
     "output_type": "stream",
     "text": [
      "1563/1563 - 2s - loss: 0.0000e+00 - accuracy: 0.0100\n",
      "0.009999999776482582\n"
     ]
    },
    {
     "data": {
      "image/png": "[encoded data removed]",
      "text/plain": [
       "<Figure size 432x288 with 1 Axes>"
      ]
     },
     "metadata": {
      "needs_background": "light"
     },
     "output_type": "display_data"
    }
   ],
   "source": [
    "plt.plot(history.history['accuracy'], label='accuracy')\n",
    "plt.plot(history.history['val_accuracy'], label = 'val_accuracy')\n",
    "plt.xlabel('Epoch')\n",
    "plt.ylabel('Accuracy')\n",
    "plt.ylim([0.5, 1])\n",
    "plt.legend(loc='lower right')\n",
    "\n",
    "test_loss, test_acc = model.evaluate(images_normalised,  label_fine_normalised, verbose=2)\n",
    "\n",
    "print(test_acc)"
   ]
  },
  {
   "cell_type": "code",
   "execution_count": 41,
   "id": "improving-alias",
   "metadata": {},
   "outputs": [
    {
     "name": "stdout",
     "output_type": "stream",
     "text": [
      "[0.0, 0.009999999776482582]\n"
     ]
    }
   ],
   "source": [
    "score = model.evaluate(test_images_normalised, test_label_fine_normalised, verbose=0)\n",
    "print(score)"
   ]
  },
  {
   "cell_type": "code",
   "execution_count": null,
   "id": "seven-wiring",
   "metadata": {},
   "outputs": [],
   "source": []
  }
 ],
 "metadata": {
  "kernelspec": {
   "display_name": "Python 3",
   "language": "python",
   "name": "python3"
  },
  "language_info": {
   "codemirror_mode": {
    "name": "ipython",
    "version": 3
   },
   "file_extension": ".py",
   "mimetype": "text/x-python",
   "name": "python",
   "nbconvert_exporter": "python",
   "pygments_lexer": "ipython3",
   "version": "3.7.7"
  }
 },
 "nbformat": 4,
 "nbformat_minor": 5
}
