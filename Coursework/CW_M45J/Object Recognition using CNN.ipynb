{
 "cells": [
  {
   "cell_type": "markdown",
   "id": "ordered-recorder",
   "metadata": {},
   "source": [
    "# CW1 - Object Recognition using CNN\n",
    "To apply machine learning alorithms to clasify the testing images into object categories. Then use a model to perform classification and report quantitative results.\n",
    "\n",
    "Due: Monday 19th April"
   ]
  },
  {
   "cell_type": "markdown",
   "id": "norwegian-karma",
   "metadata": {},
   "source": [
    "# Introduction"
   ]
  },
  {
   "cell_type": "markdown",
   "id": "leading-turning",
   "metadata": {},
   "source": [
    "The aim is to evaluate the use of CNN's in image recognition and the affect of adding multiple layers."
   ]
  },
  {
   "cell_type": "markdown",
   "id": "alpha-negotiation",
   "metadata": {},
   "source": [
    "# Imports "
   ]
  },
  {
   "cell_type": "code",
   "execution_count": 19,
   "id": "modified-demographic",
   "metadata": {},
   "outputs": [],
   "source": [
    "import numpy as np\n",
    "import matplotlib.pyplot as plt\n",
    "import skimage.feature\n",
    "import tensorflow as tf"
   ]
  },
  {
   "cell_type": "markdown",
   "id": "moving-democracy",
   "metadata": {},
   "source": [
    "# Load Data\n",
    "There are 100 different categories of objects\n",
    "each has 500 images for training and 100 images for testing.\n",
    "Split the data into train and test sections"
   ]
  },
  {
   "cell_type": "code",
   "execution_count": 20,
   "id": "recovered-longer",
   "metadata": {},
   "outputs": [
    {
     "name": "stdout",
     "output_type": "stream",
     "text": [
      "Images Shape: (32, 32, 3, 50000)\n",
      "Train Labels Fine Shape: (50000,)\n",
      "Train Labels Coarse Shape: (50000,)\n"
     ]
    }
   ],
   "source": [
    "images = np.load('trnImage.npy')\n",
    "label_fine = np.load('trnLabel_fine.npy')\n",
    "label_coarse = np.load('trnLabel_coarse.npy')\n",
    "\n",
    "image_index = 1 # pick a specific image\n",
    "image = images[:, :, :, image_index]\n",
    "\n",
    "test_images = np.load('tstImage.npy')\n",
    "test_label_fine = np.load('tstLabel_fine.npy')\n",
    "test_label_coarse = np.load('tstLabel_coarse.npy')\n",
    "\n",
    "print(f'Images Shape: {images.shape}')\n",
    "print(f'Train Labels Fine Shape: {label_fine.shape}')\n",
    "print(f'Train Labels Coarse Shape: {label_coarse.shape}')"
   ]
  },
  {
   "cell_type": "markdown",
   "id": "naughty-bronze",
   "metadata": {},
   "source": [
    "# Visualise data"
   ]
  },
  {
   "cell_type": "code",
   "execution_count": 21,
   "id": "rational-syracuse",
   "metadata": {},
   "outputs": [
    {
     "data": {
      "image/png": "[encoded data removed]",
      "text/plain": [
       "<Figure size 432x288 with 1 Axes>"
      ]
     },
     "metadata": {
      "needs_background": "light"
     },
     "output_type": "display_data"
    }
   ],
   "source": [
    "plt.scatter(images[:,0], images[:,1], color=\"r\", marker=\"o\")\n",
    "#plt.scatter(test_images[:,0], test_images[:,1], color=\"b\", marker='v')\n",
    "\n",
    "# Add title and axis names\n",
    "plt.title('CIFAR-100 data using coarse')\n",
    "plt.xlabel('height')\n",
    "plt.ylabel('width')\n",
    "plt.show()"
   ]
  },
  {
   "cell_type": "markdown",
   "id": "looking-chain",
   "metadata": {},
   "source": [
    "# CNN"
   ]
  },
  {
   "cell_type": "markdown",
   "id": "original-heritage",
   "metadata": {},
   "source": [
    "### Normalise the data"
   ]
  },
  {
   "cell_type": "code",
   "execution_count": 22,
   "id": "painted-hebrew",
   "metadata": {},
   "outputs": [],
   "source": [
    "images = np.divide(images, 255)"
   ]
  },
  {
   "cell_type": "markdown",
   "id": "urban-threat",
   "metadata": {},
   "source": [
    "## Expland the data to include a channel dimension for CNN. As images are greyscale add one additional axis in the last dimension of our data"
   ]
  },
  {
   "cell_type": "code",
   "execution_count": 25,
   "id": "hybrid-greece",
   "metadata": {},
   "outputs": [
    {
     "name": "stdout",
     "output_type": "stream",
     "text": [
      "(50000, 32, 32, 3)\n"
     ]
    }
   ],
   "source": [
    "print(images.shape)\n",
    "images_reshaped = np.transpose(images, (3, 0, 1, 2))\n",
    "\n",
    "print(images_reshaped.shape)\n",
    "#images = np.expand_dims(images, axis=(4))\n",
    "#print(images.shape)"
   ]
  },
  {
   "cell_type": "markdown",
   "id": "unauthorized-opportunity",
   "metadata": {},
   "source": [
    "### Create and train a Tensorflow Convolutional Neural Network on the training set using Conv2D and pooling Layers"
   ]
  },
  {
   "cell_type": "code",
   "execution_count": 26,
   "id": "interior-penetration",
   "metadata": {},
   "outputs": [
    {
     "name": "stdout",
     "output_type": "stream",
     "text": [
      "Model: \"sequential_2\"\n",
      "_________________________________________________________________\n",
      "Layer (type)                 Output Shape              Param #   \n",
      "=================================================================\n",
      "conv2d_4 (Conv2D)            (None, 30, 30, 32)        896       \n",
      "_________________________________________________________________\n",
      "max_pooling2d_4 (MaxPooling2 (None, 15, 15, 32)        0         \n",
      "=================================================================\n",
      "Total params: 896\n",
      "Trainable params: 896\n",
      "Non-trainable params: 0\n",
      "_________________________________________________________________\n"
     ]
    }
   ],
   "source": [
    "model = tf.keras.Sequential()\n",
    "model.add(tf.keras.layers.Conv2D(32, (3, 3), activation='relu', input_shape=(32, 32, 3)))\n",
    "model.add(tf.keras.layers.MaxPooling2D((2, 2)))\n",
    "\n",
    "model.summary()"
   ]
  },
  {
   "cell_type": "code",
   "execution_count": 28,
   "id": "waiting-ivory",
   "metadata": {},
   "outputs": [
    {
     "name": "stdout",
     "output_type": "stream",
     "text": [
      "Epoch 1/10\n"
     ]
    },
    {
     "ename": "InvalidArgumentError",
     "evalue": " Received a label value of 92 which is outside the valid range of [0, 10).  Label values: 49 62 23 10 92 92 71 51 53 58 39 2 6 16 46 46 70 70 2 14 24 8 56 19 78 79 67 69 5 45 19 8\n\t [[node sparse_categorical_crossentropy/SparseSoftmaxCrossEntropyWithLogits/SparseSoftmaxCrossEntropyWithLogits (defined at <ipython-input-28-ffaf2121415b>:9) ]] [Op:__inference_train_function_204125]\n\nFunction call stack:\ntrain_function\n",
     "output_type": "error",
     "traceback": [
      "\u001b[1;31m---------------------------------------------------------------------------\u001b[0m",
      "\u001b[1;31mInvalidArgumentError\u001b[0m                      Traceback (most recent call last)",
      "\u001b[1;32m<ipython-input-28-ffaf2121415b>\u001b[0m in \u001b[0;36m<module>\u001b[1;34m\u001b[0m\n\u001b[0;32m      7\u001b[0m \u001b[1;33m\u001b[0m\u001b[0m\n\u001b[0;32m      8\u001b[0m history = model.fit(images_reshaped, label_fine, epochs=10, \n\u001b[1;32m----> 9\u001b[1;33m                     validation_data=(test_images, test_label_fine))\n\u001b[0m",
      "\u001b[1;32mc:\\users\\lizks\\appdata\\local\\programs\\python\\python37\\lib\\site-packages\\tensorflow\\python\\keras\\engine\\training.py\u001b[0m in \u001b[0;36mfit\u001b[1;34m(self, x, y, batch_size, epochs, verbose, callbacks, validation_split, validation_data, shuffle, class_weight, sample_weight, initial_epoch, steps_per_epoch, validation_steps, validation_batch_size, validation_freq, max_queue_size, workers, use_multiprocessing)\u001b[0m\n\u001b[0;32m   1098\u001b[0m                 _r=1):\n\u001b[0;32m   1099\u001b[0m               \u001b[0mcallbacks\u001b[0m\u001b[1;33m.\u001b[0m\u001b[0mon_train_batch_begin\u001b[0m\u001b[1;33m(\u001b[0m\u001b[0mstep\u001b[0m\u001b[1;33m)\u001b[0m\u001b[1;33m\u001b[0m\u001b[1;33m\u001b[0m\u001b[0m\n\u001b[1;32m-> 1100\u001b[1;33m               \u001b[0mtmp_logs\u001b[0m \u001b[1;33m=\u001b[0m \u001b[0mself\u001b[0m\u001b[1;33m.\u001b[0m\u001b[0mtrain_function\u001b[0m\u001b[1;33m(\u001b[0m\u001b[0miterator\u001b[0m\u001b[1;33m)\u001b[0m\u001b[1;33m\u001b[0m\u001b[1;33m\u001b[0m\u001b[0m\n\u001b[0m\u001b[0;32m   1101\u001b[0m               \u001b[1;32mif\u001b[0m \u001b[0mdata_handler\u001b[0m\u001b[1;33m.\u001b[0m\u001b[0mshould_sync\u001b[0m\u001b[1;33m:\u001b[0m\u001b[1;33m\u001b[0m\u001b[1;33m\u001b[0m\u001b[0m\n\u001b[0;32m   1102\u001b[0m                 \u001b[0mcontext\u001b[0m\u001b[1;33m.\u001b[0m\u001b[0masync_wait\u001b[0m\u001b[1;33m(\u001b[0m\u001b[1;33m)\u001b[0m\u001b[1;33m\u001b[0m\u001b[1;33m\u001b[0m\u001b[0m\n",
      "\u001b[1;32mc:\\users\\lizks\\appdata\\local\\programs\\python\\python37\\lib\\site-packages\\tensorflow\\python\\eager\\def_function.py\u001b[0m in \u001b[0;36m__call__\u001b[1;34m(self, *args, **kwds)\u001b[0m\n\u001b[0;32m    826\u001b[0m     \u001b[0mtracing_count\u001b[0m \u001b[1;33m=\u001b[0m \u001b[0mself\u001b[0m\u001b[1;33m.\u001b[0m\u001b[0mexperimental_get_tracing_count\u001b[0m\u001b[1;33m(\u001b[0m\u001b[1;33m)\u001b[0m\u001b[1;33m\u001b[0m\u001b[1;33m\u001b[0m\u001b[0m\n\u001b[0;32m    827\u001b[0m     \u001b[1;32mwith\u001b[0m \u001b[0mtrace\u001b[0m\u001b[1;33m.\u001b[0m\u001b[0mTrace\u001b[0m\u001b[1;33m(\u001b[0m\u001b[0mself\u001b[0m\u001b[1;33m.\u001b[0m\u001b[0m_name\u001b[0m\u001b[1;33m)\u001b[0m \u001b[1;32mas\u001b[0m \u001b[0mtm\u001b[0m\u001b[1;33m:\u001b[0m\u001b[1;33m\u001b[0m\u001b[1;33m\u001b[0m\u001b[0m\n\u001b[1;32m--> 828\u001b[1;33m       \u001b[0mresult\u001b[0m \u001b[1;33m=\u001b[0m \u001b[0mself\u001b[0m\u001b[1;33m.\u001b[0m\u001b[0m_call\u001b[0m\u001b[1;33m(\u001b[0m\u001b[1;33m*\u001b[0m\u001b[0margs\u001b[0m\u001b[1;33m,\u001b[0m \u001b[1;33m**\u001b[0m\u001b[0mkwds\u001b[0m\u001b[1;33m)\u001b[0m\u001b[1;33m\u001b[0m\u001b[1;33m\u001b[0m\u001b[0m\n\u001b[0m\u001b[0;32m    829\u001b[0m       \u001b[0mcompiler\u001b[0m \u001b[1;33m=\u001b[0m \u001b[1;34m\"xla\"\u001b[0m \u001b[1;32mif\u001b[0m \u001b[0mself\u001b[0m\u001b[1;33m.\u001b[0m\u001b[0m_experimental_compile\u001b[0m \u001b[1;32melse\u001b[0m \u001b[1;34m\"nonXla\"\u001b[0m\u001b[1;33m\u001b[0m\u001b[1;33m\u001b[0m\u001b[0m\n\u001b[0;32m    830\u001b[0m       \u001b[0mnew_tracing_count\u001b[0m \u001b[1;33m=\u001b[0m \u001b[0mself\u001b[0m\u001b[1;33m.\u001b[0m\u001b[0mexperimental_get_tracing_count\u001b[0m\u001b[1;33m(\u001b[0m\u001b[1;33m)\u001b[0m\u001b[1;33m\u001b[0m\u001b[1;33m\u001b[0m\u001b[0m\n",
      "\u001b[1;32mc:\\users\\lizks\\appdata\\local\\programs\\python\\python37\\lib\\site-packages\\tensorflow\\python\\eager\\def_function.py\u001b[0m in \u001b[0;36m_call\u001b[1;34m(self, *args, **kwds)\u001b[0m\n\u001b[0;32m    886\u001b[0m         \u001b[1;31m# Lifting succeeded, so variables are initialized and we can run the\u001b[0m\u001b[1;33m\u001b[0m\u001b[1;33m\u001b[0m\u001b[1;33m\u001b[0m\u001b[0m\n\u001b[0;32m    887\u001b[0m         \u001b[1;31m# stateless function.\u001b[0m\u001b[1;33m\u001b[0m\u001b[1;33m\u001b[0m\u001b[1;33m\u001b[0m\u001b[0m\n\u001b[1;32m--> 888\u001b[1;33m         \u001b[1;32mreturn\u001b[0m \u001b[0mself\u001b[0m\u001b[1;33m.\u001b[0m\u001b[0m_stateless_fn\u001b[0m\u001b[1;33m(\u001b[0m\u001b[1;33m*\u001b[0m\u001b[0margs\u001b[0m\u001b[1;33m,\u001b[0m \u001b[1;33m**\u001b[0m\u001b[0mkwds\u001b[0m\u001b[1;33m)\u001b[0m\u001b[1;33m\u001b[0m\u001b[1;33m\u001b[0m\u001b[0m\n\u001b[0m\u001b[0;32m    889\u001b[0m     \u001b[1;32melse\u001b[0m\u001b[1;33m:\u001b[0m\u001b[1;33m\u001b[0m\u001b[1;33m\u001b[0m\u001b[0m\n\u001b[0;32m    890\u001b[0m       \u001b[0m_\u001b[0m\u001b[1;33m,\u001b[0m \u001b[0m_\u001b[0m\u001b[1;33m,\u001b[0m \u001b[0m_\u001b[0m\u001b[1;33m,\u001b[0m \u001b[0mfiltered_flat_args\u001b[0m \u001b[1;33m=\u001b[0m\u001b[0;31m \u001b[0m\u001b[0;31m\\\u001b[0m\u001b[1;33m\u001b[0m\u001b[1;33m\u001b[0m\u001b[0m\n",
      "\u001b[1;32mc:\\users\\lizks\\appdata\\local\\programs\\python\\python37\\lib\\site-packages\\tensorflow\\python\\eager\\function.py\u001b[0m in \u001b[0;36m__call__\u001b[1;34m(self, *args, **kwargs)\u001b[0m\n\u001b[0;32m   2941\u001b[0m        filtered_flat_args) = self._maybe_define_function(args, kwargs)\n\u001b[0;32m   2942\u001b[0m     return graph_function._call_flat(\n\u001b[1;32m-> 2943\u001b[1;33m         filtered_flat_args, captured_inputs=graph_function.captured_inputs)  # pylint: disable=protected-access\n\u001b[0m\u001b[0;32m   2944\u001b[0m \u001b[1;33m\u001b[0m\u001b[0m\n\u001b[0;32m   2945\u001b[0m   \u001b[1;33m@\u001b[0m\u001b[0mproperty\u001b[0m\u001b[1;33m\u001b[0m\u001b[1;33m\u001b[0m\u001b[0m\n",
      "\u001b[1;32mc:\\users\\lizks\\appdata\\local\\programs\\python\\python37\\lib\\site-packages\\tensorflow\\python\\eager\\function.py\u001b[0m in \u001b[0;36m_call_flat\u001b[1;34m(self, args, captured_inputs, cancellation_manager)\u001b[0m\n\u001b[0;32m   1917\u001b[0m       \u001b[1;31m# No tape is watching; skip to running the function.\u001b[0m\u001b[1;33m\u001b[0m\u001b[1;33m\u001b[0m\u001b[1;33m\u001b[0m\u001b[0m\n\u001b[0;32m   1918\u001b[0m       return self._build_call_outputs(self._inference_function.call(\n\u001b[1;32m-> 1919\u001b[1;33m           ctx, args, cancellation_manager=cancellation_manager))\n\u001b[0m\u001b[0;32m   1920\u001b[0m     forward_backward = self._select_forward_and_backward_functions(\n\u001b[0;32m   1921\u001b[0m         \u001b[0margs\u001b[0m\u001b[1;33m,\u001b[0m\u001b[1;33m\u001b[0m\u001b[1;33m\u001b[0m\u001b[0m\n",
      "\u001b[1;32mc:\\users\\lizks\\appdata\\local\\programs\\python\\python37\\lib\\site-packages\\tensorflow\\python\\eager\\function.py\u001b[0m in \u001b[0;36mcall\u001b[1;34m(self, ctx, args, cancellation_manager)\u001b[0m\n\u001b[0;32m    558\u001b[0m               \u001b[0minputs\u001b[0m\u001b[1;33m=\u001b[0m\u001b[0margs\u001b[0m\u001b[1;33m,\u001b[0m\u001b[1;33m\u001b[0m\u001b[1;33m\u001b[0m\u001b[0m\n\u001b[0;32m    559\u001b[0m               \u001b[0mattrs\u001b[0m\u001b[1;33m=\u001b[0m\u001b[0mattrs\u001b[0m\u001b[1;33m,\u001b[0m\u001b[1;33m\u001b[0m\u001b[1;33m\u001b[0m\u001b[0m\n\u001b[1;32m--> 560\u001b[1;33m               ctx=ctx)\n\u001b[0m\u001b[0;32m    561\u001b[0m         \u001b[1;32melse\u001b[0m\u001b[1;33m:\u001b[0m\u001b[1;33m\u001b[0m\u001b[1;33m\u001b[0m\u001b[0m\n\u001b[0;32m    562\u001b[0m           outputs = execute.execute_with_cancellation(\n",
      "\u001b[1;32mc:\\users\\lizks\\appdata\\local\\programs\\python\\python37\\lib\\site-packages\\tensorflow\\python\\eager\\execute.py\u001b[0m in \u001b[0;36mquick_execute\u001b[1;34m(op_name, num_outputs, inputs, attrs, ctx, name)\u001b[0m\n\u001b[0;32m     58\u001b[0m     \u001b[0mctx\u001b[0m\u001b[1;33m.\u001b[0m\u001b[0mensure_initialized\u001b[0m\u001b[1;33m(\u001b[0m\u001b[1;33m)\u001b[0m\u001b[1;33m\u001b[0m\u001b[1;33m\u001b[0m\u001b[0m\n\u001b[0;32m     59\u001b[0m     tensors = pywrap_tfe.TFE_Py_Execute(ctx._handle, device_name, op_name,\n\u001b[1;32m---> 60\u001b[1;33m                                         inputs, attrs, num_outputs)\n\u001b[0m\u001b[0;32m     61\u001b[0m   \u001b[1;32mexcept\u001b[0m \u001b[0mcore\u001b[0m\u001b[1;33m.\u001b[0m\u001b[0m_NotOkStatusException\u001b[0m \u001b[1;32mas\u001b[0m \u001b[0me\u001b[0m\u001b[1;33m:\u001b[0m\u001b[1;33m\u001b[0m\u001b[1;33m\u001b[0m\u001b[0m\n\u001b[0;32m     62\u001b[0m     \u001b[1;32mif\u001b[0m \u001b[0mname\u001b[0m \u001b[1;32mis\u001b[0m \u001b[1;32mnot\u001b[0m \u001b[1;32mNone\u001b[0m\u001b[1;33m:\u001b[0m\u001b[1;33m\u001b[0m\u001b[1;33m\u001b[0m\u001b[0m\n",
      "\u001b[1;31mInvalidArgumentError\u001b[0m:  Received a label value of 92 which is outside the valid range of [0, 10).  Label values: 49 62 23 10 92 92 71 51 53 58 39 2 6 16 46 46 70 70 2 14 24 8 56 19 78 79 67 69 5 45 19 8\n\t [[node sparse_categorical_crossentropy/SparseSoftmaxCrossEntropyWithLogits/SparseSoftmaxCrossEntropyWithLogits (defined at <ipython-input-28-ffaf2121415b>:9) ]] [Op:__inference_train_function_204125]\n\nFunction call stack:\ntrain_function\n"
     ]
    }
   ],
   "source": [
    "model.add(tf.keras.layers.Flatten())\n",
    "model.add(tf.keras.layers.Dense(64, activation='relu'))\n",
    "model.add(tf.keras.layers.Dense(10))\n",
    "\n",
    "model.compile(loss=tf.keras.losses.SparseCategoricalCrossentropy(from_logits=True),\n",
    "              metrics=['accuracy'])\n",
    "\n",
    "history = model.fit(images_reshaped, label_fine, epochs=10, \n",
    "                    validation_data=(test_images, test_label_fine))"
   ]
  },
  {
   "cell_type": "markdown",
   "id": "aggressive-postage",
   "metadata": {},
   "source": [
    "### Plot models traing curves "
   ]
  },
  {
   "cell_type": "code",
   "execution_count": null,
   "id": "conditional-senegal",
   "metadata": {},
   "outputs": [],
   "source": [
    "plt.plot(history.history['accuracy'], label='accuracy')\n",
    "plt.plot(history.history['val_accuracy'], label = 'val_accuracy')\n",
    "plt.xlabel('Epoch')\n",
    "plt.ylabel('Accuracy')\n",
    "plt.ylim([0.5, 1])\n",
    "plt.legend(loc='lower right')\n",
    "\n",
    "test_loss, test_acc = model.evaluate(images,  images_fine, verbose=2)\n",
    "\n",
    "print(test_acc)"
   ]
  },
  {
   "cell_type": "code",
   "execution_count": 17,
   "id": "desirable-jersey",
   "metadata": {},
   "outputs": [
    {
     "name": "stdout",
     "output_type": "stream",
     "text": [
      "Downloading data from https://www.cs.toronto.edu/~kriz/cifar-10-python.tar.gz\n",
      "170500096/170498071 [==============================] - 100s 1us/step\n",
      "Epoch 1/100\n",
      "800/800 [==============================] - 16s 19ms/step - loss: 1.8072 - accuracy: 0.3200 - val_loss: 1.3025 - val_accuracy: 0.5301\n",
      "Epoch 2/100\n",
      "800/800 [==============================] - 15s 19ms/step - loss: 1.2295 - accuracy: 0.5604 - val_loss: 1.1340 - val_accuracy: 0.5933\n",
      "Epoch 3/100\n",
      "800/800 [==============================] - 15s 19ms/step - loss: 1.0388 - accuracy: 0.6336 - val_loss: 1.0727 - val_accuracy: 0.6338\n",
      "Epoch 4/100\n",
      "800/800 [==============================] - 16s 20ms/step - loss: 0.8926 - accuracy: 0.6837 - val_loss: 0.9562 - val_accuracy: 0.6671\n",
      "Epoch 5/100\n",
      "800/800 [==============================] - 16s 19ms/step - loss: 0.7902 - accuracy: 0.7227 - val_loss: 0.9335 - val_accuracy: 0.6781\n",
      "Epoch 6/100\n",
      "800/800 [==============================] - 16s 20ms/step - loss: 0.6952 - accuracy: 0.7585 - val_loss: 0.8660 - val_accuracy: 0.7013\n",
      "Epoch 7/100\n",
      "800/800 [==============================] - 15s 19ms/step - loss: 0.6161 - accuracy: 0.7799 - val_loss: 0.8639 - val_accuracy: 0.7041\n",
      "Epoch 8/100\n",
      "800/800 [==============================] - 15s 19ms/step - loss: 0.5649 - accuracy: 0.8009 - val_loss: 0.8856 - val_accuracy: 0.7110\n",
      "Epoch 9/100\n",
      "800/800 [==============================] - 15s 19ms/step - loss: 0.4962 - accuracy: 0.8242 - val_loss: 0.8545 - val_accuracy: 0.7188\n",
      "Epoch 10/100\n",
      "800/800 [==============================] - 15s 19ms/step - loss: 0.4351 - accuracy: 0.8480 - val_loss: 0.9412 - val_accuracy: 0.7135\n",
      "Epoch 11/100\n",
      "800/800 [==============================] - 15s 19ms/step - loss: 0.3804 - accuracy: 0.8649 - val_loss: 0.9837 - val_accuracy: 0.7153\n",
      "Epoch 12/100\n",
      "800/800 [==============================] - 15s 19ms/step - loss: 0.3515 - accuracy: 0.8753 - val_loss: 0.9737 - val_accuracy: 0.7228\n",
      "Epoch 13/100\n",
      "800/800 [==============================] - 15s 19ms/step - loss: 0.2906 - accuracy: 0.8981 - val_loss: 1.0496 - val_accuracy: 0.7136\n",
      "Epoch 14/100\n",
      "800/800 [==============================] - 15s 19ms/step - loss: 0.2659 - accuracy: 0.9041 - val_loss: 1.2007 - val_accuracy: 0.6878\n",
      "Epoch 15/100\n",
      "800/800 [==============================] - 15s 19ms/step - loss: 0.2505 - accuracy: 0.9111 - val_loss: 1.2040 - val_accuracy: 0.7130\n",
      "Epoch 16/100\n",
      "800/800 [==============================] - 15s 19ms/step - loss: 0.2064 - accuracy: 0.9269 - val_loss: 1.2240 - val_accuracy: 0.7087\n",
      "Epoch 17/100\n",
      "800/800 [==============================] - 15s 19ms/step - loss: 0.1890 - accuracy: 0.9323 - val_loss: 1.2947 - val_accuracy: 0.7063\n",
      "Epoch 18/100\n",
      "800/800 [==============================] - 15s 19ms/step - loss: 0.1675 - accuracy: 0.9410 - val_loss: 1.3871 - val_accuracy: 0.7067\n",
      "Epoch 19/100\n",
      "800/800 [==============================] - 15s 19ms/step - loss: 0.1508 - accuracy: 0.9472 - val_loss: 1.4697 - val_accuracy: 0.7118\n",
      "Epoch 20/100\n",
      "800/800 [==============================] - 15s 19ms/step - loss: 0.1318 - accuracy: 0.9535 - val_loss: 1.5204 - val_accuracy: 0.6973\n",
      "Epoch 21/100\n",
      "800/800 [==============================] - 15s 19ms/step - loss: 0.1456 - accuracy: 0.9482 - val_loss: 1.5238 - val_accuracy: 0.7026\n",
      "Epoch 22/100\n",
      "800/800 [==============================] - 15s 19ms/step - loss: 0.1174 - accuracy: 0.9586 - val_loss: 1.6160 - val_accuracy: 0.6949\n",
      "Epoch 23/100\n",
      "800/800 [==============================] - 15s 19ms/step - loss: 0.1057 - accuracy: 0.9628 - val_loss: 1.7172 - val_accuracy: 0.6905\n",
      "Epoch 24/100\n",
      "800/800 [==============================] - 15s 19ms/step - loss: 0.1054 - accuracy: 0.9626 - val_loss: 1.7243 - val_accuracy: 0.6967\n",
      "Epoch 25/100\n",
      "800/800 [==============================] - 15s 19ms/step - loss: 0.1019 - accuracy: 0.9633 - val_loss: 1.7769 - val_accuracy: 0.6998\n",
      "Epoch 26/100\n",
      "800/800 [==============================] - 15s 19ms/step - loss: 0.0983 - accuracy: 0.9655 - val_loss: 1.7718 - val_accuracy: 0.7029\n",
      "Epoch 27/100\n",
      "800/800 [==============================] - 16s 20ms/step - loss: 0.0969 - accuracy: 0.9664 - val_loss: 1.9645 - val_accuracy: 0.6977\n",
      "Epoch 28/100\n",
      "800/800 [==============================] - 15s 19ms/step - loss: 0.0971 - accuracy: 0.9666 - val_loss: 1.8584 - val_accuracy: 0.7008\n",
      "Epoch 29/100\n",
      "800/800 [==============================] - 15s 19ms/step - loss: 0.1063 - accuracy: 0.9638 - val_loss: 1.9331 - val_accuracy: 0.7013\n",
      "Epoch 30/100\n",
      "800/800 [==============================] - 15s 18ms/step - loss: 0.0870 - accuracy: 0.9706 - val_loss: 2.0072 - val_accuracy: 0.6983\n",
      "Epoch 31/100\n",
      "800/800 [==============================] - 15s 19ms/step - loss: 0.1046 - accuracy: 0.9622 - val_loss: 1.9489 - val_accuracy: 0.7034\n",
      "Epoch 32/100\n",
      "800/800 [==============================] - 15s 19ms/step - loss: 0.0709 - accuracy: 0.9757 - val_loss: 1.9731 - val_accuracy: 0.7081\n",
      "Epoch 33/100\n",
      "800/800 [==============================] - 16s 20ms/step - loss: 0.0906 - accuracy: 0.9683 - val_loss: 2.0157 - val_accuracy: 0.6927\n",
      "Epoch 34/100\n",
      "800/800 [==============================] - 16s 20ms/step - loss: 0.0795 - accuracy: 0.9714 - val_loss: 2.0429 - val_accuracy: 0.6913\n",
      "Epoch 35/100\n",
      "800/800 [==============================] - 15s 19ms/step - loss: 0.0863 - accuracy: 0.9723 - val_loss: 2.0192 - val_accuracy: 0.7019\n",
      "Epoch 36/100\n",
      "800/800 [==============================] - 15s 19ms/step - loss: 0.0621 - accuracy: 0.9790 - val_loss: 2.1006 - val_accuracy: 0.7006\n",
      "Epoch 37/100\n",
      "800/800 [==============================] - 15s 19ms/step - loss: 0.0760 - accuracy: 0.9742 - val_loss: 2.1616 - val_accuracy: 0.7017\n",
      "Epoch 38/100\n",
      "800/800 [==============================] - 15s 19ms/step - loss: 0.0778 - accuracy: 0.9746 - val_loss: 2.1865 - val_accuracy: 0.7039\n",
      "Epoch 39/100\n",
      "800/800 [==============================] - 15s 19ms/step - loss: 0.0759 - accuracy: 0.9739 - val_loss: 2.1324 - val_accuracy: 0.6993\n",
      "Epoch 40/100\n",
      "800/800 [==============================] - 15s 19ms/step - loss: 0.0710 - accuracy: 0.9770 - val_loss: 2.2001 - val_accuracy: 0.7045\n",
      "Epoch 41/100\n",
      "800/800 [==============================] - 15s 19ms/step - loss: 0.0526 - accuracy: 0.9832 - val_loss: 2.3462 - val_accuracy: 0.7005\n",
      "Epoch 42/100\n",
      "800/800 [==============================] - 15s 19ms/step - loss: 0.0757 - accuracy: 0.9751 - val_loss: 2.1732 - val_accuracy: 0.7006\n",
      "Epoch 43/100\n",
      "800/800 [==============================] - 15s 19ms/step - loss: 0.0766 - accuracy: 0.9740 - val_loss: 2.2731 - val_accuracy: 0.6937\n",
      "Epoch 44/100\n",
      "800/800 [==============================] - 15s 18ms/step - loss: 0.0677 - accuracy: 0.9775 - val_loss: 2.3297 - val_accuracy: 0.6891\n",
      "Epoch 45/100\n",
      "800/800 [==============================] - 15s 18ms/step - loss: 0.0730 - accuracy: 0.9757 - val_loss: 2.2053 - val_accuracy: 0.7039\n",
      "Epoch 46/100\n",
      "800/800 [==============================] - 16s 20ms/step - loss: 0.0576 - accuracy: 0.9807 - val_loss: 2.3584 - val_accuracy: 0.6966\n",
      "Epoch 47/100\n",
      "800/800 [==============================] - 16s 20ms/step - loss: 0.0677 - accuracy: 0.9785 - val_loss: 2.2532 - val_accuracy: 0.7029\n",
      "Epoch 48/100\n",
      "800/800 [==============================] - 15s 19ms/step - loss: 0.0566 - accuracy: 0.9814 - val_loss: 2.4095 - val_accuracy: 0.6948\n",
      "Epoch 49/100\n",
      "800/800 [==============================] - 15s 19ms/step - loss: 0.0729 - accuracy: 0.9761 - val_loss: 2.3912 - val_accuracy: 0.7076\n",
      "Epoch 50/100\n",
      "800/800 [==============================] - 15s 19ms/step - loss: 0.0628 - accuracy: 0.9802 - val_loss: 2.5120 - val_accuracy: 0.6949\n",
      "Epoch 51/100\n",
      "800/800 [==============================] - 15s 19ms/step - loss: 0.0611 - accuracy: 0.9803 - val_loss: 2.4726 - val_accuracy: 0.6991\n",
      "Epoch 52/100\n",
      "800/800 [==============================] - 15s 19ms/step - loss: 0.0604 - accuracy: 0.9804 - val_loss: 2.4744 - val_accuracy: 0.7012\n",
      "Epoch 53/100\n",
      "800/800 [==============================] - 15s 19ms/step - loss: 0.0678 - accuracy: 0.9789 - val_loss: 2.5386 - val_accuracy: 0.6947\n",
      "Epoch 54/100\n",
      "800/800 [==============================] - 15s 18ms/step - loss: 0.0614 - accuracy: 0.9801 - val_loss: 2.4930 - val_accuracy: 0.6872\n",
      "Epoch 55/100\n",
      "800/800 [==============================] - 16s 19ms/step - loss: 0.0569 - accuracy: 0.9811 - val_loss: 2.4827 - val_accuracy: 0.7055\n",
      "Epoch 56/100\n"
     ]
    },
    {
     "name": "stdout",
     "output_type": "stream",
     "text": [
      "800/800 [==============================] - 15s 19ms/step - loss: 0.0568 - accuracy: 0.9812 - val_loss: 2.4485 - val_accuracy: 0.7033\n",
      "Epoch 57/100\n",
      "800/800 [==============================] - 15s 19ms/step - loss: 0.0618 - accuracy: 0.9823 - val_loss: 2.5966 - val_accuracy: 0.6930\n",
      "Epoch 58/100\n",
      "800/800 [==============================] - 16s 19ms/step - loss: 0.0584 - accuracy: 0.9814 - val_loss: 2.5133 - val_accuracy: 0.6907\n",
      "Epoch 59/100\n",
      "800/800 [==============================] - 15s 19ms/step - loss: 0.0535 - accuracy: 0.9832 - val_loss: 2.5059 - val_accuracy: 0.7000\n",
      "Epoch 60/100\n",
      "800/800 [==============================] - 15s 19ms/step - loss: 0.0686 - accuracy: 0.9777 - val_loss: 2.5473 - val_accuracy: 0.6967\n",
      "Epoch 61/100\n",
      "800/800 [==============================] - 16s 20ms/step - loss: 0.0555 - accuracy: 0.9811 - val_loss: 2.7346 - val_accuracy: 0.6966\n",
      "Epoch 62/100\n",
      "800/800 [==============================] - 16s 20ms/step - loss: 0.0567 - accuracy: 0.9817 - val_loss: 2.6146 - val_accuracy: 0.6954\n",
      "Epoch 63/100\n",
      "800/800 [==============================] - 15s 18ms/step - loss: 0.0648 - accuracy: 0.9796 - val_loss: 2.5768 - val_accuracy: 0.7034\n",
      "Epoch 64/100\n",
      "800/800 [==============================] - 16s 19ms/step - loss: 0.0524 - accuracy: 0.9825 - val_loss: 2.8185 - val_accuracy: 0.6927\n",
      "Epoch 65/100\n",
      "800/800 [==============================] - 15s 18ms/step - loss: 0.0616 - accuracy: 0.9803 - val_loss: 2.6707 - val_accuracy: 0.6936\n",
      "Epoch 66/100\n",
      "800/800 [==============================] - 15s 19ms/step - loss: 0.0671 - accuracy: 0.9795 - val_loss: 2.7958 - val_accuracy: 0.6946\n",
      "Epoch 67/100\n",
      "800/800 [==============================] - 15s 19ms/step - loss: 0.0551 - accuracy: 0.9819 - val_loss: 2.5996 - val_accuracy: 0.6998\n",
      "Epoch 68/100\n",
      "800/800 [==============================] - 15s 19ms/step - loss: 0.0616 - accuracy: 0.9806 - val_loss: 2.6517 - val_accuracy: 0.7084\n",
      "Epoch 69/100\n",
      "800/800 [==============================] - 15s 19ms/step - loss: 0.0500 - accuracy: 0.9844 - val_loss: 2.6097 - val_accuracy: 0.7043\n",
      "Epoch 70/100\n",
      "800/800 [==============================] - 15s 19ms/step - loss: 0.0394 - accuracy: 0.9873 - val_loss: 2.6211 - val_accuracy: 0.7066\n",
      "Epoch 71/100\n",
      "800/800 [==============================] - 15s 19ms/step - loss: 0.0620 - accuracy: 0.9798 - val_loss: 2.7497 - val_accuracy: 0.6864\n",
      "Epoch 72/100\n",
      "800/800 [==============================] - 15s 19ms/step - loss: 0.0549 - accuracy: 0.9825 - val_loss: 2.8480 - val_accuracy: 0.6999\n",
      "Epoch 73/100\n",
      "800/800 [==============================] - 15s 19ms/step - loss: 0.0619 - accuracy: 0.9807 - val_loss: 2.7242 - val_accuracy: 0.7027\n",
      "Epoch 74/100\n",
      "800/800 [==============================] - 15s 19ms/step - loss: 0.0456 - accuracy: 0.9850 - val_loss: 2.8348 - val_accuracy: 0.7021\n",
      "Epoch 75/100\n",
      "800/800 [==============================] - 15s 19ms/step - loss: 0.0557 - accuracy: 0.9818 - val_loss: 2.7096 - val_accuracy: 0.7022\n",
      "Epoch 76/100\n",
      "800/800 [==============================] - 15s 19ms/step - loss: 0.0406 - accuracy: 0.9874 - val_loss: 2.7022 - val_accuracy: 0.7096\n",
      "Epoch 77/100\n",
      "800/800 [==============================] - 15s 19ms/step - loss: 0.0336 - accuracy: 0.9889 - val_loss: 2.7670 - val_accuracy: 0.6993\n",
      "Epoch 78/100\n",
      "800/800 [==============================] - 15s 19ms/step - loss: 0.0550 - accuracy: 0.9833 - val_loss: 2.7076 - val_accuracy: 0.6997\n",
      "Epoch 79/100\n",
      "800/800 [==============================] - 15s 19ms/step - loss: 0.0476 - accuracy: 0.9844 - val_loss: 2.7724 - val_accuracy: 0.7042\n",
      "Epoch 80/100\n",
      "800/800 [==============================] - 15s 19ms/step - loss: 0.0511 - accuracy: 0.9844 - val_loss: 2.7309 - val_accuracy: 0.7027\n",
      "Epoch 81/100\n",
      "800/800 [==============================] - 16s 20ms/step - loss: 0.0501 - accuracy: 0.9853 - val_loss: 2.7261 - val_accuracy: 0.7039\n",
      "Epoch 82/100\n",
      "800/800 [==============================] - 15s 19ms/step - loss: 0.0440 - accuracy: 0.9862 - val_loss: 2.7593 - val_accuracy: 0.6983\n",
      "Epoch 83/100\n",
      "800/800 [==============================] - 15s 18ms/step - loss: 0.0462 - accuracy: 0.9852 - val_loss: 3.0623 - val_accuracy: 0.6786\n",
      "Epoch 84/100\n",
      "800/800 [==============================] - 15s 18ms/step - loss: 0.0595 - accuracy: 0.9825 - val_loss: 2.8446 - val_accuracy: 0.7034\n",
      "Epoch 85/100\n",
      "800/800 [==============================] - 15s 18ms/step - loss: 0.0493 - accuracy: 0.9839 - val_loss: 2.8434 - val_accuracy: 0.7003\n",
      "Epoch 86/100\n",
      "800/800 [==============================] - 15s 19ms/step - loss: 0.0397 - accuracy: 0.9869 - val_loss: 2.9335 - val_accuracy: 0.6979\n",
      "Epoch 87/100\n",
      "800/800 [==============================] - 15s 19ms/step - loss: 0.0537 - accuracy: 0.9829 - val_loss: 2.9409 - val_accuracy: 0.6979\n",
      "Epoch 88/100\n",
      "800/800 [==============================] - 16s 20ms/step - loss: 0.0385 - accuracy: 0.9888 - val_loss: 2.9353 - val_accuracy: 0.6940\n",
      "Epoch 89/100\n",
      "800/800 [==============================] - 16s 20ms/step - loss: 0.0434 - accuracy: 0.9855 - val_loss: 2.7382 - val_accuracy: 0.7013\n",
      "Epoch 90/100\n",
      "800/800 [==============================] - 15s 19ms/step - loss: 0.0340 - accuracy: 0.9893 - val_loss: 2.9863 - val_accuracy: 0.6979\n",
      "Epoch 91/100\n",
      "800/800 [==============================] - 15s 19ms/step - loss: 0.0522 - accuracy: 0.9825 - val_loss: 3.0214 - val_accuracy: 0.6995\n",
      "Epoch 92/100\n",
      "800/800 [==============================] - 15s 19ms/step - loss: 0.0543 - accuracy: 0.9833 - val_loss: 2.9140 - val_accuracy: 0.7040\n",
      "Epoch 93/100\n",
      "800/800 [==============================] - 15s 19ms/step - loss: 0.0369 - accuracy: 0.9890 - val_loss: 2.9636 - val_accuracy: 0.6905\n",
      "Epoch 94/100\n",
      "800/800 [==============================] - 15s 19ms/step - loss: 0.0660 - accuracy: 0.9810 - val_loss: 2.8654 - val_accuracy: 0.6960\n",
      "Epoch 95/100\n",
      "800/800 [==============================] - 15s 19ms/step - loss: 0.0480 - accuracy: 0.9858 - val_loss: 2.9799 - val_accuracy: 0.6973\n",
      "Epoch 96/100\n",
      "800/800 [==============================] - 15s 19ms/step - loss: 0.0561 - accuracy: 0.9834 - val_loss: 2.8937 - val_accuracy: 0.7009\n",
      "Epoch 97/100\n",
      "800/800 [==============================] - 16s 19ms/step - loss: 0.0434 - accuracy: 0.9856 - val_loss: 2.9909 - val_accuracy: 0.6958\n",
      "Epoch 98/100\n",
      "800/800 [==============================] - 15s 19ms/step - loss: 0.0393 - accuracy: 0.9881 - val_loss: 2.9633 - val_accuracy: 0.6996\n",
      "Epoch 99/100\n",
      "800/800 [==============================] - 15s 19ms/step - loss: 0.0366 - accuracy: 0.9889 - val_loss: 3.0055 - val_accuracy: 0.6953\n",
      "Epoch 100/100\n",
      "800/800 [==============================] - 15s 19ms/step - loss: 0.0445 - accuracy: 0.9863 - val_loss: 2.9491 - val_accuracy: 0.6913\n",
      "Test loss: 3.0270965099334717 / Test accuracy: 0.6906999945640564\n"
     ]
    },
    {
     "data": {
      "image/png": "[encoded data removed]",
      "text/plain": [
       "<Figure size 432x288 with 1 Axes>"
      ]
     },
     "metadata": {
      "needs_background": "light"
     },
     "output_type": "display_data"
    },
    {
     "data": {
      "image/png": "[encoded data removed]",
      "text/plain": [
       "<Figure size 432x288 with 1 Axes>"
      ]
     },
     "metadata": {
      "needs_background": "light"
     },
     "output_type": "display_data"
    }
   ],
   "source": [
    "from tensorflow.keras.datasets import cifar10\n",
    "from tensorflow.keras.models import Sequential\n",
    "from tensorflow.keras.layers import Dense, Flatten, Conv2D, MaxPooling2D\n",
    "from tensorflow.keras.losses import sparse_categorical_crossentropy\n",
    "from tensorflow.keras.optimizers import Adam\n",
    "import matplotlib.pyplot as plt\n",
    "\n",
    "# Model configuration\n",
    "batch_size = 50\n",
    "img_width, img_height, img_num_channels = 32, 32, 3\n",
    "loss_function = sparse_categorical_crossentropy\n",
    "no_classes = 10\n",
    "no_epochs = 100\n",
    "optimizer = Adam()\n",
    "validation_split = 0.2\n",
    "verbosity = 1\n",
    "\n",
    "# Load CIFAR-10 data\n",
    "(input_train, target_train), (input_test, target_test) = cifar10.load_data()\n",
    "\n",
    "# Determine shape of the data\n",
    "input_shape = (img_width, img_height, img_num_channels)\n",
    "\n",
    "# Parse numbers as floats\n",
    "input_train = input_train.astype('float32')\n",
    "input_test = input_test.astype('float32')\n",
    "\n",
    "# Normalize data\n",
    "input_train = input_train / 255\n",
    "input_test = input_test / 255\n",
    "\n",
    "# Create the model\n",
    "model = Sequential()\n",
    "model.add(Conv2D(32, kernel_size=(3, 3), activation='relu', input_shape=input_shape))\n",
    "model.add(MaxPooling2D(pool_size=(2, 2)))\n",
    "model.add(Conv2D(64, kernel_size=(3, 3), activation='relu'))\n",
    "model.add(MaxPooling2D(pool_size=(2, 2)))\n",
    "model.add(Conv2D(128, kernel_size=(3, 3), activation='relu'))\n",
    "model.add(MaxPooling2D(pool_size=(2, 2)))\n",
    "model.add(Flatten())\n",
    "model.add(Dense(256, activation='relu'))\n",
    "model.add(Dense(128, activation='relu'))\n",
    "model.add(Dense(no_classes, activation='softmax'))\n",
    "\n",
    "# Compile the model\n",
    "model.compile(loss=loss_function,\n",
    "              optimizer=optimizer,\n",
    "              metrics=['accuracy'])\n",
    "\n",
    "# Fit data to model\n",
    "history = model.fit(input_train, target_train,\n",
    "            batch_size=batch_size,\n",
    "            epochs=no_epochs,\n",
    "            verbose=verbosity,\n",
    "            validation_split=validation_split)\n",
    "\n",
    "# Generate generalization metrics\n",
    "score = model.evaluate(input_test, target_test, verbose=0)\n",
    "print(f'Test loss: {score[0]} / Test accuracy: {score[1]}')\n",
    "\n",
    "# Visualize history\n",
    "# Plot history: Loss\n",
    "plt.plot(history.history['val_loss'])\n",
    "plt.title('Validation loss history')\n",
    "plt.ylabel('Loss value')\n",
    "plt.xlabel('No. epoch')\n",
    "plt.show()\n",
    "\n",
    "# Plot history: Accuracy\n",
    "plt.plot(history.history['val_accuracy'])\n",
    "plt.title('Validation accuracy history')\n",
    "plt.ylabel('Accuracy value (%)')\n",
    "plt.xlabel('No. epoch')\n",
    "plt.show()"
   ]
  },
  {
   "cell_type": "code",
   "execution_count": 18,
   "id": "improving-alias",
   "metadata": {},
   "outputs": [
    {
     "ename": "ValueError",
     "evalue": "Data cardinality is ambiguous:\n  x sizes: 32\n  y sizes: 10000\nMake sure all arrays contain the same number of samples.",
     "output_type": "error",
     "traceback": [
      "\u001b[1;31m---------------------------------------------------------------------------\u001b[0m",
      "\u001b[1;31mValueError\u001b[0m                                Traceback (most recent call last)",
      "\u001b[1;32m<ipython-input-18-d29b5356e755>\u001b[0m in \u001b[0;36m<module>\u001b[1;34m\u001b[0m\n\u001b[1;32m----> 1\u001b[1;33m \u001b[0mscore\u001b[0m \u001b[1;33m=\u001b[0m \u001b[0mmodel\u001b[0m\u001b[1;33m.\u001b[0m\u001b[0mevaluate\u001b[0m\u001b[1;33m(\u001b[0m\u001b[0mtest_images\u001b[0m\u001b[1;33m,\u001b[0m \u001b[0mtest_label_fine\u001b[0m\u001b[1;33m,\u001b[0m \u001b[0mverbose\u001b[0m\u001b[1;33m=\u001b[0m\u001b[1;36m0\u001b[0m\u001b[1;33m)\u001b[0m\u001b[1;33m\u001b[0m\u001b[1;33m\u001b[0m\u001b[0m\n\u001b[0m",
      "\u001b[1;32mc:\\users\\lizks\\appdata\\local\\programs\\python\\python37\\lib\\site-packages\\tensorflow\\python\\keras\\engine\\training.py\u001b[0m in \u001b[0;36mevaluate\u001b[1;34m(self, x, y, batch_size, verbose, sample_weight, steps, callbacks, max_queue_size, workers, use_multiprocessing, return_dict)\u001b[0m\n\u001b[0;32m   1364\u001b[0m             \u001b[0muse_multiprocessing\u001b[0m\u001b[1;33m=\u001b[0m\u001b[0muse_multiprocessing\u001b[0m\u001b[1;33m,\u001b[0m\u001b[1;33m\u001b[0m\u001b[1;33m\u001b[0m\u001b[0m\n\u001b[0;32m   1365\u001b[0m             \u001b[0mmodel\u001b[0m\u001b[1;33m=\u001b[0m\u001b[0mself\u001b[0m\u001b[1;33m,\u001b[0m\u001b[1;33m\u001b[0m\u001b[1;33m\u001b[0m\u001b[0m\n\u001b[1;32m-> 1366\u001b[1;33m             steps_per_execution=self._steps_per_execution)\n\u001b[0m\u001b[0;32m   1367\u001b[0m \u001b[1;33m\u001b[0m\u001b[0m\n\u001b[0;32m   1368\u001b[0m       \u001b[1;31m# Container that configures and calls `tf.keras.Callback`s.\u001b[0m\u001b[1;33m\u001b[0m\u001b[1;33m\u001b[0m\u001b[1;33m\u001b[0m\u001b[0m\n",
      "\u001b[1;32mc:\\users\\lizks\\appdata\\local\\programs\\python\\python37\\lib\\site-packages\\tensorflow\\python\\keras\\engine\\data_adapter.py\u001b[0m in \u001b[0;36m__init__\u001b[1;34m(self, x, y, sample_weight, batch_size, steps_per_epoch, initial_epoch, epochs, shuffle, class_weight, max_queue_size, workers, use_multiprocessing, model, steps_per_execution)\u001b[0m\n\u001b[0;32m   1110\u001b[0m         \u001b[0muse_multiprocessing\u001b[0m\u001b[1;33m=\u001b[0m\u001b[0muse_multiprocessing\u001b[0m\u001b[1;33m,\u001b[0m\u001b[1;33m\u001b[0m\u001b[1;33m\u001b[0m\u001b[0m\n\u001b[0;32m   1111\u001b[0m         \u001b[0mdistribution_strategy\u001b[0m\u001b[1;33m=\u001b[0m\u001b[0mds_context\u001b[0m\u001b[1;33m.\u001b[0m\u001b[0mget_strategy\u001b[0m\u001b[1;33m(\u001b[0m\u001b[1;33m)\u001b[0m\u001b[1;33m,\u001b[0m\u001b[1;33m\u001b[0m\u001b[1;33m\u001b[0m\u001b[0m\n\u001b[1;32m-> 1112\u001b[1;33m         model=model)\n\u001b[0m\u001b[0;32m   1113\u001b[0m \u001b[1;33m\u001b[0m\u001b[0m\n\u001b[0;32m   1114\u001b[0m     \u001b[0mstrategy\u001b[0m \u001b[1;33m=\u001b[0m \u001b[0mds_context\u001b[0m\u001b[1;33m.\u001b[0m\u001b[0mget_strategy\u001b[0m\u001b[1;33m(\u001b[0m\u001b[1;33m)\u001b[0m\u001b[1;33m\u001b[0m\u001b[1;33m\u001b[0m\u001b[0m\n",
      "\u001b[1;32mc:\\users\\lizks\\appdata\\local\\programs\\python\\python37\\lib\\site-packages\\tensorflow\\python\\keras\\engine\\data_adapter.py\u001b[0m in \u001b[0;36m__init__\u001b[1;34m(self, x, y, sample_weights, sample_weight_modes, batch_size, epochs, steps, shuffle, **kwargs)\u001b[0m\n\u001b[0;32m    272\u001b[0m \u001b[1;33m\u001b[0m\u001b[0m\n\u001b[0;32m    273\u001b[0m     \u001b[0mnum_samples\u001b[0m \u001b[1;33m=\u001b[0m \u001b[0mset\u001b[0m\u001b[1;33m(\u001b[0m\u001b[0mint\u001b[0m\u001b[1;33m(\u001b[0m\u001b[0mi\u001b[0m\u001b[1;33m.\u001b[0m\u001b[0mshape\u001b[0m\u001b[1;33m[\u001b[0m\u001b[1;36m0\u001b[0m\u001b[1;33m]\u001b[0m\u001b[1;33m)\u001b[0m \u001b[1;32mfor\u001b[0m \u001b[0mi\u001b[0m \u001b[1;32min\u001b[0m \u001b[0mnest\u001b[0m\u001b[1;33m.\u001b[0m\u001b[0mflatten\u001b[0m\u001b[1;33m(\u001b[0m\u001b[0minputs\u001b[0m\u001b[1;33m)\u001b[0m\u001b[1;33m)\u001b[0m\u001b[1;33m.\u001b[0m\u001b[0mpop\u001b[0m\u001b[1;33m(\u001b[0m\u001b[1;33m)\u001b[0m\u001b[1;33m\u001b[0m\u001b[1;33m\u001b[0m\u001b[0m\n\u001b[1;32m--> 274\u001b[1;33m     \u001b[0m_check_data_cardinality\u001b[0m\u001b[1;33m(\u001b[0m\u001b[0minputs\u001b[0m\u001b[1;33m)\u001b[0m\u001b[1;33m\u001b[0m\u001b[1;33m\u001b[0m\u001b[0m\n\u001b[0m\u001b[0;32m    275\u001b[0m \u001b[1;33m\u001b[0m\u001b[0m\n\u001b[0;32m    276\u001b[0m     \u001b[1;31m# If batch_size is not passed but steps is, calculate from the input data.\u001b[0m\u001b[1;33m\u001b[0m\u001b[1;33m\u001b[0m\u001b[1;33m\u001b[0m\u001b[0m\n",
      "\u001b[1;32mc:\\users\\lizks\\appdata\\local\\programs\\python\\python37\\lib\\site-packages\\tensorflow\\python\\keras\\engine\\data_adapter.py\u001b[0m in \u001b[0;36m_check_data_cardinality\u001b[1;34m(data)\u001b[0m\n\u001b[0;32m   1527\u001b[0m           label, \", \".join(str(i.shape[0]) for i in nest.flatten(single_data)))\n\u001b[0;32m   1528\u001b[0m     \u001b[0mmsg\u001b[0m \u001b[1;33m+=\u001b[0m \u001b[1;34m\"Make sure all arrays contain the same number of samples.\"\u001b[0m\u001b[1;33m\u001b[0m\u001b[1;33m\u001b[0m\u001b[0m\n\u001b[1;32m-> 1529\u001b[1;33m     \u001b[1;32mraise\u001b[0m \u001b[0mValueError\u001b[0m\u001b[1;33m(\u001b[0m\u001b[0mmsg\u001b[0m\u001b[1;33m)\u001b[0m\u001b[1;33m\u001b[0m\u001b[1;33m\u001b[0m\u001b[0m\n\u001b[0m\u001b[0;32m   1530\u001b[0m \u001b[1;33m\u001b[0m\u001b[0m\n\u001b[0;32m   1531\u001b[0m \u001b[1;33m\u001b[0m\u001b[0m\n",
      "\u001b[1;31mValueError\u001b[0m: Data cardinality is ambiguous:\n  x sizes: 32\n  y sizes: 10000\nMake sure all arrays contain the same number of samples."
     ]
    }
   ],
   "source": [
    "score = model.evaluate(test_images, test_label_fine, verbose=0)"
   ]
  },
  {
   "cell_type": "code",
   "execution_count": null,
   "id": "seven-wiring",
   "metadata": {},
   "outputs": [],
   "source": []
  }
 ],
 "metadata": {
  "kernelspec": {
   "display_name": "Python 3",
   "language": "python",
   "name": "python3"
  },
  "language_info": {
   "codemirror_mode": {
    "name": "ipython",
    "version": 3
   },
   "file_extension": ".py",
   "mimetype": "text/x-python",
   "name": "python",
   "nbconvert_exporter": "python",
   "pygments_lexer": "ipython3",
   "version": "3.7.7"
  }
 },
 "nbformat": 4,
 "nbformat_minor": 5
}
