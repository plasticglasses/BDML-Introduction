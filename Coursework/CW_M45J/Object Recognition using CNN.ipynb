{
 "cells": [
  {
   "cell_type": "markdown",
   "id": "ordered-recorder",
   "metadata": {},
   "source": [
    "# CW1 - Object Recognition using CNN\n",
    "To apply machine learning alorithms to clasify the testing images into object categories. Then use a model to perform classification and report quantitative results.\n",
    "\n",
    "Due: Monday 19th April"
   ]
  },
  {
   "cell_type": "markdown",
   "id": "norwegian-karma",
   "metadata": {},
   "source": [
    "# Introduction"
   ]
  },
  {
   "cell_type": "markdown",
   "id": "leading-turning",
   "metadata": {},
   "source": [
    "The aim is to evaluate the use of CNN's in image recognition and the affect of adding multiple layers."
   ]
  },
  {
   "cell_type": "markdown",
   "id": "alpha-negotiation",
   "metadata": {},
   "source": [
    "# Imports "
   ]
  },
  {
   "cell_type": "code",
   "execution_count": 1,
   "id": "modified-demographic",
   "metadata": {},
   "outputs": [],
   "source": [
    "import numpy as np\n",
    "from numpy import load\n",
    "from numpy import asarray\n",
    "from numpy import save\n",
    "import matplotlib.pyplot as plt\n",
    "import tensorflow as tf\n",
    "import skimage.feature\n",
    "from sklearn.utils import shuffle\n",
    "from sklearn.model_selection import train_test_split"
   ]
  },
  {
   "cell_type": "markdown",
   "id": "moving-democracy",
   "metadata": {},
   "source": [
    "# Load Data\n",
    "There are 100 different categories of objects\n",
    "each has 500 images for training and 100 images for testing.\n",
    "Split the data into train and test sections"
   ]
  },
  {
   "cell_type": "code",
   "execution_count": 2,
   "id": "recovered-longer",
   "metadata": {},
   "outputs": [
    {
     "name": "stdout",
     "output_type": "stream",
     "text": [
      "Images Shape: (32, 32, 3, 50000)\n",
      "Train Labels Fine Shape: (50000,)\n",
      "Train Labels Coarse Shape: (50000,)\n"
     ]
    }
   ],
   "source": [
    "images = np.load('trnImage.npy')\n",
    "label_fine = np.load('trnLabel_fine.npy')\n",
    "label_coarse = np.load('trnLabel_coarse.npy')\n",
    "\n",
    "#image_index = 1 # pick a specific image\n",
    "#image = images[:, :, :, image_index]\n",
    "\n",
    "test_images = np.load('tstImage.npy')\n",
    "test_label_fine = np.load('tstLabel_fine.npy')\n",
    "test_label_coarse = np.load('tstLabel_coarse.npy')\n",
    "\n",
    "print(f'Images Shape: {images.shape}')\n",
    "print(f'Train Labels Fine Shape: {label_fine.shape}')\n",
    "print(f'Train Labels Coarse Shape: {label_coarse.shape}')"
   ]
  },
  {
   "cell_type": "markdown",
   "id": "increasing-wright",
   "metadata": {},
   "source": [
    "## Shuffle data to ensure not ordered"
   ]
  },
  {
   "cell_type": "code",
   "execution_count": 3,
   "id": "martial-orlando",
   "metadata": {},
   "outputs": [],
   "source": [
    "images = shuffle(images, random_state=0)\n",
    "label_fine, label_coarse = shuffle(label_fine, label_coarse, random_state=0) #make sure the samples are not ordered\n",
    "\n",
    "\n",
    "test_images = shuffle(test_images, random_state=0)\n",
    "test_label_fine, test_label_coarse = shuffle(test_label_fine, test_label_coarse, random_state=0)"
   ]
  },
  {
   "cell_type": "markdown",
   "id": "looking-chain",
   "metadata": {},
   "source": [
    "# CNN"
   ]
  },
  {
   "cell_type": "markdown",
   "id": "rotary-constraint",
   "metadata": {},
   "source": [
    "## Normalise the data, for each image do a hog, add how to array, train images"
   ]
  },
  {
   "cell_type": "code",
   "execution_count": 4,
   "id": "banner-psychiatry",
   "metadata": {},
   "outputs": [
    {
     "name": "stdout",
     "output_type": "stream",
     "text": [
      "(50000, 32, 32)\n"
     ]
    }
   ],
   "source": [
    "try:\n",
    "    train_images_normalised = load('hog_array_train.npy')\n",
    "    print(train_images_normalised.shape)\n",
    "except FileNotFoundError: \n",
    "    \n",
    "    train_images_normalised = []\n",
    "    \n",
    "    for image_index in range(0, images.shape[3]):\n",
    "        print(image_index, images.shape[3])\n",
    "        image = images[:, :, :, image_index]\n",
    "\n",
    "        # Extract features from a single image\n",
    "        _, hog_image = skimage.feature.hog(image, pixels_per_cell=[2,2], cells_per_block=[3,3], visualize=True)\n",
    "        train_images_normalised.append(hog_image)\n",
    "        \n",
    "    train_images_output = np.array(train_images_normalised)\n",
    "    data = asarray(train_images_output)\n",
    "        # save to npy file\n",
    "    save('hog_array_train.npy', data)\n",
    "    "
   ]
  },
  {
   "cell_type": "code",
   "execution_count": 5,
   "id": "absolute-arrival",
   "metadata": {},
   "outputs": [
    {
     "name": "stdout",
     "output_type": "stream",
     "text": [
      "(10000, 32, 32)\n"
     ]
    }
   ],
   "source": [
    "try:\n",
    "    test_images_normalised = load('hog_array_test.npy')\n",
    "    print(test_images_normalised.shape)\n",
    "    \n",
    "except: \n",
    "    test_images_normalised = []\n",
    "    for image_index in range(0, test_images.shape[3]):\n",
    "        print(image_index, test_images.shape[3])\n",
    "        image = test_images[:, :, :, image_index]\n",
    "\n",
    "        # Extract features from a single image\n",
    "        _, hog_image = skimage.feature.hog(image, pixels_per_cell=[2,2], cells_per_block=[3,3], visualize=True)\n",
    "        test_images_normalised.append(hog_image)\n",
    "\n",
    "    train_images_output = np.array(test_images_normalised)\n",
    "    data = asarray(train_images_output)\n",
    "    save('hog_array_test.npy', data)"
   ]
  },
  {
   "cell_type": "markdown",
   "id": "excessive-guyana",
   "metadata": {},
   "source": [
    "## Check the Data cardinality"
   ]
  },
  {
   "cell_type": "code",
   "execution_count": 6,
   "id": "assumed-greeting",
   "metadata": {},
   "outputs": [
    {
     "name": "stdout",
     "output_type": "stream",
     "text": [
      "train shape (50000, 32, 32, 1)\n",
      "test shape (10000, 32, 32, 1)\n",
      "\n",
      "coarse shape (50000,)\n",
      "fine shape (50000,)\n",
      "\n",
      "Unique Fine labels 100\n",
      "unique Coarse Labels 20\n"
     ]
    }
   ],
   "source": [
    "train_images_reshaped = train_images_normalised.reshape(50000, 32, 32, 1)\n",
    "test_images_reshaped = test_images_normalised.reshape(10000, 32, 32, 1)\n",
    "\n",
    "print(\"train shape \" + str(train_images_reshaped.shape))\n",
    "print(\"test shape \" + str(test_images_reshaped.shape) + \"\\n\")\n",
    "\n",
    "print(\"coarse shape \" + str(label_coarse.shape))\n",
    "print(\"fine shape \" + str(label_fine.shape)+ \"\\n\")\n",
    "\n",
    "output_num_fine = (np.unique(label_fine).shape[0])\n",
    "print(\"Unique Fine labels \" + str(output_num_fine))\n",
    "\n",
    "output_num_coarse = (np.unique(label_coarse).shape[0])\n",
    "print(\"unique Coarse Labels \" + str(output_num_coarse))\n"
   ]
  },
  {
   "cell_type": "markdown",
   "id": "exceptional-thing",
   "metadata": {},
   "source": [
    "## Split Training data into a train and test split"
   ]
  },
  {
   "cell_type": "code",
   "execution_count": 7,
   "id": "intensive-northeast",
   "metadata": {},
   "outputs": [],
   "source": [
    "xTrn_split, xTst_split, yTrn_split, yTst_split = train_test_split(train_images_reshaped, label_coarse, test_size=0.2)"
   ]
  },
  {
   "cell_type": "markdown",
   "id": "unauthorized-opportunity",
   "metadata": {},
   "source": [
    "## Create a Tensorflow Convolutional Neural Network on the training set using Conv2D and pooling Layers"
   ]
  },
  {
   "cell_type": "code",
   "execution_count": 20,
   "id": "interior-penetration",
   "metadata": {},
   "outputs": [
    {
     "name": "stdout",
     "output_type": "stream",
     "text": [
      "Model: \"sequential_2\"\n",
      "_________________________________________________________________\n",
      "Layer (type)                 Output Shape              Param #   \n",
      "=================================================================\n",
      "conv2d_3 (Conv2D)            (None, 30, 30, 32)        320       \n",
      "_________________________________________________________________\n",
      "max_pooling2d_3 (MaxPooling2 (None, 15, 15, 32)        0         \n",
      "_________________________________________________________________\n",
      "conv2d_4 (Conv2D)            (None, 13, 13, 32)        9248      \n",
      "_________________________________________________________________\n",
      "max_pooling2d_4 (MaxPooling2 (None, 6, 6, 32)          0         \n",
      "=================================================================\n",
      "Total params: 9,568\n",
      "Trainable params: 9,568\n",
      "Non-trainable params: 0\n",
      "_________________________________________________________________\n"
     ]
    }
   ],
   "source": [
    "model = tf.keras.Sequential()\n",
    "model.add(tf.keras.layers.Conv2D(32, (3, 3), activation='relu', input_shape=(32, 32, 1)))\n",
    "model.add(tf.keras.layers.MaxPooling2D((2, 2)))\n",
    "model.add(tf.keras.layers.Conv2D(32, (3, 3), activation='selu', input_shape=(32, 32, 1)))\n",
    "model.add(tf.keras.layers.MaxPooling2D((2, 2)))\n",
    "model.summary()"
   ]
  },
  {
   "cell_type": "markdown",
   "id": "sealed-coffee",
   "metadata": {},
   "source": [
    "## Train and fit the model\n",
    "\n",
    "softmax - sed as the last activation function of a neural network to normalize the output of a network"
   ]
  },
  {
   "cell_type": "code",
   "execution_count": 21,
   "id": "waiting-ivory",
   "metadata": {},
   "outputs": [],
   "source": [
    "model.add(tf.keras.layers.Flatten()) #dense layers can oinly have 1d so flattern araray to one dimension\n",
    "model.add(tf.keras.layers.Dense(64, activation='relu'))\n",
    "model.add(tf.keras.layers.Dense(64, activation='selu'))\n",
    "model.add(tf.keras.layers.Dense(output_num_coarse, activation='softmax'))\n",
    "\n",
    "model.compile(loss=tf.keras.losses.SparseCategoricalCrossentropy(from_logits=True),\n",
    "              metrics=['accuracy'])"
   ]
  },
  {
   "cell_type": "code",
   "execution_count": 22,
   "id": "collectible-reservation",
   "metadata": {},
   "outputs": [
    {
     "name": "stdout",
     "output_type": "stream",
     "text": [
      "Epoch 1/100\n",
      "1250/1250 [==============================] - 11s 9ms/step - loss: 3.0002 - accuracy: 0.0515 - val_loss: 2.9965 - val_accuracy: 0.0475\n",
      "Epoch 2/100\n",
      "1250/1250 [==============================] - 10s 8ms/step - loss: 2.9972 - accuracy: 0.0473 - val_loss: 2.9980 - val_accuracy: 0.0494\n",
      "Epoch 3/100\n",
      "1250/1250 [==============================] - 11s 8ms/step - loss: 2.9968 - accuracy: 0.0513 - val_loss: 2.9980 - val_accuracy: 0.0528\n",
      "Epoch 4/100\n",
      "1250/1250 [==============================] - 11s 9ms/step - loss: 2.9970 - accuracy: 0.0483 - val_loss: 2.9979 - val_accuracy: 0.0484\n",
      "Epoch 5/100\n",
      "1250/1250 [==============================] - 11s 8ms/step - loss: 2.9960 - accuracy: 0.0513 - val_loss: 2.9965 - val_accuracy: 0.0486\n",
      "Epoch 6/100\n",
      "1250/1250 [==============================] - 11s 8ms/step - loss: 2.9948 - accuracy: 0.0530 - val_loss: 3.0020 - val_accuracy: 0.0512\n",
      "Epoch 7/100\n",
      "1250/1250 [==============================] - 10s 8ms/step - loss: 2.9926 - accuracy: 0.0553 - val_loss: 3.0075 - val_accuracy: 0.0498\n",
      "Epoch 8/100\n",
      "1250/1250 [==============================] - 10s 8ms/step - loss: 2.9864 - accuracy: 0.0591 - val_loss: 3.0085 - val_accuracy: 0.0505\n",
      "Epoch 9/100\n",
      "1250/1250 [==============================] - 10s 8ms/step - loss: 2.9760 - accuracy: 0.0675 - val_loss: 3.0116 - val_accuracy: 0.0484\n",
      "Epoch 10/100\n",
      "1250/1250 [==============================] - 10s 8ms/step - loss: 2.9584 - accuracy: 0.0750 - val_loss: 3.0245 - val_accuracy: 0.0501\n",
      "Epoch 11/100\n",
      "1250/1250 [==============================] - 10s 8ms/step - loss: 2.9331 - accuracy: 0.0854 - val_loss: 3.0424 - val_accuracy: 0.0503\n",
      "Epoch 12/100\n",
      "1250/1250 [==============================] - 10s 8ms/step - loss: 2.8971 - accuracy: 0.1019 - val_loss: 3.0730 - val_accuracy: 0.0494\n",
      "Epoch 13/100\n",
      "1250/1250 [==============================] - 10s 8ms/step - loss: 2.8571 - accuracy: 0.1146 - val_loss: 3.0980 - val_accuracy: 0.0488\n",
      "Epoch 14/100\n",
      "1250/1250 [==============================] - 10s 8ms/step - loss: 2.8049 - accuracy: 0.1373 - val_loss: 3.1271 - val_accuracy: 0.0523\n",
      "Epoch 15/100\n",
      "1250/1250 [==============================] - 10s 8ms/step - loss: 2.7535 - accuracy: 0.1494 - val_loss: 3.2310 - val_accuracy: 0.0513\n",
      "Epoch 16/100\n",
      "1250/1250 [==============================] - 10s 8ms/step - loss: 2.6964 - accuracy: 0.1659 - val_loss: 3.3153 - val_accuracy: 0.0505\n",
      "Epoch 17/100\n",
      "1250/1250 [==============================] - 10s 8ms/step - loss: 2.6421 - accuracy: 0.1818 - val_loss: 3.3356 - val_accuracy: 0.0500\n",
      "Epoch 18/100\n",
      "1250/1250 [==============================] - 10s 8ms/step - loss: 2.5899 - accuracy: 0.2020 - val_loss: 3.4653 - val_accuracy: 0.0502\n",
      "Epoch 19/100\n",
      "1250/1250 [==============================] - 10s 8ms/step - loss: 2.5375 - accuracy: 0.2176 - val_loss: 3.4324 - val_accuracy: 0.0485\n",
      "Epoch 20/100\n",
      "1250/1250 [==============================] - 10s 8ms/step - loss: 2.4976 - accuracy: 0.2242 - val_loss: 3.5959 - val_accuracy: 0.0515\n",
      "Epoch 21/100\n",
      "1250/1250 [==============================] - 11s 9ms/step - loss: 2.4390 - accuracy: 0.2447 - val_loss: 3.6289 - val_accuracy: 0.0541\n",
      "Epoch 22/100\n",
      "1250/1250 [==============================] - 11s 9ms/step - loss: 2.4040 - accuracy: 0.2517 - val_loss: 3.6954 - val_accuracy: 0.0508\n",
      "Epoch 23/100\n",
      "1250/1250 [==============================] - 12s 9ms/step - loss: 2.3668 - accuracy: 0.2688 - val_loss: 3.8031 - val_accuracy: 0.0516\n",
      "Epoch 24/100\n",
      "1250/1250 [==============================] - 11s 8ms/step - loss: 2.3261 - accuracy: 0.2812 - val_loss: 3.7732 - val_accuracy: 0.0500\n",
      "Epoch 25/100\n",
      "1250/1250 [==============================] - 11s 8ms/step - loss: 2.2956 - accuracy: 0.2853 - val_loss: 4.0271 - val_accuracy: 0.0504\n",
      "Epoch 26/100\n",
      "1250/1250 [==============================] - 11s 9ms/step - loss: 2.2498 - accuracy: 0.3000 - val_loss: 4.0165 - val_accuracy: 0.0477\n",
      "Epoch 27/100\n",
      "1250/1250 [==============================] - 11s 9ms/step - loss: 2.2160 - accuracy: 0.3115 - val_loss: 4.1585 - val_accuracy: 0.0469\n",
      "Epoch 28/100\n",
      "1250/1250 [==============================] - 11s 9ms/step - loss: 2.1851 - accuracy: 0.3190 - val_loss: 4.2409 - val_accuracy: 0.0504\n",
      "Epoch 29/100\n",
      "1250/1250 [==============================] - 11s 9ms/step - loss: 2.1685 - accuracy: 0.3254 - val_loss: 4.3005 - val_accuracy: 0.0477\n",
      "Epoch 30/100\n",
      "1250/1250 [==============================] - 11s 9ms/step - loss: 2.1225 - accuracy: 0.3395 - val_loss: 4.2549 - val_accuracy: 0.0504\n",
      "Epoch 31/100\n",
      "1250/1250 [==============================] - 11s 8ms/step - loss: 2.0946 - accuracy: 0.3451 - val_loss: 4.4502 - val_accuracy: 0.0486\n",
      "Epoch 32/100\n",
      "1250/1250 [==============================] - 11s 9ms/step - loss: 2.0646 - accuracy: 0.3533 - val_loss: 4.5981 - val_accuracy: 0.0485\n",
      "Epoch 33/100\n",
      "1250/1250 [==============================] - 11s 9ms/step - loss: 2.0393 - accuracy: 0.3568 - val_loss: 4.4448 - val_accuracy: 0.0494\n",
      "Epoch 34/100\n",
      "1250/1250 [==============================] - 11s 9ms/step - loss: 2.0239 - accuracy: 0.3637 - val_loss: 4.6779 - val_accuracy: 0.0519\n",
      "Epoch 35/100\n",
      "1250/1250 [==============================] - 11s 8ms/step - loss: 1.9896 - accuracy: 0.3756 - val_loss: 4.6965 - val_accuracy: 0.0504\n",
      "Epoch 36/100\n",
      "1250/1250 [==============================] - 10s 8ms/step - loss: 1.9752 - accuracy: 0.3780 - val_loss: 4.8617 - val_accuracy: 0.0489\n",
      "Epoch 37/100\n",
      "1250/1250 [==============================] - 11s 8ms/step - loss: 1.9640 - accuracy: 0.3797 - val_loss: 4.9868 - val_accuracy: 0.0519\n",
      "Epoch 38/100\n",
      "1250/1250 [==============================] - 10s 8ms/step - loss: 1.9405 - accuracy: 0.3848 - val_loss: 4.9131 - val_accuracy: 0.0482\n",
      "Epoch 39/100\n",
      "1250/1250 [==============================] - 10s 8ms/step - loss: 1.9234 - accuracy: 0.3935 - val_loss: 4.9404 - val_accuracy: 0.0488\n",
      "Epoch 40/100\n",
      "1250/1250 [==============================] - 10s 8ms/step - loss: 1.9152 - accuracy: 0.3875 - val_loss: 5.2300 - val_accuracy: 0.0518\n",
      "Epoch 41/100\n",
      "1250/1250 [==============================] - 11s 9ms/step - loss: 1.8852 - accuracy: 0.3981 - val_loss: 5.3239 - val_accuracy: 0.0504\n",
      "Epoch 42/100\n",
      "1250/1250 [==============================] - 10s 8ms/step - loss: 1.8713 - accuracy: 0.4041 - val_loss: 5.1603 - val_accuracy: 0.0499\n",
      "Epoch 43/100\n",
      "1250/1250 [==============================] - 10s 8ms/step - loss: 1.8494 - accuracy: 0.4111 - val_loss: 5.3541 - val_accuracy: 0.0485\n",
      "Epoch 44/100\n",
      "1250/1250 [==============================] - 11s 9ms/step - loss: 1.8342 - accuracy: 0.4180 - val_loss: 5.3834 - val_accuracy: 0.0484\n",
      "Epoch 45/100\n",
      "1250/1250 [==============================] - 10s 8ms/step - loss: 1.8213 - accuracy: 0.4183 - val_loss: 5.6218 - val_accuracy: 0.0511\n",
      "Epoch 46/100\n",
      "1250/1250 [==============================] - 10s 8ms/step - loss: 1.8208 - accuracy: 0.4190 - val_loss: 5.5524 - val_accuracy: 0.0499\n",
      "Epoch 47/100\n",
      "1250/1250 [==============================] - 10s 8ms/step - loss: 1.7908 - accuracy: 0.4270 - val_loss: 5.7564 - val_accuracy: 0.0539\n",
      "Epoch 48/100\n",
      "1250/1250 [==============================] - 11s 9ms/step - loss: 1.7738 - accuracy: 0.4361 - val_loss: 5.7214 - val_accuracy: 0.0493\n",
      "Epoch 49/100\n",
      "1250/1250 [==============================] - 10s 8ms/step - loss: 1.7623 - accuracy: 0.4366 - val_loss: 5.9755 - val_accuracy: 0.0481\n",
      "Epoch 50/100\n",
      "1250/1250 [==============================] - 11s 8ms/step - loss: 1.7467 - accuracy: 0.4427 - val_loss: 6.0822 - val_accuracy: 0.0482\n",
      "Epoch 51/100\n",
      "1250/1250 [==============================] - 11s 8ms/step - loss: 1.7505 - accuracy: 0.4435 - val_loss: 6.0223 - val_accuracy: 0.0505\n",
      "Epoch 52/100\n",
      "1250/1250 [==============================] - 11s 8ms/step - loss: 1.7383 - accuracy: 0.4423 - val_loss: 5.9855 - val_accuracy: 0.0491\n",
      "Epoch 53/100\n",
      "1250/1250 [==============================] - 10s 8ms/step - loss: 1.7319 - accuracy: 0.4482 - val_loss: 6.1829 - val_accuracy: 0.0462\n",
      "Epoch 54/100\n",
      "1250/1250 [==============================] - 10s 8ms/step - loss: 1.7048 - accuracy: 0.4516 - val_loss: 6.4471 - val_accuracy: 0.0493\n",
      "Epoch 55/100\n",
      "1250/1250 [==============================] - 11s 8ms/step - loss: 1.7038 - accuracy: 0.4528 - val_loss: 6.7413 - val_accuracy: 0.0528\n",
      "Epoch 56/100\n",
      "1250/1250 [==============================] - 11s 8ms/step - loss: 1.6851 - accuracy: 0.4598 - val_loss: 6.4619 - val_accuracy: 0.0493\n"
     ]
    },
    {
     "name": "stdout",
     "output_type": "stream",
     "text": [
      "Epoch 57/100\n",
      "1250/1250 [==============================] - 11s 9ms/step - loss: 1.6774 - accuracy: 0.4592 - val_loss: 6.4814 - val_accuracy: 0.0497\n",
      "Epoch 58/100\n",
      "1250/1250 [==============================] - 10s 8ms/step - loss: 1.6671 - accuracy: 0.4646 - val_loss: 6.8221 - val_accuracy: 0.0497\n",
      "Epoch 59/100\n",
      "1250/1250 [==============================] - 10s 8ms/step - loss: 1.6535 - accuracy: 0.4701 - val_loss: 6.9301 - val_accuracy: 0.0494\n",
      "Epoch 60/100\n",
      "1250/1250 [==============================] - 11s 8ms/step - loss: 1.6531 - accuracy: 0.4625 - val_loss: 6.9244 - val_accuracy: 0.0486\n",
      "Epoch 61/100\n",
      "1250/1250 [==============================] - 11s 8ms/step - loss: 1.6352 - accuracy: 0.4726 - val_loss: 7.2241 - val_accuracy: 0.0489\n",
      "Epoch 62/100\n",
      "1250/1250 [==============================] - 11s 8ms/step - loss: 1.6355 - accuracy: 0.4685 - val_loss: 6.8408 - val_accuracy: 0.0513\n",
      "Epoch 63/100\n",
      "1250/1250 [==============================] - 10s 8ms/step - loss: 1.6268 - accuracy: 0.4785 - val_loss: 7.1285 - val_accuracy: 0.0486\n",
      "Epoch 64/100\n",
      "1250/1250 [==============================] - 10s 8ms/step - loss: 1.6133 - accuracy: 0.4800 - val_loss: 7.2472 - val_accuracy: 0.0491\n",
      "Epoch 65/100\n",
      "1250/1250 [==============================] - 10s 8ms/step - loss: 1.6043 - accuracy: 0.4837 - val_loss: 7.3653 - val_accuracy: 0.0488\n",
      "Epoch 66/100\n",
      "1250/1250 [==============================] - 10s 8ms/step - loss: 1.5966 - accuracy: 0.4788 - val_loss: 7.4337 - val_accuracy: 0.0515\n",
      "Epoch 67/100\n",
      "1250/1250 [==============================] - 10s 8ms/step - loss: 1.5893 - accuracy: 0.4843 - val_loss: 7.4389 - val_accuracy: 0.0504\n",
      "Epoch 68/100\n",
      "1250/1250 [==============================] - 11s 9ms/step - loss: 1.6000 - accuracy: 0.4778 - val_loss: 7.7356 - val_accuracy: 0.0491\n",
      "Epoch 69/100\n",
      "1250/1250 [==============================] - 10s 8ms/step - loss: 1.5735 - accuracy: 0.4915 - val_loss: 7.7897 - val_accuracy: 0.0502\n",
      "Epoch 70/100\n",
      "1250/1250 [==============================] - 10s 8ms/step - loss: 1.5759 - accuracy: 0.4882 - val_loss: 8.0084 - val_accuracy: 0.0462\n",
      "Epoch 71/100\n",
      "1250/1250 [==============================] - 10s 8ms/step - loss: 1.5697 - accuracy: 0.4885 - val_loss: 8.1974 - val_accuracy: 0.0486\n",
      "Epoch 72/100\n",
      "1250/1250 [==============================] - 10s 8ms/step - loss: 1.5601 - accuracy: 0.4917 - val_loss: 8.0148 - val_accuracy: 0.0486\n",
      "Epoch 73/100\n",
      "1250/1250 [==============================] - 10s 8ms/step - loss: 1.5621 - accuracy: 0.4917 - val_loss: 8.1423 - val_accuracy: 0.0481\n",
      "Epoch 74/100\n",
      "1250/1250 [==============================] - 11s 8ms/step - loss: 1.5426 - accuracy: 0.4990 - val_loss: 7.9936 - val_accuracy: 0.0483\n",
      "Epoch 75/100\n",
      "1250/1250 [==============================] - 11s 8ms/step - loss: 1.5405 - accuracy: 0.4972 - val_loss: 8.7648 - val_accuracy: 0.0504\n",
      "Epoch 76/100\n",
      "1250/1250 [==============================] - 11s 8ms/step - loss: 1.5324 - accuracy: 0.4991 - val_loss: 8.3711 - val_accuracy: 0.0479\n",
      "Epoch 77/100\n",
      "1250/1250 [==============================] - 11s 9ms/step - loss: 1.5340 - accuracy: 0.5006 - val_loss: 8.6123 - val_accuracy: 0.0492\n",
      "Epoch 78/100\n",
      "1250/1250 [==============================] - 10s 8ms/step - loss: 1.5285 - accuracy: 0.5063 - val_loss: 8.9883 - val_accuracy: 0.0475\n",
      "Epoch 79/100\n",
      "1250/1250 [==============================] - 10s 8ms/step - loss: 1.5143 - accuracy: 0.5093 - val_loss: 8.5599 - val_accuracy: 0.0517\n",
      "Epoch 80/100\n",
      "1250/1250 [==============================] - 10s 8ms/step - loss: 1.5059 - accuracy: 0.5092 - val_loss: 8.5926 - val_accuracy: 0.0475\n",
      "Epoch 81/100\n",
      "1250/1250 [==============================] - 11s 9ms/step - loss: 1.5115 - accuracy: 0.5073 - val_loss: 8.5237 - val_accuracy: 0.0482\n",
      "Epoch 82/100\n",
      "1250/1250 [==============================] - 10s 8ms/step - loss: 1.5173 - accuracy: 0.5038 - val_loss: 9.1302 - val_accuracy: 0.0490\n",
      "Epoch 83/100\n",
      "1250/1250 [==============================] - 11s 9ms/step - loss: 1.4994 - accuracy: 0.5102 - val_loss: 9.3373 - val_accuracy: 0.0518\n",
      "Epoch 84/100\n",
      "1250/1250 [==============================] - 11s 8ms/step - loss: 1.4870 - accuracy: 0.5160 - val_loss: 9.5431 - val_accuracy: 0.0509\n",
      "Epoch 85/100\n",
      "1250/1250 [==============================] - 11s 8ms/step - loss: 1.5000 - accuracy: 0.5087 - val_loss: 9.5038 - val_accuracy: 0.0495\n",
      "Epoch 86/100\n",
      "1250/1250 [==============================] - 11s 9ms/step - loss: 1.4880 - accuracy: 0.5139 - val_loss: 9.1966 - val_accuracy: 0.0477\n",
      "Epoch 87/100\n",
      "1250/1250 [==============================] - 11s 9ms/step - loss: 1.4853 - accuracy: 0.5115 - val_loss: 9.3880 - val_accuracy: 0.0501\n",
      "Epoch 88/100\n",
      "1250/1250 [==============================] - 11s 9ms/step - loss: 1.4735 - accuracy: 0.5176 - val_loss: 9.4156 - val_accuracy: 0.0459\n",
      "Epoch 89/100\n",
      "1250/1250 [==============================] - 11s 9ms/step - loss: 1.4724 - accuracy: 0.5197 - val_loss: 9.4139 - val_accuracy: 0.0516\n",
      "Epoch 90/100\n",
      "1250/1250 [==============================] - 10s 8ms/step - loss: 1.4797 - accuracy: 0.5156 - val_loss: 9.8804 - val_accuracy: 0.0515\n",
      "Epoch 91/100\n",
      "1250/1250 [==============================] - 10s 8ms/step - loss: 1.4606 - accuracy: 0.5218 - val_loss: 9.9727 - val_accuracy: 0.0490\n",
      "Epoch 92/100\n",
      "1250/1250 [==============================] - 10s 8ms/step - loss: 1.4525 - accuracy: 0.5234 - val_loss: 10.0895 - val_accuracy: 0.0516\n",
      "Epoch 93/100\n",
      "1250/1250 [==============================] - 11s 8ms/step - loss: 1.4560 - accuracy: 0.5266 - val_loss: 9.6579 - val_accuracy: 0.0479\n",
      "Epoch 94/100\n",
      "1250/1250 [==============================] - 11s 9ms/step - loss: 1.4450 - accuracy: 0.5297 - val_loss: 10.0555 - val_accuracy: 0.0491\n",
      "Epoch 95/100\n",
      "1250/1250 [==============================] - 11s 8ms/step - loss: 1.4443 - accuracy: 0.5266 - val_loss: 9.9362 - val_accuracy: 0.0500\n",
      "Epoch 96/100\n",
      "1250/1250 [==============================] - 10s 8ms/step - loss: 1.4533 - accuracy: 0.5250 - val_loss: 10.4681 - val_accuracy: 0.0508\n",
      "Epoch 97/100\n",
      "1250/1250 [==============================] - 10s 8ms/step - loss: 1.4452 - accuracy: 0.5265 - val_loss: 10.4692 - val_accuracy: 0.0481\n",
      "Epoch 98/100\n",
      "1250/1250 [==============================] - 10s 8ms/step - loss: 1.4437 - accuracy: 0.5279 - val_loss: 10.1486 - val_accuracy: 0.0492\n",
      "Epoch 99/100\n",
      "1250/1250 [==============================] - 11s 8ms/step - loss: 1.4233 - accuracy: 0.5333 - val_loss: 10.6034 - val_accuracy: 0.0509\n",
      "Epoch 100/100\n",
      "1250/1250 [==============================] - 11s 8ms/step - loss: 1.4229 - accuracy: 0.5337 - val_loss: 10.8220 - val_accuracy: 0.0491\n"
     ]
    }
   ],
   "source": [
    "history = model.fit(xTrn_split, yTrn_split, epochs=100, \n",
    "                    validation_data=(xTst_split, yTst_split))"
   ]
  },
  {
   "cell_type": "markdown",
   "id": "mobile-childhood",
   "metadata": {},
   "source": [
    "##  Predict labels for the testing set and check accuracy"
   ]
  },
  {
   "cell_type": "code",
   "execution_count": 23,
   "id": "serious-european",
   "metadata": {},
   "outputs": [
    {
     "name": "stdout",
     "output_type": "stream",
     "text": [
      "[[3.7208243e-05 1.3156892e-04 8.4406354e-02 ... 3.7541618e-03\n",
      "  6.8277662e-04 3.7798347e-06]\n",
      " [2.9059731e-05 1.1924543e-05 2.9391385e-06 ... 9.7554401e-03\n",
      "  3.2838815e-04 2.8069595e-02]\n",
      " [3.4600250e-02 1.7566413e-03 2.7504620e-01 ... 1.3324437e-01\n",
      "  4.5037097e-03 1.9794952e-03]\n",
      " ...\n",
      " [6.2927839e-08 4.5048827e-04 1.7672627e-04 ... 2.4777933e-04\n",
      "  4.0938912e-06 3.4276911e-07]\n",
      " [2.8218193e-02 7.2773695e-02 2.4289082e-01 ... 2.6041090e-01\n",
      "  1.3819711e-02 1.8909350e-02]\n",
      " [3.2735559e-10 9.5278481e-14 1.7691275e-09 ... 6.7903623e-14\n",
      "  7.1002150e-06 2.7496187e-08]]\n"
     ]
    }
   ],
   "source": [
    "print(model.predict(test_images_reshaped))"
   ]
  },
  {
   "cell_type": "markdown",
   "id": "aggressive-postage",
   "metadata": {},
   "source": [
    "## Plot models traing curves "
   ]
  },
  {
   "cell_type": "code",
   "execution_count": 24,
   "id": "conditional-senegal",
   "metadata": {},
   "outputs": [
    {
     "name": "stdout",
     "output_type": "stream",
     "text": [
      "313/313 - 1s - loss: 10.9378 - accuracy: 0.0525\n",
      "0.05249999836087227\n"
     ]
    },
    {
     "data": {
      "image/png": "[encoded data removed]",
      "text/plain": [
       "<Figure size 432x288 with 1 Axes>"
      ]
     },
     "metadata": {
      "needs_background": "light"
     },
     "output_type": "display_data"
    }
   ],
   "source": [
    "plt.plot(history.history['accuracy'], label='accuracy')\n",
    "plt.plot(history.history['val_accuracy'], label = 'val_accuracy')\n",
    "plt.xlabel('Epoch')\n",
    "plt.ylabel('Accuracy')\n",
    "plt.ylim([0.5, 1])\n",
    "plt.legend(loc='lower right')\n",
    "\n",
    "test_loss, test_acc = model.evaluate(test_images_reshaped,  test_label_coarse, verbose=2)\n",
    "\n",
    "print(test_acc)"
   ]
  },
  {
   "cell_type": "code",
   "execution_count": 25,
   "id": "improving-alias",
   "metadata": {},
   "outputs": [
    {
     "name": "stdout",
     "output_type": "stream",
     "text": [
      "[10.937837600708008, 0.05249999836087227]\n"
     ]
    }
   ],
   "source": [
    "score = model.evaluate(test_images_reshaped, test_label_coarse, verbose=0)\n",
    "print(score)"
   ]
  },
  {
   "cell_type": "code",
   "execution_count": null,
   "id": "seven-wiring",
   "metadata": {},
   "outputs": [],
   "source": []
  }
 ],
 "metadata": {
  "kernelspec": {
   "display_name": "Python 3",
   "language": "python",
   "name": "python3"
  },
  "language_info": {
   "codemirror_mode": {
    "name": "ipython",
    "version": 3
   },
   "file_extension": ".py",
   "mimetype": "text/x-python",
   "name": "python",
   "nbconvert_exporter": "python",
   "pygments_lexer": "ipython3",
   "version": "3.7.7"
  }
 },
 "nbformat": 4,
 "nbformat_minor": 5
}
