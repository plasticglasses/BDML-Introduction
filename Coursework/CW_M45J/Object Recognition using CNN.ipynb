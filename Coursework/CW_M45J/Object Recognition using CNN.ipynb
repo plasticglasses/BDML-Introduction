{
 "cells": [
  {
   "cell_type": "markdown",
   "id": "ordered-recorder",
   "metadata": {},
   "source": [
    "# CW1 - Object Recognition using CNN\n",
    "To apply machine learning alorithms to clasify the testing images into object categories. Then use a model to perform classification and report quantitative results.\n",
    "\n",
    "Due: Monday 19th April"
   ]
  },
  {
   "cell_type": "markdown",
   "id": "norwegian-karma",
   "metadata": {},
   "source": [
    "# Introduction"
   ]
  },
  {
   "cell_type": "markdown",
   "id": "leading-turning",
   "metadata": {},
   "source": [
    "The aim is to evaluate the use of CNN's in image recognition and the affect of adding multiple layers."
   ]
  },
  {
   "cell_type": "markdown",
   "id": "alpha-negotiation",
   "metadata": {},
   "source": [
    "# Imports "
   ]
  },
  {
   "cell_type": "code",
   "execution_count": 1,
   "id": "modified-demographic",
   "metadata": {},
   "outputs": [],
   "source": [
    "import numpy as np\n",
    "from numpy import load\n",
    "from numpy import asarray\n",
    "from numpy import save\n",
    "import matplotlib.pyplot as plt\n",
    "import tensorflow as tf\n",
    "import skimage.feature\n",
    "from sklearn.utils import shuffle\n",
    "from sklearn.model_selection import train_test_split"
   ]
  },
  {
   "cell_type": "markdown",
   "id": "moving-democracy",
   "metadata": {},
   "source": [
    "# Load Data\n",
    "There are 100 different categories of objects\n",
    "each has 500 images for training and 100 images for testing.\n",
    "Split the data into train and test sections"
   ]
  },
  {
   "cell_type": "code",
   "execution_count": 2,
   "id": "recovered-longer",
   "metadata": {},
   "outputs": [
    {
     "name": "stdout",
     "output_type": "stream",
     "text": [
      "Images Shape: (32, 32, 3, 50000)\n",
      "Train Labels Fine Shape: (50000,)\n",
      "Train Labels Coarse Shape: (50000,)\n"
     ]
    }
   ],
   "source": [
    "images = np.load('trnImage.npy')\n",
    "label_fine = np.load('trnLabel_fine.npy')\n",
    "label_coarse = np.load('trnLabel_coarse.npy')\n",
    "\n",
    "#image_index = 1 # pick a specific image\n",
    "#image = images[:, :, :, image_index]\n",
    "\n",
    "test_images = np.load('tstImage.npy')\n",
    "test_label_fine = np.load('tstLabel_fine.npy')\n",
    "test_label_coarse = np.load('tstLabel_coarse.npy')\n",
    "\n",
    "print(f'Images Shape: {images.shape}')\n",
    "print(f'Train Labels Fine Shape: {label_fine.shape}')\n",
    "print(f'Train Labels Coarse Shape: {label_coarse.shape}')"
   ]
  },
  {
   "cell_type": "markdown",
   "id": "increasing-wright",
   "metadata": {},
   "source": [
    "## Shuffle data to ensure not ordered"
   ]
  },
  {
   "cell_type": "code",
   "execution_count": 3,
   "id": "martial-orlando",
   "metadata": {},
   "outputs": [],
   "source": [
    "images = shuffle(images, random_state=0)\n",
    "label_fine, label_coarse = shuffle(label_fine, label_coarse, random_state=0) #make sure the samples are not ordered\n",
    "\n",
    "\n",
    "test_images = shuffle(test_images, random_state=0)\n",
    "test_label_fine, test_label_coarse = shuffle(test_label_fine, test_label_coarse, random_state=0)"
   ]
  },
  {
   "cell_type": "markdown",
   "id": "looking-chain",
   "metadata": {},
   "source": [
    "# CNN"
   ]
  },
  {
   "cell_type": "markdown",
   "id": "rotary-constraint",
   "metadata": {},
   "source": [
    "## Normalise the data, for each image do a hog, add how to array, train images"
   ]
  },
  {
   "cell_type": "code",
   "execution_count": 4,
   "id": "banner-psychiatry",
   "metadata": {},
   "outputs": [
    {
     "name": "stdout",
     "output_type": "stream",
     "text": [
      "(50000, 32, 32)\n"
     ]
    }
   ],
   "source": [
    "try:\n",
    "    train_images_normalised = load('hog_array_train.npy')\n",
    "    print(train_images_normalised.shape)\n",
    "except FileNotFoundError: \n",
    "    \n",
    "    train_images_normalised = []\n",
    "    \n",
    "    for image_index in range(0, images.shape[3]):\n",
    "        print(image_index, images.shape[3])\n",
    "        image = images[:, :, :, image_index]\n",
    "\n",
    "        # Extract features from a single image\n",
    "        _, hog_image = skimage.feature.hog(image, pixels_per_cell=[2,2], cells_per_block=[3,3], visualize=True)\n",
    "        train_images_normalised.append(hog_image)\n",
    "        \n",
    "    train_images_output = np.array(train_images_normalised)\n",
    "    data = asarray(train_images_output)\n",
    "        # save to npy file\n",
    "    save('hog_array_train.npy', data)\n",
    "    "
   ]
  },
  {
   "cell_type": "code",
   "execution_count": 5,
   "id": "absolute-arrival",
   "metadata": {},
   "outputs": [
    {
     "name": "stdout",
     "output_type": "stream",
     "text": [
      "(10000, 32, 32)\n"
     ]
    }
   ],
   "source": [
    "try:\n",
    "    test_images_normalised = load('hog_array_test.npy')\n",
    "    print(test_images_normalised.shape)\n",
    "    \n",
    "except: \n",
    "    test_images_normalised = []\n",
    "    for image_index in range(0, test_images.shape[3]):\n",
    "        print(image_index, test_images.shape[3])\n",
    "        image = test_images[:, :, :, image_index]\n",
    "\n",
    "        # Extract features from a single image\n",
    "        _, hog_image = skimage.feature.hog(image, pixels_per_cell=[2,2], cells_per_block=[3,3], visualize=True)\n",
    "        test_images_normalised.append(hog_image)\n",
    "\n",
    "    train_images_output = np.array(test_images_normalised)\n",
    "    data = asarray(train_images_output)\n",
    "    save('hog_array_test.npy', data)"
   ]
  },
  {
   "cell_type": "markdown",
   "id": "excessive-guyana",
   "metadata": {},
   "source": [
    "## Check the Data cardinality"
   ]
  },
  {
   "cell_type": "code",
   "execution_count": 6,
   "id": "warming-damages",
   "metadata": {},
   "outputs": [
    {
     "name": "stdout",
     "output_type": "stream",
     "text": [
      "train shape (50000, 32, 32, 1)\n",
      "test shape (10000, 32, 32, 1)\n",
      "\n",
      "coarse shape (50000,)\n",
      "fine shape (50000,)\n",
      "\n",
      "Unique Fine labels 100\n",
      "unique Coarse Labels 20\n"
     ]
    }
   ],
   "source": [
    "train_images_reshaped = train_images_normalised.reshape(50000, 32, 32, 1)\n",
    "test_images_reshaped = test_images_normalised.reshape(10000, 32, 32, 1)\n",
    "\n",
    "print(\"train shape \" + str(train_images_reshaped.shape))\n",
    "print(\"test shape \" + str(test_images_reshaped.shape) + \"\\n\")\n",
    "\n",
    "print(\"coarse shape \" + str(label_coarse.shape))\n",
    "print(\"fine shape \" + str(label_fine.shape)+ \"\\n\")\n",
    "\n",
    "output_num_fine = (np.unique(label_fine).shape[0])\n",
    "print(\"Unique Fine labels \" + str(output_num_fine))\n",
    "\n",
    "output_num_coarse = (np.unique(label_coarse).shape[0])\n",
    "print(\"unique Coarse Labels \" + str(output_num_coarse))\n"
   ]
  },
  {
   "cell_type": "markdown",
   "id": "hollywood-lightning",
   "metadata": {},
   "source": [
    "## Split Training data into a train and test split"
   ]
  },
  {
   "cell_type": "code",
   "execution_count": 7,
   "id": "intensive-northeast",
   "metadata": {},
   "outputs": [],
   "source": [
    "xTrn_split, xTst_split, yTrn_split, yTst_split = train_test_split(train_images_reshaped, label_coarse, test_size=0.2)"
   ]
  },
  {
   "cell_type": "markdown",
   "id": "unauthorized-opportunity",
   "metadata": {},
   "source": [
    "## Create a Tensorflow Convolutional Neural Network on the training set using Conv2D and pooling Layers"
   ]
  },
  {
   "cell_type": "code",
   "execution_count": 36,
   "id": "interior-penetration",
   "metadata": {},
   "outputs": [
    {
     "name": "stdout",
     "output_type": "stream",
     "text": [
      "Model: \"sequential_6\"\n",
      "_________________________________________________________________\n",
      "Layer (type)                 Output Shape              Param #   \n",
      "=================================================================\n",
      "conv2d_8 (Conv2D)            (None, 30, 30, 32)        320       \n",
      "_________________________________________________________________\n",
      "max_pooling2d_8 (MaxPooling2 (None, 15, 15, 32)        0         \n",
      "=================================================================\n",
      "Total params: 320\n",
      "Trainable params: 320\n",
      "Non-trainable params: 0\n",
      "_________________________________________________________________\n"
     ]
    }
   ],
   "source": [
    "model = tf.keras.Sequential()\n",
    "model.add(tf.keras.layers.Conv2D(32, (3, 3), activation='selu', input_shape=(32, 32, 1)))\n",
    "model.add(tf.keras.layers.MaxPooling2D((2, 2)))\n",
    "\n",
    "model.summary()"
   ]
  },
  {
   "cell_type": "markdown",
   "id": "alone-blade",
   "metadata": {},
   "source": [
    "## Train and fit the model\n",
    "\n",
    "softmax - sed as the last activation function of a neural network to normalize the output of a network"
   ]
  },
  {
   "cell_type": "code",
   "execution_count": 37,
   "id": "waiting-ivory",
   "metadata": {},
   "outputs": [],
   "source": [
    "model.add(tf.keras.layers.Flatten()) #dense layers can oinly have 1d so flattern araray to one dimension\n",
    "#model.add(tf.keras.layers.Dense(output_num_coarse*2, activation='selu'))\n",
    "model.add(tf.keras.layers.Dense(output_num_coarse, activation='softmax'))\n",
    "\n",
    "model.compile(loss=tf.keras.losses.SparseCategoricalCrossentropy(from_logits=True),\n",
    "              metrics=['accuracy'])"
   ]
  },
  {
   "cell_type": "code",
   "execution_count": 38,
   "id": "competitive-story",
   "metadata": {},
   "outputs": [
    {
     "name": "stdout",
     "output_type": "stream",
     "text": [
      "Epoch 1/100\n",
      "1250/1250 [==============================] - 7s 6ms/step - loss: 3.0092 - accuracy: 0.0493 - val_loss: 3.0004 - val_accuracy: 0.0487\n",
      "Epoch 2/100\n",
      "1250/1250 [==============================] - 7s 5ms/step - loss: 2.9922 - accuracy: 0.0605 - val_loss: 3.0105 - val_accuracy: 0.0499\n",
      "Epoch 3/100\n",
      "1250/1250 [==============================] - 7s 5ms/step - loss: 2.9710 - accuracy: 0.0751 - val_loss: 3.0159 - val_accuracy: 0.0491\n",
      "Epoch 4/100\n",
      "1250/1250 [==============================] - 7s 5ms/step - loss: 2.9452 - accuracy: 0.0906 - val_loss: 3.0291 - val_accuracy: 0.0517\n",
      "Epoch 5/100\n",
      "1250/1250 [==============================] - 7s 5ms/step - loss: 2.9237 - accuracy: 0.1001 - val_loss: 3.0541 - val_accuracy: 0.0479\n",
      "Epoch 6/100\n",
      "1250/1250 [==============================] - 7s 5ms/step - loss: 2.8972 - accuracy: 0.1087 - val_loss: 3.0615 - val_accuracy: 0.0508\n",
      "Epoch 7/100\n",
      "1250/1250 [==============================] - 7s 5ms/step - loss: 2.8718 - accuracy: 0.1190 - val_loss: 3.0824 - val_accuracy: 0.0515\n",
      "Epoch 8/100\n",
      "1250/1250 [==============================] - 7s 5ms/step - loss: 2.8502 - accuracy: 0.1270 - val_loss: 3.0958 - val_accuracy: 0.0467\n",
      "Epoch 9/100\n",
      "1250/1250 [==============================] - 7s 5ms/step - loss: 2.8255 - accuracy: 0.1350 - val_loss: 3.1168 - val_accuracy: 0.0472\n",
      "Epoch 10/100\n",
      "1250/1250 [==============================] - 7s 5ms/step - loss: 2.8040 - accuracy: 0.1465 - val_loss: 3.1370 - val_accuracy: 0.0475\n",
      "Epoch 11/100\n",
      "1250/1250 [==============================] - 7s 5ms/step - loss: 2.7719 - accuracy: 0.1548 - val_loss: 3.1509 - val_accuracy: 0.0491\n",
      "Epoch 12/100\n",
      "1250/1250 [==============================] - 7s 5ms/step - loss: 2.7510 - accuracy: 0.1658 - val_loss: 3.1677 - val_accuracy: 0.0485\n",
      "Epoch 13/100\n",
      "1250/1250 [==============================] - 7s 5ms/step - loss: 2.7248 - accuracy: 0.1749 - val_loss: 3.1908 - val_accuracy: 0.0479\n",
      "Epoch 14/100\n",
      "1250/1250 [==============================] - 7s 5ms/step - loss: 2.7019 - accuracy: 0.1817 - val_loss: 3.2078 - val_accuracy: 0.0490\n",
      "Epoch 15/100\n",
      "1250/1250 [==============================] - 7s 5ms/step - loss: 2.6792 - accuracy: 0.1879 - val_loss: 3.2074 - val_accuracy: 0.0509\n",
      "Epoch 16/100\n",
      "1250/1250 [==============================] - 7s 5ms/step - loss: 2.6582 - accuracy: 0.1949 - val_loss: 3.2346 - val_accuracy: 0.0506\n",
      "Epoch 17/100\n",
      "1250/1250 [==============================] - 7s 6ms/step - loss: 2.6360 - accuracy: 0.2011 - val_loss: 3.2576 - val_accuracy: 0.0518\n",
      "Epoch 18/100\n",
      "1250/1250 [==============================] - 7s 5ms/step - loss: 2.6109 - accuracy: 0.2081 - val_loss: 3.2689 - val_accuracy: 0.0535\n",
      "Epoch 19/100\n",
      "1250/1250 [==============================] - 7s 5ms/step - loss: 2.5956 - accuracy: 0.2121 - val_loss: 3.2909 - val_accuracy: 0.0534\n",
      "Epoch 20/100\n",
      "1250/1250 [==============================] - 7s 5ms/step - loss: 2.5727 - accuracy: 0.2220 - val_loss: 3.3068 - val_accuracy: 0.0533\n",
      "Epoch 21/100\n",
      "1250/1250 [==============================] - 7s 5ms/step - loss: 2.5585 - accuracy: 0.2259 - val_loss: 3.3249 - val_accuracy: 0.0533\n",
      "Epoch 22/100\n",
      "1250/1250 [==============================] - 7s 5ms/step - loss: 2.5362 - accuracy: 0.2343 - val_loss: 3.3421 - val_accuracy: 0.0518\n",
      "Epoch 23/100\n",
      "1250/1250 [==============================] - 7s 5ms/step - loss: 2.5164 - accuracy: 0.2403 - val_loss: 3.3636 - val_accuracy: 0.0537\n",
      "Epoch 24/100\n",
      "1250/1250 [==============================] - 7s 5ms/step - loss: 2.5010 - accuracy: 0.2468 - val_loss: 3.3804 - val_accuracy: 0.0526\n",
      "Epoch 25/100\n",
      "1250/1250 [==============================] - 7s 5ms/step - loss: 2.4802 - accuracy: 0.2519 - val_loss: 3.3939 - val_accuracy: 0.0519\n",
      "Epoch 26/100\n",
      "1250/1250 [==============================] - 7s 5ms/step - loss: 2.4663 - accuracy: 0.2561 - val_loss: 3.4134 - val_accuracy: 0.0556\n",
      "Epoch 27/100\n",
      "1250/1250 [==============================] - 7s 6ms/step - loss: 2.4573 - accuracy: 0.2582 - val_loss: 3.4265 - val_accuracy: 0.0554\n",
      "Epoch 28/100\n",
      "1250/1250 [==============================] - 7s 5ms/step - loss: 2.4351 - accuracy: 0.2638 - val_loss: 3.4382 - val_accuracy: 0.0568\n",
      "Epoch 29/100\n",
      "1250/1250 [==============================] - 7s 5ms/step - loss: 2.4209 - accuracy: 0.2719 - val_loss: 3.4565 - val_accuracy: 0.0512\n",
      "Epoch 30/100\n",
      "1250/1250 [==============================] - 7s 5ms/step - loss: 2.4108 - accuracy: 0.2731 - val_loss: 3.4739 - val_accuracy: 0.0568\n",
      "Epoch 31/100\n",
      "1250/1250 [==============================] - 7s 5ms/step - loss: 2.3909 - accuracy: 0.2795 - val_loss: 3.4858 - val_accuracy: 0.0534\n",
      "Epoch 32/100\n",
      "1250/1250 [==============================] - 7s 5ms/step - loss: 2.3764 - accuracy: 0.2839 - val_loss: 3.5154 - val_accuracy: 0.0531\n",
      "Epoch 33/100\n",
      "1250/1250 [==============================] - 7s 5ms/step - loss: 2.3758 - accuracy: 0.2850 - val_loss: 3.5147 - val_accuracy: 0.0573\n",
      "Epoch 34/100\n",
      "1250/1250 [==============================] - 7s 5ms/step - loss: 2.3569 - accuracy: 0.2887 - val_loss: 3.5331 - val_accuracy: 0.0530\n",
      "Epoch 35/100\n",
      "1250/1250 [==============================] - 7s 5ms/step - loss: 2.3347 - accuracy: 0.2991 - val_loss: 3.5406 - val_accuracy: 0.0544\n",
      "Epoch 36/100\n",
      "1250/1250 [==============================] - 7s 5ms/step - loss: 2.3260 - accuracy: 0.3002 - val_loss: 3.5677 - val_accuracy: 0.0527\n",
      "Epoch 37/100\n",
      "1250/1250 [==============================] - 7s 5ms/step - loss: 2.3198 - accuracy: 0.3035 - val_loss: 3.5691 - val_accuracy: 0.0571\n",
      "Epoch 38/100\n",
      "1250/1250 [==============================] - 7s 5ms/step - loss: 2.3003 - accuracy: 0.3088 - val_loss: 3.5866 - val_accuracy: 0.0528\n",
      "Epoch 39/100\n",
      "1250/1250 [==============================] - 7s 5ms/step - loss: 2.2894 - accuracy: 0.3139 - val_loss: 3.6122 - val_accuracy: 0.0523\n",
      "Epoch 40/100\n",
      "1250/1250 [==============================] - 7s 5ms/step - loss: 2.2696 - accuracy: 0.3215 - val_loss: 3.6221 - val_accuracy: 0.0516\n",
      "Epoch 41/100\n",
      "1250/1250 [==============================] - 6s 5ms/step - loss: 2.2692 - accuracy: 0.3134 - val_loss: 3.6535 - val_accuracy: 0.0528\n",
      "Epoch 42/100\n",
      "1250/1250 [==============================] - 6s 5ms/step - loss: 2.2529 - accuracy: 0.3181 - val_loss: 3.6448 - val_accuracy: 0.0523\n",
      "Epoch 43/100\n",
      "1250/1250 [==============================] - 7s 5ms/step - loss: 2.2373 - accuracy: 0.3298 - val_loss: 3.6590 - val_accuracy: 0.0548\n",
      "Epoch 44/100\n",
      "1250/1250 [==============================] - 7s 5ms/step - loss: 2.2273 - accuracy: 0.3305 - val_loss: 3.6806 - val_accuracy: 0.0535\n",
      "Epoch 45/100\n",
      "1250/1250 [==============================] - 6s 5ms/step - loss: 2.2276 - accuracy: 0.3364 - val_loss: 3.7062 - val_accuracy: 0.0523\n",
      "Epoch 46/100\n",
      "1250/1250 [==============================] - 6s 5ms/step - loss: 2.2141 - accuracy: 0.3335 - val_loss: 3.7142 - val_accuracy: 0.0541\n",
      "Epoch 47/100\n",
      "1250/1250 [==============================] - 6s 5ms/step - loss: 2.2004 - accuracy: 0.3428 - val_loss: 3.7295 - val_accuracy: 0.0543\n",
      "Epoch 48/100\n",
      "1250/1250 [==============================] - 7s 5ms/step - loss: 2.1854 - accuracy: 0.3445 - val_loss: 3.7435 - val_accuracy: 0.0551\n",
      "Epoch 49/100\n",
      "1250/1250 [==============================] - 7s 5ms/step - loss: 2.1785 - accuracy: 0.3447 - val_loss: 3.7538 - val_accuracy: 0.0551\n",
      "Epoch 50/100\n",
      "1250/1250 [==============================] - 6s 5ms/step - loss: 2.1758 - accuracy: 0.3484 - val_loss: 3.7774 - val_accuracy: 0.0520\n",
      "Epoch 51/100\n",
      "1250/1250 [==============================] - 6s 5ms/step - loss: 2.1620 - accuracy: 0.3488 - val_loss: 3.7750 - val_accuracy: 0.0558\n",
      "Epoch 52/100\n",
      "1250/1250 [==============================] - 6s 5ms/step - loss: 2.1512 - accuracy: 0.3517 - val_loss: 3.8000 - val_accuracy: 0.0563\n",
      "Epoch 53/100\n",
      "1250/1250 [==============================] - 7s 5ms/step - loss: 2.1424 - accuracy: 0.3567 - val_loss: 3.8122 - val_accuracy: 0.0536\n",
      "Epoch 54/100\n",
      "1250/1250 [==============================] - 6s 5ms/step - loss: 2.1333 - accuracy: 0.3614 - val_loss: 3.8210 - val_accuracy: 0.0543\n",
      "Epoch 55/100\n",
      "1250/1250 [==============================] - 7s 5ms/step - loss: 2.1293 - accuracy: 0.3642 - val_loss: 3.8438 - val_accuracy: 0.0511\n",
      "Epoch 56/100\n",
      "1250/1250 [==============================] - 7s 5ms/step - loss: 2.1224 - accuracy: 0.3631 - val_loss: 3.8617 - val_accuracy: 0.0482\n",
      "Epoch 57/100\n"
     ]
    },
    {
     "name": "stdout",
     "output_type": "stream",
     "text": [
      "1250/1250 [==============================] - 6s 5ms/step - loss: 2.1065 - accuracy: 0.3728 - val_loss: 3.8757 - val_accuracy: 0.0540\n",
      "Epoch 58/100\n",
      "1250/1250 [==============================] - 7s 5ms/step - loss: 2.1004 - accuracy: 0.3739 - val_loss: 3.8785 - val_accuracy: 0.0515\n",
      "Epoch 59/100\n",
      "1250/1250 [==============================] - 7s 5ms/step - loss: 2.0951 - accuracy: 0.3706 - val_loss: 3.8996 - val_accuracy: 0.0515\n",
      "Epoch 60/100\n",
      "1250/1250 [==============================] - 7s 5ms/step - loss: 2.0806 - accuracy: 0.3760 - val_loss: 3.9080 - val_accuracy: 0.0511\n",
      "Epoch 61/100\n",
      "1250/1250 [==============================] - 6s 5ms/step - loss: 2.0756 - accuracy: 0.3829 - val_loss: 3.9246 - val_accuracy: 0.0524\n",
      "Epoch 62/100\n",
      "1250/1250 [==============================] - 7s 5ms/step - loss: 2.0722 - accuracy: 0.3721 - val_loss: 3.9413 - val_accuracy: 0.0510\n",
      "Epoch 63/100\n",
      "1250/1250 [==============================] - 7s 5ms/step - loss: 2.0620 - accuracy: 0.3855 - val_loss: 3.9454 - val_accuracy: 0.0508\n",
      "Epoch 64/100\n",
      "1250/1250 [==============================] - 7s 5ms/step - loss: 2.0621 - accuracy: 0.3857 - val_loss: 3.9650 - val_accuracy: 0.0525\n",
      "Epoch 65/100\n",
      "1250/1250 [==============================] - 7s 5ms/step - loss: 2.0496 - accuracy: 0.3839 - val_loss: 3.9707 - val_accuracy: 0.0510\n",
      "Epoch 66/100\n",
      "1250/1250 [==============================] - 7s 5ms/step - loss: 2.0467 - accuracy: 0.3837 - val_loss: 4.0029 - val_accuracy: 0.0506\n",
      "Epoch 67/100\n",
      "1250/1250 [==============================] - 7s 5ms/step - loss: 2.0370 - accuracy: 0.3884 - val_loss: 3.9998 - val_accuracy: 0.0505\n",
      "Epoch 68/100\n",
      "1250/1250 [==============================] - 7s 5ms/step - loss: 2.0333 - accuracy: 0.3943 - val_loss: 4.0095 - val_accuracy: 0.0542\n",
      "Epoch 69/100\n",
      "1250/1250 [==============================] - 7s 6ms/step - loss: 2.0243 - accuracy: 0.3952 - val_loss: 4.0232 - val_accuracy: 0.0522\n",
      "Epoch 70/100\n",
      "1250/1250 [==============================] - 7s 6ms/step - loss: 2.0129 - accuracy: 0.3925 - val_loss: 4.0420 - val_accuracy: 0.0524\n",
      "Epoch 71/100\n",
      "1250/1250 [==============================] - 7s 6ms/step - loss: 2.0070 - accuracy: 0.3977 - val_loss: 4.0475 - val_accuracy: 0.0519\n",
      "Epoch 72/100\n",
      "1250/1250 [==============================] - 7s 5ms/step - loss: 1.9987 - accuracy: 0.4034 - val_loss: 4.0655 - val_accuracy: 0.0545\n",
      "Epoch 73/100\n",
      "1250/1250 [==============================] - 7s 5ms/step - loss: 1.9943 - accuracy: 0.4007 - val_loss: 4.0680 - val_accuracy: 0.0527\n",
      "Epoch 74/100\n",
      "1250/1250 [==============================] - 6s 5ms/step - loss: 1.9893 - accuracy: 0.4038 - val_loss: 4.0977 - val_accuracy: 0.0499\n",
      "Epoch 75/100\n",
      "1250/1250 [==============================] - 6s 5ms/step - loss: 1.9761 - accuracy: 0.4072 - val_loss: 4.1044 - val_accuracy: 0.0522\n",
      "Epoch 76/100\n",
      "1250/1250 [==============================] - 6s 5ms/step - loss: 1.9792 - accuracy: 0.4073 - val_loss: 4.1171 - val_accuracy: 0.0532\n",
      "Epoch 77/100\n",
      "1250/1250 [==============================] - 7s 5ms/step - loss: 1.9632 - accuracy: 0.4132 - val_loss: 4.1384 - val_accuracy: 0.0513\n",
      "Epoch 78/100\n",
      "1250/1250 [==============================] - 6s 5ms/step - loss: 1.9721 - accuracy: 0.4090 - val_loss: 4.1577 - val_accuracy: 0.0536\n",
      "Epoch 79/100\n",
      "1250/1250 [==============================] - 6s 5ms/step - loss: 1.9600 - accuracy: 0.4112 - val_loss: 4.1725 - val_accuracy: 0.0519\n",
      "Epoch 80/100\n",
      "1250/1250 [==============================] - 6s 5ms/step - loss: 1.9391 - accuracy: 0.4176 - val_loss: 4.1674 - val_accuracy: 0.0523\n",
      "Epoch 81/100\n",
      "1250/1250 [==============================] - 6s 5ms/step - loss: 1.9475 - accuracy: 0.4203 - val_loss: 4.1927 - val_accuracy: 0.0512\n",
      "Epoch 82/100\n",
      "1250/1250 [==============================] - 7s 5ms/step - loss: 1.9436 - accuracy: 0.4179 - val_loss: 4.2043 - val_accuracy: 0.0537\n",
      "Epoch 83/100\n",
      "1250/1250 [==============================] - 7s 5ms/step - loss: 1.9365 - accuracy: 0.4193 - val_loss: 4.2127 - val_accuracy: 0.0518\n",
      "Epoch 84/100\n",
      "1250/1250 [==============================] - 7s 5ms/step - loss: 1.9252 - accuracy: 0.4222 - val_loss: 4.2280 - val_accuracy: 0.0550\n",
      "Epoch 85/100\n",
      "1250/1250 [==============================] - 7s 5ms/step - loss: 1.9243 - accuracy: 0.4223 - val_loss: 4.2393 - val_accuracy: 0.0505\n",
      "Epoch 86/100\n",
      "1250/1250 [==============================] - 6s 5ms/step - loss: 1.9189 - accuracy: 0.4271 - val_loss: 4.2500 - val_accuracy: 0.0500\n",
      "Epoch 87/100\n",
      "1250/1250 [==============================] - 7s 6ms/step - loss: 1.9071 - accuracy: 0.4328 - val_loss: 4.2530 - val_accuracy: 0.0539\n",
      "Epoch 88/100\n",
      "1250/1250 [==============================] - 7s 5ms/step - loss: 1.8963 - accuracy: 0.4380 - val_loss: 4.2862 - val_accuracy: 0.0520\n",
      "Epoch 89/100\n",
      "1250/1250 [==============================] - 7s 5ms/step - loss: 1.9075 - accuracy: 0.4274 - val_loss: 4.2860 - val_accuracy: 0.0503\n",
      "Epoch 90/100\n",
      "1250/1250 [==============================] - 6s 5ms/step - loss: 1.8839 - accuracy: 0.4374 - val_loss: 4.2948 - val_accuracy: 0.0539\n",
      "Epoch 91/100\n",
      "1250/1250 [==============================] - 6s 5ms/step - loss: 1.8947 - accuracy: 0.4331 - val_loss: 4.3032 - val_accuracy: 0.0534\n",
      "Epoch 92/100\n",
      "1250/1250 [==============================] - 6s 5ms/step - loss: 1.8845 - accuracy: 0.4374 - val_loss: 4.3400 - val_accuracy: 0.0513\n",
      "Epoch 93/100\n",
      "1250/1250 [==============================] - 6s 5ms/step - loss: 1.8858 - accuracy: 0.4332 - val_loss: 4.3454 - val_accuracy: 0.0517\n",
      "Epoch 94/100\n",
      "1250/1250 [==============================] - 6s 5ms/step - loss: 1.8901 - accuracy: 0.4346 - val_loss: 4.3523 - val_accuracy: 0.0527\n",
      "Epoch 95/100\n",
      "1250/1250 [==============================] - 6s 5ms/step - loss: 1.8692 - accuracy: 0.4394 - val_loss: 4.3636 - val_accuracy: 0.0504\n",
      "Epoch 96/100\n",
      "1250/1250 [==============================] - 7s 5ms/step - loss: 1.8652 - accuracy: 0.4441 - val_loss: 4.3757 - val_accuracy: 0.0525\n",
      "Epoch 97/100\n",
      "1250/1250 [==============================] - 7s 5ms/step - loss: 1.8669 - accuracy: 0.4377 - val_loss: 4.3840 - val_accuracy: 0.0518\n",
      "Epoch 98/100\n",
      "1250/1250 [==============================] - 7s 5ms/step - loss: 1.8486 - accuracy: 0.4511 - val_loss: 4.4028 - val_accuracy: 0.0533\n",
      "Epoch 99/100\n",
      "1250/1250 [==============================] - 6s 5ms/step - loss: 1.8516 - accuracy: 0.4459 - val_loss: 4.4062 - val_accuracy: 0.0513\n",
      "Epoch 100/100\n",
      "1250/1250 [==============================] - 7s 5ms/step - loss: 1.8444 - accuracy: 0.4486 - val_loss: 4.4220 - val_accuracy: 0.0515\n"
     ]
    }
   ],
   "source": [
    "history = model.fit(xTrn_split, yTrn_split, epochs=100, \n",
    "                    validation_data=(xTst_split, yTst_split))"
   ]
  },
  {
   "cell_type": "markdown",
   "id": "manufactured-bolivia",
   "metadata": {},
   "source": [
    "##  Predict labels for the testing set and check accuracy"
   ]
  },
  {
   "cell_type": "code",
   "execution_count": 23,
   "id": "proud-intensity",
   "metadata": {
    "scrolled": true
   },
   "outputs": [
    {
     "name": "stdout",
     "output_type": "stream",
     "text": [
      "[[3.7208243e-05 1.3156892e-04 8.4406354e-02 ... 3.7541618e-03\n",
      "  6.8277662e-04 3.7798347e-06]\n",
      " [2.9059731e-05 1.1924543e-05 2.9391385e-06 ... 9.7554401e-03\n",
      "  3.2838815e-04 2.8069595e-02]\n",
      " [3.4600250e-02 1.7566413e-03 2.7504620e-01 ... 1.3324437e-01\n",
      "  4.5037097e-03 1.9794952e-03]\n",
      " ...\n",
      " [6.2927839e-08 4.5048827e-04 1.7672627e-04 ... 2.4777933e-04\n",
      "  4.0938912e-06 3.4276911e-07]\n",
      " [2.8218193e-02 7.2773695e-02 2.4289082e-01 ... 2.6041090e-01\n",
      "  1.3819711e-02 1.8909350e-02]\n",
      " [3.2735559e-10 9.5278481e-14 1.7691275e-09 ... 6.7903623e-14\n",
      "  7.1002150e-06 2.7496187e-08]]\n"
     ]
    }
   ],
   "source": [
    "print(model.predict(test_images_reshaped))"
   ]
  },
  {
   "cell_type": "markdown",
   "id": "aggressive-postage",
   "metadata": {},
   "source": [
    "## Plot models traing curves "
   ]
  },
  {
   "cell_type": "code",
   "execution_count": 39,
   "id": "conditional-senegal",
   "metadata": {},
   "outputs": [
    {
     "name": "stdout",
     "output_type": "stream",
     "text": [
      "313/313 - 0s - loss: 4.4725 - accuracy: 0.0471\n",
      "0.0471000000834465\n"
     ]
    },
    {
     "data": {
      "image/png": "[encoded data removed]",
      "text/plain": [
       "<Figure size 432x288 with 1 Axes>"
      ]
     },
     "metadata": {
      "needs_background": "light"
     },
     "output_type": "display_data"
    }
   ],
   "source": [
    "plt.plot(history.history['accuracy'], label='accuracy')\n",
    "plt.plot(history.history['val_accuracy'], label = 'val_accuracy')\n",
    "plt.xlabel('Epoch')\n",
    "plt.ylabel('Accuracy')\n",
    "plt.ylim([0.5, 1])\n",
    "plt.legend(loc='lower right')\n",
    "\n",
    "test_loss, test_acc = model.evaluate(test_images_reshaped,  test_label_coarse, verbose=2)\n",
    "\n",
    "print(test_acc)"
   ]
  },
  {
   "cell_type": "code",
   "execution_count": 40,
   "id": "improving-alias",
   "metadata": {},
   "outputs": [
    {
     "name": "stdout",
     "output_type": "stream",
     "text": [
      "[4.472523212432861, 0.0471000000834465]\n"
     ]
    }
   ],
   "source": [
    "score = model.evaluate(test_images_reshaped, test_label_coarse, verbose=0)\n",
    "print(score)"
   ]
  },
  {
   "cell_type": "code",
   "execution_count": null,
   "id": "seven-wiring",
   "metadata": {},
   "outputs": [],
   "source": []
  }
 ],
 "metadata": {
  "kernelspec": {
   "display_name": "Python 3",
   "language": "python",
   "name": "python3"
  },
  "language_info": {
   "codemirror_mode": {
    "name": "ipython",
    "version": 3
   },
   "file_extension": ".py",
   "mimetype": "text/x-python",
   "name": "python",
   "nbconvert_exporter": "python",
   "pygments_lexer": "ipython3",
   "version": "3.7.7"
  }
 },
 "nbformat": 4,
 "nbformat_minor": 5
}
