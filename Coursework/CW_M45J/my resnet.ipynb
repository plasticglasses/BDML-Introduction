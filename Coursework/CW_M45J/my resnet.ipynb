{
 "cells": [
  {
   "cell_type": "code",
   "execution_count": 19,
   "id": "french-scout",
   "metadata": {},
   "outputs": [
    {
     "name": "stdout",
     "output_type": "stream",
     "text": [
      "Images Shape: (32, 32, 3, 50000)\n",
      "Train Labels Coarse Shape: (50000,)\n"
     ]
    }
   ],
   "source": [
    "import numpy as np\n",
    "import tensorflow as tf\n",
    "images = np.load('trnImage.npy')\n",
    "labels = np.load('trnLabel_coarse.npy')\n",
    "#labels_fine = np.load('trnLabel_fine.npy')\n",
    "\n",
    "test_images = np.load('tstImage.npy')\n",
    "test_labels = np.load('tstLabel_coarse.npy')\n",
    "#test_labels_fine = np.load('tstLabel_fine.npy')\n",
    "\n",
    "print(f'Images Shape: {images.shape}')\n",
    "print(f'Train Labels Coarse Shape: {labels.shape}')"
   ]
  },
  {
   "cell_type": "code",
   "execution_count": 20,
   "id": "sixth-hindu",
   "metadata": {},
   "outputs": [
    {
     "name": "stdout",
     "output_type": "stream",
     "text": [
      "((35000, 32, 32, 3), (35000, 1))\n",
      "((15000, 32, 32, 3), (15000, 1))\n",
      "((10000, 32, 32, 3), (10000, 1))\n"
     ]
    }
   ],
   "source": [
    "train_images_reshaped = np.transpose(images, (3, 0, 1, 2))\n",
    "test_images_reshaped = np.transpose(test_images, (3, 0, 1, 2))\n",
    "labels_reshaped = labels.reshape(50000, 1)\n",
    "test_labels_reshaped = test_labels.reshape(10000, 1)\n",
    "#labels_fine_reshaped = labels_fine.reshape(50000, 1)\n",
    "\n",
    "x_train_normalised = np.divide(train_images_reshaped, 255)\n",
    "x_test_normalised = np.divide(test_images_reshaped, 255)\n",
    "\n",
    "x_train = x_train_normalised\n",
    "y_train = labels_reshaped\n",
    "#y_train = labels_fine_reshaped\n",
    "\n",
    "x_test = x_test_normalised\n",
    "y_test = test_labels_reshaped\n",
    "\n",
    "\n",
    "#Train-validation-test split\n",
    "from sklearn.model_selection import train_test_split\n",
    "x_train,x_val,y_train,y_val=train_test_split(x_train,y_train,test_size=0.3)\n",
    "\n",
    "\n",
    "#Onehot Encoding the labels.\n",
    "from sklearn.utils.multiclass import unique_labels\n",
    "from keras.utils import to_categorical\n",
    "\n",
    "\n",
    "\n",
    "#Verifying the dimension after one hot encoding\n",
    "print((x_train.shape,y_train.shape))\n",
    "print((x_val.shape,y_val.shape))\n",
    "print((x_test.shape,y_test.shape))\n",
    "\n",
    "#Image Data Augmentation\n",
    "from keras.preprocessing.image import ImageDataGenerator\n",
    "\n",
    "train_generator = ImageDataGenerator(rotation_range=2, horizontal_flip=True,zoom_range=.1 )\n",
    "val_generator = ImageDataGenerator(rotation_range=2, horizontal_flip=True,zoom_range=.1)\n",
    "test_generator = ImageDataGenerator(rotation_range=2, horizontal_flip= True,zoom_range=.1)\n",
    "\n",
    "#Fitting the augmentation defined above to the data\n",
    "train_generator.fit(x_train)\n",
    "val_generator.fit(x_val)\n",
    "test_generator.fit(x_test)\n",
    "\n",
    "\n",
    "# (x_train, y_train), (x_test, y_test) = cifar100.load_data(label_mode='fine')\n",
    "\n",
    "# x_train, x_test = x_train / 255, x_test / 255 # normalize data\n",
    "\n",
    "# print((x_train.shape,y_train.shape))\n",
    "# print((x_test.shape,y_test.shape))\n",
    "\n",
    "\n",
    "\n",
    "x_val = x_test\n",
    "y_val = y_test\n",
    "\n",
    "#Defining the parameters\n",
    "batch_size= 25\n",
    "epochs=2\n",
    "learn_rate=.01"
   ]
  },
  {
   "cell_type": "code",
   "execution_count": 26,
   "id": "irish-example",
   "metadata": {},
   "outputs": [],
   "source": [
    "#Defining the parameters\n",
    "batch_size= 50\n",
    "epochs=1\n",
    "learn_rate=.001"
   ]
  },
  {
   "cell_type": "code",
   "execution_count": null,
   "id": "abstract-password",
   "metadata": {},
   "outputs": [
    {
     "name": "stdout",
     "output_type": "stream",
     "text": [
      " 50/700 [=>............................] - ETA: 14:18 - loss: 4.6824 - accuracy: 0.0427"
     ]
    }
   ],
   "source": [
    "from keras.applications.resnet50 import ResNet50\n",
    "from keras.datasets import cifar100\n",
    "import tensorflow as tf\n",
    "import datetime\n",
    "\n",
    "x_test = x_val\n",
    "y_test = y_val\n",
    "\n",
    "model = ResNet50(input_shape=x_train.shape[1:], weights=None, pooling =\"max\")\n",
    "model.compile(\n",
    "    optimizer = 'adam',\n",
    "    loss = 'sparse_categorical_crossentropy',\n",
    "    metrics = ['accuracy'])\n",
    "\n",
    "model.fit(\n",
    "    train_generator.flow(x_train, y_train, batch_size=batch_size),\n",
    "    epochs = epochs,\n",
    "    steps_per_epoch = x_train.shape[0]//batch_size,\n",
    "    validation_data = val_generator.flow(x_val, y_val, batch_size=batch_size),\n",
    "    validation_steps = len(x_test)//batch_size, verbose=1\n",
    ")"
   ]
  },
  {
   "cell_type": "code",
   "execution_count": null,
   "id": "demanding-administration",
   "metadata": {},
   "outputs": [],
   "source": []
  }
 ],
 "metadata": {
  "kernelspec": {
   "display_name": "Python 3",
   "language": "python",
   "name": "python3"
  },
  "language_info": {
   "codemirror_mode": {
    "name": "ipython",
    "version": 3
   },
   "file_extension": ".py",
   "mimetype": "text/x-python",
   "name": "python",
   "nbconvert_exporter": "python",
   "pygments_lexer": "ipython3",
   "version": "3.7.7"
  }
 },
 "nbformat": 4,
 "nbformat_minor": 5
}
