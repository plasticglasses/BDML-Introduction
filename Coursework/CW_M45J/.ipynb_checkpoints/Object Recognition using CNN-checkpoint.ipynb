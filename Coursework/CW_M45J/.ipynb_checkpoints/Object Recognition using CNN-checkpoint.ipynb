{
 "cells": [
  {
   "cell_type": "markdown",
   "id": "ordered-recorder",
   "metadata": {},
   "source": [
    "# CW1 - Object Recognition using CNN\n",
    "To apply machine learning alorithms to clasify the testing images into object categories. Then use a model to perform classification and report quantitative results.\n",
    "\n",
    "Due: Monday 19th April"
   ]
  },
  {
   "cell_type": "markdown",
   "id": "norwegian-karma",
   "metadata": {},
   "source": [
    "# Introduction"
   ]
  },
  {
   "cell_type": "markdown",
   "id": "leading-turning",
   "metadata": {},
   "source": [
    "The aim is to evaluate the use of CNN's in image recognition and the affect of adding multiple layers."
   ]
  },
  {
   "cell_type": "markdown",
   "id": "alpha-negotiation",
   "metadata": {},
   "source": [
    "# Imports "
   ]
  },
  {
   "cell_type": "code",
   "execution_count": 1,
   "id": "modified-demographic",
   "metadata": {},
   "outputs": [],
   "source": [
    "import numpy as np\n",
    "from numpy import load\n",
    "from numpy import asarray\n",
    "from numpy import save\n",
    "import matplotlib.pyplot as plt\n",
    "import tensorflow as tf\n",
    "import skimage.feature\n",
    "from sklearn.utils import shuffle\n",
    "from sklearn.model_selection import train_test_split"
   ]
  },
  {
   "cell_type": "markdown",
   "id": "moving-democracy",
   "metadata": {},
   "source": [
    "# Load Data\n",
    "There are 100 different categories of objects\n",
    "each has 500 images for training and 100 images for testing.\n",
    "Split the data into train and test sections"
   ]
  },
  {
   "cell_type": "code",
   "execution_count": 2,
   "id": "recovered-longer",
   "metadata": {},
   "outputs": [
    {
     "name": "stdout",
     "output_type": "stream",
     "text": [
      "Images Shape: (32, 32, 3, 50000)\n",
      "Train Labels Fine Shape: (50000,)\n",
      "Train Labels Coarse Shape: (50000,)\n"
     ]
    }
   ],
   "source": [
    "images = np.load('trnImage.npy')\n",
    "label_fine = np.load('trnLabel_fine.npy')\n",
    "label_coarse = np.load('trnLabel_coarse.npy')\n",
    "\n",
    "#image_index = 1 # pick a specific image\n",
    "#image = images[:, :, :, image_index]\n",
    "\n",
    "test_images = np.load('tstImage.npy')\n",
    "test_label_fine = np.load('tstLabel_fine.npy')\n",
    "test_label_coarse = np.load('tstLabel_coarse.npy')\n",
    "\n",
    "print(f'Images Shape: {images.shape}')\n",
    "print(f'Train Labels Fine Shape: {label_fine.shape}')\n",
    "print(f'Train Labels Coarse Shape: {label_coarse.shape}')"
   ]
  },
  {
   "cell_type": "markdown",
   "id": "increasing-wright",
   "metadata": {},
   "source": [
    "## Shuffle data to ensure not ordered"
   ]
  },
  {
   "cell_type": "code",
   "execution_count": 3,
   "id": "martial-orlando",
   "metadata": {},
   "outputs": [],
   "source": [
    "images = shuffle(images, random_state=0)\n",
    "label_fine, label_coarse = shuffle(label_fine, label_coarse, random_state=0) #make sure the samples are not ordered\n",
    "\n",
    "\n",
    "test_images = shuffle(test_images, random_state=0)\n",
    "test_label_fine, test_label_coarse = shuffle(test_label_fine, test_label_coarse, random_state=0)"
   ]
  },
  {
   "cell_type": "markdown",
   "id": "looking-chain",
   "metadata": {},
   "source": [
    "# CNN"
   ]
  },
  {
   "cell_type": "markdown",
   "id": "rotary-constraint",
   "metadata": {},
   "source": [
    "## Normalise the data, for each image do a hog, add how to array, train images"
   ]
  },
  {
   "cell_type": "code",
   "execution_count": 4,
   "id": "banner-psychiatry",
   "metadata": {},
   "outputs": [
    {
     "name": "stdout",
     "output_type": "stream",
     "text": [
      "(50000, 32, 32)\n"
     ]
    }
   ],
   "source": [
    "try:\n",
    "    train_images_normalised = load('hog_array_train.npy')\n",
    "    print(train_images_normalised.shape)\n",
    "except FileNotFoundError: \n",
    "    \n",
    "    train_images_normalised = []\n",
    "    \n",
    "    for image_index in range(0, images.shape[3]):\n",
    "        print(image_index, images.shape[3])\n",
    "        image = images[:, :, :, image_index]\n",
    "\n",
    "        # Extract features from a single image\n",
    "        _, hog_image = skimage.feature.hog(image, pixels_per_cell=[2,2], cells_per_block=[3,3], visualize=True)\n",
    "        train_images_normalised.append(hog_image)\n",
    "        \n",
    "    train_images_output = np.array(train_images_normalised)\n",
    "    data = asarray(train_images_output)\n",
    "        # save to npy file\n",
    "    save('hog_array_train.npy', data)\n",
    "    "
   ]
  },
  {
   "cell_type": "code",
   "execution_count": 5,
   "id": "absolute-arrival",
   "metadata": {},
   "outputs": [
    {
     "name": "stdout",
     "output_type": "stream",
     "text": [
      "(10000, 32, 32)\n"
     ]
    }
   ],
   "source": [
    "try:\n",
    "    test_images_normalised = load('hog_array_test.npy')\n",
    "    print(test_images_normalised.shape)\n",
    "    \n",
    "except: \n",
    "    test_images_normalised = []\n",
    "    for image_index in range(0, test_images.shape[3]):\n",
    "        print(image_index, test_images.shape[3])\n",
    "        image = test_images[:, :, :, image_index]\n",
    "\n",
    "        # Extract features from a single image\n",
    "        _, hog_image = skimage.feature.hog(image, pixels_per_cell=[2,2], cells_per_block=[3,3], visualize=True)\n",
    "        test_images_normalised.append(hog_image)\n",
    "\n",
    "    train_images_output = np.array(test_images_normalised)\n",
    "    data = asarray(train_images_output)\n",
    "    save('hog_array_test.npy', data)"
   ]
  },
  {
   "cell_type": "markdown",
   "id": "excessive-guyana",
   "metadata": {},
   "source": [
    "## Check the Data cardinality"
   ]
  },
  {
   "cell_type": "code",
   "execution_count": 6,
   "id": "strange-backing",
   "metadata": {},
   "outputs": [
    {
     "name": "stdout",
     "output_type": "stream",
     "text": [
      "train shape (50000, 32, 32, 1)\n",
      "test shape (10000, 32, 32, 1)\n",
      "\n",
      "coarse shape (50000,)\n",
      "fine shape (50000,)\n",
      "\n",
      "Unique Fine labels 100\n",
      "unique Coarse Labels 20\n"
     ]
    }
   ],
   "source": [
    "train_images_reshaped = train_images_normalised.reshape(50000, 32, 32, 1)\n",
    "test_images_reshaped = test_images_normalised.reshape(10000, 32, 32, 1)\n",
    "\n",
    "print(\"train shape \" + str(train_images_reshaped.shape))\n",
    "print(\"test shape \" + str(test_images_reshaped.shape) + \"\\n\")\n",
    "\n",
    "print(\"coarse shape \" + str(label_coarse.shape))\n",
    "print(\"fine shape \" + str(label_fine.shape)+ \"\\n\")\n",
    "\n",
    "output_num_fine = (np.unique(label_fine).shape[0])\n",
    "print(\"Unique Fine labels \" + str(output_num_fine))\n",
    "\n",
    "output_num_coarse = (np.unique(label_coarse).shape[0])\n",
    "print(\"unique Coarse Labels \" + str(output_num_coarse))\n"
   ]
  },
  {
   "cell_type": "markdown",
   "id": "local-former",
   "metadata": {},
   "source": [
    "## Split Training data into a train and test split"
   ]
  },
  {
   "cell_type": "code",
   "execution_count": 7,
   "id": "intensive-northeast",
   "metadata": {},
   "outputs": [],
   "source": [
    "xTrn_split, xTst_split, yTrn_split, yTst_split = train_test_split(train_images_reshaped, label_coarse, test_size=0.2)"
   ]
  },
  {
   "cell_type": "markdown",
   "id": "unauthorized-opportunity",
   "metadata": {},
   "source": [
    "## Create a Tensorflow Convolutional Neural Network on the training set using Conv2D and pooling Layers"
   ]
  },
  {
   "cell_type": "code",
   "execution_count": 29,
   "id": "interior-penetration",
   "metadata": {},
   "outputs": [
    {
     "name": "stdout",
     "output_type": "stream",
     "text": [
      "Model: \"sequential_4\"\n",
      "_________________________________________________________________\n",
      "Layer (type)                 Output Shape              Param #   \n",
      "=================================================================\n",
      "conv2d_6 (Conv2D)            (None, 30, 30, 32)        320       \n",
      "_________________________________________________________________\n",
      "max_pooling2d_6 (MaxPooling2 (None, 15, 15, 32)        0         \n",
      "=================================================================\n",
      "Total params: 320\n",
      "Trainable params: 320\n",
      "Non-trainable params: 0\n",
      "_________________________________________________________________\n"
     ]
    }
   ],
   "source": [
    "model = tf.keras.Sequential()\n",
    "model.add(tf.keras.layers.Conv2D(32, (3, 3), activation='selu', input_shape=(32, 32, 1)))\n",
    "model.add(tf.keras.layers.MaxPooling2D((2, 2)))\n",
    "\n",
    "model.summary()"
   ]
  },
  {
   "cell_type": "markdown",
   "id": "fixed-bankruptcy",
   "metadata": {},
   "source": [
    "## Train and fit the model\n",
    "\n",
    "softmax - sed as the last activation function of a neural network to normalize the output of a network"
   ]
  },
  {
   "cell_type": "code",
   "execution_count": 30,
   "id": "waiting-ivory",
   "metadata": {},
   "outputs": [],
   "source": [
    "model.add(tf.keras.layers.Flatten()) #dense layers can oinly have 1d so flattern araray to one dimension\n",
    "model.add(tf.keras.layers.Dense(64, activation='relu'))\n",
    "model.add(tf.keras.layers.Dense(64, activation='selu'))\n",
    "model.add(tf.keras.layers.Dense(output_num_coarse, activation='softmax'))\n",
    "\n",
    "model.compile(loss=tf.keras.losses.SparseCategoricalCrossentropy(from_logits=True),\n",
    "              metrics=['accuracy'])"
   ]
  },
  {
   "cell_type": "code",
   "execution_count": 31,
   "id": "informational-morrison",
   "metadata": {},
   "outputs": [
    {
     "name": "stdout",
     "output_type": "stream",
     "text": [
      "Epoch 1/100\n",
      "1250/1250 [==============================] - 10s 8ms/step - loss: 3.0076 - accuracy: 0.0513 - val_loss: 2.9966 - val_accuracy: 0.0512\n",
      "Epoch 2/100\n",
      "1250/1250 [==============================] - 10s 8ms/step - loss: 2.9966 - accuracy: 0.0510 - val_loss: 2.9965 - val_accuracy: 0.0492\n",
      "Epoch 3/100\n",
      "1250/1250 [==============================] - 10s 8ms/step - loss: 2.9973 - accuracy: 0.0488 - val_loss: 2.9963 - val_accuracy: 0.0492\n",
      "Epoch 4/100\n",
      "1250/1250 [==============================] - 10s 8ms/step - loss: 2.9966 - accuracy: 0.0487 - val_loss: 2.9964 - val_accuracy: 0.0474\n",
      "Epoch 5/100\n",
      "1250/1250 [==============================] - 10s 8ms/step - loss: 2.9969 - accuracy: 0.0522 - val_loss: 2.9963 - val_accuracy: 0.0520\n",
      "Epoch 6/100\n",
      "1250/1250 [==============================] - 10s 8ms/step - loss: 2.9973 - accuracy: 0.0500 - val_loss: 2.9969 - val_accuracy: 0.0501\n",
      "Epoch 7/100\n",
      "1250/1250 [==============================] - 10s 8ms/step - loss: 2.9966 - accuracy: 0.0489 - val_loss: 2.9968 - val_accuracy: 0.0469\n",
      "Epoch 8/100\n",
      "1250/1250 [==============================] - 10s 8ms/step - loss: 2.9960 - accuracy: 0.0514 - val_loss: 2.9965 - val_accuracy: 0.0469\n",
      "Epoch 9/100\n",
      "1250/1250 [==============================] - 10s 8ms/step - loss: 2.9962 - accuracy: 0.0492 - val_loss: 2.9967 - val_accuracy: 0.0492\n",
      "Epoch 10/100\n",
      "1250/1250 [==============================] - 10s 8ms/step - loss: 2.9962 - accuracy: 0.0512 - val_loss: 2.9963 - val_accuracy: 0.0469\n",
      "Epoch 11/100\n",
      "1250/1250 [==============================] - 10s 8ms/step - loss: 2.9969 - accuracy: 0.0504 - val_loss: 2.9966 - val_accuracy: 0.0517\n",
      "Epoch 12/100\n",
      "1250/1250 [==============================] - 10s 8ms/step - loss: 2.9966 - accuracy: 0.0482 - val_loss: 2.9966 - val_accuracy: 0.0473\n",
      "Epoch 13/100\n",
      "1250/1250 [==============================] - 10s 8ms/step - loss: 2.9968 - accuracy: 0.0492 - val_loss: 2.9982 - val_accuracy: 0.0477\n",
      "Epoch 14/100\n",
      "1250/1250 [==============================] - 10s 8ms/step - loss: 2.9962 - accuracy: 0.0507 - val_loss: 2.9965 - val_accuracy: 0.0467\n",
      "Epoch 15/100\n",
      "1250/1250 [==============================] - 10s 8ms/step - loss: 2.9958 - accuracy: 0.0512 - val_loss: 2.9993 - val_accuracy: 0.0457\n",
      "Epoch 16/100\n",
      "1250/1250 [==============================] - 10s 8ms/step - loss: 2.9967 - accuracy: 0.0499 - val_loss: 2.9975 - val_accuracy: 0.0505\n",
      "Epoch 17/100\n",
      "1250/1250 [==============================] - 10s 8ms/step - loss: 2.9961 - accuracy: 0.0534 - val_loss: 2.9979 - val_accuracy: 0.0499\n",
      "Epoch 18/100\n",
      "1250/1250 [==============================] - 10s 8ms/step - loss: 2.9955 - accuracy: 0.0517 - val_loss: 2.9987 - val_accuracy: 0.0497\n",
      "Epoch 19/100\n",
      "1250/1250 [==============================] - 10s 8ms/step - loss: 2.9944 - accuracy: 0.0539 - val_loss: 2.9990 - val_accuracy: 0.0483\n",
      "Epoch 20/100\n",
      "1250/1250 [==============================] - 10s 8ms/step - loss: 2.9947 - accuracy: 0.0520 - val_loss: 3.0029 - val_accuracy: 0.0482\n",
      "Epoch 21/100\n",
      "1250/1250 [==============================] - 10s 8ms/step - loss: 2.9942 - accuracy: 0.0520 - val_loss: 2.9977 - val_accuracy: 0.0467\n",
      "Epoch 22/100\n",
      "1250/1250 [==============================] - 10s 8ms/step - loss: 2.9925 - accuracy: 0.0536 - val_loss: 3.0060 - val_accuracy: 0.0529\n",
      "Epoch 23/100\n",
      "1250/1250 [==============================] - 10s 8ms/step - loss: 2.9922 - accuracy: 0.0534 - val_loss: 3.0010 - val_accuracy: 0.0504\n",
      "Epoch 24/100\n",
      "1250/1250 [==============================] - 9s 8ms/step - loss: 2.9889 - accuracy: 0.0540 - val_loss: 3.0030 - val_accuracy: 0.0462\n",
      "Epoch 25/100\n",
      "1250/1250 [==============================] - 9s 8ms/step - loss: 2.9867 - accuracy: 0.0565 - val_loss: 3.0011 - val_accuracy: 0.0487\n",
      "Epoch 26/100\n",
      "1250/1250 [==============================] - 9s 8ms/step - loss: 2.9812 - accuracy: 0.0575 - val_loss: 3.0102 - val_accuracy: 0.0465\n",
      "Epoch 27/100\n",
      "1250/1250 [==============================] - 10s 8ms/step - loss: 2.9731 - accuracy: 0.0625 - val_loss: 3.0194 - val_accuracy: 0.0503\n",
      "Epoch 28/100\n",
      "1250/1250 [==============================] - 10s 8ms/step - loss: 2.9660 - accuracy: 0.0706 - val_loss: 3.0499 - val_accuracy: 0.0505\n",
      "Epoch 29/100\n",
      "1250/1250 [==============================] - 10s 8ms/step - loss: 2.9563 - accuracy: 0.0696 - val_loss: 3.0258 - val_accuracy: 0.0490\n",
      "Epoch 30/100\n",
      "1250/1250 [==============================] - 10s 8ms/step - loss: 2.9386 - accuracy: 0.0788 - val_loss: 3.0391 - val_accuracy: 0.0503\n",
      "Epoch 31/100\n",
      "1250/1250 [==============================] - 10s 8ms/step - loss: 2.9275 - accuracy: 0.0795 - val_loss: 3.0609 - val_accuracy: 0.0497\n",
      "Epoch 32/100\n",
      "1250/1250 [==============================] - 10s 8ms/step - loss: 2.9059 - accuracy: 0.0897 - val_loss: 3.0663 - val_accuracy: 0.0488\n",
      "Epoch 33/100\n",
      "1250/1250 [==============================] - 9s 8ms/step - loss: 2.8897 - accuracy: 0.0958 - val_loss: 3.1119 - val_accuracy: 0.0474\n",
      "Epoch 34/100\n",
      "1250/1250 [==============================] - 10s 8ms/step - loss: 2.8715 - accuracy: 0.0970 - val_loss: 3.1187 - val_accuracy: 0.0485\n",
      "Epoch 35/100\n",
      "1250/1250 [==============================] - 10s 8ms/step - loss: 2.8507 - accuracy: 0.1053 - val_loss: 3.1110 - val_accuracy: 0.0481\n",
      "Epoch 36/100\n",
      "1250/1250 [==============================] - 10s 8ms/step - loss: 2.8353 - accuracy: 0.1074 - val_loss: 3.1831 - val_accuracy: 0.0477\n",
      "Epoch 37/100\n",
      "1250/1250 [==============================] - 10s 8ms/step - loss: 2.8091 - accuracy: 0.1130 - val_loss: 3.1730 - val_accuracy: 0.0475\n",
      "Epoch 38/100\n",
      "1250/1250 [==============================] - 10s 8ms/step - loss: 2.7877 - accuracy: 0.1212 - val_loss: 3.1997 - val_accuracy: 0.0470\n",
      "Epoch 39/100\n",
      "1250/1250 [==============================] - 10s 8ms/step - loss: 2.7768 - accuracy: 0.1222 - val_loss: 3.2104 - val_accuracy: 0.0491\n",
      "Epoch 40/100\n",
      "1250/1250 [==============================] - 10s 8ms/step - loss: 2.7620 - accuracy: 0.1274 - val_loss: 3.2107 - val_accuracy: 0.0490\n",
      "Epoch 41/100\n",
      "1250/1250 [==============================] - 10s 8ms/step - loss: 2.7406 - accuracy: 0.1327 - val_loss: 3.2336 - val_accuracy: 0.0488\n",
      "Epoch 42/100\n",
      "1250/1250 [==============================] - 10s 8ms/step - loss: 2.7185 - accuracy: 0.1384 - val_loss: 3.3066 - val_accuracy: 0.0491\n",
      "Epoch 43/100\n",
      "1250/1250 [==============================] - 10s 8ms/step - loss: 2.7103 - accuracy: 0.1439 - val_loss: 3.3306 - val_accuracy: 0.0493\n",
      "Epoch 44/100\n",
      "1250/1250 [==============================] - 10s 8ms/step - loss: 2.6999 - accuracy: 0.1444 - val_loss: 3.3417 - val_accuracy: 0.0468\n",
      "Epoch 45/100\n",
      "1250/1250 [==============================] - 10s 8ms/step - loss: 2.6764 - accuracy: 0.1513 - val_loss: 3.5437 - val_accuracy: 0.0510\n",
      "Epoch 46/100\n",
      "1250/1250 [==============================] - 10s 8ms/step - loss: 2.6615 - accuracy: 0.1562 - val_loss: 3.4650 - val_accuracy: 0.0476\n",
      "Epoch 47/100\n",
      "1250/1250 [==============================] - 9s 8ms/step - loss: 2.6478 - accuracy: 0.1570 - val_loss: 3.4400 - val_accuracy: 0.0481\n",
      "Epoch 48/100\n",
      "1250/1250 [==============================] - 10s 8ms/step - loss: 2.6314 - accuracy: 0.1613 - val_loss: 3.4005 - val_accuracy: 0.0497\n",
      "Epoch 49/100\n",
      "1250/1250 [==============================] - 10s 8ms/step - loss: 2.6157 - accuracy: 0.1668 - val_loss: 3.5560 - val_accuracy: 0.0498\n",
      "Epoch 50/100\n",
      "1250/1250 [==============================] - 10s 8ms/step - loss: 2.6006 - accuracy: 0.1706 - val_loss: 3.5776 - val_accuracy: 0.0526\n",
      "Epoch 51/100\n",
      "1250/1250 [==============================] - 10s 8ms/step - loss: 2.5763 - accuracy: 0.1811 - val_loss: 3.5850 - val_accuracy: 0.0480\n",
      "Epoch 52/100\n",
      "1250/1250 [==============================] - 10s 8ms/step - loss: 2.5726 - accuracy: 0.1785 - val_loss: 3.6016 - val_accuracy: 0.0534\n",
      "Epoch 53/100\n",
      "1250/1250 [==============================] - 10s 8ms/step - loss: 2.5515 - accuracy: 0.1842 - val_loss: 3.5436 - val_accuracy: 0.0512\n",
      "Epoch 54/100\n",
      "1250/1250 [==============================] - 10s 8ms/step - loss: 2.5410 - accuracy: 0.1852 - val_loss: 3.7034 - val_accuracy: 0.0518\n",
      "Epoch 55/100\n",
      "1250/1250 [==============================] - 10s 8ms/step - loss: 2.5354 - accuracy: 0.1900 - val_loss: 3.6881 - val_accuracy: 0.0470\n",
      "Epoch 56/100\n",
      "1250/1250 [==============================] - 10s 8ms/step - loss: 2.5153 - accuracy: 0.1954 - val_loss: 3.7690 - val_accuracy: 0.0508\n"
     ]
    },
    {
     "name": "stdout",
     "output_type": "stream",
     "text": [
      "Epoch 57/100\n",
      "1250/1250 [==============================] - 10s 8ms/step - loss: 2.5010 - accuracy: 0.2000 - val_loss: 3.6531 - val_accuracy: 0.0505\n",
      "Epoch 58/100\n",
      "1250/1250 [==============================] - 10s 8ms/step - loss: 2.5015 - accuracy: 0.2011 - val_loss: 3.8964 - val_accuracy: 0.0497\n",
      "Epoch 59/100\n",
      "1250/1250 [==============================] - 10s 8ms/step - loss: 2.4727 - accuracy: 0.2057 - val_loss: 3.7180 - val_accuracy: 0.0479\n",
      "Epoch 60/100\n",
      "1250/1250 [==============================] - 10s 8ms/step - loss: 2.4678 - accuracy: 0.2080 - val_loss: 3.8494 - val_accuracy: 0.0528\n",
      "Epoch 61/100\n",
      "1250/1250 [==============================] - 10s 8ms/step - loss: 2.4512 - accuracy: 0.2132 - val_loss: 3.9367 - val_accuracy: 0.0521\n",
      "Epoch 62/100\n",
      "1250/1250 [==============================] - 10s 8ms/step - loss: 2.4356 - accuracy: 0.2182 - val_loss: 4.0527 - val_accuracy: 0.0484\n",
      "Epoch 63/100\n",
      "1250/1250 [==============================] - 10s 8ms/step - loss: 2.4236 - accuracy: 0.2185 - val_loss: 4.1511 - val_accuracy: 0.0493\n",
      "Epoch 64/100\n",
      "1250/1250 [==============================] - 10s 8ms/step - loss: 2.4095 - accuracy: 0.2284 - val_loss: 3.9189 - val_accuracy: 0.0527\n",
      "Epoch 65/100\n",
      "1250/1250 [==============================] - 10s 8ms/step - loss: 2.4040 - accuracy: 0.2249 - val_loss: 4.0548 - val_accuracy: 0.0491\n",
      "Epoch 66/100\n",
      "1250/1250 [==============================] - 10s 8ms/step - loss: 2.3905 - accuracy: 0.2277 - val_loss: 3.9979 - val_accuracy: 0.0482\n",
      "Epoch 67/100\n",
      "1250/1250 [==============================] - 10s 8ms/step - loss: 2.3653 - accuracy: 0.2346 - val_loss: 4.1117 - val_accuracy: 0.0518\n",
      "Epoch 68/100\n",
      "1250/1250 [==============================] - 10s 8ms/step - loss: 2.3558 - accuracy: 0.2385 - val_loss: 4.2186 - val_accuracy: 0.0491\n",
      "Epoch 69/100\n",
      "1250/1250 [==============================] - 10s 8ms/step - loss: 2.3517 - accuracy: 0.2415 - val_loss: 4.5665 - val_accuracy: 0.0459\n",
      "Epoch 70/100\n",
      "1250/1250 [==============================] - 10s 8ms/step - loss: 2.3324 - accuracy: 0.2501 - val_loss: 4.2057 - val_accuracy: 0.0487\n",
      "Epoch 71/100\n",
      "1250/1250 [==============================] - 10s 8ms/step - loss: 2.3354 - accuracy: 0.2476 - val_loss: 4.5340 - val_accuracy: 0.0535\n",
      "Epoch 72/100\n",
      "1250/1250 [==============================] - 10s 8ms/step - loss: 2.3237 - accuracy: 0.2488 - val_loss: 4.4065 - val_accuracy: 0.0508\n",
      "Epoch 73/100\n",
      "1250/1250 [==============================] - 10s 8ms/step - loss: 2.2999 - accuracy: 0.2552 - val_loss: 4.5683 - val_accuracy: 0.0511\n",
      "Epoch 74/100\n",
      "1250/1250 [==============================] - 10s 8ms/step - loss: 2.2940 - accuracy: 0.2532 - val_loss: 4.2972 - val_accuracy: 0.0514\n",
      "Epoch 75/100\n",
      "1250/1250 [==============================] - 10s 8ms/step - loss: 2.2949 - accuracy: 0.2590 - val_loss: 4.4760 - val_accuracy: 0.0505\n",
      "Epoch 76/100\n",
      "1250/1250 [==============================] - 10s 8ms/step - loss: 2.2767 - accuracy: 0.2633 - val_loss: 4.4976 - val_accuracy: 0.0494\n",
      "Epoch 77/100\n",
      "1250/1250 [==============================] - 10s 8ms/step - loss: 2.2842 - accuracy: 0.2586 - val_loss: 4.2363 - val_accuracy: 0.0501\n",
      "Epoch 78/100\n",
      " 321/1250 [======>.......................] - ETA: 6s - loss: 2.2253 - accuracy: 0.2758"
     ]
    },
    {
     "ename": "KeyboardInterrupt",
     "evalue": "",
     "output_type": "error",
     "traceback": [
      "\u001b[1;31m---------------------------------------------------------------------------\u001b[0m",
      "\u001b[1;31mKeyboardInterrupt\u001b[0m                         Traceback (most recent call last)",
      "\u001b[1;32m<ipython-input-31-ab810548759e>\u001b[0m in \u001b[0;36m<module>\u001b[1;34m\u001b[0m\n\u001b[0;32m      1\u001b[0m history = model.fit(xTrn_split, yTrn_split, epochs=100, \n\u001b[1;32m----> 2\u001b[1;33m                     validation_data=(xTst_split, yTst_split))\n\u001b[0m",
      "\u001b[1;32mc:\\users\\lizks\\appdata\\local\\programs\\python\\python37\\lib\\site-packages\\tensorflow\\python\\keras\\engine\\training.py\u001b[0m in \u001b[0;36mfit\u001b[1;34m(self, x, y, batch_size, epochs, verbose, callbacks, validation_split, validation_data, shuffle, class_weight, sample_weight, initial_epoch, steps_per_epoch, validation_steps, validation_batch_size, validation_freq, max_queue_size, workers, use_multiprocessing)\u001b[0m\n\u001b[0;32m   1098\u001b[0m                 _r=1):\n\u001b[0;32m   1099\u001b[0m               \u001b[0mcallbacks\u001b[0m\u001b[1;33m.\u001b[0m\u001b[0mon_train_batch_begin\u001b[0m\u001b[1;33m(\u001b[0m\u001b[0mstep\u001b[0m\u001b[1;33m)\u001b[0m\u001b[1;33m\u001b[0m\u001b[1;33m\u001b[0m\u001b[0m\n\u001b[1;32m-> 1100\u001b[1;33m               \u001b[0mtmp_logs\u001b[0m \u001b[1;33m=\u001b[0m \u001b[0mself\u001b[0m\u001b[1;33m.\u001b[0m\u001b[0mtrain_function\u001b[0m\u001b[1;33m(\u001b[0m\u001b[0miterator\u001b[0m\u001b[1;33m)\u001b[0m\u001b[1;33m\u001b[0m\u001b[1;33m\u001b[0m\u001b[0m\n\u001b[0m\u001b[0;32m   1101\u001b[0m               \u001b[1;32mif\u001b[0m \u001b[0mdata_handler\u001b[0m\u001b[1;33m.\u001b[0m\u001b[0mshould_sync\u001b[0m\u001b[1;33m:\u001b[0m\u001b[1;33m\u001b[0m\u001b[1;33m\u001b[0m\u001b[0m\n\u001b[0;32m   1102\u001b[0m                 \u001b[0mcontext\u001b[0m\u001b[1;33m.\u001b[0m\u001b[0masync_wait\u001b[0m\u001b[1;33m(\u001b[0m\u001b[1;33m)\u001b[0m\u001b[1;33m\u001b[0m\u001b[1;33m\u001b[0m\u001b[0m\n",
      "\u001b[1;32mc:\\users\\lizks\\appdata\\local\\programs\\python\\python37\\lib\\site-packages\\tensorflow\\python\\eager\\def_function.py\u001b[0m in \u001b[0;36m__call__\u001b[1;34m(self, *args, **kwds)\u001b[0m\n\u001b[0;32m    826\u001b[0m     \u001b[0mtracing_count\u001b[0m \u001b[1;33m=\u001b[0m \u001b[0mself\u001b[0m\u001b[1;33m.\u001b[0m\u001b[0mexperimental_get_tracing_count\u001b[0m\u001b[1;33m(\u001b[0m\u001b[1;33m)\u001b[0m\u001b[1;33m\u001b[0m\u001b[1;33m\u001b[0m\u001b[0m\n\u001b[0;32m    827\u001b[0m     \u001b[1;32mwith\u001b[0m \u001b[0mtrace\u001b[0m\u001b[1;33m.\u001b[0m\u001b[0mTrace\u001b[0m\u001b[1;33m(\u001b[0m\u001b[0mself\u001b[0m\u001b[1;33m.\u001b[0m\u001b[0m_name\u001b[0m\u001b[1;33m)\u001b[0m \u001b[1;32mas\u001b[0m \u001b[0mtm\u001b[0m\u001b[1;33m:\u001b[0m\u001b[1;33m\u001b[0m\u001b[1;33m\u001b[0m\u001b[0m\n\u001b[1;32m--> 828\u001b[1;33m       \u001b[0mresult\u001b[0m \u001b[1;33m=\u001b[0m \u001b[0mself\u001b[0m\u001b[1;33m.\u001b[0m\u001b[0m_call\u001b[0m\u001b[1;33m(\u001b[0m\u001b[1;33m*\u001b[0m\u001b[0margs\u001b[0m\u001b[1;33m,\u001b[0m \u001b[1;33m**\u001b[0m\u001b[0mkwds\u001b[0m\u001b[1;33m)\u001b[0m\u001b[1;33m\u001b[0m\u001b[1;33m\u001b[0m\u001b[0m\n\u001b[0m\u001b[0;32m    829\u001b[0m       \u001b[0mcompiler\u001b[0m \u001b[1;33m=\u001b[0m \u001b[1;34m\"xla\"\u001b[0m \u001b[1;32mif\u001b[0m \u001b[0mself\u001b[0m\u001b[1;33m.\u001b[0m\u001b[0m_experimental_compile\u001b[0m \u001b[1;32melse\u001b[0m \u001b[1;34m\"nonXla\"\u001b[0m\u001b[1;33m\u001b[0m\u001b[1;33m\u001b[0m\u001b[0m\n\u001b[0;32m    830\u001b[0m       \u001b[0mnew_tracing_count\u001b[0m \u001b[1;33m=\u001b[0m \u001b[0mself\u001b[0m\u001b[1;33m.\u001b[0m\u001b[0mexperimental_get_tracing_count\u001b[0m\u001b[1;33m(\u001b[0m\u001b[1;33m)\u001b[0m\u001b[1;33m\u001b[0m\u001b[1;33m\u001b[0m\u001b[0m\n",
      "\u001b[1;32mc:\\users\\lizks\\appdata\\local\\programs\\python\\python37\\lib\\site-packages\\tensorflow\\python\\eager\\def_function.py\u001b[0m in \u001b[0;36m_call\u001b[1;34m(self, *args, **kwds)\u001b[0m\n\u001b[0;32m    853\u001b[0m       \u001b[1;31m# In this case we have created variables on the first call, so we run the\u001b[0m\u001b[1;33m\u001b[0m\u001b[1;33m\u001b[0m\u001b[1;33m\u001b[0m\u001b[0m\n\u001b[0;32m    854\u001b[0m       \u001b[1;31m# defunned version which is guaranteed to never create variables.\u001b[0m\u001b[1;33m\u001b[0m\u001b[1;33m\u001b[0m\u001b[1;33m\u001b[0m\u001b[0m\n\u001b[1;32m--> 855\u001b[1;33m       \u001b[1;32mreturn\u001b[0m \u001b[0mself\u001b[0m\u001b[1;33m.\u001b[0m\u001b[0m_stateless_fn\u001b[0m\u001b[1;33m(\u001b[0m\u001b[1;33m*\u001b[0m\u001b[0margs\u001b[0m\u001b[1;33m,\u001b[0m \u001b[1;33m**\u001b[0m\u001b[0mkwds\u001b[0m\u001b[1;33m)\u001b[0m  \u001b[1;31m# pylint: disable=not-callable\u001b[0m\u001b[1;33m\u001b[0m\u001b[1;33m\u001b[0m\u001b[0m\n\u001b[0m\u001b[0;32m    856\u001b[0m     \u001b[1;32melif\u001b[0m \u001b[0mself\u001b[0m\u001b[1;33m.\u001b[0m\u001b[0m_stateful_fn\u001b[0m \u001b[1;32mis\u001b[0m \u001b[1;32mnot\u001b[0m \u001b[1;32mNone\u001b[0m\u001b[1;33m:\u001b[0m\u001b[1;33m\u001b[0m\u001b[1;33m\u001b[0m\u001b[0m\n\u001b[0;32m    857\u001b[0m       \u001b[1;31m# Release the lock early so that multiple threads can perform the call\u001b[0m\u001b[1;33m\u001b[0m\u001b[1;33m\u001b[0m\u001b[1;33m\u001b[0m\u001b[0m\n",
      "\u001b[1;32mc:\\users\\lizks\\appdata\\local\\programs\\python\\python37\\lib\\site-packages\\tensorflow\\python\\eager\\function.py\u001b[0m in \u001b[0;36m__call__\u001b[1;34m(self, *args, **kwargs)\u001b[0m\n\u001b[0;32m   2941\u001b[0m        filtered_flat_args) = self._maybe_define_function(args, kwargs)\n\u001b[0;32m   2942\u001b[0m     return graph_function._call_flat(\n\u001b[1;32m-> 2943\u001b[1;33m         filtered_flat_args, captured_inputs=graph_function.captured_inputs)  # pylint: disable=protected-access\n\u001b[0m\u001b[0;32m   2944\u001b[0m \u001b[1;33m\u001b[0m\u001b[0m\n\u001b[0;32m   2945\u001b[0m   \u001b[1;33m@\u001b[0m\u001b[0mproperty\u001b[0m\u001b[1;33m\u001b[0m\u001b[1;33m\u001b[0m\u001b[0m\n",
      "\u001b[1;32mc:\\users\\lizks\\appdata\\local\\programs\\python\\python37\\lib\\site-packages\\tensorflow\\python\\eager\\function.py\u001b[0m in \u001b[0;36m_call_flat\u001b[1;34m(self, args, captured_inputs, cancellation_manager)\u001b[0m\n\u001b[0;32m   1917\u001b[0m       \u001b[1;31m# No tape is watching; skip to running the function.\u001b[0m\u001b[1;33m\u001b[0m\u001b[1;33m\u001b[0m\u001b[1;33m\u001b[0m\u001b[0m\n\u001b[0;32m   1918\u001b[0m       return self._build_call_outputs(self._inference_function.call(\n\u001b[1;32m-> 1919\u001b[1;33m           ctx, args, cancellation_manager=cancellation_manager))\n\u001b[0m\u001b[0;32m   1920\u001b[0m     forward_backward = self._select_forward_and_backward_functions(\n\u001b[0;32m   1921\u001b[0m         \u001b[0margs\u001b[0m\u001b[1;33m,\u001b[0m\u001b[1;33m\u001b[0m\u001b[1;33m\u001b[0m\u001b[0m\n",
      "\u001b[1;32mc:\\users\\lizks\\appdata\\local\\programs\\python\\python37\\lib\\site-packages\\tensorflow\\python\\eager\\function.py\u001b[0m in \u001b[0;36mcall\u001b[1;34m(self, ctx, args, cancellation_manager)\u001b[0m\n\u001b[0;32m    558\u001b[0m               \u001b[0minputs\u001b[0m\u001b[1;33m=\u001b[0m\u001b[0margs\u001b[0m\u001b[1;33m,\u001b[0m\u001b[1;33m\u001b[0m\u001b[1;33m\u001b[0m\u001b[0m\n\u001b[0;32m    559\u001b[0m               \u001b[0mattrs\u001b[0m\u001b[1;33m=\u001b[0m\u001b[0mattrs\u001b[0m\u001b[1;33m,\u001b[0m\u001b[1;33m\u001b[0m\u001b[1;33m\u001b[0m\u001b[0m\n\u001b[1;32m--> 560\u001b[1;33m               ctx=ctx)\n\u001b[0m\u001b[0;32m    561\u001b[0m         \u001b[1;32melse\u001b[0m\u001b[1;33m:\u001b[0m\u001b[1;33m\u001b[0m\u001b[1;33m\u001b[0m\u001b[0m\n\u001b[0;32m    562\u001b[0m           outputs = execute.execute_with_cancellation(\n",
      "\u001b[1;32mc:\\users\\lizks\\appdata\\local\\programs\\python\\python37\\lib\\site-packages\\tensorflow\\python\\eager\\execute.py\u001b[0m in \u001b[0;36mquick_execute\u001b[1;34m(op_name, num_outputs, inputs, attrs, ctx, name)\u001b[0m\n\u001b[0;32m     58\u001b[0m     \u001b[0mctx\u001b[0m\u001b[1;33m.\u001b[0m\u001b[0mensure_initialized\u001b[0m\u001b[1;33m(\u001b[0m\u001b[1;33m)\u001b[0m\u001b[1;33m\u001b[0m\u001b[1;33m\u001b[0m\u001b[0m\n\u001b[0;32m     59\u001b[0m     tensors = pywrap_tfe.TFE_Py_Execute(ctx._handle, device_name, op_name,\n\u001b[1;32m---> 60\u001b[1;33m                                         inputs, attrs, num_outputs)\n\u001b[0m\u001b[0;32m     61\u001b[0m   \u001b[1;32mexcept\u001b[0m \u001b[0mcore\u001b[0m\u001b[1;33m.\u001b[0m\u001b[0m_NotOkStatusException\u001b[0m \u001b[1;32mas\u001b[0m \u001b[0me\u001b[0m\u001b[1;33m:\u001b[0m\u001b[1;33m\u001b[0m\u001b[1;33m\u001b[0m\u001b[0m\n\u001b[0;32m     62\u001b[0m     \u001b[1;32mif\u001b[0m \u001b[0mname\u001b[0m \u001b[1;32mis\u001b[0m \u001b[1;32mnot\u001b[0m \u001b[1;32mNone\u001b[0m\u001b[1;33m:\u001b[0m\u001b[1;33m\u001b[0m\u001b[1;33m\u001b[0m\u001b[0m\n",
      "\u001b[1;31mKeyboardInterrupt\u001b[0m: "
     ]
    }
   ],
   "source": [
    "history = model.fit(xTrn_split, yTrn_split, epochs=100, \n",
    "                    validation_data=(xTst_split, yTst_split))"
   ]
  },
  {
   "cell_type": "markdown",
   "id": "collective-disaster",
   "metadata": {},
   "source": [
    "##  Predict labels for the testing set and check accuracy"
   ]
  },
  {
   "cell_type": "code",
   "execution_count": 23,
   "id": "indian-conversation",
   "metadata": {},
   "outputs": [
    {
     "name": "stdout",
     "output_type": "stream",
     "text": [
      "[[3.7208243e-05 1.3156892e-04 8.4406354e-02 ... 3.7541618e-03\n",
      "  6.8277662e-04 3.7798347e-06]\n",
      " [2.9059731e-05 1.1924543e-05 2.9391385e-06 ... 9.7554401e-03\n",
      "  3.2838815e-04 2.8069595e-02]\n",
      " [3.4600250e-02 1.7566413e-03 2.7504620e-01 ... 1.3324437e-01\n",
      "  4.5037097e-03 1.9794952e-03]\n",
      " ...\n",
      " [6.2927839e-08 4.5048827e-04 1.7672627e-04 ... 2.4777933e-04\n",
      "  4.0938912e-06 3.4276911e-07]\n",
      " [2.8218193e-02 7.2773695e-02 2.4289082e-01 ... 2.6041090e-01\n",
      "  1.3819711e-02 1.8909350e-02]\n",
      " [3.2735559e-10 9.5278481e-14 1.7691275e-09 ... 6.7903623e-14\n",
      "  7.1002150e-06 2.7496187e-08]]\n"
     ]
    }
   ],
   "source": [
    "print(model.predict(test_images_reshaped))"
   ]
  },
  {
   "cell_type": "markdown",
   "id": "aggressive-postage",
   "metadata": {},
   "source": [
    "## Plot models traing curves "
   ]
  },
  {
   "cell_type": "code",
   "execution_count": 24,
   "id": "conditional-senegal",
   "metadata": {},
   "outputs": [
    {
     "name": "stdout",
     "output_type": "stream",
     "text": [
      "313/313 - 1s - loss: 10.9378 - accuracy: 0.0525\n",
      "0.05249999836087227\n"
     ]
    },
    {
     "data": {
      "image/png": "[encoded data removed]",
      "text/plain": [
       "<Figure size 432x288 with 1 Axes>"
      ]
     },
     "metadata": {
      "needs_background": "light"
     },
     "output_type": "display_data"
    }
   ],
   "source": [
    "plt.plot(history.history['accuracy'], label='accuracy')\n",
    "plt.plot(history.history['val_accuracy'], label = 'val_accuracy')\n",
    "plt.xlabel('Epoch')\n",
    "plt.ylabel('Accuracy')\n",
    "plt.ylim([0.5, 1])\n",
    "plt.legend(loc='lower right')\n",
    "\n",
    "test_loss, test_acc = model.evaluate(test_images_reshaped,  test_label_coarse, verbose=2)\n",
    "\n",
    "print(test_acc)"
   ]
  },
  {
   "cell_type": "code",
   "execution_count": 25,
   "id": "improving-alias",
   "metadata": {},
   "outputs": [
    {
     "name": "stdout",
     "output_type": "stream",
     "text": [
      "[10.937837600708008, 0.05249999836087227]\n"
     ]
    }
   ],
   "source": [
    "score = model.evaluate(test_images_reshaped, test_label_coarse, verbose=0)\n",
    "print(score)"
   ]
  },
  {
   "cell_type": "code",
   "execution_count": null,
   "id": "seven-wiring",
   "metadata": {},
   "outputs": [],
   "source": []
  }
 ],
 "metadata": {
  "kernelspec": {
   "display_name": "Python 3",
   "language": "python",
   "name": "python3"
  },
  "language_info": {
   "codemirror_mode": {
    "name": "ipython",
    "version": 3
   },
   "file_extension": ".py",
   "mimetype": "text/x-python",
   "name": "python",
   "nbconvert_exporter": "python",
   "pygments_lexer": "ipython3",
   "version": "3.7.7"
  }
 },
 "nbformat": 4,
 "nbformat_minor": 5
}
