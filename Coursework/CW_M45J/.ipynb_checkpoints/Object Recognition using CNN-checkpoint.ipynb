{
 "cells": [
  {
   "cell_type": "markdown",
   "id": "ordered-recorder",
   "metadata": {},
   "source": [
    "# CW1 - Object Recognition using CNN\n",
    "To apply machine learning alorithms to clasify the testing images into object categories. Then use a model to perform classification and report quantitative results.\n",
    "\n",
    "Due: Monday 19th April"
   ]
  },
  {
   "cell_type": "markdown",
   "id": "norwegian-karma",
   "metadata": {},
   "source": [
    "# Introduction"
   ]
  },
  {
   "cell_type": "markdown",
   "id": "leading-turning",
   "metadata": {},
   "source": [
    "The aim is to evaluate the use of CNN's in image recognition and the affect of adding multiple layers."
   ]
  },
  {
   "cell_type": "markdown",
   "id": "alpha-negotiation",
   "metadata": {},
   "source": [
    "# Imports "
   ]
  },
  {
   "cell_type": "code",
   "execution_count": 1,
   "id": "modified-demographic",
   "metadata": {},
   "outputs": [],
   "source": [
    "import numpy as np\n",
    "from numpy import load\n",
    "from numpy import asarray\n",
    "from numpy import save\n",
    "import matplotlib.pyplot as plt\n",
    "import tensorflow as tf\n",
    "import skimage.feature\n",
    "from sklearn.utils import shuffle\n",
    "from sklearn.model_selection import train_test_split"
   ]
  },
  {
   "cell_type": "markdown",
   "id": "moving-democracy",
   "metadata": {},
   "source": [
    "# Load Data\n",
    "There are 100 different categories of objects\n",
    "each has 500 images for training and 100 images for testing.\n",
    "Split the data into train and test sections"
   ]
  },
  {
   "cell_type": "code",
   "execution_count": 2,
   "id": "recovered-longer",
   "metadata": {},
   "outputs": [
    {
     "name": "stdout",
     "output_type": "stream",
     "text": [
      "Images Shape: (32, 32, 3, 50000)\n",
      "Train Labels Fine Shape: (50000,)\n",
      "Train Labels Coarse Shape: (50000,)\n"
     ]
    }
   ],
   "source": [
    "images = np.load('trnImage.npy')\n",
    "label_fine = np.load('trnLabel_fine.npy')\n",
    "label_coarse = np.load('trnLabel_coarse.npy')\n",
    "\n",
    "#image_index = 1 # pick a specific image\n",
    "#image = images[:, :, :, image_index]\n",
    "\n",
    "test_images = np.load('tstImage.npy')\n",
    "test_label_fine = np.load('tstLabel_fine.npy')\n",
    "test_label_coarse = np.load('tstLabel_coarse.npy')\n",
    "\n",
    "print(f'Images Shape: {images.shape}')\n",
    "print(f'Train Labels Fine Shape: {label_fine.shape}')\n",
    "print(f'Train Labels Coarse Shape: {label_coarse.shape}')"
   ]
  },
  {
   "cell_type": "markdown",
   "id": "increasing-wright",
   "metadata": {},
   "source": [
    "## Shuffle data to ensure not ordered"
   ]
  },
  {
   "cell_type": "code",
   "execution_count": 3,
   "id": "martial-orlando",
   "metadata": {},
   "outputs": [],
   "source": [
    "images = shuffle(images, random_state=0)\n",
    "label_fine, label_coarse = shuffle(label_fine, label_coarse, random_state=0) #make sure the samples are not ordered\n",
    "\n",
    "\n",
    "test_images = shuffle(test_images, random_state=0)\n",
    "test_label_fine, test_label_coarse = shuffle(test_label_fine, test_label_coarse, random_state=0)"
   ]
  },
  {
   "cell_type": "markdown",
   "id": "looking-chain",
   "metadata": {},
   "source": [
    "# CNN"
   ]
  },
  {
   "cell_type": "markdown",
   "id": "rotary-constraint",
   "metadata": {},
   "source": [
    "## Normalise the data, for each image do a hog, add how to array, train images"
   ]
  },
  {
   "cell_type": "code",
   "execution_count": 4,
   "id": "banner-psychiatry",
   "metadata": {},
   "outputs": [
    {
     "name": "stdout",
     "output_type": "stream",
     "text": [
      "(50000, 32, 32)\n"
     ]
    }
   ],
   "source": [
    "try:\n",
    "    train_images_normalised = load('hog_array_train.npy')\n",
    "    print(train_images_normalised.shape)\n",
    "except FileNotFoundError: \n",
    "    \n",
    "    train_images_normalised = []\n",
    "    \n",
    "    for image_index in range(0, images.shape[3]):\n",
    "        print(image_index, images.shape[3])\n",
    "        image = images[:, :, :, image_index]\n",
    "\n",
    "        # Extract features from a single image\n",
    "        _, hog_image = skimage.feature.hog(image, pixels_per_cell=[2,2], cells_per_block=[3,3], visualize=True)\n",
    "        train_images_normalised.append(hog_image)\n",
    "        \n",
    "    train_images_output = np.array(train_images_normalised)\n",
    "    data = asarray(train_images_output)\n",
    "        # save to npy file\n",
    "    save('hog_array_train.npy', data)\n",
    "    "
   ]
  },
  {
   "cell_type": "code",
   "execution_count": 5,
   "id": "absolute-arrival",
   "metadata": {},
   "outputs": [
    {
     "name": "stdout",
     "output_type": "stream",
     "text": [
      "(10000, 32, 32)\n"
     ]
    }
   ],
   "source": [
    "try:\n",
    "    test_images_normalised = load('hog_array_test.npy')\n",
    "    print(test_images_normalised.shape)\n",
    "    \n",
    "except: \n",
    "    test_images_normalised = []\n",
    "    for image_index in range(0, test_images.shape[3]):\n",
    "        print(image_index, test_images.shape[3])\n",
    "        image = test_images[:, :, :, image_index]\n",
    "\n",
    "        # Extract features from a single image\n",
    "        _, hog_image = skimage.feature.hog(image, pixels_per_cell=[2,2], cells_per_block=[3,3], visualize=True)\n",
    "        test_images_normalised.append(hog_image)\n",
    "\n",
    "    train_images_output = np.array(test_images_normalised)\n",
    "    data = asarray(train_images_output)\n",
    "    save('hog_array_test.npy', data)"
   ]
  },
  {
   "cell_type": "markdown",
   "id": "excessive-guyana",
   "metadata": {},
   "source": [
    "## Check the Data cardinality"
   ]
  },
  {
   "cell_type": "code",
   "execution_count": 6,
   "id": "published-smart",
   "metadata": {},
   "outputs": [
    {
     "name": "stdout",
     "output_type": "stream",
     "text": [
      "train shape (50000, 32, 32, 1)\n",
      "test shape (10000, 32, 32, 1)\n",
      "\n",
      "coarse shape (50000,)\n",
      "fine shape (50000,)\n",
      "\n",
      "Unique Fine labels 100\n",
      "unique Coarse Labels 20\n"
     ]
    }
   ],
   "source": [
    "train_images_reshaped = train_images_normalised.reshape(50000, 32, 32, 1)\n",
    "test_images_reshaped = test_images_normalised.reshape(10000, 32, 32, 1)\n",
    "\n",
    "print(\"train shape \" + str(train_images_reshaped.shape))\n",
    "print(\"test shape \" + str(test_images_reshaped.shape) + \"\\n\")\n",
    "\n",
    "print(\"coarse shape \" + str(label_coarse.shape))\n",
    "print(\"fine shape \" + str(label_fine.shape)+ \"\\n\")\n",
    "\n",
    "output_num_fine = (np.unique(label_fine).shape[0])\n",
    "print(\"Unique Fine labels \" + str(output_num_fine))\n",
    "\n",
    "output_num_coarse = (np.unique(label_coarse).shape[0])\n",
    "print(\"unique Coarse Labels \" + str(output_num_coarse))\n"
   ]
  },
  {
   "cell_type": "markdown",
   "id": "loved-anaheim",
   "metadata": {},
   "source": [
    "## Split Training data into a train and test split"
   ]
  },
  {
   "cell_type": "code",
   "execution_count": 7,
   "id": "intensive-northeast",
   "metadata": {},
   "outputs": [],
   "source": [
    "xTrn_split, xTst_split, yTrn_split, yTst_split = train_test_split(train_images_reshaped, label_coarse, test_size=0.2)"
   ]
  },
  {
   "cell_type": "markdown",
   "id": "unauthorized-opportunity",
   "metadata": {},
   "source": [
    "## Create a Tensorflow Convolutional Neural Network on the training set using Conv2D and pooling Layers"
   ]
  },
  {
   "cell_type": "code",
   "execution_count": 33,
   "id": "interior-penetration",
   "metadata": {},
   "outputs": [
    {
     "name": "stdout",
     "output_type": "stream",
     "text": [
      "Model: \"sequential_5\"\n",
      "_________________________________________________________________\n",
      "Layer (type)                 Output Shape              Param #   \n",
      "=================================================================\n",
      "conv2d_7 (Conv2D)            (None, 30, 30, 32)        320       \n",
      "_________________________________________________________________\n",
      "max_pooling2d_7 (MaxPooling2 (None, 15, 15, 32)        0         \n",
      "=================================================================\n",
      "Total params: 320\n",
      "Trainable params: 320\n",
      "Non-trainable params: 0\n",
      "_________________________________________________________________\n"
     ]
    }
   ],
   "source": [
    "model = tf.keras.Sequential()\n",
    "model.add(tf.keras.layers.Conv2D(32, (3, 3), activation='selu', input_shape=(32, 32, 1)))\n",
    "model.add(tf.keras.layers.MaxPooling2D((2, 2)))\n",
    "\n",
    "model.summary()"
   ]
  },
  {
   "cell_type": "markdown",
   "id": "attached-divide",
   "metadata": {},
   "source": [
    "## Train and fit the model\n",
    "\n",
    "softmax - sed as the last activation function of a neural network to normalize the output of a network"
   ]
  },
  {
   "cell_type": "code",
   "execution_count": 34,
   "id": "waiting-ivory",
   "metadata": {},
   "outputs": [],
   "source": [
    "model.add(tf.keras.layers.Flatten()) #dense layers can oinly have 1d so flattern araray to one dimension\n",
    "#model.add(tf.keras.layers.Dense(output_num_coarse*2, activation='selu'))\n",
    "model.add(tf.keras.layers.Dense(output_num_coarse, activation='softmax'))\n",
    "\n",
    "model.compile(loss=tf.keras.losses.SparseCategoricalCrossentropy(from_logits=True),\n",
    "              metrics=['accuracy'])"
   ]
  },
  {
   "cell_type": "code",
   "execution_count": 35,
   "id": "mechanical-integer",
   "metadata": {},
   "outputs": [
    {
     "name": "stdout",
     "output_type": "stream",
     "text": [
      "Epoch 1/100\n",
      "1250/1250 [==============================] - 9s 7ms/step - loss: 3.0360 - accuracy: 0.0496 - val_loss: 2.9979 - val_accuracy: 0.0490\n",
      "Epoch 2/100\n",
      "1250/1250 [==============================] - 8s 7ms/step - loss: 2.9898 - accuracy: 0.0654 - val_loss: 3.0056 - val_accuracy: 0.0474\n",
      "Epoch 3/100\n",
      "1250/1250 [==============================] - 8s 7ms/step - loss: 2.9661 - accuracy: 0.0773 - val_loss: 3.0216 - val_accuracy: 0.0478\n",
      "Epoch 4/100\n",
      "1250/1250 [==============================] - 8s 7ms/step - loss: 2.9352 - accuracy: 0.0886 - val_loss: 3.0395 - val_accuracy: 0.0508\n",
      "Epoch 5/100\n",
      "1250/1250 [==============================] - 9s 7ms/step - loss: 2.9035 - accuracy: 0.1091 - val_loss: 3.0670 - val_accuracy: 0.0499\n",
      "Epoch 6/100\n",
      "1250/1250 [==============================] - 8s 6ms/step - loss: 2.8644 - accuracy: 0.1210 - val_loss: 3.0897 - val_accuracy: 0.0511\n",
      "Epoch 7/100\n",
      "1250/1250 [==============================] - 8s 7ms/step - loss: 2.8242 - accuracy: 0.1371 - val_loss: 3.1189 - val_accuracy: 0.0488\n",
      "Epoch 8/100\n",
      "1250/1250 [==============================] - 9s 7ms/step - loss: 2.7803 - accuracy: 0.1509 - val_loss: 3.1550 - val_accuracy: 0.0525\n",
      "Epoch 9/100\n",
      "1250/1250 [==============================] - 9s 7ms/step - loss: 2.7434 - accuracy: 0.1631 - val_loss: 3.1961 - val_accuracy: 0.0509\n",
      "Epoch 10/100\n",
      "1250/1250 [==============================] - 8s 7ms/step - loss: 2.7078 - accuracy: 0.1753 - val_loss: 3.2516 - val_accuracy: 0.0521\n",
      "Epoch 11/100\n",
      "1250/1250 [==============================] - 8s 6ms/step - loss: 2.6635 - accuracy: 0.1865 - val_loss: 3.2662 - val_accuracy: 0.0497\n",
      "Epoch 12/100\n",
      "1250/1250 [==============================] - 9s 7ms/step - loss: 2.6278 - accuracy: 0.2003 - val_loss: 3.3296 - val_accuracy: 0.0496\n",
      "Epoch 13/100\n",
      "1250/1250 [==============================] - 8s 7ms/step - loss: 2.5937 - accuracy: 0.2138 - val_loss: 3.3417 - val_accuracy: 0.0501\n",
      "Epoch 14/100\n",
      "1250/1250 [==============================] - 8s 7ms/step - loss: 2.5492 - accuracy: 0.2252 - val_loss: 3.3685 - val_accuracy: 0.0502\n",
      "Epoch 15/100\n",
      "1250/1250 [==============================] - 8s 7ms/step - loss: 2.5154 - accuracy: 0.2378 - val_loss: 3.4328 - val_accuracy: 0.0493\n",
      "Epoch 16/100\n",
      "1250/1250 [==============================] - 8s 7ms/step - loss: 2.4857 - accuracy: 0.2454 - val_loss: 3.4628 - val_accuracy: 0.0521\n",
      "Epoch 17/100\n",
      "1250/1250 [==============================] - 8s 7ms/step - loss: 2.4555 - accuracy: 0.2537 - val_loss: 3.5077 - val_accuracy: 0.0498\n",
      "Epoch 18/100\n",
      "1250/1250 [==============================] - 8s 7ms/step - loss: 2.4194 - accuracy: 0.2670 - val_loss: 3.5510 - val_accuracy: 0.0521\n",
      "Epoch 19/100\n",
      "1250/1250 [==============================] - 8s 7ms/step - loss: 2.3973 - accuracy: 0.2714 - val_loss: 3.5822 - val_accuracy: 0.0503\n",
      "Epoch 20/100\n",
      "1250/1250 [==============================] - 8s 7ms/step - loss: 2.3503 - accuracy: 0.2845 - val_loss: 3.6337 - val_accuracy: 0.0515\n",
      "Epoch 21/100\n",
      "1250/1250 [==============================] - 8s 7ms/step - loss: 2.3314 - accuracy: 0.2967 - val_loss: 3.6753 - val_accuracy: 0.0515\n",
      "Epoch 22/100\n",
      "1250/1250 [==============================] - 8s 7ms/step - loss: 2.2923 - accuracy: 0.3058 - val_loss: 3.7025 - val_accuracy: 0.0519\n",
      "Epoch 23/100\n",
      "1250/1250 [==============================] - 8s 7ms/step - loss: 2.2728 - accuracy: 0.3107 - val_loss: 3.7505 - val_accuracy: 0.0534\n",
      "Epoch 24/100\n",
      "1250/1250 [==============================] - 8s 7ms/step - loss: 2.2539 - accuracy: 0.3197 - val_loss: 3.7928 - val_accuracy: 0.0494\n",
      "Epoch 25/100\n",
      "1250/1250 [==============================] - 8s 7ms/step - loss: 2.2180 - accuracy: 0.3303 - val_loss: 3.8169 - val_accuracy: 0.0524\n",
      "Epoch 26/100\n",
      "1250/1250 [==============================] - 8s 7ms/step - loss: 2.1899 - accuracy: 0.3320 - val_loss: 3.8779 - val_accuracy: 0.0514\n",
      "Epoch 27/100\n",
      "1250/1250 [==============================] - 8s 7ms/step - loss: 2.1614 - accuracy: 0.3460 - val_loss: 3.9131 - val_accuracy: 0.0515\n",
      "Epoch 28/100\n",
      "1250/1250 [==============================] - 8s 7ms/step - loss: 2.1371 - accuracy: 0.3534 - val_loss: 3.9356 - val_accuracy: 0.0494\n",
      "Epoch 29/100\n",
      "1250/1250 [==============================] - 8s 7ms/step - loss: 2.1262 - accuracy: 0.3584 - val_loss: 3.9971 - val_accuracy: 0.0524\n",
      "Epoch 30/100\n",
      "1250/1250 [==============================] - 8s 7ms/step - loss: 2.0829 - accuracy: 0.3717 - val_loss: 4.0417 - val_accuracy: 0.0509\n",
      "Epoch 31/100\n",
      "1250/1250 [==============================] - 8s 7ms/step - loss: 2.0680 - accuracy: 0.3724 - val_loss: 4.0765 - val_accuracy: 0.0519\n",
      "Epoch 32/100\n",
      "1250/1250 [==============================] - 8s 7ms/step - loss: 2.0469 - accuracy: 0.3787 - val_loss: 4.1444 - val_accuracy: 0.0525\n",
      "Epoch 33/100\n",
      "1250/1250 [==============================] - 8s 7ms/step - loss: 2.0293 - accuracy: 0.3837 - val_loss: 4.1767 - val_accuracy: 0.0517\n",
      "Epoch 34/100\n",
      "1250/1250 [==============================] - 8s 7ms/step - loss: 2.0060 - accuracy: 0.3890 - val_loss: 4.1924 - val_accuracy: 0.0505\n",
      "Epoch 35/100\n",
      "1250/1250 [==============================] - 8s 7ms/step - loss: 1.9840 - accuracy: 0.4031 - val_loss: 4.2491 - val_accuracy: 0.0511\n",
      "Epoch 36/100\n",
      "1250/1250 [==============================] - 8s 7ms/step - loss: 1.9635 - accuracy: 0.4044 - val_loss: 4.2579 - val_accuracy: 0.0515\n",
      "Epoch 37/100\n",
      "1250/1250 [==============================] - 8s 7ms/step - loss: 1.9401 - accuracy: 0.4124 - val_loss: 4.2993 - val_accuracy: 0.0499\n",
      "Epoch 38/100\n",
      "1250/1250 [==============================] - 8s 7ms/step - loss: 1.9085 - accuracy: 0.4235 - val_loss: 4.3380 - val_accuracy: 0.0513\n",
      "Epoch 39/100\n",
      "1250/1250 [==============================] - 8s 7ms/step - loss: 1.8997 - accuracy: 0.4187 - val_loss: 4.4011 - val_accuracy: 0.0508\n",
      "Epoch 40/100\n",
      "1250/1250 [==============================] - 9s 7ms/step - loss: 1.8953 - accuracy: 0.4199 - val_loss: 4.4929 - val_accuracy: 0.0537\n",
      "Epoch 41/100\n",
      "1250/1250 [==============================] - 9s 7ms/step - loss: 1.8689 - accuracy: 0.4350 - val_loss: 4.5195 - val_accuracy: 0.0517\n",
      "Epoch 42/100\n",
      "1250/1250 [==============================] - 9s 7ms/step - loss: 1.8511 - accuracy: 0.4395 - val_loss: 4.5426 - val_accuracy: 0.0526\n",
      "Epoch 43/100\n",
      "1250/1250 [==============================] - 9s 7ms/step - loss: 1.8181 - accuracy: 0.4493 - val_loss: 4.5910 - val_accuracy: 0.0504\n",
      "Epoch 44/100\n",
      "1250/1250 [==============================] - 9s 7ms/step - loss: 1.8141 - accuracy: 0.4534 - val_loss: 4.6253 - val_accuracy: 0.0524\n",
      "Epoch 45/100\n",
      "1250/1250 [==============================] - 9s 7ms/step - loss: 1.7907 - accuracy: 0.4597 - val_loss: 4.6757 - val_accuracy: 0.0518\n",
      "Epoch 46/100\n",
      "1250/1250 [==============================] - 9s 7ms/step - loss: 1.7756 - accuracy: 0.4618 - val_loss: 4.7348 - val_accuracy: 0.0510\n",
      "Epoch 47/100\n",
      "1250/1250 [==============================] - 8s 6ms/step - loss: 1.7568 - accuracy: 0.4700 - val_loss: 4.7700 - val_accuracy: 0.0507\n",
      "Epoch 48/100\n",
      "1250/1250 [==============================] - 8s 6ms/step - loss: 1.7535 - accuracy: 0.4653 - val_loss: 4.8488 - val_accuracy: 0.0506\n",
      "Epoch 49/100\n",
      "1250/1250 [==============================] - 8s 6ms/step - loss: 1.7438 - accuracy: 0.4761 - val_loss: 4.8417 - val_accuracy: 0.0515\n",
      "Epoch 50/100\n",
      "1250/1250 [==============================] - 8s 6ms/step - loss: 1.7217 - accuracy: 0.4787 - val_loss: 4.9676 - val_accuracy: 0.0519\n",
      "Epoch 51/100\n",
      "1250/1250 [==============================] - 8s 6ms/step - loss: 1.6927 - accuracy: 0.4871 - val_loss: 4.9695 - val_accuracy: 0.0505\n",
      "Epoch 52/100\n",
      "1250/1250 [==============================] - 8s 6ms/step - loss: 1.6794 - accuracy: 0.4929 - val_loss: 4.9981 - val_accuracy: 0.0517\n",
      "Epoch 53/100\n",
      "1250/1250 [==============================] - 8s 6ms/step - loss: 1.6650 - accuracy: 0.5007 - val_loss: 5.0412 - val_accuracy: 0.0512\n",
      "Epoch 54/100\n",
      "1250/1250 [==============================] - 8s 6ms/step - loss: 1.6507 - accuracy: 0.5025 - val_loss: 5.0950 - val_accuracy: 0.0516\n",
      "Epoch 55/100\n",
      "1250/1250 [==============================] - 8s 6ms/step - loss: 1.6327 - accuracy: 0.5044 - val_loss: 5.1159 - val_accuracy: 0.0512\n",
      "Epoch 56/100\n",
      "1250/1250 [==============================] - 8s 6ms/step - loss: 1.6288 - accuracy: 0.5057 - val_loss: 5.1924 - val_accuracy: 0.0503\n",
      "Epoch 57/100\n"
     ]
    },
    {
     "name": "stdout",
     "output_type": "stream",
     "text": [
      "1250/1250 [==============================] - 8s 7ms/step - loss: 1.6229 - accuracy: 0.5084 - val_loss: 5.2455 - val_accuracy: 0.0518\n",
      "Epoch 58/100\n",
      "1250/1250 [==============================] - 8s 7ms/step - loss: 1.5966 - accuracy: 0.5132 - val_loss: 5.2588 - val_accuracy: 0.0508\n",
      "Epoch 59/100\n",
      "1250/1250 [==============================] - 8s 7ms/step - loss: 1.5773 - accuracy: 0.5255 - val_loss: 5.3445 - val_accuracy: 0.0510\n",
      "Epoch 60/100\n",
      "1250/1250 [==============================] - 8s 7ms/step - loss: 1.5792 - accuracy: 0.5237 - val_loss: 5.3773 - val_accuracy: 0.0493\n",
      "Epoch 61/100\n",
      "1250/1250 [==============================] - 8s 7ms/step - loss: 1.5546 - accuracy: 0.5279 - val_loss: 5.4175 - val_accuracy: 0.0518\n",
      "Epoch 62/100\n",
      "1250/1250 [==============================] - 8s 7ms/step - loss: 1.5470 - accuracy: 0.5322 - val_loss: 5.4725 - val_accuracy: 0.0515\n",
      "Epoch 63/100\n",
      "1250/1250 [==============================] - 8s 7ms/step - loss: 1.5314 - accuracy: 0.5317 - val_loss: 5.5016 - val_accuracy: 0.0519\n",
      "Epoch 64/100\n",
      "1250/1250 [==============================] - 8s 7ms/step - loss: 1.5162 - accuracy: 0.5376 - val_loss: 5.5826 - val_accuracy: 0.0514\n",
      "Epoch 65/100\n",
      "1250/1250 [==============================] - 8s 7ms/step - loss: 1.4970 - accuracy: 0.5442 - val_loss: 5.5832 - val_accuracy: 0.0521\n",
      "Epoch 66/100\n",
      "1250/1250 [==============================] - 8s 7ms/step - loss: 1.4923 - accuracy: 0.5490 - val_loss: 5.6989 - val_accuracy: 0.0494\n",
      "Epoch 67/100\n",
      "1250/1250 [==============================] - 8s 7ms/step - loss: 1.4694 - accuracy: 0.5556 - val_loss: 5.7419 - val_accuracy: 0.0513\n",
      "Epoch 68/100\n",
      "1250/1250 [==============================] - 8s 7ms/step - loss: 1.4646 - accuracy: 0.5592 - val_loss: 5.7517 - val_accuracy: 0.0535\n",
      "Epoch 69/100\n",
      "1250/1250 [==============================] - 8s 7ms/step - loss: 1.4454 - accuracy: 0.5595 - val_loss: 5.8223 - val_accuracy: 0.0504\n",
      "Epoch 70/100\n",
      "1250/1250 [==============================] - 8s 7ms/step - loss: 1.4418 - accuracy: 0.5666 - val_loss: 5.8659 - val_accuracy: 0.0515\n",
      "Epoch 71/100\n",
      "1250/1250 [==============================] - 8s 7ms/step - loss: 1.4348 - accuracy: 0.5638 - val_loss: 5.9863 - val_accuracy: 0.0538\n",
      "Epoch 72/100\n",
      "1250/1250 [==============================] - 8s 7ms/step - loss: 1.4199 - accuracy: 0.5696 - val_loss: 6.0068 - val_accuracy: 0.0521\n",
      "Epoch 73/100\n",
      "1250/1250 [==============================] - 8s 7ms/step - loss: 1.3949 - accuracy: 0.5751 - val_loss: 6.0193 - val_accuracy: 0.0516\n",
      "Epoch 74/100\n",
      "1250/1250 [==============================] - 8s 7ms/step - loss: 1.3919 - accuracy: 0.5760 - val_loss: 6.1034 - val_accuracy: 0.0514\n",
      "Epoch 75/100\n",
      "1250/1250 [==============================] - 8s 7ms/step - loss: 1.3708 - accuracy: 0.5848 - val_loss: 6.1528 - val_accuracy: 0.0505\n",
      "Epoch 76/100\n",
      "1250/1250 [==============================] - 8s 7ms/step - loss: 1.3685 - accuracy: 0.5854 - val_loss: 6.2505 - val_accuracy: 0.0496\n",
      "Epoch 77/100\n",
      "1250/1250 [==============================] - 8s 7ms/step - loss: 1.3592 - accuracy: 0.5879 - val_loss: 6.2937 - val_accuracy: 0.0504\n",
      "Epoch 78/100\n",
      "1250/1250 [==============================] - 8s 7ms/step - loss: 1.3396 - accuracy: 0.5929 - val_loss: 6.3171 - val_accuracy: 0.0490\n",
      "Epoch 79/100\n",
      "1250/1250 [==============================] - 8s 7ms/step - loss: 1.3364 - accuracy: 0.5934 - val_loss: 6.3529 - val_accuracy: 0.0509\n",
      "Epoch 80/100\n",
      "1250/1250 [==============================] - 8s 7ms/step - loss: 1.3291 - accuracy: 0.6005 - val_loss: 6.4938 - val_accuracy: 0.0502\n",
      "Epoch 81/100\n",
      "1250/1250 [==============================] - 8s 7ms/step - loss: 1.3232 - accuracy: 0.6000 - val_loss: 6.4954 - val_accuracy: 0.0527\n",
      "Epoch 82/100\n",
      "1250/1250 [==============================] - 8s 7ms/step - loss: 1.3014 - accuracy: 0.6035 - val_loss: 6.5683 - val_accuracy: 0.0481\n",
      "Epoch 83/100\n",
      "1250/1250 [==============================] - 8s 7ms/step - loss: 1.2870 - accuracy: 0.6080 - val_loss: 6.6306 - val_accuracy: 0.0507\n",
      "Epoch 84/100\n",
      "1250/1250 [==============================] - 8s 7ms/step - loss: 1.2712 - accuracy: 0.6151 - val_loss: 6.7089 - val_accuracy: 0.0507\n",
      "Epoch 85/100\n",
      "1250/1250 [==============================] - 8s 7ms/step - loss: 1.2581 - accuracy: 0.6198 - val_loss: 6.7262 - val_accuracy: 0.0511\n",
      "Epoch 86/100\n",
      "1250/1250 [==============================] - 8s 7ms/step - loss: 1.2480 - accuracy: 0.6213 - val_loss: 6.7602 - val_accuracy: 0.0530\n",
      "Epoch 87/100\n",
      "1250/1250 [==============================] - 8s 7ms/step - loss: 1.2477 - accuracy: 0.6232 - val_loss: 6.8731 - val_accuracy: 0.0512\n",
      "Epoch 88/100\n",
      "1250/1250 [==============================] - 8s 7ms/step - loss: 1.2297 - accuracy: 0.6290 - val_loss: 6.9282 - val_accuracy: 0.0519\n",
      "Epoch 89/100\n",
      "1250/1250 [==============================] - 8s 7ms/step - loss: 1.2124 - accuracy: 0.6326 - val_loss: 6.9683 - val_accuracy: 0.0495\n",
      "Epoch 90/100\n",
      "1250/1250 [==============================] - 8s 7ms/step - loss: 1.2056 - accuracy: 0.6379 - val_loss: 7.0799 - val_accuracy: 0.0506\n",
      "Epoch 91/100\n",
      "1250/1250 [==============================] - 8s 7ms/step - loss: 1.1930 - accuracy: 0.6375 - val_loss: 7.1311 - val_accuracy: 0.0508\n",
      "Epoch 92/100\n",
      "1250/1250 [==============================] - 8s 7ms/step - loss: 1.1904 - accuracy: 0.6405 - val_loss: 7.1811 - val_accuracy: 0.0478\n",
      "Epoch 93/100\n",
      "1250/1250 [==============================] - 8s 7ms/step - loss: 1.1791 - accuracy: 0.6419 - val_loss: 7.2492 - val_accuracy: 0.0504\n",
      "Epoch 94/100\n",
      "1250/1250 [==============================] - 8s 7ms/step - loss: 1.1592 - accuracy: 0.6485 - val_loss: 7.3032 - val_accuracy: 0.0508\n",
      "Epoch 95/100\n",
      "1250/1250 [==============================] - 8s 7ms/step - loss: 1.1559 - accuracy: 0.6518 - val_loss: 7.3862 - val_accuracy: 0.0543\n",
      "Epoch 96/100\n",
      "1250/1250 [==============================] - 8s 7ms/step - loss: 1.1422 - accuracy: 0.6532 - val_loss: 7.4135 - val_accuracy: 0.0493\n",
      "Epoch 97/100\n",
      "1250/1250 [==============================] - 8s 7ms/step - loss: 1.1443 - accuracy: 0.6537 - val_loss: 7.5137 - val_accuracy: 0.0500\n",
      "Epoch 98/100\n",
      "1250/1250 [==============================] - 8s 7ms/step - loss: 1.1265 - accuracy: 0.6572 - val_loss: 7.5939 - val_accuracy: 0.0514\n",
      "Epoch 99/100\n",
      "1250/1250 [==============================] - 8s 7ms/step - loss: 1.1153 - accuracy: 0.6619 - val_loss: 7.6905 - val_accuracy: 0.0504\n",
      "Epoch 100/100\n",
      "1250/1250 [==============================] - 8s 7ms/step - loss: 1.1058 - accuracy: 0.6617 - val_loss: 7.7209 - val_accuracy: 0.0552\n"
     ]
    }
   ],
   "source": [
    "history = model.fit(xTrn_split, yTrn_split, epochs=100, \n",
    "                    validation_data=(xTst_split, yTst_split))"
   ]
  },
  {
   "cell_type": "markdown",
   "id": "selective-ireland",
   "metadata": {},
   "source": [
    "##  Predict labels for the testing set and check accuracy"
   ]
  },
  {
   "cell_type": "code",
   "execution_count": 23,
   "id": "electoral-project",
   "metadata": {
    "scrolled": true
   },
   "outputs": [
    {
     "name": "stdout",
     "output_type": "stream",
     "text": [
      "[[3.7208243e-05 1.3156892e-04 8.4406354e-02 ... 3.7541618e-03\n",
      "  6.8277662e-04 3.7798347e-06]\n",
      " [2.9059731e-05 1.1924543e-05 2.9391385e-06 ... 9.7554401e-03\n",
      "  3.2838815e-04 2.8069595e-02]\n",
      " [3.4600250e-02 1.7566413e-03 2.7504620e-01 ... 1.3324437e-01\n",
      "  4.5037097e-03 1.9794952e-03]\n",
      " ...\n",
      " [6.2927839e-08 4.5048827e-04 1.7672627e-04 ... 2.4777933e-04\n",
      "  4.0938912e-06 3.4276911e-07]\n",
      " [2.8218193e-02 7.2773695e-02 2.4289082e-01 ... 2.6041090e-01\n",
      "  1.3819711e-02 1.8909350e-02]\n",
      " [3.2735559e-10 9.5278481e-14 1.7691275e-09 ... 6.7903623e-14\n",
      "  7.1002150e-06 2.7496187e-08]]\n"
     ]
    }
   ],
   "source": [
    "print(model.predict(test_images_reshaped))"
   ]
  },
  {
   "cell_type": "markdown",
   "id": "aggressive-postage",
   "metadata": {},
   "source": [
    "## Plot models traing curves "
   ]
  },
  {
   "cell_type": "code",
   "execution_count": 24,
   "id": "conditional-senegal",
   "metadata": {},
   "outputs": [
    {
     "name": "stdout",
     "output_type": "stream",
     "text": [
      "313/313 - 1s - loss: 10.9378 - accuracy: 0.0525\n",
      "0.05249999836087227\n"
     ]
    },
    {
     "data": {
      "image/png": "[encoded data removed]",
      "text/plain": [
       "<Figure size 432x288 with 1 Axes>"
      ]
     },
     "metadata": {
      "needs_background": "light"
     },
     "output_type": "display_data"
    }
   ],
   "source": [
    "plt.plot(history.history['accuracy'], label='accuracy')\n",
    "plt.plot(history.history['val_accuracy'], label = 'val_accuracy')\n",
    "plt.xlabel('Epoch')\n",
    "plt.ylabel('Accuracy')\n",
    "plt.ylim([0.5, 1])\n",
    "plt.legend(loc='lower right')\n",
    "\n",
    "test_loss, test_acc = model.evaluate(test_images_reshaped,  test_label_coarse, verbose=2)\n",
    "\n",
    "print(test_acc)"
   ]
  },
  {
   "cell_type": "code",
   "execution_count": 25,
   "id": "improving-alias",
   "metadata": {},
   "outputs": [
    {
     "name": "stdout",
     "output_type": "stream",
     "text": [
      "[10.937837600708008, 0.05249999836087227]\n"
     ]
    }
   ],
   "source": [
    "score = model.evaluate(test_images_reshaped, test_label_coarse, verbose=0)\n",
    "print(score)"
   ]
  },
  {
   "cell_type": "code",
   "execution_count": null,
   "id": "seven-wiring",
   "metadata": {},
   "outputs": [],
   "source": []
  }
 ],
 "metadata": {
  "kernelspec": {
   "display_name": "Python 3",
   "language": "python",
   "name": "python3"
  },
  "language_info": {
   "codemirror_mode": {
    "name": "ipython",
    "version": 3
   },
   "file_extension": ".py",
   "mimetype": "text/x-python",
   "name": "python",
   "nbconvert_exporter": "python",
   "pygments_lexer": "ipython3",
   "version": "3.7.7"
  }
 },
 "nbformat": 4,
 "nbformat_minor": 5
}
