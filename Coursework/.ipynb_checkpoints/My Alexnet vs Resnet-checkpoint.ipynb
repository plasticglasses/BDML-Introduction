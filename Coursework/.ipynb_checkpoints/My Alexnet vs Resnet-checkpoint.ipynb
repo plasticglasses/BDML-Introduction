{
 "cells": [
  {
   "cell_type": "markdown",
   "id": "compact-porcelain",
   "metadata": {},
   "source": [
    "# M45 Coursework\n",
    "Liz Simpson, \n",
    "951428,\n",
    "Due: Monday 19th April 2021\n",
    "## Using AlexNet and ResNet to evaluate their effectiveness on classifying objects"
   ]
  },
  {
   "cell_type": "markdown",
   "id": "unsigned-gossip",
   "metadata": {},
   "source": [
    "## Imports "
   ]
  },
  {
   "cell_type": "code",
   "execution_count": null,
   "id": "blessed-subcommittee",
   "metadata": {},
   "outputs": [],
   "source": [
    "import numpy as np\n",
    "\n",
    "#Train-validation-test split\n",
    "from sklearn.model_selection import train_test_split\n",
    "\n",
    "#Onehot Encoding the labels.\n",
    "from sklearn.utils.multiclass import unique_labels\n",
    "from keras.utils import to_categorical\n",
    "\n",
    "#Image Data Augmentation\n",
    "from keras.preprocessing.image import ImageDataGenerator\n",
    "\n",
    "#Alex Net Models\n",
    "import keras\n",
    "from keras.models import Sequential\n",
    "from keras.layers import Dense, Activation, Dropout, Flatten, Conv2D, MaxPooling2D\n",
    "from keras.layers.normalization import BatchNormalization\n",
    "\n",
    "#Graphs \n",
    "import matplotlib.pyplot as plt\n",
    "\n",
    "#Evaluation \n",
    "from sklearn.datasets import make_classification\n",
    "from sklearn.metrics import confusion_matrix, ConfusionMatrixDisplay\n",
    "\n",
    "#ResNet\n",
    "import h5py\n",
    "import copy\n",
    "from scipy.io import savemat,loadmat\n",
    "import warnings\n",
    "warnings.filterwarnings('ignore',category=FutureWarning)\n",
    "import tensorflow as tf\n",
    "print('Tensorflow version = ',tensorflow.__version__)\n",
    "from tensorflow.keras.optimizers import SGD\n",
    "from tensorflow.keras.callbacks import LearningRateScheduler, History\n",
    "from ResNetModel import resnet\n",
    "from Utils import cutout,LR_WarmRestart,GetDataGen,plot_history"
   ]
  },
  {
   "cell_type": "markdown",
   "id": "solid-provincial",
   "metadata": {},
   "source": [
    "## Loading Data \n",
    "\n",
    "CIFAR-100 Dataset using fine labels that labels data into 100 classes and coarse dataset that categorises the data into 20 superclasses. All images are 32x32 w x h and have an RGB value. There are 50000 images in the train dataset and 10000 in the test dataset. "
   ]
  },
  {
   "cell_type": "code",
   "execution_count": 176,
   "id": "accessible-demographic",
   "metadata": {},
   "outputs": [
    {
     "name": "stdout",
     "output_type": "stream",
     "text": [
      "Images Shape: (32, 32, 3, 50000)\n",
      "Train Labels Coarse Shape: (50000,)\n"
     ]
    }
   ],
   "source": [
    "images = np.load('trnImage.npy')\n",
    "labels = np.load('trnLabel_coarse.npy')\n",
    "labels_fine = np.load('trnLabel_fine.npy')\n",
    "\n",
    "test_images = np.load('tstImage.npy')\n",
    "test_labels = np.load('tstLabel_coarse.npy')\n",
    "test_labels_fine = np.load('tstLabel_fine.npy')\n",
    "\n",
    "print(f'Images Shape: {images.shape}')\n",
    "print(f'Train Labels Coarse Shape: {labels.shape}')"
   ]
  },
  {
   "cell_type": "markdown",
   "id": "agricultural-mailman",
   "metadata": {},
   "source": [
    "# \n",
    "# Alex Net Coarse\n",
    "### Build the AlexNet with 11 layers \n",
    "Layers include convolutional2D layers, Activation layers using the ReLu and Softmax functions, BatchNormalisation and Max Pooling layers."
   ]
  },
  {
   "cell_type": "code",
   "execution_count": 23,
   "id": "collective-colorado",
   "metadata": {},
   "outputs": [
    {
     "name": "stdout",
     "output_type": "stream",
     "text": [
      "Model: \"sequential_1\"\n",
      "_________________________________________________________________\n",
      "Layer (type)                 Output Shape              Param #   \n",
      "=================================================================\n",
      "conv2d_5 (Conv2D)            (None, 8, 8, 96)          34944     \n",
      "_________________________________________________________________\n",
      "batch_normalization_9 (Batch (None, 8, 8, 96)          384       \n",
      "_________________________________________________________________\n",
      "activation_9 (Activation)    (None, 8, 8, 96)          0         \n",
      "_________________________________________________________________\n",
      "max_pooling2d_3 (MaxPooling2 (None, 4, 4, 96)          0         \n",
      "_________________________________________________________________\n",
      "conv2d_6 (Conv2D)            (None, 4, 4, 256)         614656    \n",
      "_________________________________________________________________\n",
      "batch_normalization_10 (Batc (None, 4, 4, 256)         1024      \n",
      "_________________________________________________________________\n",
      "activation_10 (Activation)   (None, 4, 4, 256)         0         \n",
      "_________________________________________________________________\n",
      "max_pooling2d_4 (MaxPooling2 (None, 2, 2, 256)         0         \n",
      "_________________________________________________________________\n",
      "conv2d_7 (Conv2D)            (None, 2, 2, 384)         885120    \n",
      "_________________________________________________________________\n",
      "batch_normalization_11 (Batc (None, 2, 2, 384)         1536      \n",
      "_________________________________________________________________\n",
      "activation_11 (Activation)   (None, 2, 2, 384)         0         \n",
      "_________________________________________________________________\n",
      "conv2d_8 (Conv2D)            (None, 2, 2, 384)         1327488   \n",
      "_________________________________________________________________\n",
      "batch_normalization_12 (Batc (None, 2, 2, 384)         1536      \n",
      "_________________________________________________________________\n",
      "activation_12 (Activation)   (None, 2, 2, 384)         0         \n",
      "_________________________________________________________________\n",
      "conv2d_9 (Conv2D)            (None, 2, 2, 256)         884992    \n",
      "_________________________________________________________________\n",
      "batch_normalization_13 (Batc (None, 2, 2, 256)         1024      \n",
      "_________________________________________________________________\n",
      "activation_13 (Activation)   (None, 2, 2, 256)         0         \n",
      "_________________________________________________________________\n",
      "max_pooling2d_5 (MaxPooling2 (None, 1, 1, 256)         0         \n",
      "_________________________________________________________________\n",
      "flatten_1 (Flatten)          (None, 256)               0         \n",
      "_________________________________________________________________\n",
      "dense_4 (Dense)              (None, 4096)              1052672   \n",
      "_________________________________________________________________\n",
      "batch_normalization_14 (Batc (None, 4096)              16384     \n",
      "_________________________________________________________________\n",
      "activation_14 (Activation)   (None, 4096)              0         \n",
      "_________________________________________________________________\n",
      "dropout_3 (Dropout)          (None, 4096)              0         \n",
      "_________________________________________________________________\n",
      "dense_5 (Dense)              (None, 4096)              16781312  \n",
      "_________________________________________________________________\n",
      "batch_normalization_15 (Batc (None, 4096)              16384     \n",
      "_________________________________________________________________\n",
      "activation_15 (Activation)   (None, 4096)              0         \n",
      "_________________________________________________________________\n",
      "dropout_4 (Dropout)          (None, 4096)              0         \n",
      "_________________________________________________________________\n",
      "dense_6 (Dense)              (None, 1000)              4097000   \n",
      "_________________________________________________________________\n",
      "batch_normalization_16 (Batc (None, 1000)              4000      \n",
      "_________________________________________________________________\n",
      "activation_16 (Activation)   (None, 1000)              0         \n",
      "_________________________________________________________________\n",
      "dropout_5 (Dropout)          (None, 1000)              0         \n",
      "_________________________________________________________________\n",
      "dense_7 (Dense)              (None, 20)                20020     \n",
      "_________________________________________________________________\n",
      "batch_normalization_17 (Batc (None, 20)                80        \n",
      "_________________________________________________________________\n",
      "activation_17 (Activation)   (None, 20)                0         \n",
      "=================================================================\n",
      "Total params: 25,740,556\n",
      "Trainable params: 25,719,380\n",
      "Non-trainable params: 21,176\n",
      "_________________________________________________________________\n"
     ]
    }
   ],
   "source": [
    "np.random.seed(1000)\n",
    "\n",
    "#Instantiation\n",
    "AlexNet = Sequential()\n",
    "\n",
    "#1st Convolutional Layer\n",
    "AlexNet.add(Conv2D(filters=96, input_shape=(32,32,3), kernel_size=(11,11), strides=(4,4), padding='same'))\n",
    "AlexNet.add(BatchNormalization())\n",
    "AlexNet.add(Activation('relu'))\n",
    "AlexNet.add(MaxPooling2D(pool_size=(2,2), strides=(2,2), padding='same'))\n",
    "\n",
    "#2nd Convolutional Layer\n",
    "AlexNet.add(Conv2D(filters=256, kernel_size=(5, 5), strides=(1,1), padding='same'))\n",
    "AlexNet.add(BatchNormalization())\n",
    "AlexNet.add(Activation('relu'))\n",
    "AlexNet.add(MaxPooling2D(pool_size=(2,2), strides=(2,2), padding='same'))\n",
    "\n",
    "#3rd Convolutional Layer\n",
    "AlexNet.add(Conv2D(filters=384, kernel_size=(3,3), strides=(1,1), padding='same'))\n",
    "AlexNet.add(BatchNormalization())\n",
    "AlexNet.add(Activation('relu'))\n",
    "\n",
    "#4th Convolutional Layer\n",
    "AlexNet.add(Conv2D(filters=384, kernel_size=(3,3), strides=(1,1), padding='same'))\n",
    "AlexNet.add(BatchNormalization())\n",
    "AlexNet.add(Activation('relu'))\n",
    "\n",
    "#5th Convolutional Layer\n",
    "AlexNet.add(Conv2D(filters=256, kernel_size=(3,3), strides=(1,1), padding='same'))\n",
    "AlexNet.add(BatchNormalization())\n",
    "AlexNet.add(Activation('relu'))\n",
    "AlexNet.add(MaxPooling2D(pool_size=(2,2), strides=(2,2), padding='same'))\n",
    "\n",
    "#Passing it to a Fully Connected layer\n",
    "AlexNet.add(Flatten())\n",
    "# 1st Fully Connected Layer\n",
    "AlexNet.add(Dense(4096, input_shape=(32,32,3,)))\n",
    "AlexNet.add(BatchNormalization())\n",
    "AlexNet.add(Activation('relu'))\n",
    "# Add Dropout to prevent overfitting\n",
    "AlexNet.add(Dropout(0.4))\n",
    "\n",
    "#2nd Fully Connected Layer\n",
    "AlexNet.add(Dense(4096))\n",
    "AlexNet.add(BatchNormalization())\n",
    "AlexNet.add(Activation('relu'))\n",
    "#Add Dropout\n",
    "AlexNet.add(Dropout(0.4))\n",
    "\n",
    "#3rd Fully Connected Layer\n",
    "AlexNet.add(Dense(1000))\n",
    "AlexNet.add(BatchNormalization())\n",
    "AlexNet.add(Activation('relu'))\n",
    "#Add Dropout\n",
    "AlexNet.add(Dropout(0.4))\n",
    "\n",
    "#Output Layer\n",
    "AlexNet.add(Dense(20))\n",
    "AlexNet.add(BatchNormalization())\n",
    "AlexNet.add(Activation('softmax'))\n",
    "\n",
    "#Model Summary\n",
    "AlexNet.summary()"
   ]
  },
  {
   "cell_type": "markdown",
   "id": "attempted-neighbor",
   "metadata": {},
   "source": [
    "### Complie AlexNet Coarse"
   ]
  },
  {
   "cell_type": "code",
   "execution_count": 24,
   "id": "mental-underground",
   "metadata": {},
   "outputs": [],
   "source": [
    "# Compiling the model\n",
    "AlexNet.compile(loss = keras.losses.categorical_crossentropy, optimizer= 'adam', metrics=['accuracy'])"
   ]
  },
  {
   "cell_type": "markdown",
   "id": "outstanding-mexico",
   "metadata": {},
   "source": [
    "### Change input shapes on Coarse Dataset\n",
    "Training Data needs shape ((35000, 32, 32, 3)\n",
    "Training Labels need shape (35000, 100))\n",
    "\n",
    "Use imagedataGenerators to generate enough data for the model from existing data."
   ]
  },
  {
   "cell_type": "code",
   "execution_count": 36,
   "id": "timely-malawi",
   "metadata": {},
   "outputs": [
    {
     "name": "stdout",
     "output_type": "stream",
     "text": [
      "((35000, 32, 32, 3), (35000, 100))\n",
      "((15000, 32, 32, 3), (15000, 100))\n",
      "((10000, 32, 32, 3), (10000, 20))\n"
     ]
    }
   ],
   "source": [
    "x_train = np.transpose(images, (3, 0, 1, 2))\n",
    "y_train = labels.reshape(50000, 1)\n",
    "\n",
    "x_test = np.transpose(test_images, (3, 0, 1, 2))\n",
    "y_test = test_labels\n",
    "\n",
    "#Train-validation-test split\n",
    "x_train,x_val,y_train,y_val=train_test_split(x_train,y_train,test_size=0.3)\n",
    "\n",
    "#Since we have 20 classes we should expect the shape[1] of y_train,y_val and y_test to change from 1 to 20\n",
    "y_train=to_categorical(y_train)\n",
    "y_val=to_categorical(y_val)\n",
    "y_test=to_categorical(y_test)\n",
    "\n",
    "#Verifying the dimension after one hot encoding\n",
    "print((x_train.shape,y_train.shape))\n",
    "print((x_val.shape,y_val.shape))\n",
    "print((x_test.shape,y_test.shape))\n",
    "\n",
    "#Image Data Augmentation\n",
    "train_generator = ImageDataGenerator(rotation_range=2, horizontal_flip=True,zoom_range=.1 )\n",
    "val_generator = ImageDataGenerator(rotation_range=2, horizontal_flip=True,zoom_range=.1)\n",
    "test_generator = ImageDataGenerator(rotation_range=2, horizontal_flip= True,zoom_range=.1)\n",
    "\n",
    "#Fitting the augmentation defined above to the data\n",
    "train_generator.fit(x_train)\n",
    "val_generator.fit(x_val)\n",
    "test_generator.fit(x_test)"
   ]
  },
  {
   "cell_type": "code",
   "execution_count": 27,
   "id": "trained-workstation",
   "metadata": {},
   "outputs": [
    {
     "name": "stdout",
     "output_type": "stream",
     "text": [
      "Images Shape: (50000, 32, 32, 3)\n",
      "Train Labels Coarse Shape: (10000, 32, 32, 3)\n"
     ]
    }
   ],
   "source": [
    "print(f'Images Shape: {train_images_reshaped.shape}')\n",
    "print(f'Train Labels Coarse Shape: {test_images_reshaped.shape}')"
   ]
  },
  {
   "cell_type": "code",
   "execution_count": 37,
   "id": "catholic-document",
   "metadata": {},
   "outputs": [],
   "source": [
    "#Defining the parameters\n",
    "batch_size= 100\n",
    "epochs=100"
   ]
  },
  {
   "cell_type": "markdown",
   "id": "incident-lancaster",
   "metadata": {},
   "source": [
    "# Train AlexNet Coarse model"
   ]
  },
  {
   "cell_type": "code",
   "execution_count": 31,
   "id": "criminal-situation",
   "metadata": {},
   "outputs": [
    {
     "name": "stdout",
     "output_type": "stream",
     "text": [
      "Epoch 1/100\n",
      "350/350 [==============================] - 156s 442ms/step - loss: 2.6588 - accuracy: 0.1843 - val_loss: 3.0741 - val_accuracy: 0.1523\n",
      "Epoch 2/100\n",
      "350/350 [==============================] - 159s 455ms/step - loss: 2.3056 - accuracy: 0.2861 - val_loss: 3.1576 - val_accuracy: 0.1925\n",
      "Epoch 3/100\n",
      "350/350 [==============================] - 161s 461ms/step - loss: 2.1845 - accuracy: 0.3224 - val_loss: 2.4502 - val_accuracy: 0.2684\n",
      "Epoch 4/100\n",
      "350/350 [==============================] - 154s 441ms/step - loss: 2.0883 - accuracy: 0.3517 - val_loss: 2.7001 - val_accuracy: 0.2463\n",
      "Epoch 5/100\n",
      "350/350 [==============================] - 147s 420ms/step - loss: 2.0153 - accuracy: 0.3740 - val_loss: 2.2482 - val_accuracy: 0.3184\n",
      "Epoch 6/100\n",
      "350/350 [==============================] - 148s 422ms/step - loss: 1.9406 - accuracy: 0.3971 - val_loss: 3.1157 - val_accuracy: 0.2049\n",
      "Epoch 7/100\n",
      "350/350 [==============================] - 148s 423ms/step - loss: 1.8967 - accuracy: 0.4132 - val_loss: 2.1929 - val_accuracy: 0.3353\n",
      "Epoch 8/100\n",
      "350/350 [==============================] - 147s 420ms/step - loss: 1.8187 - accuracy: 0.4330 - val_loss: 2.1430 - val_accuracy: 0.3483\n",
      "Epoch 9/100\n",
      "350/350 [==============================] - 147s 421ms/step - loss: 1.7739 - accuracy: 0.4493 - val_loss: 2.2262 - val_accuracy: 0.3218\n",
      "Epoch 10/100\n",
      "350/350 [==============================] - 147s 420ms/step - loss: 1.7233 - accuracy: 0.4650 - val_loss: 2.3573 - val_accuracy: 0.3281\n",
      "Epoch 11/100\n",
      "350/350 [==============================] - 148s 423ms/step - loss: 1.6769 - accuracy: 0.4786 - val_loss: 2.3861 - val_accuracy: 0.3165\n",
      "Epoch 12/100\n",
      "350/350 [==============================] - 144s 412ms/step - loss: 1.6334 - accuracy: 0.4927 - val_loss: 2.2658 - val_accuracy: 0.3256\n",
      "Epoch 13/100\n",
      "350/350 [==============================] - 152s 434ms/step - loss: 1.5788 - accuracy: 0.5048 - val_loss: 2.1086 - val_accuracy: 0.3633\n",
      "Epoch 14/100\n",
      "350/350 [==============================] - 156s 446ms/step - loss: 1.5405 - accuracy: 0.5192 - val_loss: 2.0351 - val_accuracy: 0.3887\n",
      "Epoch 15/100\n",
      "350/350 [==============================] - 159s 454ms/step - loss: 1.4962 - accuracy: 0.5306 - val_loss: 1.8658 - val_accuracy: 0.4283\n",
      "Epoch 16/100\n",
      "350/350 [==============================] - 158s 450ms/step - loss: 1.4693 - accuracy: 0.5394 - val_loss: 1.9435 - val_accuracy: 0.4116\n",
      "Epoch 17/100\n",
      "350/350 [==============================] - 158s 451ms/step - loss: 1.4089 - accuracy: 0.5616 - val_loss: 1.9772 - val_accuracy: 0.4061\n",
      "Epoch 18/100\n",
      "350/350 [==============================] - 160s 456ms/step - loss: 1.3854 - accuracy: 0.5625 - val_loss: 2.0219 - val_accuracy: 0.4060\n",
      "Epoch 19/100\n",
      "350/350 [==============================] - 158s 453ms/step - loss: 1.3316 - accuracy: 0.5846 - val_loss: 2.2602 - val_accuracy: 0.3741\n",
      "Epoch 20/100\n",
      "350/350 [==============================] - 160s 457ms/step - loss: 1.2931 - accuracy: 0.5948 - val_loss: 2.1312 - val_accuracy: 0.3763\n",
      "Epoch 21/100\n",
      "350/350 [==============================] - 161s 459ms/step - loss: 1.2608 - accuracy: 0.6039 - val_loss: 2.2598 - val_accuracy: 0.3681\n",
      "Epoch 22/100\n",
      "350/350 [==============================] - 160s 456ms/step - loss: 1.2180 - accuracy: 0.6222 - val_loss: 2.1283 - val_accuracy: 0.3873\n",
      "Epoch 23/100\n",
      "350/350 [==============================] - 155s 444ms/step - loss: 1.1611 - accuracy: 0.6367 - val_loss: 2.2156 - val_accuracy: 0.3953\n",
      "Epoch 24/100\n",
      "350/350 [==============================] - 157s 447ms/step - loss: 1.1477 - accuracy: 0.6385 - val_loss: 2.2408 - val_accuracy: 0.3924\n",
      "Epoch 25/100\n",
      "350/350 [==============================] - 160s 456ms/step - loss: 1.1151 - accuracy: 0.6546 - val_loss: 2.0054 - val_accuracy: 0.4363\n",
      "Epoch 26/100\n",
      "350/350 [==============================] - 162s 463ms/step - loss: 1.0676 - accuracy: 0.6681 - val_loss: 1.9118 - val_accuracy: 0.4488\n",
      "Epoch 27/100\n",
      "350/350 [==============================] - 162s 462ms/step - loss: 1.0339 - accuracy: 0.6769 - val_loss: 1.9486 - val_accuracy: 0.4456\n",
      "Epoch 28/100\n",
      "350/350 [==============================] - 162s 462ms/step - loss: 1.0126 - accuracy: 0.6869 - val_loss: 2.3170 - val_accuracy: 0.3682\n",
      "Epoch 29/100\n",
      "350/350 [==============================] - 166s 473ms/step - loss: 0.9811 - accuracy: 0.6955 - val_loss: 2.0258 - val_accuracy: 0.4258\n",
      "Epoch 30/100\n",
      "350/350 [==============================] - 162s 464ms/step - loss: 0.9433 - accuracy: 0.7056 - val_loss: 2.4976 - val_accuracy: 0.3629\n",
      "Epoch 31/100\n",
      "350/350 [==============================] - 163s 467ms/step - loss: 0.9217 - accuracy: 0.7106 - val_loss: 2.2125 - val_accuracy: 0.4207\n",
      "Epoch 32/100\n",
      "350/350 [==============================] - 163s 465ms/step - loss: 0.8741 - accuracy: 0.7247 - val_loss: 2.1654 - val_accuracy: 0.4236\n",
      "Epoch 33/100\n",
      "350/350 [==============================] - 159s 455ms/step - loss: 0.8611 - accuracy: 0.7326 - val_loss: 2.2485 - val_accuracy: 0.4073\n",
      "Epoch 34/100\n",
      "350/350 [==============================] - 158s 451ms/step - loss: 0.8285 - accuracy: 0.7432 - val_loss: 2.3264 - val_accuracy: 0.3968\n",
      "Epoch 35/100\n",
      "350/350 [==============================] - 157s 447ms/step - loss: 0.8006 - accuracy: 0.7500 - val_loss: 2.1233 - val_accuracy: 0.4452\n",
      "Epoch 36/100\n",
      "350/350 [==============================] - 158s 451ms/step - loss: 0.7938 - accuracy: 0.7498 - val_loss: 2.1879 - val_accuracy: 0.4266\n",
      "Epoch 37/100\n",
      "350/350 [==============================] - 160s 457ms/step - loss: 0.7647 - accuracy: 0.7612 - val_loss: 2.2467 - val_accuracy: 0.4222\n",
      "Epoch 38/100\n",
      "350/350 [==============================] - 160s 456ms/step - loss: 0.7429 - accuracy: 0.7659 - val_loss: 2.3501 - val_accuracy: 0.3946\n",
      "Epoch 39/100\n",
      "350/350 [==============================] - 156s 445ms/step - loss: 0.7089 - accuracy: 0.7803 - val_loss: 2.2250 - val_accuracy: 0.4276\n",
      "Epoch 40/100\n",
      "350/350 [==============================] - 157s 448ms/step - loss: 0.6940 - accuracy: 0.7813 - val_loss: 2.3740 - val_accuracy: 0.4195\n",
      "Epoch 41/100\n",
      "350/350 [==============================] - 156s 447ms/step - loss: 0.6697 - accuracy: 0.7919 - val_loss: 2.2557 - val_accuracy: 0.4242\n",
      "Epoch 42/100\n",
      "350/350 [==============================] - 161s 461ms/step - loss: 0.6616 - accuracy: 0.7934 - val_loss: 2.2895 - val_accuracy: 0.4418\n",
      "Epoch 43/100\n",
      "350/350 [==============================] - 159s 453ms/step - loss: 0.6370 - accuracy: 0.8018 - val_loss: 2.1834 - val_accuracy: 0.4407\n",
      "Epoch 44/100\n",
      "350/350 [==============================] - 159s 454ms/step - loss: 0.6233 - accuracy: 0.8060 - val_loss: 2.3646 - val_accuracy: 0.4228\n",
      "Epoch 45/100\n",
      "350/350 [==============================] - 159s 453ms/step - loss: 0.5930 - accuracy: 0.8164 - val_loss: 2.3138 - val_accuracy: 0.4377\n",
      "Epoch 46/100\n",
      "350/350 [==============================] - 156s 446ms/step - loss: 0.5850 - accuracy: 0.8201 - val_loss: 2.3934 - val_accuracy: 0.4226\n",
      "Epoch 47/100\n",
      "350/350 [==============================] - 155s 441ms/step - loss: 0.5659 - accuracy: 0.8232 - val_loss: 2.2698 - val_accuracy: 0.4465\n",
      "Epoch 48/100\n",
      "350/350 [==============================] - 157s 447ms/step - loss: 0.5523 - accuracy: 0.8264 - val_loss: 2.3708 - val_accuracy: 0.4417\n",
      "Epoch 49/100\n",
      "350/350 [==============================] - 155s 444ms/step - loss: 0.5240 - accuracy: 0.8381 - val_loss: 2.4140 - val_accuracy: 0.4240\n",
      "Epoch 50/100\n",
      "350/350 [==============================] - 157s 450ms/step - loss: 0.5281 - accuracy: 0.8354 - val_loss: 2.1736 - val_accuracy: 0.4677\n",
      "Epoch 51/100\n",
      "350/350 [==============================] - 158s 452ms/step - loss: 0.5022 - accuracy: 0.8434 - val_loss: 2.3057 - val_accuracy: 0.4469\n",
      "Epoch 52/100\n",
      "350/350 [==============================] - 155s 443ms/step - loss: 0.4968 - accuracy: 0.8442 - val_loss: 2.5245 - val_accuracy: 0.4278\n",
      "Epoch 53/100\n",
      "350/350 [==============================] - 153s 438ms/step - loss: 0.4809 - accuracy: 0.8514 - val_loss: 2.3686 - val_accuracy: 0.4481\n",
      "Epoch 54/100\n",
      "350/350 [==============================] - 154s 440ms/step - loss: 0.4553 - accuracy: 0.8597 - val_loss: 2.3857 - val_accuracy: 0.4447\n",
      "Epoch 55/100\n",
      "350/350 [==============================] - 154s 439ms/step - loss: 0.4568 - accuracy: 0.8563 - val_loss: 2.2365 - val_accuracy: 0.4668\n",
      "Epoch 56/100\n",
      "350/350 [==============================] - 153s 436ms/step - loss: 0.4478 - accuracy: 0.8606 - val_loss: 2.3500 - val_accuracy: 0.4586\n",
      "Epoch 57/100\n",
      "350/350 [==============================] - 154s 439ms/step - loss: 0.4257 - accuracy: 0.8667 - val_loss: 2.6994 - val_accuracy: 0.4104\n",
      "Epoch 58/100\n",
      "350/350 [==============================] - 154s 440ms/step - loss: 0.4139 - accuracy: 0.8722 - val_loss: 2.3925 - val_accuracy: 0.4527\n",
      "Epoch 59/100\n",
      "350/350 [==============================] - 154s 439ms/step - loss: 0.3917 - accuracy: 0.8778 - val_loss: 2.6760 - val_accuracy: 0.4070\n",
      "Epoch 60/100\n",
      "350/350 [==============================] - 153s 438ms/step - loss: 0.4041 - accuracy: 0.8734 - val_loss: 2.3306 - val_accuracy: 0.4711\n",
      "Epoch 61/100\n",
      "350/350 [==============================] - 152s 433ms/step - loss: 0.3915 - accuracy: 0.8779 - val_loss: 2.4518 - val_accuracy: 0.4429\n",
      "Epoch 62/100\n",
      "350/350 [==============================] - 154s 441ms/step - loss: 0.3888 - accuracy: 0.8797 - val_loss: 2.6027 - val_accuracy: 0.4355\n",
      "Epoch 63/100\n",
      "350/350 [==============================] - 154s 441ms/step - loss: 0.3735 - accuracy: 0.8840 - val_loss: 2.5586 - val_accuracy: 0.4388\n",
      "Epoch 64/100\n",
      "350/350 [==============================] - 157s 449ms/step - loss: 0.3602 - accuracy: 0.8870 - val_loss: 2.4561 - val_accuracy: 0.4681\n",
      "Epoch 65/100\n",
      "350/350 [==============================] - 163s 464ms/step - loss: 0.3624 - accuracy: 0.8870 - val_loss: 2.5045 - val_accuracy: 0.4568\n",
      "Epoch 66/100\n",
      "350/350 [==============================] - 161s 459ms/step - loss: 0.3446 - accuracy: 0.8933 - val_loss: 2.4759 - val_accuracy: 0.4626\n",
      "Epoch 67/100\n",
      "350/350 [==============================] - 161s 459ms/step - loss: 0.3395 - accuracy: 0.8914 - val_loss: 2.4824 - val_accuracy: 0.4599\n",
      "Epoch 68/100\n",
      "350/350 [==============================] - 161s 460ms/step - loss: 0.3249 - accuracy: 0.8986 - val_loss: 2.4529 - val_accuracy: 0.4684\n",
      "Epoch 69/100\n",
      "350/350 [==============================] - 161s 459ms/step - loss: 0.3256 - accuracy: 0.8977 - val_loss: 2.8444 - val_accuracy: 0.4165\n",
      "Epoch 70/100\n",
      "350/350 [==============================] - 160s 456ms/step - loss: 0.3209 - accuracy: 0.8988 - val_loss: 2.5540 - val_accuracy: 0.4493\n",
      "Epoch 71/100\n",
      "350/350 [==============================] - 158s 452ms/step - loss: 0.3079 - accuracy: 0.9042 - val_loss: 2.5341 - val_accuracy: 0.4617\n",
      "Epoch 72/100\n",
      "350/350 [==============================] - 160s 458ms/step - loss: 0.2985 - accuracy: 0.9069 - val_loss: 2.5438 - val_accuracy: 0.4563\n",
      "Epoch 73/100\n",
      "350/350 [==============================] - 161s 459ms/step - loss: 0.2927 - accuracy: 0.9103 - val_loss: 2.5920 - val_accuracy: 0.4500\n",
      "Epoch 74/100\n",
      "350/350 [==============================] - 159s 454ms/step - loss: 0.2891 - accuracy: 0.9106 - val_loss: 2.5814 - val_accuracy: 0.4599\n",
      "Epoch 75/100\n",
      "350/350 [==============================] - 156s 445ms/step - loss: 0.2806 - accuracy: 0.9102 - val_loss: 2.5749 - val_accuracy: 0.4534\n",
      "Epoch 76/100\n",
      "350/350 [==============================] - 154s 439ms/step - loss: 0.2780 - accuracy: 0.9118 - val_loss: 2.5722 - val_accuracy: 0.4531\n",
      "Epoch 77/100\n",
      "350/350 [==============================] - 151s 433ms/step - loss: 0.2658 - accuracy: 0.9165 - val_loss: 2.5933 - val_accuracy: 0.4538\n",
      "Epoch 78/100\n",
      "350/350 [==============================] - 154s 439ms/step - loss: 0.2705 - accuracy: 0.9150 - val_loss: 2.4952 - val_accuracy: 0.4678\n",
      "Epoch 79/100\n",
      "350/350 [==============================] - 154s 441ms/step - loss: 0.2605 - accuracy: 0.9180 - val_loss: 2.5499 - val_accuracy: 0.4587\n",
      "Epoch 80/100\n",
      "350/350 [==============================] - 157s 448ms/step - loss: 0.2633 - accuracy: 0.9154 - val_loss: 2.6273 - val_accuracy: 0.4561\n",
      "Epoch 81/100\n",
      "350/350 [==============================] - 150s 430ms/step - loss: 0.2611 - accuracy: 0.9168 - val_loss: 2.5869 - val_accuracy: 0.4629\n",
      "Epoch 82/100\n",
      "350/350 [==============================] - 151s 432ms/step - loss: 0.2508 - accuracy: 0.9219 - val_loss: 2.5912 - val_accuracy: 0.4630\n",
      "Epoch 83/100\n",
      "350/350 [==============================] - 153s 436ms/step - loss: 0.2431 - accuracy: 0.9239 - val_loss: 2.6687 - val_accuracy: 0.4588\n",
      "Epoch 84/100\n",
      "350/350 [==============================] - 154s 439ms/step - loss: 0.2408 - accuracy: 0.9246 - val_loss: 2.5736 - val_accuracy: 0.4694\n",
      "Epoch 85/100\n",
      "350/350 [==============================] - 152s 436ms/step - loss: 0.2284 - accuracy: 0.9281 - val_loss: 2.6344 - val_accuracy: 0.4579\n",
      "Epoch 86/100\n",
      "350/350 [==============================] - 159s 454ms/step - loss: 0.2354 - accuracy: 0.9264 - val_loss: 2.5587 - val_accuracy: 0.4806\n",
      "Epoch 87/100\n",
      "350/350 [==============================] - 155s 443ms/step - loss: 0.2335 - accuracy: 0.9276 - val_loss: 2.7524 - val_accuracy: 0.4476\n",
      "Epoch 88/100\n",
      "350/350 [==============================] - 155s 442ms/step - loss: 0.2265 - accuracy: 0.9299 - val_loss: 2.6399 - val_accuracy: 0.4745\n",
      "Epoch 89/100\n",
      "350/350 [==============================] - 153s 437ms/step - loss: 0.2145 - accuracy: 0.9309 - val_loss: 2.6270 - val_accuracy: 0.4654\n",
      "Epoch 90/100\n",
      "350/350 [==============================] - 153s 436ms/step - loss: 0.2162 - accuracy: 0.9322 - val_loss: 2.9407 - val_accuracy: 0.4406\n",
      "Epoch 91/100\n",
      "350/350 [==============================] - 150s 429ms/step - loss: 0.2118 - accuracy: 0.9340 - val_loss: 2.6775 - val_accuracy: 0.4725\n",
      "Epoch 92/100\n",
      "350/350 [==============================] - 151s 430ms/step - loss: 0.2050 - accuracy: 0.9348 - val_loss: 2.8054 - val_accuracy: 0.4509\n",
      "Epoch 93/100\n",
      "350/350 [==============================] - 150s 428ms/step - loss: 0.2099 - accuracy: 0.9340 - val_loss: 2.7317 - val_accuracy: 0.4599\n",
      "Epoch 94/100\n",
      "350/350 [==============================] - 150s 428ms/step - loss: 0.1920 - accuracy: 0.9399 - val_loss: 2.6517 - val_accuracy: 0.4692\n",
      "Epoch 95/100\n",
      "350/350 [==============================] - 149s 424ms/step - loss: 0.2007 - accuracy: 0.9370 - val_loss: 2.8189 - val_accuracy: 0.4499\n",
      "Epoch 96/100\n",
      "350/350 [==============================] - 149s 426ms/step - loss: 0.2003 - accuracy: 0.9371 - val_loss: 2.7006 - val_accuracy: 0.4666\n",
      "Epoch 97/100\n",
      "350/350 [==============================] - 148s 424ms/step - loss: 0.1961 - accuracy: 0.9394 - val_loss: 2.7948 - val_accuracy: 0.4501\n",
      "Epoch 98/100\n",
      "350/350 [==============================] - 149s 426ms/step - loss: 0.1879 - accuracy: 0.9410 - val_loss: 2.7679 - val_accuracy: 0.4649\n",
      "Epoch 99/100\n",
      "350/350 [==============================] - 148s 424ms/step - loss: 0.1901 - accuracy: 0.9403 - val_loss: 2.7598 - val_accuracy: 0.4660\n",
      "Epoch 100/100\n",
      "350/350 [==============================] - 149s 425ms/step - loss: 0.1842 - accuracy: 0.9410 - val_loss: 2.7415 - val_accuracy: 0.4749\n"
     ]
    },
    {
     "data": {
      "text/plain": [
       "<tensorflow.python.keras.callbacks.History at 0x23a0a2bdd08>"
      ]
     },
     "execution_count": 31,
     "metadata": {},
     "output_type": "execute_result"
    }
   ],
   "source": [
    "#Training the model\n",
    "AlexNet.fit(train_generator.flow(x_train, y_train, batch_size=batch_size), epochs = epochs, steps_per_epoch = x_train.shape[0]//batch_size, validation_data = val_generator.flow(x_val, y_val, batch_size=batch_size), validation_steps = len(x_val)//batch_size, verbose=1)\n"
   ]
  },
  {
   "cell_type": "markdown",
   "id": "black-timber",
   "metadata": {},
   "source": [
    "# Save and Load AlexNet Coarse Models"
   ]
  },
  {
   "cell_type": "code",
   "execution_count": 32,
   "id": "challenging-utilization",
   "metadata": {},
   "outputs": [
    {
     "name": "stdout",
     "output_type": "stream",
     "text": [
      "INFO:tensorflow:Assets written to: alexNet_coarse\\assets\n"
     ]
    }
   ],
   "source": [
    "AlexNet.save('alexNet_coarse')"
   ]
  },
  {
   "cell_type": "code",
   "execution_count": 116,
   "id": "alleged-complexity",
   "metadata": {},
   "outputs": [
    {
     "name": "stdout",
     "output_type": "stream",
     "text": [
      "<tensorflow.python.keras.engine.sequential.Sequential object at 0x000001D50E301748>\n"
     ]
    }
   ],
   "source": [
    "alexNet_coarse = tf.keras.models.load_model('alexNet_coarse')\n",
    "print(alexNet_coarse)"
   ]
  },
  {
   "cell_type": "markdown",
   "id": "foster-april",
   "metadata": {},
   "source": [
    "# AlexNet Coarse Evaluation"
   ]
  },
  {
   "cell_type": "code",
   "execution_count": 118,
   "id": "running-participation",
   "metadata": {},
   "outputs": [
    {
     "name": "stdout",
     "output_type": "stream",
     "text": [
      "[[2.43103271e-03 2.69028940e-03 3.49790382e-04 ... 2.72551752e-05\n",
      "  2.52320140e-04 1.88424962e-03]\n",
      " [2.16222252e-03 4.38046787e-04 7.33196503e-04 ... 1.40379707e-03\n",
      "  7.08199479e-03 1.51955225e-02]\n",
      " [6.87568307e-01 5.32912761e-02 1.24701794e-04 ... 2.19036080e-03\n",
      "  7.20124692e-04 5.95821766e-04]\n",
      " ...\n",
      " [4.05122182e-06 4.74672015e-05 1.19327306e-04 ... 1.09232997e-03\n",
      "  4.17817546e-06 4.70710911e-05]\n",
      " [1.22256446e-04 2.36951033e-04 5.94038574e-05 ... 9.82776037e-05\n",
      "  1.53403322e-04 8.84392575e-05]\n",
      " [5.14362864e-06 2.89375748e-04 9.96861339e-01 ... 3.85577034e-04\n",
      "  6.31554358e-05 2.98790110e-05]]\n"
     ]
    }
   ],
   "source": [
    "alexNet_coarse_predictions = alexNet_coarse.predict(x_test)\n",
    "print(alexNet_coarse_predictions)"
   ]
  },
  {
   "cell_type": "code",
   "execution_count": 45,
   "id": "further-leather",
   "metadata": {},
   "outputs": [
    {
     "name": "stdout",
     "output_type": "stream",
     "text": [
      "[ 0  1  2  3  4  5  6  7  8  9 10 11 12 13 14 15 16 17 18 19]\n"
     ]
    }
   ],
   "source": [
    "print(np.unique(test_labels))"
   ]
  },
  {
   "cell_type": "markdown",
   "id": "handled-probe",
   "metadata": {},
   "source": [
    "# Alex Coarse Confusion matrix"
   ]
  },
  {
   "cell_type": "code",
   "execution_count": 172,
   "id": "cathedral-blood",
   "metadata": {},
   "outputs": [
    {
     "name": "stdout",
     "output_type": "stream",
     "text": [
      "[14  9  0 ...  4 16  2]\n"
     ]
    },
    {
     "data": {
      "text/plain": [
       "<sklearn.metrics._plot.confusion_matrix.ConfusionMatrixDisplay at 0x1d52cb67888>"
      ]
     },
     "execution_count": 172,
     "metadata": {},
     "output_type": "execute_result"
    },
    {
     "data": {
      "image/png": "[encoded data removed]",
      "text/plain": [
       "<Figure size 432x288 with 2 Axes>"
      ]
     },
     "metadata": {
      "needs_background": "light"
     },
     "output_type": "display_data"
    }
   ],
   "source": [
    "alexNet_coarse_predictions = np.argmax(alexNet_coarse_predictions, axis=1)\n",
    "print(alexNet_coarse_predictions)\n",
    "\n",
    "cm = confusion_matrix(np.array(test_labels), np.array(alexNet_coarse_predictions), labels=np.unique(test_labels))\n",
    "disp = ConfusionMatrixDisplay(confusion_matrix=cm, display_labels=np.unique(test_labels))\n",
    "disp.plot() "
   ]
  },
  {
   "cell_type": "code",
   "execution_count": 122,
   "id": "forced-encyclopedia",
   "metadata": {},
   "outputs": [
    {
     "name": "stdout",
     "output_type": "stream",
     "text": [
      "313/313 - 8s - loss: 2.6668 - accuracy: 0.4770\n",
      "0.47699999809265137\n"
     ]
    }
   ],
   "source": [
    "test_loss, test_acc = alexNet_coarse.evaluate(x_test,  y_test, verbose=2)\n",
    "print(test_acc)\n",
    "predictionsResnetCoarsemodel1 = np.argmax(predictionsResnetCoarsemodel, axis=1)"
   ]
  },
  {
   "cell_type": "markdown",
   "id": "broken-equality",
   "metadata": {},
   "source": [
    "# \n",
    "# AlexNet Fine Model\n",
    "## Data preprocessing\n",
    "Make sure the input is the correct shape and "
   ]
  },
  {
   "cell_type": "code",
   "execution_count": 194,
   "id": "activated-directive",
   "metadata": {},
   "outputs": [
    {
     "name": "stdout",
     "output_type": "stream",
     "text": [
      "((35000, 32, 32, 3), (35000, 100))\n",
      "((15000, 32, 32, 3), (15000, 100))\n",
      "((10000, 32, 32, 3), (10000, 100))\n"
     ]
    }
   ],
   "source": [
    "x_train = np.transpose(images, (3, 0, 1, 2))\n",
    "labels_reshaped = labels.reshape(50000, 1)\n",
    "y_train = labels_fine.reshape(50000, 1)\n",
    "\n",
    "x_test = np.transpose(test_images, (3, 0, 1, 2))\n",
    "y_test = test_labels_fine\n",
    "\n",
    "#Train-validation-test split\n",
    "x_train,x_val,y_train,y_val=train_test_split(x_train,y_train,test_size=0.3)\n",
    "\n",
    "#Onehot Encoding the labels.\n",
    "#Since we have 20 classes we should expect the shape[1] of y_train,y_val and y_test to change from 1 to 20\n",
    "y_train=to_categorical(y_train)\n",
    "y_val=to_categorical(y_val)\n",
    "y_test=to_categorical(y_test)\n",
    "\n",
    "#Verifying the dimension after one hot encoding\n",
    "print((x_train.shape,y_train.shape))\n",
    "print((x_val.shape,y_val.shape))\n",
    "print((x_test.shape,y_test.shape))\n",
    "\n",
    "#Image Data Augmentation\n",
    "train_generator = ImageDataGenerator(rotation_range=2, horizontal_flip=True,zoom_range=.1 )\n",
    "val_generator = ImageDataGenerator(rotation_range=2, horizontal_flip=True,zoom_range=.1)\n",
    "test_generator = ImageDataGenerator(rotation_range=2, horizontal_flip= True,zoom_range=.1)\n",
    "\n",
    "#Fitting the augmentation defined above to the data\n",
    "train_generator.fit(x_train)\n",
    "val_generator.fit(x_val)\n",
    "test_generator.fit(x_test)\n"
   ]
  },
  {
   "cell_type": "markdown",
   "id": "binding-reform",
   "metadata": {},
   "source": [
    "# make Alex Net Fine  Model"
   ]
  },
  {
   "cell_type": "code",
   "execution_count": 40,
   "id": "reasonable-miller",
   "metadata": {},
   "outputs": [
    {
     "name": "stdout",
     "output_type": "stream",
     "text": [
      "Model: \"sequential_3\"\n",
      "_________________________________________________________________\n",
      "Layer (type)                 Output Shape              Param #   \n",
      "=================================================================\n",
      "conv2d_15 (Conv2D)           (None, 8, 8, 96)          34944     \n",
      "_________________________________________________________________\n",
      "batch_normalization_27 (Batc (None, 8, 8, 96)          384       \n",
      "_________________________________________________________________\n",
      "activation_27 (Activation)   (None, 8, 8, 96)          0         \n",
      "_________________________________________________________________\n",
      "max_pooling2d_9 (MaxPooling2 (None, 4, 4, 96)          0         \n",
      "_________________________________________________________________\n",
      "conv2d_16 (Conv2D)           (None, 4, 4, 256)         614656    \n",
      "_________________________________________________________________\n",
      "batch_normalization_28 (Batc (None, 4, 4, 256)         1024      \n",
      "_________________________________________________________________\n",
      "activation_28 (Activation)   (None, 4, 4, 256)         0         \n",
      "_________________________________________________________________\n",
      "max_pooling2d_10 (MaxPooling (None, 2, 2, 256)         0         \n",
      "_________________________________________________________________\n",
      "conv2d_17 (Conv2D)           (None, 2, 2, 384)         885120    \n",
      "_________________________________________________________________\n",
      "batch_normalization_29 (Batc (None, 2, 2, 384)         1536      \n",
      "_________________________________________________________________\n",
      "activation_29 (Activation)   (None, 2, 2, 384)         0         \n",
      "_________________________________________________________________\n",
      "conv2d_18 (Conv2D)           (None, 2, 2, 384)         1327488   \n",
      "_________________________________________________________________\n",
      "batch_normalization_30 (Batc (None, 2, 2, 384)         1536      \n",
      "_________________________________________________________________\n",
      "activation_30 (Activation)   (None, 2, 2, 384)         0         \n",
      "_________________________________________________________________\n",
      "conv2d_19 (Conv2D)           (None, 2, 2, 256)         884992    \n",
      "_________________________________________________________________\n",
      "batch_normalization_31 (Batc (None, 2, 2, 256)         1024      \n",
      "_________________________________________________________________\n",
      "activation_31 (Activation)   (None, 2, 2, 256)         0         \n",
      "_________________________________________________________________\n",
      "max_pooling2d_11 (MaxPooling (None, 1, 1, 256)         0         \n",
      "_________________________________________________________________\n",
      "flatten_3 (Flatten)          (None, 256)               0         \n",
      "_________________________________________________________________\n",
      "dense_12 (Dense)             (None, 4096)              1052672   \n",
      "_________________________________________________________________\n",
      "batch_normalization_32 (Batc (None, 4096)              16384     \n",
      "_________________________________________________________________\n",
      "activation_32 (Activation)   (None, 4096)              0         \n",
      "_________________________________________________________________\n",
      "dropout_9 (Dropout)          (None, 4096)              0         \n",
      "_________________________________________________________________\n",
      "dense_13 (Dense)             (None, 4096)              16781312  \n",
      "_________________________________________________________________\n",
      "batch_normalization_33 (Batc (None, 4096)              16384     \n",
      "_________________________________________________________________\n",
      "activation_33 (Activation)   (None, 4096)              0         \n",
      "_________________________________________________________________\n",
      "dense_14 (Dense)             (None, 1000)              4097000   \n",
      "_________________________________________________________________\n",
      "batch_normalization_34 (Batc (None, 1000)              4000      \n",
      "_________________________________________________________________\n",
      "activation_34 (Activation)   (None, 1000)              0         \n",
      "_________________________________________________________________\n",
      "dropout_11 (Dropout)         (None, 1000)              0         \n",
      "_________________________________________________________________\n",
      "dense_15 (Dense)             (None, 100)               100100    \n",
      "_________________________________________________________________\n",
      "batch_normalization_35 (Batc (None, 100)               400       \n",
      "_________________________________________________________________\n",
      "activation_35 (Activation)   (None, 100)               0         \n",
      "=================================================================\n",
      "Total params: 25,820,956\n",
      "Trainable params: 25,799,620\n",
      "Non-trainable params: 21,336\n",
      "_________________________________________________________________\n"
     ]
    }
   ],
   "source": [
    "np.random.seed(1000)\n",
    "\n",
    "#Instantiation\n",
    "AlexNetFine = Sequential()\n",
    "\n",
    "#1st Convolutional Layer\n",
    "AlexNetFine.add(Conv2D(filters=96, input_shape=(32,32,3), kernel_size=(11,11), strides=(4,4), padding='same'))\n",
    "AlexNetFine.add(BatchNormalization())\n",
    "AlexNetFine.add(Activation('relu'))\n",
    "AlexNetFine.add(MaxPooling2D(pool_size=(2,2), strides=(2,2), padding='same'))\n",
    "\n",
    "#2nd Convolutional Layer\n",
    "AlexNetFine.add(Conv2D(filters=256, kernel_size=(5, 5), strides=(1,1), padding='same'))\n",
    "AlexNetFine.add(BatchNormalization())\n",
    "AlexNetFine.add(Activation('relu'))\n",
    "AlexNetFine.add(MaxPooling2D(pool_size=(2,2), strides=(2,2), padding='same'))\n",
    "\n",
    "#3rd Convolutional Layer\n",
    "AlexNetFine.add(Conv2D(filters=384, kernel_size=(3,3), strides=(1,1), padding='same'))\n",
    "AlexNetFine.add(BatchNormalization())\n",
    "AlexNetFine.add(Activation('relu'))\n",
    "\n",
    "#4th Convolutional Layer\n",
    "AlexNetFine.add(Conv2D(filters=384, kernel_size=(3,3), strides=(1,1), padding='same'))\n",
    "AlexNetFine.add(BatchNormalization())\n",
    "AlexNetFine.add(Activation('relu'))\n",
    "\n",
    "#5th Convolutional Layer\n",
    "AlexNetFine.add(Conv2D(filters=256, kernel_size=(3,3), strides=(1,1), padding='same'))\n",
    "AlexNetFine.add(BatchNormalization())\n",
    "AlexNetFine.add(Activation('relu'))\n",
    "AlexNetFine.add(MaxPooling2D(pool_size=(2,2), strides=(2,2), padding='same'))\n",
    "\n",
    "#Passing it to a Fully Connected layer\n",
    "AlexNetFine.add(Flatten())\n",
    "# 1st Fully Connected Layer\n",
    "AlexNetFine.add(Dense(4096, input_shape=(32,32,3,)))\n",
    "AlexNetFine.add(BatchNormalization())\n",
    "AlexNetFine.add(Activation('relu'))\n",
    "# Add Dropout to prevent overfitting\n",
    "AlexNetFine.add(Dropout(0.4))\n",
    "\n",
    "#2nd Fully Connected Layer\n",
    "AlexNetFine.add(Dense(4096))\n",
    "AlexNetFine.add(BatchNormalization())\n",
    "AlexNetFine.add(Activation('relu'))\n",
    "#Add Dropout\n",
    "AlexNet.add(Dropout(0.4))\n",
    "\n",
    "#3rd Fully Connected Layer\n",
    "AlexNetFine.add(Dense(1000))\n",
    "AlexNetFine.add(BatchNormalization())\n",
    "AlexNetFine.add(Activation('relu'))\n",
    "#Add Dropout\n",
    "AlexNetFine.add(Dropout(0.4))\n",
    "\n",
    "#Output Layer\n",
    "AlexNetFine.add(Dense(100))\n",
    "AlexNetFine.add(BatchNormalization())\n",
    "AlexNetFine.add(Activation('softmax'))\n",
    "\n",
    "#Model Summary\n",
    "AlexNetFine.summary()"
   ]
  },
  {
   "cell_type": "markdown",
   "id": "legislative-index",
   "metadata": {},
   "source": [
    "# Compile AlexNet Fine  Model"
   ]
  },
  {
   "cell_type": "code",
   "execution_count": 41,
   "id": "powered-anger",
   "metadata": {},
   "outputs": [],
   "source": [
    "# Compiling the model\n",
    "AlexNetFine.compile(loss = keras.losses.categorical_crossentropy, optimizer= 'adam', metrics=['accuracy'])\n"
   ]
  },
  {
   "cell_type": "markdown",
   "id": "occupational-preservation",
   "metadata": {},
   "source": [
    "# Train AlexNet Fine Model"
   ]
  },
  {
   "cell_type": "code",
   "execution_count": 42,
   "id": "turned-practitioner",
   "metadata": {},
   "outputs": [
    {
     "name": "stdout",
     "output_type": "stream",
     "text": [
      "Epoch 1/100\n",
      "350/350 [==============================] - 152s 432ms/step - loss: 4.2240 - accuracy: 0.0668 - val_loss: 4.0814 - val_accuracy: 0.0837\n",
      "Epoch 2/100\n",
      "350/350 [==============================] - 152s 434ms/step - loss: 3.6774 - accuracy: 0.1317 - val_loss: 3.8463 - val_accuracy: 0.1213\n",
      "Epoch 3/100\n",
      "350/350 [==============================] - 150s 429ms/step - loss: 3.4801 - accuracy: 0.1654 - val_loss: 3.9826 - val_accuracy: 0.1068\n",
      "Epoch 4/100\n",
      "350/350 [==============================] - 154s 440ms/step - loss: 3.3198 - accuracy: 0.1967 - val_loss: 4.0372 - val_accuracy: 0.1150\n",
      "Epoch 5/100\n",
      "350/350 [==============================] - 156s 446ms/step - loss: 3.1956 - accuracy: 0.2146 - val_loss: 3.9655 - val_accuracy: 0.1228\n",
      "Epoch 6/100\n",
      "350/350 [==============================] - 155s 442ms/step - loss: 3.1008 - accuracy: 0.2354 - val_loss: 3.9543 - val_accuracy: 0.1234\n",
      "Epoch 7/100\n",
      "350/350 [==============================] - 154s 439ms/step - loss: 3.0194 - accuracy: 0.2490 - val_loss: 3.8983 - val_accuracy: 0.1403\n",
      "Epoch 8/100\n",
      "350/350 [==============================] - 154s 439ms/step - loss: 2.9353 - accuracy: 0.2671 - val_loss: 3.3514 - val_accuracy: 0.1943\n",
      "Epoch 9/100\n",
      "350/350 [==============================] - 152s 434ms/step - loss: 2.8587 - accuracy: 0.2766 - val_loss: 3.8833 - val_accuracy: 0.1564\n",
      "Epoch 10/100\n",
      "350/350 [==============================] - 153s 438ms/step - loss: 2.7843 - accuracy: 0.2936 - val_loss: 3.2141 - val_accuracy: 0.2217\n",
      "Epoch 11/100\n",
      "350/350 [==============================] - 153s 438ms/step - loss: 2.7344 - accuracy: 0.3044 - val_loss: 3.1015 - val_accuracy: 0.2472\n",
      "Epoch 12/100\n",
      "350/350 [==============================] - 153s 436ms/step - loss: 2.6784 - accuracy: 0.3120 - val_loss: 3.2784 - val_accuracy: 0.2133\n",
      "Epoch 13/100\n",
      "350/350 [==============================] - 153s 436ms/step - loss: 2.6035 - accuracy: 0.3262 - val_loss: 3.0499 - val_accuracy: 0.2517\n",
      "Epoch 14/100\n",
      "350/350 [==============================] - 152s 434ms/step - loss: 2.5658 - accuracy: 0.3358 - val_loss: 3.0732 - val_accuracy: 0.2500\n",
      "Epoch 15/100\n",
      "350/350 [==============================] - 151s 432ms/step - loss: 2.5137 - accuracy: 0.3476 - val_loss: 3.3070 - val_accuracy: 0.2231\n",
      "Epoch 16/100\n",
      "350/350 [==============================] - 151s 432ms/step - loss: 2.4657 - accuracy: 0.3555 - val_loss: 3.1061 - val_accuracy: 0.2441\n",
      "Epoch 17/100\n",
      "350/350 [==============================] - 151s 431ms/step - loss: 2.3970 - accuracy: 0.3734 - val_loss: 3.1075 - val_accuracy: 0.2559\n",
      "Epoch 18/100\n",
      "350/350 [==============================] - 150s 428ms/step - loss: 2.3554 - accuracy: 0.3771 - val_loss: 3.4336 - val_accuracy: 0.2180\n",
      "Epoch 19/100\n",
      "350/350 [==============================] - 149s 426ms/step - loss: 2.3067 - accuracy: 0.3896 - val_loss: 2.9422 - val_accuracy: 0.2829\n",
      "Epoch 20/100\n",
      "350/350 [==============================] - 149s 424ms/step - loss: 2.2454 - accuracy: 0.4031 - val_loss: 2.8943 - val_accuracy: 0.2845\n",
      "Epoch 21/100\n",
      "350/350 [==============================] - 148s 424ms/step - loss: 2.1941 - accuracy: 0.4163 - val_loss: 3.1176 - val_accuracy: 0.2639\n",
      "Epoch 22/100\n",
      "350/350 [==============================] - 149s 425ms/step - loss: 2.1494 - accuracy: 0.4288 - val_loss: 2.9925 - val_accuracy: 0.2801\n",
      "Epoch 23/100\n",
      "350/350 [==============================] - 149s 424ms/step - loss: 2.1018 - accuracy: 0.4433 - val_loss: 2.9041 - val_accuracy: 0.2987\n",
      "Epoch 24/100\n",
      "350/350 [==============================] - 148s 422ms/step - loss: 2.0586 - accuracy: 0.4534 - val_loss: 3.0877 - val_accuracy: 0.2727\n",
      "Epoch 25/100\n",
      "350/350 [==============================] - 148s 423ms/step - loss: 1.9946 - accuracy: 0.4650 - val_loss: 3.0930 - val_accuracy: 0.2806\n",
      "Epoch 26/100\n",
      "350/350 [==============================] - 148s 423ms/step - loss: 1.9425 - accuracy: 0.4762 - val_loss: 2.8784 - val_accuracy: 0.3080\n",
      "Epoch 27/100\n",
      "350/350 [==============================] - 147s 421ms/step - loss: 1.9000 - accuracy: 0.4830 - val_loss: 2.9972 - val_accuracy: 0.2839\n",
      "Epoch 28/100\n",
      "350/350 [==============================] - 148s 423ms/step - loss: 1.8644 - accuracy: 0.4955 - val_loss: 3.0340 - val_accuracy: 0.2915\n",
      "Epoch 29/100\n",
      "350/350 [==============================] - 149s 426ms/step - loss: 1.8033 - accuracy: 0.5107 - val_loss: 3.1847 - val_accuracy: 0.2752\n",
      "Epoch 30/100\n",
      "350/350 [==============================] - 148s 422ms/step - loss: 1.7813 - accuracy: 0.5144 - val_loss: 3.3022 - val_accuracy: 0.2606\n",
      "Epoch 31/100\n",
      "350/350 [==============================] - 150s 428ms/step - loss: 1.7276 - accuracy: 0.5282 - val_loss: 2.8928 - val_accuracy: 0.3209\n",
      "Epoch 32/100\n",
      "350/350 [==============================] - 147s 421ms/step - loss: 1.6663 - accuracy: 0.5424 - val_loss: 3.1443 - val_accuracy: 0.2955\n",
      "Epoch 33/100\n",
      "350/350 [==============================] - 147s 421ms/step - loss: 1.6412 - accuracy: 0.5474 - val_loss: 3.3613 - val_accuracy: 0.2800\n",
      "Epoch 34/100\n",
      "350/350 [==============================] - 148s 423ms/step - loss: 1.6080 - accuracy: 0.5594 - val_loss: 3.2202 - val_accuracy: 0.2868\n",
      "Epoch 35/100\n",
      "350/350 [==============================] - 147s 421ms/step - loss: 1.5572 - accuracy: 0.5652 - val_loss: 3.1504 - val_accuracy: 0.2952\n",
      "Epoch 36/100\n",
      "350/350 [==============================] - 149s 427ms/step - loss: 1.5219 - accuracy: 0.5741 - val_loss: 2.9466 - val_accuracy: 0.3184\n",
      "Epoch 37/100\n",
      "350/350 [==============================] - 149s 427ms/step - loss: 1.5052 - accuracy: 0.5791 - val_loss: 3.1075 - val_accuracy: 0.3113\n",
      "Epoch 38/100\n",
      "350/350 [==============================] - 149s 427ms/step - loss: 1.4598 - accuracy: 0.5950 - val_loss: 3.1811 - val_accuracy: 0.3026\n",
      "Epoch 39/100\n",
      "350/350 [==============================] - 149s 426ms/step - loss: 1.4256 - accuracy: 0.6007 - val_loss: 3.0275 - val_accuracy: 0.3137\n",
      "Epoch 40/100\n",
      "350/350 [==============================] - 149s 427ms/step - loss: 1.3763 - accuracy: 0.6162 - val_loss: 3.1491 - val_accuracy: 0.3145\n",
      "Epoch 41/100\n",
      "350/350 [==============================] - 150s 428ms/step - loss: 1.3680 - accuracy: 0.6180 - val_loss: 3.1204 - val_accuracy: 0.3139\n",
      "Epoch 42/100\n",
      "350/350 [==============================] - 150s 427ms/step - loss: 1.3344 - accuracy: 0.6283 - val_loss: 3.3095 - val_accuracy: 0.3007\n",
      "Epoch 43/100\n",
      "350/350 [==============================] - 150s 430ms/step - loss: 1.2893 - accuracy: 0.6390 - val_loss: 3.2278 - val_accuracy: 0.3113\n",
      "Epoch 44/100\n",
      "350/350 [==============================] - 149s 426ms/step - loss: 1.2638 - accuracy: 0.6471 - val_loss: 3.3081 - val_accuracy: 0.3069\n",
      "Epoch 45/100\n",
      "350/350 [==============================] - 148s 422ms/step - loss: 1.2385 - accuracy: 0.6527 - val_loss: 3.1646 - val_accuracy: 0.3277\n",
      "Epoch 46/100\n",
      "350/350 [==============================] - 148s 422ms/step - loss: 1.1995 - accuracy: 0.6585 - val_loss: 3.1722 - val_accuracy: 0.3259\n",
      "Epoch 47/100\n",
      "350/350 [==============================] - 148s 422ms/step - loss: 1.1781 - accuracy: 0.6703 - val_loss: 3.2502 - val_accuracy: 0.3144\n",
      "Epoch 48/100\n",
      "350/350 [==============================] - 148s 422ms/step - loss: 1.1419 - accuracy: 0.6726 - val_loss: 3.2642 - val_accuracy: 0.3200\n",
      "Epoch 49/100\n",
      "350/350 [==============================] - 150s 429ms/step - loss: 1.1054 - accuracy: 0.6869 - val_loss: 3.1746 - val_accuracy: 0.3316\n",
      "Epoch 50/100\n",
      "350/350 [==============================] - 154s 441ms/step - loss: 1.0806 - accuracy: 0.6943 - val_loss: 3.3786 - val_accuracy: 0.3009\n",
      "Epoch 51/100\n",
      "350/350 [==============================] - 155s 444ms/step - loss: 1.0619 - accuracy: 0.6991 - val_loss: 3.3275 - val_accuracy: 0.3180\n",
      "Epoch 52/100\n",
      "350/350 [==============================] - 156s 444ms/step - loss: 1.0343 - accuracy: 0.7083 - val_loss: 3.3423 - val_accuracy: 0.3151\n",
      "Epoch 53/100\n",
      "350/350 [==============================] - 157s 449ms/step - loss: 1.0139 - accuracy: 0.7091 - val_loss: 3.3067 - val_accuracy: 0.3292\n",
      "Epoch 54/100\n",
      "350/350 [==============================] - 158s 451ms/step - loss: 0.9740 - accuracy: 0.7221 - val_loss: 3.2500 - val_accuracy: 0.3364\n",
      "Epoch 55/100\n",
      "350/350 [==============================] - 156s 446ms/step - loss: 0.9483 - accuracy: 0.7306 - val_loss: 3.3278 - val_accuracy: 0.3280\n",
      "Epoch 56/100\n",
      "350/350 [==============================] - 153s 438ms/step - loss: 0.9274 - accuracy: 0.7346 - val_loss: 3.5297 - val_accuracy: 0.3080\n",
      "Epoch 57/100\n",
      "350/350 [==============================] - 154s 441ms/step - loss: 0.9132 - accuracy: 0.7345 - val_loss: 3.3203 - val_accuracy: 0.3343\n",
      "Epoch 58/100\n",
      "350/350 [==============================] - 152s 434ms/step - loss: 0.8776 - accuracy: 0.7442 - val_loss: 3.6489 - val_accuracy: 0.2981\n",
      "Epoch 59/100\n",
      "350/350 [==============================] - 158s 450ms/step - loss: 0.8665 - accuracy: 0.7504 - val_loss: 3.6179 - val_accuracy: 0.3097\n",
      "Epoch 60/100\n",
      "350/350 [==============================] - 156s 447ms/step - loss: 0.8337 - accuracy: 0.7577 - val_loss: 3.5939 - val_accuracy: 0.3192\n",
      "Epoch 61/100\n",
      "350/350 [==============================] - 153s 436ms/step - loss: 0.8199 - accuracy: 0.7655 - val_loss: 3.5278 - val_accuracy: 0.3250\n",
      "Epoch 62/100\n",
      "350/350 [==============================] - 158s 451ms/step - loss: 0.7986 - accuracy: 0.7707 - val_loss: 3.4888 - val_accuracy: 0.3287\n",
      "Epoch 63/100\n",
      "350/350 [==============================] - 158s 452ms/step - loss: 0.7799 - accuracy: 0.7756 - val_loss: 3.5911 - val_accuracy: 0.3277\n",
      "Epoch 64/100\n",
      "350/350 [==============================] - 159s 455ms/step - loss: 0.7438 - accuracy: 0.7849 - val_loss: 3.5703 - val_accuracy: 0.3225\n",
      "Epoch 65/100\n",
      "350/350 [==============================] - 160s 457ms/step - loss: 0.7101 - accuracy: 0.7984 - val_loss: 3.5011 - val_accuracy: 0.3433\n",
      "Epoch 66/100\n",
      "350/350 [==============================] - 153s 438ms/step - loss: 0.7051 - accuracy: 0.7989 - val_loss: 3.7273 - val_accuracy: 0.3104\n",
      "Epoch 67/100\n",
      "350/350 [==============================] - 158s 450ms/step - loss: 0.6960 - accuracy: 0.7967 - val_loss: 3.7247 - val_accuracy: 0.3198\n",
      "Epoch 68/100\n",
      "350/350 [==============================] - 153s 437ms/step - loss: 0.6817 - accuracy: 0.8019 - val_loss: 3.6285 - val_accuracy: 0.3369\n",
      "Epoch 69/100\n",
      "350/350 [==============================] - 156s 445ms/step - loss: 0.6688 - accuracy: 0.8066 - val_loss: 3.5603 - val_accuracy: 0.3375\n",
      "Epoch 70/100\n",
      "350/350 [==============================] - 157s 449ms/step - loss: 0.6442 - accuracy: 0.8148 - val_loss: 3.6048 - val_accuracy: 0.3333\n",
      "Epoch 71/100\n",
      "350/350 [==============================] - 155s 442ms/step - loss: 0.6288 - accuracy: 0.8199 - val_loss: 3.7032 - val_accuracy: 0.3303\n",
      "Epoch 72/100\n",
      "350/350 [==============================] - 156s 446ms/step - loss: 0.5955 - accuracy: 0.8268 - val_loss: 3.6242 - val_accuracy: 0.3410\n",
      "Epoch 73/100\n",
      "350/350 [==============================] - 158s 451ms/step - loss: 0.5702 - accuracy: 0.8364 - val_loss: 3.6336 - val_accuracy: 0.3370\n",
      "Epoch 74/100\n",
      "350/350 [==============================] - 158s 452ms/step - loss: 0.5907 - accuracy: 0.8310 - val_loss: 3.7307 - val_accuracy: 0.3266\n",
      "Epoch 75/100\n",
      "350/350 [==============================] - 157s 449ms/step - loss: 0.5613 - accuracy: 0.8347 - val_loss: 3.7587 - val_accuracy: 0.3378\n",
      "Epoch 76/100\n",
      "350/350 [==============================] - 160s 457ms/step - loss: 0.5423 - accuracy: 0.8414 - val_loss: 3.6858 - val_accuracy: 0.3432\n",
      "Epoch 77/100\n",
      "350/350 [==============================] - 158s 452ms/step - loss: 0.5332 - accuracy: 0.8460 - val_loss: 3.8192 - val_accuracy: 0.3301\n",
      "Epoch 78/100\n",
      "350/350 [==============================] - 155s 442ms/step - loss: 0.5158 - accuracy: 0.8510 - val_loss: 3.8369 - val_accuracy: 0.3327\n",
      "Epoch 79/100\n",
      "350/350 [==============================] - 156s 445ms/step - loss: 0.5096 - accuracy: 0.8528 - val_loss: 3.6562 - val_accuracy: 0.3497\n",
      "Epoch 80/100\n",
      "350/350 [==============================] - 156s 445ms/step - loss: 0.4928 - accuracy: 0.8562 - val_loss: 3.7744 - val_accuracy: 0.3304\n",
      "Epoch 81/100\n",
      "350/350 [==============================] - 158s 452ms/step - loss: 0.4918 - accuracy: 0.8570 - val_loss: 3.7294 - val_accuracy: 0.3433\n",
      "Epoch 82/100\n",
      "350/350 [==============================] - 172s 491ms/step - loss: 0.4708 - accuracy: 0.8609 - val_loss: 4.0584 - val_accuracy: 0.3143\n",
      "Epoch 83/100\n",
      "350/350 [==============================] - 156s 445ms/step - loss: 0.4625 - accuracy: 0.8634 - val_loss: 3.7973 - val_accuracy: 0.3422\n",
      "Epoch 84/100\n",
      "350/350 [==============================] - 154s 440ms/step - loss: 0.4392 - accuracy: 0.8728 - val_loss: 3.8131 - val_accuracy: 0.3409\n",
      "Epoch 85/100\n",
      "350/350 [==============================] - 155s 444ms/step - loss: 0.4520 - accuracy: 0.8664 - val_loss: 3.7822 - val_accuracy: 0.3455\n",
      "Epoch 86/100\n",
      "350/350 [==============================] - 152s 434ms/step - loss: 0.4319 - accuracy: 0.8745 - val_loss: 3.8095 - val_accuracy: 0.3399\n",
      "Epoch 87/100\n",
      "350/350 [==============================] - 149s 427ms/step - loss: 0.4149 - accuracy: 0.8790 - val_loss: 3.8918 - val_accuracy: 0.3370\n",
      "Epoch 88/100\n",
      "350/350 [==============================] - 155s 442ms/step - loss: 0.4037 - accuracy: 0.8811 - val_loss: 3.9116 - val_accuracy: 0.3307\n",
      "Epoch 89/100\n",
      "350/350 [==============================] - 172s 490ms/step - loss: 0.3972 - accuracy: 0.8837 - val_loss: 3.9280 - val_accuracy: 0.3333\n",
      "Epoch 90/100\n",
      "350/350 [==============================] - 223s 637ms/step - loss: 0.3775 - accuracy: 0.8912 - val_loss: 4.0818 - val_accuracy: 0.3192\n",
      "Epoch 91/100\n",
      "350/350 [==============================] - 166s 475ms/step - loss: 0.3810 - accuracy: 0.8867 - val_loss: 3.8624 - val_accuracy: 0.3470\n",
      "Epoch 92/100\n",
      "350/350 [==============================] - 158s 452ms/step - loss: 0.3761 - accuracy: 0.8905 - val_loss: 3.9866 - val_accuracy: 0.3303\n",
      "Epoch 93/100\n",
      "350/350 [==============================] - 156s 445ms/step - loss: 0.3792 - accuracy: 0.8918 - val_loss: 3.9563 - val_accuracy: 0.3452\n",
      "Epoch 94/100\n",
      "350/350 [==============================] - 156s 447ms/step - loss: 0.3569 - accuracy: 0.8959 - val_loss: 4.0188 - val_accuracy: 0.3257\n",
      "Epoch 95/100\n",
      "350/350 [==============================] - 155s 443ms/step - loss: 0.3544 - accuracy: 0.8985 - val_loss: 3.9142 - val_accuracy: 0.3405\n",
      "Epoch 96/100\n",
      "350/350 [==============================] - 165s 472ms/step - loss: 0.3496 - accuracy: 0.8984 - val_loss: 3.9353 - val_accuracy: 0.3371\n",
      "Epoch 97/100\n",
      "350/350 [==============================] - 169s 481ms/step - loss: 0.3461 - accuracy: 0.8982 - val_loss: 4.1174 - val_accuracy: 0.3255\n",
      "Epoch 98/100\n",
      "350/350 [==============================] - 184s 526ms/step - loss: 0.3420 - accuracy: 0.9006 - val_loss: 4.0128 - val_accuracy: 0.3282\n",
      "Epoch 99/100\n",
      "350/350 [==============================] - 211s 602ms/step - loss: 0.3355 - accuracy: 0.9014 - val_loss: 3.9206 - val_accuracy: 0.3429\n",
      "Epoch 100/100\n",
      "350/350 [==============================] - 212s 607ms/step - loss: 0.3174 - accuracy: 0.9073 - val_loss: 3.9445 - val_accuracy: 0.3390\n"
     ]
    },
    {
     "data": {
      "text/plain": [
       "<tensorflow.python.keras.callbacks.History at 0x23a09085dc8>"
      ]
     },
     "execution_count": 42,
     "metadata": {},
     "output_type": "execute_result"
    }
   ],
   "source": [
    "AlexNetFine.fit(, epochs = epochs, steps_per_epoch = x_train.shape[0]//batch_size, validation_data = val_generator.flow(x_val, y_val, batch_size=batch_size), validation_steps = len(x_test)//batch_size, verbose=1)\n"
   ]
  },
  {
   "cell_type": "markdown",
   "id": "apart-visitor",
   "metadata": {},
   "source": [
    "# Save and load AlexNet Fine Models"
   ]
  },
  {
   "cell_type": "code",
   "execution_count": 43,
   "id": "forced-arkansas",
   "metadata": {},
   "outputs": [
    {
     "name": "stdout",
     "output_type": "stream",
     "text": [
      "INFO:tensorflow:Assets written to: alexNet_fine\\assets\n"
     ]
    }
   ],
   "source": [
    "AlexNetFine.save('alexNet_fine')"
   ]
  },
  {
   "cell_type": "code",
   "execution_count": 184,
   "id": "vanilla-future",
   "metadata": {},
   "outputs": [],
   "source": [
    "AlexNetFine = tf.keras.models.load_model('alexNet_fine')\n"
   ]
  },
  {
   "cell_type": "markdown",
   "id": "signal-memory",
   "metadata": {},
   "source": [
    "# AlexNet Fine Evaluation"
   ]
  },
  {
   "cell_type": "code",
   "execution_count": 196,
   "id": "biblical-stake",
   "metadata": {},
   "outputs": [
    {
     "name": "stdout",
     "output_type": "stream",
     "text": [
      "[[2.5328342e-04 3.4837698e-04 2.6616077e-03 ... 2.2882510e-04\n",
      "  7.1436382e-04 2.0065862e-03]\n",
      " [8.4480143e-06 2.2265005e-05 4.9657188e-04 ... 4.3206158e-01\n",
      "  1.0753529e-03 5.9845694e-05]\n",
      " [2.5788738e-04 1.7864206e-04 1.1894580e-02 ... 3.8006500e-04\n",
      "  4.8234165e-03 1.2683746e-04]\n",
      " ...\n",
      " [1.1754603e-05 1.4548700e-05 3.6188256e-05 ... 1.1041769e-04\n",
      "  1.0528205e-04 1.9305851e-05]\n",
      " [1.1509878e-05 1.5016815e-04 2.0207413e-03 ... 1.5942074e-03\n",
      "  5.4827414e-04 1.2405297e-03]\n",
      " [9.4018625e-03 5.5433437e-04 1.3202858e-04 ... 6.6467139e-05\n",
      "  7.2105169e-05 4.9171242e-04]]\n"
     ]
    }
   ],
   "source": [
    "AlexNetFine_predictions = AlexNetFine.predict(x_test)\n",
    "print(AlexNetFine_predictions)"
   ]
  },
  {
   "cell_type": "code",
   "execution_count": 193,
   "id": "biological-fancy",
   "metadata": {},
   "outputs": [
    {
     "name": "stdout",
     "output_type": "stream",
     "text": [
      "313/313 - 7s - loss: 3.8290 - accuracy: 0.3564\n",
      "0.3564000129699707 3.82897686958313\n"
     ]
    }
   ],
   "source": [
    "test_loss, test_acc = AlexNetFine.evaluate(x_test,  y_test, verbose=2)\n",
    "\n",
    "print(test_acc, test_loss)"
   ]
  },
  {
   "cell_type": "code",
   "execution_count": 199,
   "id": "honest-behalf",
   "metadata": {},
   "outputs": [
    {
     "name": "stdout",
     "output_type": "stream",
     "text": [
      "[30 97 15 ... 82 50 70]\n"
     ]
    }
   ],
   "source": [
    "AlexNetFine_predictions = np.argmax(AlexNetFine_predictions, axis=1)\n",
    "print(AlexNetFine_predictions)"
   ]
  },
  {
   "cell_type": "code",
   "execution_count": 201,
   "id": "metallic-order",
   "metadata": {},
   "outputs": [
    {
     "name": "stdout",
     "output_type": "stream",
     "text": [
      "(10000, 100)\n"
     ]
    }
   ],
   "source": [
    "print(y_test.shape)"
   ]
  },
  {
   "cell_type": "code",
   "execution_count": 202,
   "id": "competitive-appointment",
   "metadata": {},
   "outputs": [
    {
     "data": {
      "text/plain": [
       "<sklearn.metrics._plot.confusion_matrix.ConfusionMatrixDisplay at 0x1d58aeb5c48>"
      ]
     },
     "execution_count": 202,
     "metadata": {},
     "output_type": "execute_result"
    },
    {
     "data": {
      "image/png": "[encoded data removed]",
      "text/plain": [
       "<Figure size 432x288 with 2 Axes>"
      ]
     },
     "metadata": {
      "needs_background": "light"
     },
     "output_type": "display_data"
    }
   ],
   "source": [
    "cm = confusion_matrix(np.array(test_labels_fine), np.array(AlexNetFine_predictions), labels=np.unique(test_labels_fine))\n",
    "disp = ConfusionMatrixDisplay(confusion_matrix=cm, display_labels=np.unique(test_labels_fine))\n",
    "disp.plot() "
   ]
  },
  {
   "cell_type": "markdown",
   "id": "careful-cemetery",
   "metadata": {},
   "source": [
    "# \n",
    "# \n",
    "# ResNet50 Coarse\n",
    "## setup correct data input and image preprocessing"
   ]
  },
  {
   "cell_type": "code",
   "execution_count": 100,
   "id": "appreciated-marriage",
   "metadata": {},
   "outputs": [],
   "source": [
    "#params\n",
    "init_lr = 0.1\n",
    "epochs = 50\n",
    "batch_size = 50\n",
    "My_wd=5e-4/2\n",
    "resnet_width = 10\n",
    "resnet_depth = 20\n",
    "UseBinary=False\n",
    "UseCutout=True\n",
    "Loss = 'categorical_crossentropy'\n",
    "Optimizer = SGD(lr=init_lr,decay=0.0, momentum=0.9, nesterov=False)\n",
    "Metrics = ['accuracy']"
   ]
  },
  {
   "cell_type": "code",
   "execution_count": 101,
   "id": "unable-thousand",
   "metadata": {},
   "outputs": [
    {
     "name": "stdout",
     "output_type": "stream",
     "text": [
      "(50000, 32, 32, 3)\n",
      "(50000, 1)\n",
      "(10000, 32, 32, 3)\n",
      "(10000, 1)\n"
     ]
    }
   ],
   "source": [
    "x_train = np.load('trnImage.npy')\n",
    "y_train = np.load('trnLabel_coarse.npy')\n",
    "\n",
    "x_test = np.load('tstImage.npy')\n",
    "y_test = np.load('tstLabel_coarse.npy')\n",
    "\n",
    "x_train = np.transpose(x_train, (3, 0, 1, 2))\n",
    "x_test = np.transpose(x_test, (3, 0, 1, 2))\n",
    "y_train = y_train.reshape(50000, 1)\n",
    "y_test = y_test.reshape(10000, 1)\n",
    "\n",
    "print(x_train.shape)\n",
    "print(y_train.shape)\n",
    "print(x_test.shape)\n",
    "print(y_test.shape)\n",
    "\n",
    "num_classes = np.unique(y_train).shape[0]\n",
    "K_train = x_train.shape[0]\n",
    "input_shape = x_train.shape[1:]\n",
    "x_train = x_train.astype('float32')\n",
    "x_test = x_test.astype('float32')\n",
    "\n",
    "#one hot encode\n",
    "#Since we have 20 classes we should expect the shape[1] of y_train,y_val and y_test to change from 1 to 20\n",
    "y_train = tf.keras.utils.to_categorical(y_train, num_classes)\n",
    "y_test = tf.keras.utils.to_categorical(y_test, num_classes)"
   ]
  },
  {
   "cell_type": "markdown",
   "id": "polyphonic-optics",
   "metadata": {},
   "source": [
    "# compile ResNet50 Coarse model"
   ]
  },
  {
   "cell_type": "code",
   "execution_count": 102,
   "id": "illegal-intention",
   "metadata": {},
   "outputs": [
    {
     "name": "stdout",
     "output_type": "stream",
     "text": [
      "Model: \"model_5\"\n",
      "__________________________________________________________________________________________________\n",
      "Layer (type)                    Output Shape         Param #     Connected to                     \n",
      "==================================================================================================\n",
      "input_7 (InputLayer)            [(None, 32, 32, 3)]  0                                            \n",
      "__________________________________________________________________________________________________\n",
      "batch_normalization_105 (BatchN (None, 32, 32, 3)    12          input_7[0][0]                    \n",
      "__________________________________________________________________________________________________\n",
      "conv2d_100 (Conv2D)             (None, 32, 32, 160)  4320        batch_normalization_105[0][0]    \n",
      "__________________________________________________________________________________________________\n",
      "batch_normalization_106 (BatchN (None, 32, 32, 160)  320         conv2d_100[0][0]                 \n",
      "__________________________________________________________________________________________________\n",
      "activation_100 (Activation)     (None, 32, 32, 160)  0           batch_normalization_106[0][0]    \n",
      "__________________________________________________________________________________________________\n",
      "conv2d_101 (Conv2D)             (None, 32, 32, 160)  230400      activation_100[0][0]             \n",
      "__________________________________________________________________________________________________\n",
      "batch_normalization_107 (BatchN (None, 32, 32, 160)  320         conv2d_101[0][0]                 \n",
      "__________________________________________________________________________________________________\n",
      "activation_101 (Activation)     (None, 32, 32, 160)  0           batch_normalization_107[0][0]    \n",
      "__________________________________________________________________________________________________\n",
      "conv2d_102 (Conv2D)             (None, 32, 32, 160)  230400      activation_101[0][0]             \n",
      "__________________________________________________________________________________________________\n",
      "add_45 (Add)                    (None, 32, 32, 160)  0           conv2d_102[0][0]                 \n",
      "                                                                 conv2d_100[0][0]                 \n",
      "__________________________________________________________________________________________________\n",
      "batch_normalization_108 (BatchN (None, 32, 32, 160)  320         add_45[0][0]                     \n",
      "__________________________________________________________________________________________________\n",
      "activation_102 (Activation)     (None, 32, 32, 160)  0           batch_normalization_108[0][0]    \n",
      "__________________________________________________________________________________________________\n",
      "conv2d_103 (Conv2D)             (None, 32, 32, 160)  230400      activation_102[0][0]             \n",
      "__________________________________________________________________________________________________\n",
      "batch_normalization_109 (BatchN (None, 32, 32, 160)  320         conv2d_103[0][0]                 \n",
      "__________________________________________________________________________________________________\n",
      "activation_103 (Activation)     (None, 32, 32, 160)  0           batch_normalization_109[0][0]    \n",
      "__________________________________________________________________________________________________\n",
      "conv2d_104 (Conv2D)             (None, 32, 32, 160)  230400      activation_103[0][0]             \n",
      "__________________________________________________________________________________________________\n",
      "add_46 (Add)                    (None, 32, 32, 160)  0           conv2d_104[0][0]                 \n",
      "                                                                 add_45[0][0]                     \n",
      "__________________________________________________________________________________________________\n",
      "batch_normalization_110 (BatchN (None, 32, 32, 160)  320         add_46[0][0]                     \n",
      "__________________________________________________________________________________________________\n",
      "activation_104 (Activation)     (None, 32, 32, 160)  0           batch_normalization_110[0][0]    \n",
      "__________________________________________________________________________________________________\n",
      "conv2d_105 (Conv2D)             (None, 32, 32, 160)  230400      activation_104[0][0]             \n",
      "__________________________________________________________________________________________________\n",
      "batch_normalization_111 (BatchN (None, 32, 32, 160)  320         conv2d_105[0][0]                 \n",
      "__________________________________________________________________________________________________\n",
      "activation_105 (Activation)     (None, 32, 32, 160)  0           batch_normalization_111[0][0]    \n",
      "__________________________________________________________________________________________________\n",
      "conv2d_106 (Conv2D)             (None, 32, 32, 160)  230400      activation_105[0][0]             \n",
      "__________________________________________________________________________________________________\n",
      "add_47 (Add)                    (None, 32, 32, 160)  0           conv2d_106[0][0]                 \n",
      "                                                                 add_46[0][0]                     \n",
      "__________________________________________________________________________________________________\n",
      "batch_normalization_112 (BatchN (None, 32, 32, 160)  320         add_47[0][0]                     \n",
      "__________________________________________________________________________________________________\n",
      "activation_106 (Activation)     (None, 32, 32, 160)  0           batch_normalization_112[0][0]    \n",
      "__________________________________________________________________________________________________\n",
      "conv2d_107 (Conv2D)             (None, 16, 16, 320)  460800      activation_106[0][0]             \n",
      "__________________________________________________________________________________________________\n",
      "batch_normalization_113 (BatchN (None, 16, 16, 320)  640         conv2d_107[0][0]                 \n",
      "__________________________________________________________________________________________________\n",
      "average_pooling2d_10 (AveragePo (None, 16, 16, 160)  0           add_47[0][0]                     \n",
      "__________________________________________________________________________________________________\n",
      "activation_107 (Activation)     (None, 16, 16, 320)  0           batch_normalization_113[0][0]    \n",
      "__________________________________________________________________________________________________\n",
      "lambda_10 (Lambda)              (None, 16, 16, 160)  0           average_pooling2d_10[0][0]       \n",
      "__________________________________________________________________________________________________\n",
      "conv2d_108 (Conv2D)             (None, 16, 16, 320)  921600      activation_107[0][0]             \n",
      "__________________________________________________________________________________________________\n",
      "concatenate_10 (Concatenate)    (None, 16, 16, 320)  0           average_pooling2d_10[0][0]       \n",
      "                                                                 lambda_10[0][0]                  \n",
      "__________________________________________________________________________________________________\n",
      "add_48 (Add)                    (None, 16, 16, 320)  0           conv2d_108[0][0]                 \n",
      "                                                                 concatenate_10[0][0]             \n",
      "__________________________________________________________________________________________________\n",
      "batch_normalization_114 (BatchN (None, 16, 16, 320)  640         add_48[0][0]                     \n",
      "__________________________________________________________________________________________________\n",
      "activation_108 (Activation)     (None, 16, 16, 320)  0           batch_normalization_114[0][0]    \n",
      "__________________________________________________________________________________________________\n",
      "conv2d_109 (Conv2D)             (None, 16, 16, 320)  921600      activation_108[0][0]             \n",
      "__________________________________________________________________________________________________\n",
      "batch_normalization_115 (BatchN (None, 16, 16, 320)  640         conv2d_109[0][0]                 \n",
      "__________________________________________________________________________________________________\n",
      "activation_109 (Activation)     (None, 16, 16, 320)  0           batch_normalization_115[0][0]    \n",
      "__________________________________________________________________________________________________\n",
      "conv2d_110 (Conv2D)             (None, 16, 16, 320)  921600      activation_109[0][0]             \n",
      "__________________________________________________________________________________________________\n",
      "add_49 (Add)                    (None, 16, 16, 320)  0           conv2d_110[0][0]                 \n",
      "                                                                 add_48[0][0]                     \n",
      "__________________________________________________________________________________________________\n",
      "batch_normalization_116 (BatchN (None, 16, 16, 320)  640         add_49[0][0]                     \n",
      "__________________________________________________________________________________________________\n",
      "activation_110 (Activation)     (None, 16, 16, 320)  0           batch_normalization_116[0][0]    \n",
      "__________________________________________________________________________________________________\n",
      "conv2d_111 (Conv2D)             (None, 16, 16, 320)  921600      activation_110[0][0]             \n",
      "__________________________________________________________________________________________________\n",
      "batch_normalization_117 (BatchN (None, 16, 16, 320)  640         conv2d_111[0][0]                 \n",
      "__________________________________________________________________________________________________\n",
      "activation_111 (Activation)     (None, 16, 16, 320)  0           batch_normalization_117[0][0]    \n",
      "__________________________________________________________________________________________________\n",
      "conv2d_112 (Conv2D)             (None, 16, 16, 320)  921600      activation_111[0][0]             \n",
      "__________________________________________________________________________________________________\n",
      "add_50 (Add)                    (None, 16, 16, 320)  0           conv2d_112[0][0]                 \n",
      "                                                                 add_49[0][0]                     \n",
      "__________________________________________________________________________________________________\n",
      "batch_normalization_118 (BatchN (None, 16, 16, 320)  640         add_50[0][0]                     \n",
      "__________________________________________________________________________________________________\n",
      "activation_112 (Activation)     (None, 16, 16, 320)  0           batch_normalization_118[0][0]    \n",
      "__________________________________________________________________________________________________\n",
      "conv2d_113 (Conv2D)             (None, 8, 8, 640)    1843200     activation_112[0][0]             \n",
      "__________________________________________________________________________________________________\n",
      "batch_normalization_119 (BatchN (None, 8, 8, 640)    1280        conv2d_113[0][0]                 \n",
      "__________________________________________________________________________________________________\n",
      "average_pooling2d_11 (AveragePo (None, 8, 8, 320)    0           add_50[0][0]                     \n",
      "__________________________________________________________________________________________________\n",
      "activation_113 (Activation)     (None, 8, 8, 640)    0           batch_normalization_119[0][0]    \n",
      "__________________________________________________________________________________________________\n",
      "lambda_11 (Lambda)              (None, 8, 8, 320)    0           average_pooling2d_11[0][0]       \n",
      "__________________________________________________________________________________________________\n",
      "conv2d_114 (Conv2D)             (None, 8, 8, 640)    3686400     activation_113[0][0]             \n",
      "__________________________________________________________________________________________________\n",
      "concatenate_11 (Concatenate)    (None, 8, 8, 640)    0           average_pooling2d_11[0][0]       \n",
      "                                                                 lambda_11[0][0]                  \n",
      "__________________________________________________________________________________________________\n",
      "add_51 (Add)                    (None, 8, 8, 640)    0           conv2d_114[0][0]                 \n",
      "                                                                 concatenate_11[0][0]             \n",
      "__________________________________________________________________________________________________\n",
      "batch_normalization_120 (BatchN (None, 8, 8, 640)    1280        add_51[0][0]                     \n",
      "__________________________________________________________________________________________________\n",
      "activation_114 (Activation)     (None, 8, 8, 640)    0           batch_normalization_120[0][0]    \n",
      "__________________________________________________________________________________________________\n",
      "conv2d_115 (Conv2D)             (None, 8, 8, 640)    3686400     activation_114[0][0]             \n",
      "__________________________________________________________________________________________________\n",
      "batch_normalization_121 (BatchN (None, 8, 8, 640)    1280        conv2d_115[0][0]                 \n",
      "__________________________________________________________________________________________________\n",
      "activation_115 (Activation)     (None, 8, 8, 640)    0           batch_normalization_121[0][0]    \n",
      "__________________________________________________________________________________________________\n",
      "conv2d_116 (Conv2D)             (None, 8, 8, 640)    3686400     activation_115[0][0]             \n",
      "__________________________________________________________________________________________________\n",
      "add_52 (Add)                    (None, 8, 8, 640)    0           conv2d_116[0][0]                 \n",
      "                                                                 add_51[0][0]                     \n",
      "__________________________________________________________________________________________________\n",
      "batch_normalization_122 (BatchN (None, 8, 8, 640)    1280        add_52[0][0]                     \n",
      "__________________________________________________________________________________________________\n",
      "activation_116 (Activation)     (None, 8, 8, 640)    0           batch_normalization_122[0][0]    \n",
      "__________________________________________________________________________________________________\n",
      "conv2d_117 (Conv2D)             (None, 8, 8, 640)    3686400     activation_116[0][0]             \n",
      "__________________________________________________________________________________________________\n",
      "batch_normalization_123 (BatchN (None, 8, 8, 640)    1280        conv2d_117[0][0]                 \n",
      "__________________________________________________________________________________________________\n",
      "activation_117 (Activation)     (None, 8, 8, 640)    0           batch_normalization_123[0][0]    \n",
      "__________________________________________________________________________________________________\n",
      "conv2d_118 (Conv2D)             (None, 8, 8, 640)    3686400     activation_117[0][0]             \n",
      "__________________________________________________________________________________________________\n",
      "add_53 (Add)                    (None, 8, 8, 640)    0           conv2d_118[0][0]                 \n",
      "                                                                 add_52[0][0]                     \n",
      "__________________________________________________________________________________________________\n",
      "batch_normalization_124 (BatchN (None, 8, 8, 640)    1280        add_53[0][0]                     \n",
      "__________________________________________________________________________________________________\n",
      "activation_118 (Activation)     (None, 8, 8, 640)    0           batch_normalization_124[0][0]    \n",
      "__________________________________________________________________________________________________\n",
      "conv2d_119 (Conv2D)             (None, 8, 8, 20)     12800       activation_118[0][0]             \n",
      "__________________________________________________________________________________________________\n",
      "batch_normalization_125 (BatchN (None, 8, 8, 20)     40          conv2d_119[0][0]                 \n",
      "__________________________________________________________________________________________________\n",
      "global_average_pooling2d_5 (Glo (None, 20)           0           batch_normalization_125[0][0]    \n",
      "__________________________________________________________________________________________________\n",
      "activation_119 (Activation)     (None, 20)           0           global_average_pooling2d_5[0][0] \n",
      "==================================================================================================\n",
      "Total params: 26,757,332\n",
      "Trainable params: 26,743,526\n",
      "Non-trainable params: 13,806\n",
      "__________________________________________________________________________________________________\n"
     ]
    }
   ],
   "source": [
    "#define a datagen or generating training samples with flip and pad/crop augmentation, and if set to True, with cutout augmentation\n",
    "dataGenerator = GetDataGen(UseCutout)\n",
    "\n",
    "#define and compile the model\n",
    "ResnetCoarsemodel = resnet(UseBinary,input_shape=input_shape, depth=resnet_depth, num_classes=num_classes,wd=My_wd,width=resnet_width)\n",
    "ResnetCoarsemodel.compile(loss=Loss ,optimizer = Optimizer, metrics = Metrics)\n",
    "\n",
    "#print  the model\n",
    "ResnetCoarsemodel.summary()\n",
    "\n",
    "#define the learnng rate schedule\n",
    "steps_per_epoch = int(np.floor(K_train / batch_size))\n",
    "lr_scheduler = LR_WarmRestart(nbatch=steps_per_epoch,\n",
    "                              initial_lr=init_lr, min_lr=init_lr*1e-4,\n",
    "                              epochs_restart = [1.0,3.0, 7.0, 15.0, 31.0, 63.0,127.0,255.0]) \n",
    "\n",
    "#define callbacks\n",
    "history = History()\n",
    "callbacks = [lr_scheduler,history]"
   ]
  },
  {
   "cell_type": "markdown",
   "id": "distant-invitation",
   "metadata": {},
   "source": [
    "# Train ResNet50 Coarse Model"
   ]
  },
  {
   "cell_type": "code",
   "execution_count": 103,
   "id": "caroline-document",
   "metadata": {},
   "outputs": [
    {
     "name": "stdout",
     "output_type": "stream",
     "text": [
      "Epoch 1/50\n",
      "\n",
      " Start of Epoch Learning Rate = 0.100000\n",
      "50/50 [==============================] - 428s 9s/step - loss: 6.3011 - accuracy: 0.1311 - val_loss: 67.9212 - val_accuracy: 0.0500\n",
      "\n",
      " End of Epoch Learning Rate = 0.099406\n",
      "Epoch 2/50\n",
      "\n",
      " Start of Epoch Learning Rate = 0.099406\n",
      "50/50 [==============================] - 419s 8s/step - loss: 5.9632 - accuracy: 0.1897 - val_loss: 13.9176 - val_accuracy: 0.0500\n",
      "\n",
      " End of Epoch Learning Rate = 0.042324\n",
      "Epoch 3/50\n",
      "\n",
      " Start of Epoch Learning Rate = 0.100000\n",
      "50/50 [==============================] - 423s 9s/step - loss: 5.8605 - accuracy: 0.2087 - val_loss: 7.9850 - val_accuracy: 0.0500\n",
      "\n",
      " End of Epoch Learning Rate = 0.099851\n",
      "Epoch 4/50\n",
      "\n",
      " Start of Epoch Learning Rate = 0.099851\n",
      "50/50 [==============================] - 423s 9s/step - loss: 5.7155 - accuracy: 0.2053 - val_loss: 6.6349 - val_accuracy: 0.0500\n",
      "\n",
      " End of Epoch Learning Rate = 0.082528\n",
      "Epoch 5/50\n",
      "\n",
      " Start of Epoch Learning Rate = 0.082528\n",
      "50/50 [==============================] - 417s 8s/step - loss: 5.5239 - accuracy: 0.2069 - val_loss: 6.1467 - val_accuracy: 0.0500\n",
      "\n",
      " End of Epoch Learning Rate = 0.046153\n",
      "Epoch 6/50\n",
      "\n",
      " Start of Epoch Learning Rate = 0.046153\n",
      "50/50 [==============================] - 416s 8s/step - loss: 5.4409 - accuracy: 0.2262 - val_loss: 6.1959 - val_accuracy: 0.0500\n",
      "\n",
      " End of Epoch Learning Rate = 0.012035\n",
      "Epoch 7/50\n",
      "\n",
      " Start of Epoch Learning Rate = 0.100000\n",
      "50/50 [==============================] - 418s 8s/step - loss: 5.4128 - accuracy: 0.2253 - val_loss: 6.3985 - val_accuracy: 0.0500\n",
      "\n",
      " End of Epoch Learning Rate = 0.099963\n",
      "Epoch 8/50\n",
      "\n",
      " Start of Epoch Learning Rate = 0.099963\n",
      "50/50 [==============================] - 415s 8s/step - loss: 5.2590 - accuracy: 0.2244 - val_loss: 6.0060 - val_accuracy: 0.0500\n",
      "\n",
      " End of Epoch Learning Rate = 0.095422\n",
      "Epoch 9/50\n",
      "\n",
      " Start of Epoch Learning Rate = 0.095422\n",
      "50/50 [==============================] - 414s 8s/step - loss: 5.1305 - accuracy: 0.2336 - val_loss: 5.8656 - val_accuracy: 0.0500\n",
      "\n",
      " End of Epoch Learning Rate = 0.083968\n",
      "Epoch 10/50\n",
      "\n",
      " Start of Epoch Learning Rate = 0.083968\n",
      "50/50 [==============================] - 417s 8s/step - loss: 4.9474 - accuracy: 0.2626 - val_loss: 5.6950 - val_accuracy: 0.0500\n",
      "\n",
      " End of Epoch Learning Rate = 0.067342\n",
      "Epoch 11/50\n",
      "\n",
      " Start of Epoch Learning Rate = 0.067342\n",
      "50/50 [==============================] - 419s 8s/step - loss: 4.8760 - accuracy: 0.2443 - val_loss: 5.6992 - val_accuracy: 0.0500\n",
      "\n",
      " End of Epoch Learning Rate = 0.048078\n",
      "Epoch 12/50\n",
      "\n",
      " Start of Epoch Learning Rate = 0.048078\n",
      "50/50 [==============================] - 419s 8s/step - loss: 4.7807 - accuracy: 0.2616 - val_loss: 5.6479 - val_accuracy: 0.0500\n",
      "\n",
      " End of Epoch Learning Rate = 0.029106\n",
      "Epoch 13/50\n",
      "\n",
      " Start of Epoch Learning Rate = 0.029106\n",
      "50/50 [==============================] - 421s 8s/step - loss: 4.6658 - accuracy: 0.2957 - val_loss: 5.5075 - val_accuracy: 0.0500\n",
      "\n",
      " End of Epoch Learning Rate = 0.013317\n",
      "Epoch 14/50\n",
      "\n",
      " Start of Epoch Learning Rate = 0.013317\n",
      "50/50 [==============================] - 421s 8s/step - loss: 4.6367 - accuracy: 0.2786 - val_loss: 5.4976 - val_accuracy: 0.0500\n",
      "\n",
      " End of Epoch Learning Rate = 0.003112\n",
      "Epoch 15/50\n",
      "\n",
      " Start of Epoch Learning Rate = 0.100000\n",
      "50/50 [==============================] - 420s 8s/step - loss: 4.6781 - accuracy: 0.2809 - val_loss: 5.6800 - val_accuracy: 0.0500\n",
      "\n",
      " End of Epoch Learning Rate = 0.099991\n",
      "Epoch 16/50\n",
      "\n",
      " Start of Epoch Learning Rate = 0.099991\n",
      "50/50 [==============================] - 423s 9s/step - loss: 4.6426 - accuracy: 0.2573 - val_loss: 5.6213 - val_accuracy: 0.0500\n",
      "\n",
      " End of Epoch Learning Rate = 0.098842\n",
      "Epoch 17/50\n",
      "\n",
      " Start of Epoch Learning Rate = 0.098842\n",
      "50/50 [==============================] - 418s 8s/step - loss: 4.5529 - accuracy: 0.2746 - val_loss: 5.4003 - val_accuracy: 0.0500\n",
      "\n",
      " End of Epoch Learning Rate = 0.095817\n",
      "Epoch 18/50\n",
      "\n",
      " Start of Epoch Learning Rate = 0.095817\n",
      "50/50 [==============================] - 418s 8s/step - loss: 4.4239 - accuracy: 0.2815 - val_loss: 5.1174 - val_accuracy: 0.0500\n",
      "\n",
      " End of Epoch Learning Rate = 0.091031\n",
      "Epoch 19/50\n",
      "\n",
      " Start of Epoch Learning Rate = 0.091031\n",
      "50/50 [==============================] - 418s 8s/step - loss: 4.2634 - accuracy: 0.3037 - val_loss: 5.0015 - val_accuracy: 0.0500\n",
      "\n",
      " End of Epoch Learning Rate = 0.084669\n",
      "Epoch 20/50\n",
      "\n",
      " Start of Epoch Learning Rate = 0.084669\n",
      "50/50 [==============================] - 418s 8s/step - loss: 4.1819 - accuracy: 0.3142 - val_loss: 5.1370 - val_accuracy: 0.0500\n",
      "\n",
      " End of Epoch Learning Rate = 0.076974\n",
      "Epoch 21/50\n",
      "\n",
      " Start of Epoch Learning Rate = 0.076974\n",
      "50/50 [==============================] - 419s 8s/step - loss: 4.0891 - accuracy: 0.3101 - val_loss: 5.0165 - val_accuracy: 0.0500\n",
      "\n",
      " End of Epoch Learning Rate = 0.068243\n",
      "Epoch 22/50\n",
      "\n",
      " Start of Epoch Learning Rate = 0.068243\n",
      "50/50 [==============================] - 421s 8s/step - loss: 3.9997 - accuracy: 0.3154 - val_loss: 4.9811 - val_accuracy: 0.0500\n",
      "\n",
      " End of Epoch Learning Rate = 0.058811\n",
      "Epoch 23/50\n",
      "\n",
      " Start of Epoch Learning Rate = 0.058811\n",
      "50/50 [==============================] - 425s 9s/step - loss: 3.9094 - accuracy: 0.3364 - val_loss: 4.9228 - val_accuracy: 0.0500\n",
      "\n",
      " End of Epoch Learning Rate = 0.049041\n",
      "Epoch 24/50\n",
      "\n",
      " Start of Epoch Learning Rate = 0.049041\n",
      "50/50 [==============================] - 423s 9s/step - loss: 3.8602 - accuracy: 0.3341 - val_loss: 4.9487 - val_accuracy: 0.0500\n",
      "\n",
      " End of Epoch Learning Rate = 0.039308\n",
      "Epoch 25/50\n",
      "\n",
      " Start of Epoch Learning Rate = 0.039308\n",
      "50/50 [==============================] - 425s 9s/step - loss: 3.8144 - accuracy: 0.3421 - val_loss: 4.8676 - val_accuracy: 0.0500\n",
      "\n",
      " End of Epoch Learning Rate = 0.029986\n",
      "Epoch 26/50\n",
      "\n",
      " Start of Epoch Learning Rate = 0.029986\n",
      "50/50 [==============================] - 427s 9s/step - loss: 3.7950 - accuracy: 0.3359 - val_loss: 4.8772 - val_accuracy: 0.0500\n",
      "\n",
      " End of Epoch Learning Rate = 0.021433\n",
      "Epoch 27/50\n",
      "\n",
      " Start of Epoch Learning Rate = 0.021433\n",
      "50/50 [==============================] - 429s 9s/step - loss: 3.6912 - accuracy: 0.3812 - val_loss: 4.9151 - val_accuracy: 0.0500\n",
      "\n",
      " End of Epoch Learning Rate = 0.013978\n",
      "Epoch 28/50\n",
      "\n",
      " Start of Epoch Learning Rate = 0.013978\n",
      "50/50 [==============================] - 427s 9s/step - loss: 3.6186 - accuracy: 0.4047 - val_loss: 5.2307 - val_accuracy: 0.0500\n",
      "\n",
      " End of Epoch Learning Rate = 0.007908\n",
      "Epoch 29/50\n",
      "\n",
      " Start of Epoch Learning Rate = 0.007908\n",
      "50/50 [==============================] - 424s 9s/step - loss: 3.6290 - accuracy: 0.3868 - val_loss: 5.0755 - val_accuracy: 0.0500\n",
      "\n",
      " End of Epoch Learning Rate = 0.003455\n",
      "Epoch 30/50\n",
      "\n",
      " Start of Epoch Learning Rate = 0.003455\n",
      "50/50 [==============================] - 424s 9s/step - loss: 3.6209 - accuracy: 0.3941 - val_loss: 5.0554 - val_accuracy: 0.0500\n",
      "\n",
      " End of Epoch Learning Rate = 0.000792\n",
      "Epoch 31/50\n",
      "\n",
      " Start of Epoch Learning Rate = 0.100000\n",
      "50/50 [==============================] - 424s 9s/step - loss: 3.7625 - accuracy: 0.3354 - val_loss: 5.5605 - val_accuracy: 0.0500\n",
      "\n",
      " End of Epoch Learning Rate = 0.099998\n",
      "Epoch 32/50\n",
      "\n",
      " Start of Epoch Learning Rate = 0.099998\n",
      "50/50 [==============================] - 427s 9s/step - loss: 3.8208 - accuracy: 0.2945 - val_loss: 5.3832 - val_accuracy: 0.0500\n",
      "\n",
      " End of Epoch Learning Rate = 0.099710\n",
      "Epoch 33/50\n",
      "\n",
      " Start of Epoch Learning Rate = 0.099710\n",
      "50/50 [==============================] - 425s 9s/step - loss: 3.7123 - accuracy: 0.3282 - val_loss: 4.6836 - val_accuracy: 0.0500\n",
      "\n",
      " End of Epoch Learning Rate = 0.098943\n",
      "Epoch 34/50\n",
      "\n",
      " Start of Epoch Learning Rate = 0.098943\n",
      "50/50 [==============================] - 423s 9s/step - loss: 3.7164 - accuracy: 0.2916 - val_loss: 5.0315 - val_accuracy: 0.0500\n",
      "\n",
      " End of Epoch Learning Rate = 0.097705\n",
      "Epoch 35/50\n",
      "\n",
      " Start of Epoch Learning Rate = 0.097705\n",
      "50/50 [==============================] - 422s 9s/step - loss: 3.5221 - accuracy: 0.3390 - val_loss: 4.6287 - val_accuracy: 0.0500\n",
      "\n",
      " End of Epoch Learning Rate = 0.096008\n",
      "Epoch 36/50\n",
      "\n",
      " Start of Epoch Learning Rate = 0.096008\n",
      "50/50 [==============================] - 422s 9s/step - loss: 3.4918 - accuracy: 0.3459 - val_loss: 4.6415 - val_accuracy: 0.0500\n",
      "\n",
      " End of Epoch Learning Rate = 0.093867\n",
      "Epoch 37/50\n",
      "\n",
      " Start of Epoch Learning Rate = 0.093867\n",
      "50/50 [==============================] - 426s 9s/step - loss: 3.3938 - accuracy: 0.3487 - val_loss: 4.4779 - val_accuracy: 0.0500\n",
      "\n",
      " End of Epoch Learning Rate = 0.091305\n",
      "Epoch 38/50\n",
      "\n",
      " Start of Epoch Learning Rate = 0.091305\n",
      "50/50 [==============================] - 427s 9s/step - loss: 3.3893 - accuracy: 0.3525 - val_loss: 4.5386 - val_accuracy: 0.0500\n",
      "\n",
      " End of Epoch Learning Rate = 0.088344\n",
      "Epoch 39/50\n",
      "\n",
      " Start of Epoch Learning Rate = 0.088344\n",
      "50/50 [==============================] - 426s 9s/step - loss: 3.2920 - accuracy: 0.3501 - val_loss: 4.3863 - val_accuracy: 0.0500\n",
      "\n",
      " End of Epoch Learning Rate = 0.085014\n",
      "Epoch 40/50\n",
      "\n",
      " Start of Epoch Learning Rate = 0.085014\n",
      "50/50 [==============================] - 419s 8s/step - loss: 3.2713 - accuracy: 0.3450 - val_loss: 4.5744 - val_accuracy: 0.0500\n",
      "\n",
      " End of Epoch Learning Rate = 0.081347\n",
      "Epoch 41/50\n",
      "\n",
      " Start of Epoch Learning Rate = 0.081347\n",
      "50/50 [==============================] - 416s 8s/step - loss: 3.1988 - accuracy: 0.3574 - val_loss: 4.7633 - val_accuracy: 0.0500\n",
      "\n",
      " End of Epoch Learning Rate = 0.077379\n",
      "Epoch 42/50\n",
      "\n",
      " Start of Epoch Learning Rate = 0.077379\n",
      "50/50 [==============================] - 424s 9s/step - loss: 3.0736 - accuracy: 0.4059 - val_loss: 4.4954 - val_accuracy: 0.0500\n",
      "\n",
      " End of Epoch Learning Rate = 0.073146\n",
      "Epoch 43/50\n",
      "\n",
      " Start of Epoch Learning Rate = 0.073146\n",
      "50/50 [==============================] - 429s 9s/step - loss: 3.0746 - accuracy: 0.3959 - val_loss: 4.3618 - val_accuracy: 0.0500\n",
      "\n",
      " End of Epoch Learning Rate = 0.068691\n",
      "Epoch 44/50\n",
      "\n",
      " Start of Epoch Learning Rate = 0.068691\n",
      "50/50 [==============================] - 423s 9s/step - loss: 3.0069 - accuracy: 0.3983 - val_loss: 4.8451 - val_accuracy: 0.0500\n",
      "\n",
      " End of Epoch Learning Rate = 0.064056\n",
      "Epoch 45/50\n",
      "\n",
      " Start of Epoch Learning Rate = 0.064056\n",
      "50/50 [==============================] - 413s 8s/step - loss: 2.9226 - accuracy: 0.4207 - val_loss: 4.4998 - val_accuracy: 0.0500\n",
      "\n",
      " End of Epoch Learning Rate = 0.059285\n",
      "Epoch 46/50\n",
      "\n",
      " Start of Epoch Learning Rate = 0.059285\n",
      "50/50 [==============================] - 416s 8s/step - loss: 2.8572 - accuracy: 0.4512 - val_loss: 4.5367 - val_accuracy: 0.0500\n",
      "\n",
      " End of Epoch Learning Rate = 0.054425\n",
      "Epoch 47/50\n",
      "\n",
      " Start of Epoch Learning Rate = 0.054425\n",
      "50/50 [==============================] - 426s 9s/step - loss: 2.8628 - accuracy: 0.4305 - val_loss: 4.3454 - val_accuracy: 0.0500\n",
      "\n",
      " End of Epoch Learning Rate = 0.049523\n",
      "Epoch 48/50\n",
      "\n",
      " Start of Epoch Learning Rate = 0.049523\n",
      "50/50 [==============================] - 425s 9s/step - loss: 2.8374 - accuracy: 0.4296 - val_loss: 4.7402 - val_accuracy: 0.0500\n",
      "\n",
      " End of Epoch Learning Rate = 0.044625\n",
      "Epoch 49/50\n",
      "\n",
      " Start of Epoch Learning Rate = 0.044625\n",
      "50/50 [==============================] - 423s 9s/step - loss: 2.7819 - accuracy: 0.4345 - val_loss: 4.3007 - val_accuracy: 0.0500\n",
      "\n",
      " End of Epoch Learning Rate = 0.039779\n",
      "Epoch 50/50\n",
      "\n",
      " Start of Epoch Learning Rate = 0.039779\n",
      "50/50 [==============================] - 434s 9s/step - loss: 2.8009 - accuracy: 0.4362 - val_loss: 4.4085 - val_accuracy: 0.0500\n",
      "\n",
      " End of Epoch Learning Rate = 0.035032\n"
     ]
    }
   ],
   "source": [
    "ResnetCoarsemodelHistory = ResnetCoarsemodel.fit(dataGenerator.flow(x_train, y_train, batch_size=50),\n",
    "                              validation_data=(x_test, y_test),\n",
    "                              epochs=50,\n",
    "                              verbose=1,\n",
    "                              callbacks=callbacks,\n",
    "                              steps_per_epoch=50)"
   ]
  },
  {
   "cell_type": "markdown",
   "id": "latter-wellington",
   "metadata": {},
   "source": [
    "# Save and Load ResNet50 Coarse models"
   ]
  },
  {
   "cell_type": "code",
   "execution_count": 105,
   "id": "thousand-washington",
   "metadata": {},
   "outputs": [
    {
     "name": "stderr",
     "output_type": "stream",
     "text": [
      "Exception ignored in: <function ScopedTFGraph.__del__ at 0x000001D47E8BB8B8>\n",
      "Traceback (most recent call last):\n",
      "  File \"c:\\users\\lizks\\appdata\\local\\programs\\python\\python37\\lib\\site-packages\\tensorflow\\python\\framework\\c_api_util.py\", line 58, in __del__\n",
      "    self.deleter(self.graph)\n",
      "AttributeError: deleter\n"
     ]
    },
    {
     "name": "stdout",
     "output_type": "stream",
     "text": [
      "INFO:tensorflow:Assets written to: resNet_coarse_1\\assets\n"
     ]
    }
   ],
   "source": [
    "ResnetCoarsemodel.save('resNet_coarse_1')"
   ]
  },
  {
   "cell_type": "code",
   "execution_count": null,
   "id": "invalid-scroll",
   "metadata": {},
   "outputs": [],
   "source": [
    "ResnetCoarsemodel = keras.models.load_model('resNet_coarse_1')\n",
    "print(history)"
   ]
  },
  {
   "cell_type": "markdown",
   "id": "false-necessity",
   "metadata": {},
   "source": [
    "# ResNet50 Coarse Evaluation"
   ]
  },
  {
   "cell_type": "code",
   "execution_count": 106,
   "id": "directed-trash",
   "metadata": {},
   "outputs": [
    {
     "data": {
      "text/plain": [
       "<matplotlib.legend.Legend at 0x1d4fe894c88>"
      ]
     },
     "execution_count": 106,
     "metadata": {},
     "output_type": "execute_result"
    },
    {
     "data": {
      "image/png": "[encoded data removed]",
      "text/plain": [
       "<Figure size 432x288 with 1 Axes>"
      ]
     },
     "metadata": {
      "needs_background": "light"
     },
     "output_type": "display_data"
    }
   ],
   "source": [
    "plt.plot(ResnetCoarsemodelHistory.history['accuracy'], label='accuracy')\n",
    "plt.plot(ResnetCoarsemodelHistory.history['val_accuracy'], label = 'val_accuracy')\n",
    "plt.xlabel('Epoch')\n",
    "plt.ylabel('Accuracy')\n",
    "plt.ylim([0.0, 0.6])\n",
    "plt.legend(loc='lower right')"
   ]
  },
  {
   "cell_type": "code",
   "execution_count": 150,
   "id": "growing-harmony",
   "metadata": {},
   "outputs": [
    {
     "name": "stdout",
     "output_type": "stream",
     "text": [
      "313/313 - 324s - loss: 4.4085 - accuracy: 0.0500\n",
      "0.05000000074505806 4.40849494934082\n"
     ]
    }
   ],
   "source": [
    "test_loss, test_acc = ResnetCoarsemodel.evaluate(x_test,  y_test, verbose=2)\n",
    "\n",
    "print(test_acc, test_loss)"
   ]
  },
  {
   "cell_type": "code",
   "execution_count": 161,
   "id": "packed-possibility",
   "metadata": {},
   "outputs": [
    {
     "name": "stdout",
     "output_type": "stream",
     "text": [
      "[[0.01571625 0.22399314 0.02941566 ... 0.0164951  0.01175885 0.0378624 ]\n",
      " [0.01567853 0.22391762 0.02952113 ... 0.0164871  0.01175139 0.03779262]\n",
      " [0.01568515 0.22443788 0.02949302 ... 0.01648965 0.01174634 0.03779897]\n",
      " ...\n",
      " [0.01567763 0.22446308 0.02950623 ... 0.01647531 0.01174237 0.03770077]\n",
      " [0.01566969 0.22348714 0.0295664  ... 0.01647806 0.0117507  0.03774299]\n",
      " [0.01563889 0.22194743 0.02970349 ... 0.01650704 0.01176676 0.03784492]]\n",
      "197493\n"
     ]
    }
   ],
   "source": [
    "predictionsResnetCoarsemodel=ResnetCoarsemodel.predict(x_test)\n",
    "print(predictionsResnetCoarsemodel)\n",
    "\n",
    "predictionsResnetCoarsemodel1 = np.argmax(predictionsResnetCoarsemodel)\n",
    "print(predictionsResnetCoarsemodel1)"
   ]
  },
  {
   "cell_type": "code",
   "execution_count": 160,
   "id": "fabulous-tolerance",
   "metadata": {},
   "outputs": [
    {
     "name": "stdout",
     "output_type": "stream",
     "text": [
      "0\n",
      "[[0. 0. 0. ... 0. 0. 0.]\n",
      " [0. 0. 0. ... 0. 0. 0.]\n",
      " [1. 0. 0. ... 0. 0. 0.]\n",
      " ...\n",
      " [0. 0. 0. ... 0. 0. 0.]\n",
      " [0. 0. 0. ... 0. 0. 0.]\n",
      " [0. 0. 1. ... 0. 0. 0.]]\n"
     ]
    }
   ],
   "source": [
    "#reverse one hot encoding by using np.argmax\n",
    "predictionsResnetCoarsemodel = np.argmax(predictionsResnetCoarsemodel)\n",
    "print(predictionsResnetCoarsemodel)\n",
    "print(y_test)"
   ]
  },
  {
   "cell_type": "code",
   "execution_count": 163,
   "id": "amateur-journalist",
   "metadata": {},
   "outputs": [
    {
     "name": "stdout",
     "output_type": "stream",
     "text": [
      "[13 13 13 ... 13 13 13]\n"
     ]
    }
   ],
   "source": [
    "#undo encoding from earlier\n",
    "predictionsResnetCoarsemodel1 = np.argmax(predictionsResnetCoarsemodel, axis=1)\n",
    "print(predictionsResnetCoarsemodel1)"
   ]
  },
  {
   "cell_type": "code",
   "execution_count": 165,
   "id": "prescribed-maldives",
   "metadata": {},
   "outputs": [
    {
     "data": {
      "text/plain": [
       "<sklearn.metrics._plot.confusion_matrix.ConfusionMatrixDisplay at 0x1d5191d7608>"
      ]
     },
     "execution_count": 165,
     "metadata": {},
     "output_type": "execute_result"
    },
    {
     "data": {
      "image/png": "[encoded data removed]",
      "text/plain": [
       "<Figure size 432x288 with 2 Axes>"
      ]
     },
     "metadata": {
      "needs_background": "light"
     },
     "output_type": "display_data"
    }
   ],
   "source": [
    "cm = confusion_matrix(np.array(test_labels), np.array(predictionsResnetCoarsemodel1))\n",
    "disp = ConfusionMatrixDisplay(confusion_matrix=cm, display_labels=np.unique(test_labels))\n",
    "disp.plot() "
   ]
  },
  {
   "cell_type": "code",
   "execution_count": null,
   "id": "historical-margin",
   "metadata": {},
   "outputs": [],
   "source": [
    "test_generator = ImageDataGenerator()\n",
    "test_data_generator = test_generator.flow_from_directory(\n",
    "    test_data_path, # Put your path here\n",
    "     target_size=(img_width, img_height),\n",
    "    batch_size=32,\n",
    "    shuffle=False)\n",
    "test_steps_per_epoch = numpy.math.ceil(test_data_generator.samples / test_data_generator.batch_size)\n",
    "\n",
    "predictions = model.predict_generator(test_data_generator, steps=test_steps_per_epoch)\n",
    "# Get most likely class\n",
    "predicted_classes = numpy.argmax(predictions, axis=1)"
   ]
  },
  {
   "cell_type": "code",
   "execution_count": null,
   "id": "previous-audience",
   "metadata": {},
   "outputs": [],
   "source": [
    "true_classes = test_data_generator.classes\n",
    "class_labels = list(test_data_generator.class_indices.keys())   "
   ]
  },
  {
   "cell_type": "code",
   "execution_count": null,
   "id": "rocky-fitting",
   "metadata": {},
   "outputs": [],
   "source": [
    "report = metrics.classification_report(true_classes, predicted_classes, target_names=class_labels)\n",
    "print(report)    "
   ]
  },
  {
   "cell_type": "markdown",
   "id": "rising-chinese",
   "metadata": {},
   "source": [
    "# "
   ]
  },
  {
   "cell_type": "markdown",
   "id": "early-islam",
   "metadata": {},
   "source": [
    "# ResNet fine labels\n",
    "## loading data and preprocessing"
   ]
  },
  {
   "cell_type": "code",
   "execution_count": 203,
   "id": "early-circle",
   "metadata": {},
   "outputs": [
    {
     "name": "stdout",
     "output_type": "stream",
     "text": [
      "(50000, 32, 32, 3)\n",
      "(50000, 1)\n",
      "(10000, 32, 32, 3)\n",
      "(10000, 1)\n"
     ]
    }
   ],
   "source": [
    "import numpy as np\n",
    "import tensorflow as tf\n",
    "x_train = np.load('trnImage.npy')\n",
    "y_train = np.load('trnLabel_fine.npy')\n",
    "#labels_fine = np.load('trnLabel_fine.npy')\n",
    "\n",
    "x_test = np.load('tstImage.npy')\n",
    "y_test = np.load('tstLabel_fine.npy')\n",
    "#test_labels_fine = np.load('tstLabel_fine.npy')\n",
    "\n",
    "x_train = np.transpose(x_train, (3, 0, 1, 2))\n",
    "x_test = np.transpose(x_test, (3, 0, 1, 2))\n",
    "y_train = y_train.reshape(50000, 1)\n",
    "y_test = y_test.reshape(10000, 1)\n",
    "\n",
    "print(x_train.shape)\n",
    "print(y_train.shape)\n",
    "print(x_test.shape)\n",
    "print(y_test.shape)\n",
    "\n",
    "num_classes = np.unique(y_train).shape[0]\n",
    "K_train = x_train.shape[0]\n",
    "input_shape = x_train.shape[1:]\n",
    "x_train = x_train.astype('float32')\n",
    "x_test = x_test.astype('float32')\n",
    "y_train = tf.keras.utils.to_categorical(y_train, num_classes)\n",
    "y_test = tf.keras.utils.to_categorical(y_test, num_classes)"
   ]
  },
  {
   "cell_type": "markdown",
   "id": "southeast-miami",
   "metadata": {},
   "source": [
    "# Compile Model"
   ]
  },
  {
   "cell_type": "code",
   "execution_count": 66,
   "id": "listed-dinner",
   "metadata": {},
   "outputs": [
    {
     "name": "stdout",
     "output_type": "stream",
     "text": [
      "Model: \"model_4\"\n",
      "__________________________________________________________________________________________________\n",
      "Layer (type)                    Output Shape         Param #     Connected to                     \n",
      "==================================================================================================\n",
      "input_6 (InputLayer)            [(None, 32, 32, 3)]  0                                            \n",
      "__________________________________________________________________________________________________\n",
      "batch_normalization_84 (BatchNo (None, 32, 32, 3)    12          input_6[0][0]                    \n",
      "__________________________________________________________________________________________________\n",
      "conv2d_80 (Conv2D)              (None, 32, 32, 160)  4320        batch_normalization_84[0][0]     \n",
      "__________________________________________________________________________________________________\n",
      "batch_normalization_85 (BatchNo (None, 32, 32, 160)  320         conv2d_80[0][0]                  \n",
      "__________________________________________________________________________________________________\n",
      "activation_80 (Activation)      (None, 32, 32, 160)  0           batch_normalization_85[0][0]     \n",
      "__________________________________________________________________________________________________\n",
      "conv2d_81 (Conv2D)              (None, 32, 32, 160)  230400      activation_80[0][0]              \n",
      "__________________________________________________________________________________________________\n",
      "batch_normalization_86 (BatchNo (None, 32, 32, 160)  320         conv2d_81[0][0]                  \n",
      "__________________________________________________________________________________________________\n",
      "activation_81 (Activation)      (None, 32, 32, 160)  0           batch_normalization_86[0][0]     \n",
      "__________________________________________________________________________________________________\n",
      "conv2d_82 (Conv2D)              (None, 32, 32, 160)  230400      activation_81[0][0]              \n",
      "__________________________________________________________________________________________________\n",
      "add_36 (Add)                    (None, 32, 32, 160)  0           conv2d_82[0][0]                  \n",
      "                                                                 conv2d_80[0][0]                  \n",
      "__________________________________________________________________________________________________\n",
      "batch_normalization_87 (BatchNo (None, 32, 32, 160)  320         add_36[0][0]                     \n",
      "__________________________________________________________________________________________________\n",
      "activation_82 (Activation)      (None, 32, 32, 160)  0           batch_normalization_87[0][0]     \n",
      "__________________________________________________________________________________________________\n",
      "conv2d_83 (Conv2D)              (None, 32, 32, 160)  230400      activation_82[0][0]              \n",
      "__________________________________________________________________________________________________\n",
      "batch_normalization_88 (BatchNo (None, 32, 32, 160)  320         conv2d_83[0][0]                  \n",
      "__________________________________________________________________________________________________\n",
      "activation_83 (Activation)      (None, 32, 32, 160)  0           batch_normalization_88[0][0]     \n",
      "__________________________________________________________________________________________________\n",
      "conv2d_84 (Conv2D)              (None, 32, 32, 160)  230400      activation_83[0][0]              \n",
      "__________________________________________________________________________________________________\n",
      "add_37 (Add)                    (None, 32, 32, 160)  0           conv2d_84[0][0]                  \n",
      "                                                                 add_36[0][0]                     \n",
      "__________________________________________________________________________________________________\n",
      "batch_normalization_89 (BatchNo (None, 32, 32, 160)  320         add_37[0][0]                     \n",
      "__________________________________________________________________________________________________\n",
      "activation_84 (Activation)      (None, 32, 32, 160)  0           batch_normalization_89[0][0]     \n",
      "__________________________________________________________________________________________________\n",
      "conv2d_85 (Conv2D)              (None, 32, 32, 160)  230400      activation_84[0][0]              \n",
      "__________________________________________________________________________________________________\n",
      "batch_normalization_90 (BatchNo (None, 32, 32, 160)  320         conv2d_85[0][0]                  \n",
      "__________________________________________________________________________________________________\n",
      "activation_85 (Activation)      (None, 32, 32, 160)  0           batch_normalization_90[0][0]     \n",
      "__________________________________________________________________________________________________\n",
      "conv2d_86 (Conv2D)              (None, 32, 32, 160)  230400      activation_85[0][0]              \n",
      "__________________________________________________________________________________________________\n",
      "add_38 (Add)                    (None, 32, 32, 160)  0           conv2d_86[0][0]                  \n",
      "                                                                 add_37[0][0]                     \n",
      "__________________________________________________________________________________________________\n",
      "batch_normalization_91 (BatchNo (None, 32, 32, 160)  320         add_38[0][0]                     \n",
      "__________________________________________________________________________________________________\n",
      "activation_86 (Activation)      (None, 32, 32, 160)  0           batch_normalization_91[0][0]     \n",
      "__________________________________________________________________________________________________\n",
      "conv2d_87 (Conv2D)              (None, 16, 16, 320)  460800      activation_86[0][0]              \n",
      "__________________________________________________________________________________________________\n",
      "batch_normalization_92 (BatchNo (None, 16, 16, 320)  640         conv2d_87[0][0]                  \n",
      "__________________________________________________________________________________________________\n",
      "average_pooling2d_8 (AveragePoo (None, 16, 16, 160)  0           add_38[0][0]                     \n",
      "__________________________________________________________________________________________________\n",
      "activation_87 (Activation)      (None, 16, 16, 320)  0           batch_normalization_92[0][0]     \n",
      "__________________________________________________________________________________________________\n",
      "lambda_8 (Lambda)               (None, 16, 16, 160)  0           average_pooling2d_8[0][0]        \n",
      "__________________________________________________________________________________________________\n",
      "conv2d_88 (Conv2D)              (None, 16, 16, 320)  921600      activation_87[0][0]              \n",
      "__________________________________________________________________________________________________\n",
      "concatenate_8 (Concatenate)     (None, 16, 16, 320)  0           average_pooling2d_8[0][0]        \n",
      "                                                                 lambda_8[0][0]                   \n",
      "__________________________________________________________________________________________________\n",
      "add_39 (Add)                    (None, 16, 16, 320)  0           conv2d_88[0][0]                  \n",
      "                                                                 concatenate_8[0][0]              \n",
      "__________________________________________________________________________________________________\n",
      "batch_normalization_93 (BatchNo (None, 16, 16, 320)  640         add_39[0][0]                     \n",
      "__________________________________________________________________________________________________\n",
      "activation_88 (Activation)      (None, 16, 16, 320)  0           batch_normalization_93[0][0]     \n",
      "__________________________________________________________________________________________________\n",
      "conv2d_89 (Conv2D)              (None, 16, 16, 320)  921600      activation_88[0][0]              \n",
      "__________________________________________________________________________________________________\n",
      "batch_normalization_94 (BatchNo (None, 16, 16, 320)  640         conv2d_89[0][0]                  \n",
      "__________________________________________________________________________________________________\n",
      "activation_89 (Activation)      (None, 16, 16, 320)  0           batch_normalization_94[0][0]     \n",
      "__________________________________________________________________________________________________\n",
      "conv2d_90 (Conv2D)              (None, 16, 16, 320)  921600      activation_89[0][0]              \n",
      "__________________________________________________________________________________________________\n",
      "add_40 (Add)                    (None, 16, 16, 320)  0           conv2d_90[0][0]                  \n",
      "                                                                 add_39[0][0]                     \n",
      "__________________________________________________________________________________________________\n",
      "batch_normalization_95 (BatchNo (None, 16, 16, 320)  640         add_40[0][0]                     \n",
      "__________________________________________________________________________________________________\n",
      "activation_90 (Activation)      (None, 16, 16, 320)  0           batch_normalization_95[0][0]     \n",
      "__________________________________________________________________________________________________\n",
      "conv2d_91 (Conv2D)              (None, 16, 16, 320)  921600      activation_90[0][0]              \n",
      "__________________________________________________________________________________________________\n",
      "batch_normalization_96 (BatchNo (None, 16, 16, 320)  640         conv2d_91[0][0]                  \n",
      "__________________________________________________________________________________________________\n",
      "activation_91 (Activation)      (None, 16, 16, 320)  0           batch_normalization_96[0][0]     \n",
      "__________________________________________________________________________________________________\n",
      "conv2d_92 (Conv2D)              (None, 16, 16, 320)  921600      activation_91[0][0]              \n",
      "__________________________________________________________________________________________________\n",
      "add_41 (Add)                    (None, 16, 16, 320)  0           conv2d_92[0][0]                  \n",
      "                                                                 add_40[0][0]                     \n",
      "__________________________________________________________________________________________________\n",
      "batch_normalization_97 (BatchNo (None, 16, 16, 320)  640         add_41[0][0]                     \n",
      "__________________________________________________________________________________________________\n",
      "activation_92 (Activation)      (None, 16, 16, 320)  0           batch_normalization_97[0][0]     \n",
      "__________________________________________________________________________________________________\n",
      "conv2d_93 (Conv2D)              (None, 8, 8, 640)    1843200     activation_92[0][0]              \n",
      "__________________________________________________________________________________________________\n",
      "batch_normalization_98 (BatchNo (None, 8, 8, 640)    1280        conv2d_93[0][0]                  \n",
      "__________________________________________________________________________________________________\n",
      "average_pooling2d_9 (AveragePoo (None, 8, 8, 320)    0           add_41[0][0]                     \n",
      "__________________________________________________________________________________________________\n",
      "activation_93 (Activation)      (None, 8, 8, 640)    0           batch_normalization_98[0][0]     \n",
      "__________________________________________________________________________________________________\n",
      "lambda_9 (Lambda)               (None, 8, 8, 320)    0           average_pooling2d_9[0][0]        \n",
      "__________________________________________________________________________________________________\n",
      "conv2d_94 (Conv2D)              (None, 8, 8, 640)    3686400     activation_93[0][0]              \n",
      "__________________________________________________________________________________________________\n",
      "concatenate_9 (Concatenate)     (None, 8, 8, 640)    0           average_pooling2d_9[0][0]        \n",
      "                                                                 lambda_9[0][0]                   \n",
      "__________________________________________________________________________________________________\n",
      "add_42 (Add)                    (None, 8, 8, 640)    0           conv2d_94[0][0]                  \n",
      "                                                                 concatenate_9[0][0]              \n",
      "__________________________________________________________________________________________________\n",
      "batch_normalization_99 (BatchNo (None, 8, 8, 640)    1280        add_42[0][0]                     \n",
      "__________________________________________________________________________________________________\n",
      "activation_94 (Activation)      (None, 8, 8, 640)    0           batch_normalization_99[0][0]     \n",
      "__________________________________________________________________________________________________\n",
      "conv2d_95 (Conv2D)              (None, 8, 8, 640)    3686400     activation_94[0][0]              \n",
      "__________________________________________________________________________________________________\n",
      "batch_normalization_100 (BatchN (None, 8, 8, 640)    1280        conv2d_95[0][0]                  \n",
      "__________________________________________________________________________________________________\n",
      "activation_95 (Activation)      (None, 8, 8, 640)    0           batch_normalization_100[0][0]    \n",
      "__________________________________________________________________________________________________\n",
      "conv2d_96 (Conv2D)              (None, 8, 8, 640)    3686400     activation_95[0][0]              \n",
      "__________________________________________________________________________________________________\n",
      "add_43 (Add)                    (None, 8, 8, 640)    0           conv2d_96[0][0]                  \n",
      "                                                                 add_42[0][0]                     \n",
      "__________________________________________________________________________________________________\n",
      "batch_normalization_101 (BatchN (None, 8, 8, 640)    1280        add_43[0][0]                     \n",
      "__________________________________________________________________________________________________\n",
      "activation_96 (Activation)      (None, 8, 8, 640)    0           batch_normalization_101[0][0]    \n",
      "__________________________________________________________________________________________________\n",
      "conv2d_97 (Conv2D)              (None, 8, 8, 640)    3686400     activation_96[0][0]              \n",
      "__________________________________________________________________________________________________\n",
      "batch_normalization_102 (BatchN (None, 8, 8, 640)    1280        conv2d_97[0][0]                  \n",
      "__________________________________________________________________________________________________\n",
      "activation_97 (Activation)      (None, 8, 8, 640)    0           batch_normalization_102[0][0]    \n",
      "__________________________________________________________________________________________________\n",
      "conv2d_98 (Conv2D)              (None, 8, 8, 640)    3686400     activation_97[0][0]              \n",
      "__________________________________________________________________________________________________\n",
      "add_44 (Add)                    (None, 8, 8, 640)    0           conv2d_98[0][0]                  \n",
      "                                                                 add_43[0][0]                     \n",
      "__________________________________________________________________________________________________\n",
      "batch_normalization_103 (BatchN (None, 8, 8, 640)    1280        add_44[0][0]                     \n",
      "__________________________________________________________________________________________________\n",
      "activation_98 (Activation)      (None, 8, 8, 640)    0           batch_normalization_103[0][0]    \n",
      "__________________________________________________________________________________________________\n",
      "conv2d_99 (Conv2D)              (None, 8, 8, 100)    64000       activation_98[0][0]              \n",
      "__________________________________________________________________________________________________\n",
      "batch_normalization_104 (BatchN (None, 8, 8, 100)    200         conv2d_99[0][0]                  \n",
      "__________________________________________________________________________________________________\n",
      "global_average_pooling2d_4 (Glo (None, 100)          0           batch_normalization_104[0][0]    \n",
      "__________________________________________________________________________________________________\n",
      "activation_99 (Activation)      (None, 100)          0           global_average_pooling2d_4[0][0] \n",
      "==================================================================================================\n",
      "Total params: 26,808,692\n",
      "Trainable params: 26,794,726\n",
      "Non-trainable params: 13,966\n",
      "__________________________________________________________________________________________________\n"
     ]
    }
   ],
   "source": [
    "#fdefine a datagen or generating training samples with flip and pad/crop augmentation, and if set to True, with cutout augmentation\n",
    "dataGenerator = GetDataGen(UseCutout)\n",
    "\n",
    "#define and compile the model\n",
    "ResnetFinemodel = resnet(UseBinary,input_shape=input_shape, depth=resnet_depth, num_classes=num_classes,wd=My_wd,width=resnet_width)\n",
    "ResnetFinemodel.compile(loss=Loss ,optimizer = Optimizer, metrics = Metrics)\n",
    "\n",
    "#print  the model\n",
    "ResnetFinemodel.summary()\n",
    "\n",
    "#define the learnng rate schedule\n",
    "steps_per_epoch = int(np.floor(K_train / batch_size))\n",
    "lr_scheduler = LR_WarmRestart(nbatch=steps_per_epoch,\n",
    "                              initial_lr=init_lr, min_lr=init_lr*1e-4,\n",
    "                              epochs_restart = [1.0,3.0, 7.0, 15.0, 31.0, 63.0,127.0,255.0]) \n",
    "\n",
    "#define callbacks\n",
    "history = History()\n",
    "callbacks = [lr_scheduler,history]"
   ]
  },
  {
   "cell_type": "markdown",
   "id": "common-study",
   "metadata": {},
   "source": [
    "# Train Model"
   ]
  },
  {
   "cell_type": "code",
   "execution_count": 67,
   "id": "original-threat",
   "metadata": {},
   "outputs": [
    {
     "name": "stdout",
     "output_type": "stream",
     "text": [
      "Epoch 1/50\n",
      "\n",
      " Start of Epoch Learning Rate = 0.100000\n",
      "50/50 [==============================] - 399s 8s/step - loss: 7.9688 - accuracy: 0.0335 - val_loss: 405.1830 - val_accuracy: 0.0100\n",
      "\n",
      " End of Epoch Learning Rate = 0.099406\n",
      "Epoch 2/50\n",
      "\n",
      " Start of Epoch Learning Rate = 0.099406\n",
      "50/50 [==============================] - 401s 8s/step - loss: 7.6146 - accuracy: 0.0589 - val_loss: 16.7258 - val_accuracy: 0.0100\n",
      "\n",
      " End of Epoch Learning Rate = 0.042324\n",
      "Epoch 3/50\n",
      "\n",
      " Start of Epoch Learning Rate = 0.100000\n",
      "50/50 [==============================] - 404s 8s/step - loss: 7.3831 - accuracy: 0.0755 - val_loss: 12.2159 - val_accuracy: 0.0100\n",
      "\n",
      " End of Epoch Learning Rate = 0.099851\n",
      "Epoch 4/50\n",
      "\n",
      " Start of Epoch Learning Rate = 0.099851\n",
      "50/50 [==============================] - 401s 8s/step - loss: 7.2517 - accuracy: 0.0828 - val_loss: 8.2260 - val_accuracy: 0.0100\n",
      "\n",
      " End of Epoch Learning Rate = 0.082528\n",
      "Epoch 5/50\n",
      "\n",
      " Start of Epoch Learning Rate = 0.082528\n",
      "50/50 [==============================] - 401s 8s/step - loss: 7.0135 - accuracy: 0.0885 - val_loss: 7.9894 - val_accuracy: 0.0100\n",
      "\n",
      " End of Epoch Learning Rate = 0.046153\n",
      "Epoch 6/50\n",
      "\n",
      " Start of Epoch Learning Rate = 0.046153\n",
      "50/50 [==============================] - 408s 8s/step - loss: 6.8771 - accuracy: 0.1089 - val_loss: 8.0820 - val_accuracy: 0.0100\n",
      "\n",
      " End of Epoch Learning Rate = 0.012035\n",
      "Epoch 7/50\n",
      "\n",
      " Start of Epoch Learning Rate = 0.100000\n",
      "50/50 [==============================] - 391s 8s/step - loss: 6.8371 - accuracy: 0.1127 - val_loss: 8.6190 - val_accuracy: 0.0100\n",
      "\n",
      " End of Epoch Learning Rate = 0.099963\n",
      "Epoch 8/50\n",
      "\n",
      " Start of Epoch Learning Rate = 0.099963\n",
      "50/50 [==============================] - 385s 8s/step - loss: 6.7256 - accuracy: 0.1096 - val_loss: 8.5915 - val_accuracy: 0.0100\n",
      "\n",
      " End of Epoch Learning Rate = 0.095422\n",
      "Epoch 9/50\n",
      "\n",
      " Start of Epoch Learning Rate = 0.095422\n",
      "50/50 [==============================] - 385s 8s/step - loss: 6.6261 - accuracy: 0.0883 - val_loss: 7.5959 - val_accuracy: 0.0100\n",
      "\n",
      " End of Epoch Learning Rate = 0.083968\n",
      "Epoch 10/50\n",
      "\n",
      " Start of Epoch Learning Rate = 0.083968\n",
      "50/50 [==============================] - 387s 8s/step - loss: 6.4605 - accuracy: 0.1085 - val_loss: 7.3902 - val_accuracy: 0.0100\n",
      "\n",
      " End of Epoch Learning Rate = 0.067342\n",
      "Epoch 11/50\n",
      "\n",
      " Start of Epoch Learning Rate = 0.067342\n",
      "50/50 [==============================] - 387s 8s/step - loss: 6.3332 - accuracy: 0.1190 - val_loss: 7.5934 - val_accuracy: 0.0100\n",
      "\n",
      " End of Epoch Learning Rate = 0.048078\n",
      "Epoch 12/50\n",
      "\n",
      " Start of Epoch Learning Rate = 0.048078\n",
      "50/50 [==============================] - 388s 8s/step - loss: 6.2164 - accuracy: 0.1435 - val_loss: 7.3691 - val_accuracy: 0.0100\n",
      "\n",
      " End of Epoch Learning Rate = 0.029106\n",
      "Epoch 13/50\n",
      "\n",
      " Start of Epoch Learning Rate = 0.029106\n",
      "50/50 [==============================] - 387s 8s/step - loss: 6.1766 - accuracy: 0.1158 - val_loss: 7.4234 - val_accuracy: 0.0100\n",
      "\n",
      " End of Epoch Learning Rate = 0.013317\n",
      "Epoch 14/50\n",
      "\n",
      " Start of Epoch Learning Rate = 0.013317\n",
      "50/50 [==============================] - 387s 8s/step - loss: 6.0851 - accuracy: 0.1410 - val_loss: 7.4428 - val_accuracy: 0.0100\n",
      "\n",
      " End of Epoch Learning Rate = 0.003112\n",
      "Epoch 15/50\n",
      "\n",
      " Start of Epoch Learning Rate = 0.100000\n",
      "50/50 [==============================] - 388s 8s/step - loss: 6.1597 - accuracy: 0.1352 - val_loss: 8.1124 - val_accuracy: 0.0100\n",
      "\n",
      " End of Epoch Learning Rate = 0.099991\n",
      "Epoch 16/50\n",
      "\n",
      " Start of Epoch Learning Rate = 0.099991\n",
      "50/50 [==============================] - 387s 8s/step - loss: 6.1074 - accuracy: 0.1226 - val_loss: 7.4186 - val_accuracy: 0.0100\n",
      "\n",
      " End of Epoch Learning Rate = 0.098842\n",
      "Epoch 17/50\n",
      "\n",
      " Start of Epoch Learning Rate = 0.098842\n",
      "50/50 [==============================] - 387s 8s/step - loss: 5.9878 - accuracy: 0.1251 - val_loss: 7.0242 - val_accuracy: 0.0100\n",
      "\n",
      " End of Epoch Learning Rate = 0.095817\n",
      "Epoch 18/50\n",
      "\n",
      " Start of Epoch Learning Rate = 0.095817\n",
      "50/50 [==============================] - 386s 8s/step - loss: 5.7863 - accuracy: 0.1589 - val_loss: 7.2944 - val_accuracy: 0.0100\n",
      "\n",
      " End of Epoch Learning Rate = 0.091031\n",
      "Epoch 19/50\n",
      "\n",
      " Start of Epoch Learning Rate = 0.091031\n",
      "50/50 [==============================] - 386s 8s/step - loss: 5.7146 - accuracy: 0.1345 - val_loss: 7.2860 - val_accuracy: 0.0100\n",
      "\n",
      " End of Epoch Learning Rate = 0.084669\n",
      "Epoch 20/50\n",
      "\n",
      " Start of Epoch Learning Rate = 0.084669\n",
      "50/50 [==============================] - 387s 8s/step - loss: 5.6054 - accuracy: 0.1624 - val_loss: 6.7107 - val_accuracy: 0.0100\n",
      "\n",
      " End of Epoch Learning Rate = 0.076974\n",
      "Epoch 21/50\n",
      "\n",
      " Start of Epoch Learning Rate = 0.076974\n",
      "50/50 [==============================] - 387s 8s/step - loss: 5.4810 - accuracy: 0.1576 - val_loss: 6.5723 - val_accuracy: 0.0100\n",
      "\n",
      " End of Epoch Learning Rate = 0.068243\n",
      "Epoch 22/50\n",
      "\n",
      " Start of Epoch Learning Rate = 0.068243\n",
      "50/50 [==============================] - 387s 8s/step - loss: 5.3984 - accuracy: 0.1785 - val_loss: 6.6313 - val_accuracy: 0.0100\n",
      "\n",
      " End of Epoch Learning Rate = 0.058811\n",
      "Epoch 23/50\n",
      "\n",
      " Start of Epoch Learning Rate = 0.058811\n",
      "50/50 [==============================] - 386s 8s/step - loss: 5.2931 - accuracy: 0.1803 - val_loss: 6.5484 - val_accuracy: 0.0100\n",
      "\n",
      " End of Epoch Learning Rate = 0.049041\n",
      "Epoch 24/50\n",
      "\n",
      " Start of Epoch Learning Rate = 0.049041\n",
      "50/50 [==============================] - 388s 8s/step - loss: 5.2242 - accuracy: 0.1932 - val_loss: 6.7288 - val_accuracy: 0.0100\n",
      "\n",
      " End of Epoch Learning Rate = 0.039308\n",
      "Epoch 25/50\n",
      "\n",
      " Start of Epoch Learning Rate = 0.039308\n",
      "50/50 [==============================] - 386s 8s/step - loss: 5.1339 - accuracy: 0.1998 - val_loss: 6.6893 - val_accuracy: 0.0100\n",
      "\n",
      " End of Epoch Learning Rate = 0.029986\n",
      "Epoch 26/50\n",
      "\n",
      " Start of Epoch Learning Rate = 0.029986\n",
      "50/50 [==============================] - 387s 8s/step - loss: 5.0450 - accuracy: 0.2098 - val_loss: 6.5763 - val_accuracy: 0.0112\n",
      "\n",
      " End of Epoch Learning Rate = 0.021433\n",
      "Epoch 27/50\n",
      "\n",
      " Start of Epoch Learning Rate = 0.021433\n",
      "50/50 [==============================] - 388s 8s/step - loss: 5.0252 - accuracy: 0.2220 - val_loss: 6.4797 - val_accuracy: 0.0100\n",
      "\n",
      " End of Epoch Learning Rate = 0.013978\n",
      "Epoch 28/50\n",
      "\n",
      " Start of Epoch Learning Rate = 0.013978\n",
      "50/50 [==============================] - 389s 8s/step - loss: 4.9330 - accuracy: 0.2289 - val_loss: 6.5000 - val_accuracy: 0.0100\n",
      "\n",
      " End of Epoch Learning Rate = 0.007908\n",
      "Epoch 29/50\n",
      "\n",
      " Start of Epoch Learning Rate = 0.007908\n",
      "50/50 [==============================] - 387s 8s/step - loss: 4.9067 - accuracy: 0.2415 - val_loss: 6.8065 - val_accuracy: 0.0100\n",
      "\n",
      " End of Epoch Learning Rate = 0.003455\n",
      "Epoch 30/50\n",
      "\n",
      " Start of Epoch Learning Rate = 0.003455\n",
      "50/50 [==============================] - 387s 8s/step - loss: 4.8587 - accuracy: 0.2385 - val_loss: 6.6840 - val_accuracy: 0.0100\n",
      "\n",
      " End of Epoch Learning Rate = 0.000792\n",
      "Epoch 31/50\n",
      "\n",
      " Start of Epoch Learning Rate = 0.100000\n",
      "50/50 [==============================] - 384s 8s/step - loss: 5.0294 - accuracy: 0.1998 - val_loss: 7.1853 - val_accuracy: 0.0100\n",
      "\n",
      " End of Epoch Learning Rate = 0.099998\n",
      "Epoch 32/50\n",
      "\n",
      " Start of Epoch Learning Rate = 0.099998\n",
      "50/50 [==============================] - 382s 8s/step - loss: 5.2297 - accuracy: 0.1517 - val_loss: 9.0106 - val_accuracy: 0.0100\n",
      "\n",
      " End of Epoch Learning Rate = 0.099710\n",
      "Epoch 33/50\n",
      "\n",
      " Start of Epoch Learning Rate = 0.099710\n",
      "50/50 [==============================] - 389s 8s/step - loss: 5.0652 - accuracy: 0.1652 - val_loss: 7.4417 - val_accuracy: 0.0100\n",
      "\n",
      " End of Epoch Learning Rate = 0.098943\n",
      "Epoch 34/50\n",
      "\n",
      " Start of Epoch Learning Rate = 0.098943\n",
      "50/50 [==============================] - 391s 8s/step - loss: 4.9356 - accuracy: 0.1952 - val_loss: 6.5654 - val_accuracy: 0.0100\n",
      "\n",
      " End of Epoch Learning Rate = 0.097705\n",
      "Epoch 35/50\n",
      "\n",
      " Start of Epoch Learning Rate = 0.097705\n",
      "50/50 [==============================] - 391s 8s/step - loss: 4.9066 - accuracy: 0.1935 - val_loss: 6.7226 - val_accuracy: 0.0100\n",
      "\n",
      " End of Epoch Learning Rate = 0.096008\n",
      "Epoch 36/50\n",
      "\n",
      " Start of Epoch Learning Rate = 0.096008\n",
      "50/50 [==============================] - 391s 8s/step - loss: 4.7438 - accuracy: 0.2089 - val_loss: 6.9529 - val_accuracy: 0.0100\n",
      "\n",
      " End of Epoch Learning Rate = 0.093867\n",
      "Epoch 37/50\n",
      "\n",
      " Start of Epoch Learning Rate = 0.093867\n",
      "50/50 [==============================] - 390s 8s/step - loss: 4.7237 - accuracy: 0.1991 - val_loss: 6.2369 - val_accuracy: 0.0100\n",
      "\n",
      " End of Epoch Learning Rate = 0.091305\n",
      "Epoch 38/50\n",
      "\n",
      " Start of Epoch Learning Rate = 0.091305\n",
      "50/50 [==============================] - 390s 8s/step - loss: 4.6504 - accuracy: 0.2093 - val_loss: 6.8544 - val_accuracy: 0.0100\n",
      "\n",
      " End of Epoch Learning Rate = 0.088344\n",
      "Epoch 39/50\n",
      "\n",
      " Start of Epoch Learning Rate = 0.088344\n",
      "50/50 [==============================] - 391s 8s/step - loss: 4.5429 - accuracy: 0.2112 - val_loss: 7.0144 - val_accuracy: 0.0100\n",
      "\n",
      " End of Epoch Learning Rate = 0.085014\n",
      "Epoch 40/50\n",
      "\n",
      " Start of Epoch Learning Rate = 0.085014\n",
      "50/50 [==============================] - 393s 8s/step - loss: 4.5233 - accuracy: 0.2230 - val_loss: 6.3175 - val_accuracy: 0.0100\n",
      "\n",
      " End of Epoch Learning Rate = 0.081347\n",
      "Epoch 41/50\n",
      "\n",
      " Start of Epoch Learning Rate = 0.081347\n",
      "50/50 [==============================] - 391s 8s/step - loss: 4.4548 - accuracy: 0.2308 - val_loss: 6.2267 - val_accuracy: 0.0100\n",
      "\n",
      " End of Epoch Learning Rate = 0.077379\n",
      "Epoch 42/50\n",
      "\n",
      " Start of Epoch Learning Rate = 0.077379\n",
      "50/50 [==============================] - 392s 8s/step - loss: 4.4084 - accuracy: 0.2142 - val_loss: 6.8855 - val_accuracy: 0.0100\n",
      "\n",
      " End of Epoch Learning Rate = 0.073146\n",
      "Epoch 43/50\n",
      "\n",
      " Start of Epoch Learning Rate = 0.073146\n",
      "50/50 [==============================] - 394s 8s/step - loss: 4.3669 - accuracy: 0.2217 - val_loss: 6.2328 - val_accuracy: 0.0100\n",
      "\n",
      " End of Epoch Learning Rate = 0.068691\n",
      "Epoch 44/50\n",
      "\n",
      " Start of Epoch Learning Rate = 0.068691\n",
      "50/50 [==============================] - 393s 8s/step - loss: 4.2319 - accuracy: 0.2526 - val_loss: 6.3893 - val_accuracy: 0.0100\n",
      "\n",
      " End of Epoch Learning Rate = 0.064056\n",
      "Epoch 45/50\n",
      "\n",
      " Start of Epoch Learning Rate = 0.064056\n",
      "50/50 [==============================] - 396s 8s/step - loss: 4.0952 - accuracy: 0.2822 - val_loss: 6.3426 - val_accuracy: 0.0100\n",
      "\n",
      " End of Epoch Learning Rate = 0.059285\n",
      "Epoch 46/50\n",
      "\n",
      " Start of Epoch Learning Rate = 0.059285\n",
      "50/50 [==============================] - 393s 8s/step - loss: 4.1361 - accuracy: 0.2610 - val_loss: 6.4842 - val_accuracy: 0.0100\n",
      "\n",
      " End of Epoch Learning Rate = 0.054425\n",
      "Epoch 47/50\n",
      "\n",
      " Start of Epoch Learning Rate = 0.054425\n",
      "50/50 [==============================] - 393s 8s/step - loss: 4.0519 - accuracy: 0.2861 - val_loss: 6.1512 - val_accuracy: 0.0100\n",
      "\n",
      " End of Epoch Learning Rate = 0.049523\n",
      "Epoch 48/50\n",
      "\n",
      " Start of Epoch Learning Rate = 0.049523\n",
      "50/50 [==============================] - 393s 8s/step - loss: 3.9998 - accuracy: 0.2847 - val_loss: 6.1319 - val_accuracy: 0.0100\n",
      "\n",
      " End of Epoch Learning Rate = 0.044625\n",
      "Epoch 49/50\n",
      "\n",
      " Start of Epoch Learning Rate = 0.044625\n",
      "50/50 [==============================] - 393s 8s/step - loss: 3.9815 - accuracy: 0.2812 - val_loss: 6.1156 - val_accuracy: 0.0100\n",
      "\n",
      " End of Epoch Learning Rate = 0.039779\n",
      "Epoch 50/50\n",
      "\n",
      " Start of Epoch Learning Rate = 0.039779\n",
      "50/50 [==============================] - 393s 8s/step - loss: 3.9643 - accuracy: 0.2713 - val_loss: 5.9824 - val_accuracy: 0.0100\n",
      "\n",
      " End of Epoch Learning Rate = 0.035032\n"
     ]
    }
   ],
   "source": [
    "ResnetFineModelHistory = ResnetFinemodel.fit(dataGenerator.flow(x_train, y_train, batch_size=50),\n",
    "                              validation_data=(x_test, y_test),\n",
    "                              epochs=50,\n",
    "                              verbose=1,\n",
    "                              callbacks=callbacks,\n",
    "                              steps_per_epoch =50)"
   ]
  },
  {
   "cell_type": "markdown",
   "id": "precise-defendant",
   "metadata": {},
   "source": [
    "# save and load models"
   ]
  },
  {
   "cell_type": "code",
   "execution_count": 69,
   "id": "further-timeline",
   "metadata": {},
   "outputs": [
    {
     "name": "stdout",
     "output_type": "stream",
     "text": [
      "INFO:tensorflow:Assets written to: resNet_fine_1\\assets\n"
     ]
    }
   ],
   "source": [
    "ResnetFinemodel.save('resNet_fine_1')"
   ]
  },
  {
   "cell_type": "markdown",
   "id": "published-coach",
   "metadata": {},
   "source": [
    "# Evaluation"
   ]
  },
  {
   "cell_type": "markdown",
   "id": "stainless-dairy",
   "metadata": {},
   "source": [
    "plot training curves and test accuracy"
   ]
  },
  {
   "cell_type": "code",
   "execution_count": 72,
   "id": "polar-press",
   "metadata": {},
   "outputs": [
    {
     "data": {
      "text/plain": [
       "<matplotlib.legend.Legend at 0x1d5041e4fc8>"
      ]
     },
     "execution_count": 72,
     "metadata": {},
     "output_type": "execute_result"
    },
    {
     "data": {
      "image/png": "[encoded data removed]",
      "text/plain": [
       "<Figure size 432x288 with 1 Axes>"
      ]
     },
     "metadata": {
      "needs_background": "light"
     },
     "output_type": "display_data"
    }
   ],
   "source": [
    "plt.plot(ResnetFineModelHistory.history['accuracy'], label='accuracy')\n",
    "plt.plot(ResnetFineModelHistory.history['val_accuracy'], label = 'val_accuracy')\n",
    "plt.xlabel('Epoch')\n",
    "plt.ylabel('Accuracy')\n",
    "plt.ylim([0.0, 0.6])\n",
    "plt.legend(loc='lower right')\n"
   ]
  },
  {
   "cell_type": "code",
   "execution_count": 205,
   "id": "occupied-corpus",
   "metadata": {},
   "outputs": [
    {
     "name": "stdout",
     "output_type": "stream",
     "text": [
      "313/313 - 287s - loss: 5.9824 - accuracy: 0.0100\n",
      "0.009999999776482582 5.982400417327881\n"
     ]
    }
   ],
   "source": [
    "test_loss, test_acc = ResnetFinemodel.evaluate(x_test,  y_test, verbose=2)\n",
    "\n",
    "print(test_acc, test_loss)"
   ]
  },
  {
   "cell_type": "code",
   "execution_count": 169,
   "id": "polyphonic-imperial",
   "metadata": {},
   "outputs": [
    {
     "name": "stdout",
     "output_type": "stream",
     "text": [
      "[[0.01012157 0.01943859 0.0026361  ... 0.00429937 0.00563788 0.08619825]\n",
      " [0.01007977 0.01952694 0.00263482 ... 0.00430329 0.00563988 0.08634824]\n",
      " [0.01009737 0.01950925 0.00263198 ... 0.00430212 0.0056369  0.08633547]\n",
      " ...\n",
      " [0.01003984 0.01956393 0.00263371 ... 0.0043056  0.00563628 0.08633611]\n",
      " [0.01006966 0.01953766 0.00263495 ... 0.00430548 0.00564506 0.08650868]\n",
      " [0.01023299 0.01952851 0.00264168 ... 0.00430985 0.00565613 0.08607346]]\n"
     ]
    }
   ],
   "source": [
    "predictionsResnetFinemodel=ResnetFinemodel.predict(test_images_reshaped)\n",
    "print(predictionsResnetFinemodel)"
   ]
  },
  {
   "cell_type": "code",
   "execution_count": 171,
   "id": "worldwide-passing",
   "metadata": {},
   "outputs": [
    {
     "name": "stdout",
     "output_type": "stream",
     "text": [
      "[10 10  0 ...  4  8  2]\n"
     ]
    }
   ],
   "source": [
    "#undo encoding from earlier\n",
    "predictionsResnetFinemodel = np.argmax(predictionsResnetFinemodel, axis=1)\n",
    "print(predictionsResnetFinemodel)"
   ]
  },
  {
   "cell_type": "code",
   "execution_count": 192,
   "id": "occasional-peripheral",
   "metadata": {},
   "outputs": [
    {
     "data": {
      "text/plain": [
       "<sklearn.metrics._plot.confusion_matrix.ConfusionMatrixDisplay at 0x1d59a114788>"
      ]
     },
     "execution_count": 192,
     "metadata": {},
     "output_type": "execute_result"
    },
    {
     "data": {
      "image/png": "[encoded data removed]",
      "text/plain": [
       "<Figure size 432x288 with 2 Axes>"
      ]
     },
     "metadata": {
      "needs_background": "light"
     },
     "output_type": "display_data"
    }
   ],
   "source": [
    "cm = confusion_matrix(np.array(test_labels_fine), np.array(predictionsResnetFinemodel), labels=np.unique(test_labels_fine))\n",
    "disp = ConfusionMatrixDisplay(confusion_matrix=cm, display_labels=np.unique(test_labels_fine))\n",
    "disp.plot() \n"
   ]
  },
  {
   "cell_type": "code",
   "execution_count": null,
   "id": "extreme-affiliate",
   "metadata": {},
   "outputs": [],
   "source": []
  }
 ],
 "metadata": {
  "kernelspec": {
   "display_name": "Python 3",
   "language": "python",
   "name": "python3"
  },
  "language_info": {
   "codemirror_mode": {
    "name": "ipython",
    "version": 3
   },
   "file_extension": ".py",
   "mimetype": "text/x-python",
   "name": "python",
   "nbconvert_exporter": "python",
   "pygments_lexer": "ipython3",
   "version": "3.7.7"
  }
 },
 "nbformat": 4,
 "nbformat_minor": 5
}
