{
 "cells": [
  {
   "cell_type": "markdown",
   "id": "continental-bottle",
   "metadata": {},
   "source": [
    "## Liz Simpson\n",
    "951428\n",
    "27/01/2021"
   ]
  },
  {
   "cell_type": "code",
   "execution_count": 1,
   "id": "greek-brass",
   "metadata": {},
   "outputs": [],
   "source": [
    "import numpy as np\n",
    "import matplotlib as mpl\n",
    "import matplotlib.pyplot as plt"
   ]
  },
  {
   "cell_type": "code",
   "execution_count": 2,
   "id": "stuffed-plymouth",
   "metadata": {},
   "outputs": [
    {
     "name": "stdout",
     "output_type": "stream",
     "text": [
      "Hello World\n"
     ]
    }
   ],
   "source": [
    "print(\"Hello World\")"
   ]
  },
  {
   "cell_type": "code",
   "execution_count": 3,
   "id": "adapted-westminster",
   "metadata": {},
   "outputs": [
    {
     "name": "stdout",
     "output_type": "stream",
     "text": [
      "695\n"
     ]
    }
   ],
   "source": [
    "x = 345\n",
    "print(2*x + 5)"
   ]
  },
  {
   "cell_type": "code",
   "execution_count": 4,
   "id": "characteristic-verse",
   "metadata": {},
   "outputs": [],
   "source": [
    "def f(x, w, b):\n",
    "    return w*x + b"
   ]
  },
  {
   "cell_type": "code",
   "execution_count": 5,
   "id": "uniform-coach",
   "metadata": {},
   "outputs": [
    {
     "name": "stdout",
     "output_type": "stream",
     "text": [
      "695\n"
     ]
    }
   ],
   "source": [
    "print(f(345, 2, 5))"
   ]
  },
  {
   "cell_type": "markdown",
   "id": "brilliant-entry",
   "metadata": {},
   "source": [
    "Task 1.2"
   ]
  },
  {
   "cell_type": "code",
   "execution_count": 6,
   "id": "tight-billy",
   "metadata": {},
   "outputs": [],
   "source": [
    "myList = [ \"apple\", \"banana\", \"orange\"]\n"
   ]
  },
  {
   "cell_type": "code",
   "execution_count": 7,
   "id": "bigger-density",
   "metadata": {},
   "outputs": [
    {
     "name": "stdout",
     "output_type": "stream",
     "text": [
      "['apple', 'banana', 'orange']\n"
     ]
    }
   ],
   "source": [
    "print(myList)"
   ]
  },
  {
   "cell_type": "code",
   "execution_count": 8,
   "id": "editorial-spotlight",
   "metadata": {},
   "outputs": [
    {
     "name": "stdout",
     "output_type": "stream",
     "text": [
      "['orange', 'banana', 'apple']\n"
     ]
    }
   ],
   "source": [
    "myList.reverse()\n",
    "print(myList)"
   ]
  },
  {
   "cell_type": "code",
   "execution_count": 9,
   "id": "forced-phrase",
   "metadata": {},
   "outputs": [],
   "source": [
    "def equals100(x):\n",
    "    if x == 100:\n",
    "        return True\n",
    "    else:\n",
    "        return False"
   ]
  },
  {
   "cell_type": "code",
   "execution_count": 10,
   "id": "judicial-portrait",
   "metadata": {},
   "outputs": [
    {
     "name": "stdout",
     "output_type": "stream",
     "text": [
      "True\n",
      "False\n"
     ]
    }
   ],
   "source": [
    "print(equals100(100))\n",
    "print(equals100(26))"
   ]
  },
  {
   "cell_type": "code",
   "execution_count": 11,
   "id": "compound-butterfly",
   "metadata": {},
   "outputs": [],
   "source": [
    "myDictionary = {\n",
    "    \"data_name\":\"myData\",\n",
    "    \"data\":[\"cat\", \"dog\", \"fish\"],\n",
    "    \"labels\":[1, 32, 3]\n",
    "}"
   ]
  },
  {
   "cell_type": "code",
   "execution_count": 12,
   "id": "quarterly-walnut",
   "metadata": {},
   "outputs": [
    {
     "name": "stdout",
     "output_type": "stream",
     "text": [
      "{'data_name': 'myData', 'data': ['cat', 'dog', 'fish'], 'labels': [1, 32, 3]}\n",
      "myData\n",
      "['cat', 'dog', 'fish']\n",
      "[1, 32, 3]\n"
     ]
    }
   ],
   "source": [
    "print(myDictionary)\n",
    "print(myDictionary[\"data_name\"])\n",
    "print(myDictionary[\"data\"])\n",
    "print(myDictionary[\"labels\"])"
   ]
  },
  {
   "cell_type": "markdown",
   "id": "unauthorized-webcam",
   "metadata": {},
   "source": [
    "Task 1.3"
   ]
  },
  {
   "cell_type": "code",
   "execution_count": 13,
   "id": "filled-allergy",
   "metadata": {},
   "outputs": [
    {
     "name": "stdout",
     "output_type": "stream",
     "text": [
      "(2, 3)\n"
     ]
    }
   ],
   "source": [
    "X = np.random.rand(2,3)\n",
    "print(X.shape)"
   ]
  },
  {
   "cell_type": "code",
   "execution_count": 22,
   "id": "silent-export",
   "metadata": {},
   "outputs": [
    {
     "name": "stdout",
     "output_type": "stream",
     "text": [
      "[[0.31572199 0.77824719 0.50974535]\n",
      " [0.80461021 0.51137237 0.07196717]]\n"
     ]
    }
   ],
   "source": [
    "print(X)"
   ]
  },
  {
   "cell_type": "code",
   "execution_count": 15,
   "id": "generic-superior",
   "metadata": {},
   "outputs": [
    {
     "name": "stdout",
     "output_type": "stream",
     "text": [
      "(3, 4)\n",
      "[[0.36718959 0.77596683 0.99988764 0.34388898]\n",
      " [0.62304885 0.76727228 0.16642392 0.70840935]\n",
      " [0.55066195 0.35705871 0.78163222 0.14938532]]\n"
     ]
    }
   ],
   "source": [
    "Y = np.random.rand(3,4)\n",
    "print(Y.shape)\n",
    "print(Y[:, :])"
   ]
  },
  {
   "cell_type": "code",
   "execution_count": 16,
   "id": "moral-integrity",
   "metadata": {},
   "outputs": [
    {
     "name": "stdout",
     "output_type": "stream",
     "text": [
      "[[0.88151321 1.0241263  0.84363885 0.73603937]\n",
      " [0.65368404 1.04240918 0.94587626 0.64970839]]\n"
     ]
    }
   ],
   "source": [
    "Z = np.matmul(X, Y)\n",
    "print(Z)"
   ]
  },
  {
   "cell_type": "markdown",
   "id": "mexican-confirmation",
   "metadata": {},
   "source": [
    "Print first column"
   ]
  },
  {
   "cell_type": "code",
   "execution_count": 17,
   "id": "corresponding-shower",
   "metadata": {},
   "outputs": [
    {
     "name": "stdout",
     "output_type": "stream",
     "text": [
      "[0.88151321 0.65368404]\n"
     ]
    }
   ],
   "source": [
    "print(Z[:, 0])"
   ]
  },
  {
   "cell_type": "markdown",
   "id": "whole-covering",
   "metadata": {},
   "source": [
    "print first row"
   ]
  },
  {
   "cell_type": "code",
   "execution_count": 18,
   "id": "ruled-aurora",
   "metadata": {},
   "outputs": [
    {
     "name": "stdout",
     "output_type": "stream",
     "text": [
      "[0.88151321 1.0241263  0.84363885 0.73603937]\n"
     ]
    }
   ],
   "source": [
    "print(Z[0, :])"
   ]
  },
  {
   "cell_type": "markdown",
   "id": "moved-cocktail",
   "metadata": {},
   "source": [
    "Task 1.4"
   ]
  },
  {
   "cell_type": "code",
   "execution_count": 19,
   "id": "suspected-bracelet",
   "metadata": {},
   "outputs": [],
   "source": [
    "data_set = np.load(\"Iris_data.npy\")"
   ]
  },
  {
   "cell_type": "code",
   "execution_count": 20,
   "id": "annual-cursor",
   "metadata": {},
   "outputs": [
    {
     "name": "stdout",
     "output_type": "stream",
     "text": [
      "(150, 4)\n"
     ]
    }
   ],
   "source": [
    "print(data_set.shape)"
   ]
  },
  {
   "cell_type": "code",
   "execution_count": 21,
   "id": "honest-calgary",
   "metadata": {},
   "outputs": [
    {
     "data": {
      "image/png": "[encoded data removed]",
      "text/plain": [
       "<Figure size 432x288 with 1 Axes>"
      ]
     },
     "metadata": {
      "needs_background": "light"
     },
     "output_type": "display_data"
    }
   ],
   "source": [
    "plt.figure()\n",
    "#plot column 0 and column 1 as scatter plot\n",
    "plt.scatter(data_set[:, 0], data_set[:, 1])\n",
    "\n",
    "plt.xlabel(\"Feature 1 - Sepal Length\")\n",
    "plt.ylabel(\"Feature 2 - Sepal Width\")\n",
    "plt.title(\"Scatter plot of 2D data\")\n",
    "\n",
    "plt.show()"
   ]
  },
  {
   "cell_type": "markdown",
   "id": "attractive-effect",
   "metadata": {},
   "source": [
    "Challenge 1.5"
   ]
  },
  {
   "cell_type": "markdown",
   "id": "historic-austin",
   "metadata": {},
   "source": [
    "Coding style\n",
    "\n",
    "4 space indentation,\n",
    "79 char length per line,\n",
    "import on separate lines,\n",
    "be consistent with \"\" or ''"
   ]
  },
  {
   "cell_type": "code",
   "execution_count": null,
   "id": "physical-danish",
   "metadata": {},
   "outputs": [],
   "source": []
  }
 ],
 "metadata": {
  "kernelspec": {
   "display_name": "Python 3",
   "language": "python",
   "name": "python3"
  },
  "language_info": {
   "codemirror_mode": {
    "name": "ipython",
    "version": 3
   },
   "file_extension": ".py",
   "mimetype": "text/x-python",
   "name": "python",
   "nbconvert_exporter": "python",
   "pygments_lexer": "ipython3",
   "version": "3.9.1"
  }
 },
 "nbformat": 4,
 "nbformat_minor": 5
}
