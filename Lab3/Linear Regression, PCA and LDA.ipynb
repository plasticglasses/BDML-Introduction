{
 "cells": [
  {
   "cell_type": "code",
   "execution_count": 2,
   "id": "clear-major",
   "metadata": {},
   "outputs": [],
   "source": [
    "import numpy\n",
    "import matplotlib\n",
    "from sklearn.linear_model import LinearRegression"
   ]
  },
  {
   "cell_type": "markdown",
   "id": "thermal-dietary",
   "metadata": {},
   "source": [
    "# Task 3.1\n",
    "Linear Regression with SKLearn for continuous value prediction.\n",
    "PCA- Principle Component Analysis\n",
    "Linear Discriminant Analysis for featuer dimension reduction\n"
   ]
  },
  {
   "cell_type": "code",
   "execution_count": null,
   "id": "talented-dublin",
   "metadata": {},
   "outputs": [],
   "source": []
  }
 ],
 "metadata": {
  "kernelspec": {
   "display_name": "Python 3",
   "language": "python",
   "name": "python3"
  },
  "language_info": {
   "codemirror_mode": {
    "name": "ipython",
    "version": 3
   },
   "file_extension": ".py",
   "mimetype": "text/x-python",
   "name": "python",
   "nbconvert_exporter": "python",
   "pygments_lexer": "ipython3",
   "version": "3.9.1"
  }
 },
 "nbformat": 4,
 "nbformat_minor": 5
}
