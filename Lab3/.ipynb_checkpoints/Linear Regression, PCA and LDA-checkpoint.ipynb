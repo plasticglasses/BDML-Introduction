{
 "cells": [
  {
   "cell_type": "code",
   "execution_count": 7,
   "id": "binding-phoenix",
   "metadata": {},
   "outputs": [],
   "source": [
    "import numpy as np\n",
    "import matplotlib.pyplot as plt\n",
    "from sklearn.linear_model import LinearRegression"
   ]
  },
  {
   "cell_type": "markdown",
   "id": "thermal-dietary",
   "metadata": {},
   "source": [
    "# Task 3.1\n",
    "Linear Regression with SKLearn for continuous value prediction.\n",
    "PCA- Principle Component Analysis\n",
    "Linear Discriminant Analysis for featuer dimension reduction\n"
   ]
  },
  {
   "cell_type": "markdown",
   "id": "imperial-malpractice",
   "metadata": {},
   "source": [
    "# Load Data to train model\n",
    "x_values are regular variables, magintude across x axis. Y-values correspond to the target variable. We want to predict the y_value"
   ]
  },
  {
   "cell_type": "code",
   "execution_count": 5,
   "id": "nasty-plastic",
   "metadata": {},
   "outputs": [],
   "source": [
    "xData = np.load('x_values.npy')\n",
    "yData = np.load('y_values.npy')"
   ]
  },
  {
   "cell_type": "code",
   "execution_count": 9,
   "id": "packed-auditor",
   "metadata": {},
   "outputs": [
    {
     "data": {
      "image/png": "[encoded data removed]",
      "text/plain": [
       "<Figure size 432x288 with 1 Axes>"
      ]
     },
     "metadata": {
      "needs_background": "light"
     },
     "output_type": "display_data"
    }
   ],
   "source": [
    "plt.scatter(xData[:,0], yData[:,0])\n",
    "\n",
    "# Add title and axis names\n",
    "plt.title('Plot x against y')\n",
    "plt.xlabel('x variables')\n",
    "plt.ylabel('y variables')\n",
    "\n",
    "\n",
    "plt.show()"
   ]
  },
  {
   "cell_type": "code",
   "execution_count": 13,
   "id": "thick-intensity",
   "metadata": {},
   "outputs": [
    {
     "name": "stdout",
     "output_type": "stream",
     "text": [
      "[[ 0.09846382]\n",
      " [-0.79926814]\n",
      " [-1.8003178 ]\n",
      " [-2.37500039]\n",
      " [-2.51103567]\n",
      " [-3.31780602]\n",
      " [-4.02080948]\n",
      " [-4.01115833]\n",
      " [-5.48492014]\n",
      " [-5.41791091]]\n"
     ]
    }
   ],
   "source": [
    "print(yData)"
   ]
  },
  {
   "cell_type": "markdown",
   "id": "enormous-spirituality",
   "metadata": {},
   "source": [
    "# Initalise Linear Regression "
   ]
  },
  {
   "cell_type": "code",
   "execution_count": 19,
   "id": "another-eagle",
   "metadata": {},
   "outputs": [],
   "source": [
    "reg = LinearRegression().fit(xData, yData)"
   ]
  },
  {
   "cell_type": "code",
   "execution_count": 20,
   "id": "constant-combining",
   "metadata": {},
   "outputs": [
    {
     "data": {
      "text/plain": [
       "0.972662044003464"
      ]
     },
     "execution_count": 20,
     "metadata": {},
     "output_type": "execute_result"
    }
   ],
   "source": [
    "reg.score(xData, yData)"
   ]
  },
  {
   "cell_type": "markdown",
   "id": "associate-knight",
   "metadata": {},
   "source": [
    "# w1"
   ]
  },
  {
   "cell_type": "code",
   "execution_count": 23,
   "id": "homeless-english",
   "metadata": {},
   "outputs": [
    {
     "data": {
      "text/plain": [
       "array([[-6.0148689]])"
      ]
     },
     "execution_count": 23,
     "metadata": {},
     "output_type": "execute_result"
    }
   ],
   "source": [
    "reg.coef_"
   ]
  },
  {
   "cell_type": "markdown",
   "id": "female-custody",
   "metadata": {},
   "source": [
    "# w0"
   ]
  },
  {
   "cell_type": "code",
   "execution_count": 22,
   "id": "republican-consistency",
   "metadata": {},
   "outputs": [
    {
     "data": {
      "text/plain": [
       "array([-0.2572853])"
      ]
     },
     "execution_count": 22,
     "metadata": {},
     "output_type": "execute_result"
    }
   ],
   "source": [
    "reg.intercept_\n",
    "# reg.predict([0.1], [-0.7])"
   ]
  },
  {
   "cell_type": "markdown",
   "id": "forbidden-comparison",
   "metadata": {},
   "source": [
    "# Test Data"
   ]
  },
  {
   "cell_type": "code",
   "execution_count": 24,
   "id": "abstract-burlington",
   "metadata": {},
   "outputs": [],
   "source": [
    "xTestData = np.load('test_x_values.npy')"
   ]
  },
  {
   "cell_type": "code",
   "execution_count": 32,
   "id": "olive-bahrain",
   "metadata": {},
   "outputs": [],
   "source": [
    "print(xTestData)"
   ]
  },
  {
   "cell_type": "code",
   "execution_count": 29,
   "id": "tight-guatemala",
   "metadata": {},
   "outputs": [],
   "source": [
    "predictedY = reg.predict(xTestData)"
   ]
  },
  {
   "cell_type": "code",
   "execution_count": 31,
   "id": "optional-auction",
   "metadata": {},
   "outputs": [
    {
     "data": {
      "image/png": "[encoded data removed]",
      "text/plain": [
       "<Figure size 432x288 with 1 Axes>"
      ]
     },
     "metadata": {
      "needs_background": "light"
     },
     "output_type": "display_data"
    }
   ],
   "source": [
    "\n",
    "fig = plt.figure()\n",
    "\n",
    "plt.scatter(xData[:,0], yData[:,0])\n",
    "\n",
    "plt.plot(xTestData, predictedY)\n",
    "\n",
    "# Add title and axis names\n",
    "plt.title('Plot test x against y')\n",
    "plt.xlabel('x variables')\n",
    "plt.ylabel('y variables')\n",
    "\n",
    "plt.show()"
   ]
  },
  {
   "cell_type": "markdown",
   "id": "welcome-stable",
   "metadata": {},
   "source": [
    "# Predict Y"
   ]
  },
  {
   "cell_type": "code",
   "execution_count": 44,
   "id": "amber-bennett",
   "metadata": {},
   "outputs": [],
   "source": [
    "x = ([[0.48]])\n",
    "y = reg.predict(x)"
   ]
  },
  {
   "cell_type": "code",
   "execution_count": 45,
   "id": "finite-translator",
   "metadata": {},
   "outputs": [
    {
     "name": "stdout",
     "output_type": "stream",
     "text": [
      "[[-3.14442237]]\n"
     ]
    }
   ],
   "source": [
    "print(y)"
   ]
  },
  {
   "cell_type": "code",
   "execution_count": null,
   "id": "linear-swimming",
   "metadata": {},
   "outputs": [],
   "source": []
  }
 ],
 "metadata": {
  "kernelspec": {
   "display_name": "Python 3",
   "language": "python",
   "name": "python3"
  },
  "language_info": {
   "codemirror_mode": {
    "name": "ipython",
    "version": 3
   },
   "file_extension": ".py",
   "mimetype": "text/x-python",
   "name": "python",
   "nbconvert_exporter": "python",
   "pygments_lexer": "ipython3",
   "version": "3.9.1"
  }
 },
 "nbformat": 4,
 "nbformat_minor": 5
}
